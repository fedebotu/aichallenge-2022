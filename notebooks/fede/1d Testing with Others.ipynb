{
 "cells": [
  {
   "cell_type": "markdown",
   "id": "2ab523fa",
   "metadata": {},
   "source": [
    "# Testing with other algos"
   ]
  },
  {
   "cell_type": "markdown",
   "id": "286f9f26",
   "metadata": {},
   "source": [
    "https://towardsdatascience.com/top-machine-learning-algorithms-for-classification-2197870ff501"
   ]
  },
  {
   "cell_type": "code",
   "execution_count": 19,
   "id": "e11a61f6",
   "metadata": {},
   "outputs": [
    {
     "name": "stdout",
     "output_type": "stream",
     "text": [
      "The autoreload extension is already loaded. To reload it, use:\n",
      "  %reload_ext autoreload\n"
     ]
    }
   ],
   "source": [
    "%load_ext autoreload\n",
    "%autoreload 2\n",
    "\n",
    "import pandas as pd\n",
    "import os\n",
    "import matplotlib.pyplot as plt\n",
    "import seaborn as sns\n",
    "sns.set_theme()\n",
    "from sklearn.metrics import f1_score\n",
    "\n",
    "\n",
    "\n",
    "import sys; sys.path.append(\"../../\")\n",
    "from modules.utils import load_yaml\n",
    "from modules.evaluation import pretty_classification_report, plot_confusion_matrix"
   ]
  },
  {
   "cell_type": "markdown",
   "id": "c1053083",
   "metadata": {},
   "source": [
    "# Read Data\n",
    "\n",
    "Note: in the submission, we cannot use `test.csv`. This has no labels and it is for submission only. So we need to use validation data as the test\n",
    "\n",
    "--> This should be OK since the data size seems large enough"
   ]
  },
  {
   "cell_type": "code",
   "execution_count": 2,
   "id": "eec6863c",
   "metadata": {},
   "outputs": [
    {
     "name": "stdout",
     "output_type": "stream",
     "text": [
      "../../config/train_config.yaml\n"
     ]
    }
   ],
   "source": [
    "TRAIN_CONFIG_PATH = '../../config/train_config.yaml'\n",
    "DATA_PATH = '../../data/01_split/'\n",
    "\n",
    "config = load_yaml(TRAIN_CONFIG_PATH)\n",
    "LABEL_ENCODING = config['LABEL_ENCODING']\n",
    "\n",
    "train_df = pd.read_csv(os.path.join(DATA_PATH, 'train.csv'))\n",
    "valid_df = pd.read_csv(os.path.join(DATA_PATH, 'valid.csv'))"
   ]
  },
  {
   "cell_type": "markdown",
   "id": "fee75e53",
   "metadata": {},
   "source": [
    "## Split into train and test\n",
    "\n",
    "As said, we will use val and test as the same "
   ]
  },
  {
   "cell_type": "code",
   "execution_count": 3,
   "id": "4108511c",
   "metadata": {},
   "outputs": [],
   "source": [
    "train_X, train_y = train_df.loc[:,train_df.columns!='leaktype'], train_df['leaktype']\n",
    "valid_X, valid_y = valid_df.loc[:,train_df.columns!='leaktype'], valid_df['leaktype']\n",
    "\n",
    "train_y = train_y.replace(LABEL_ENCODING)\n",
    "valid_y = valid_y.replace(LABEL_ENCODING)\n",
    "\n",
    "# Same testing and validation\n",
    "test_X, test_y = valid_X, valid_y"
   ]
  },
  {
   "cell_type": "markdown",
   "id": "1288c9cd",
   "metadata": {},
   "source": [
    "# Train Models"
   ]
  },
  {
   "cell_type": "markdown",
   "id": "c5b0bfa5",
   "metadata": {},
   "source": [
    "### K-Nearest Neighbours (k-NN)"
   ]
  },
  {
   "cell_type": "code",
   "execution_count": 10,
   "id": "679aafca",
   "metadata": {},
   "outputs": [],
   "source": [
    "from sklearn.neighbors import KNeighborsClassifier\n",
    "\n",
    "knn = KNeighborsClassifier()\n",
    "knn.fit(train_X, train_y)\n",
    "y_knn = knn.predict(test_X)"
   ]
  },
  {
   "cell_type": "markdown",
   "id": "0dfe0f78",
   "metadata": {},
   "source": [
    "### Naive Bayes"
   ]
  },
  {
   "cell_type": "code",
   "execution_count": 11,
   "id": "f6ab421f",
   "metadata": {},
   "outputs": [],
   "source": [
    "from sklearn.naive_bayes import GaussianNB\n",
    "\n",
    "gnb = GaussianNB()\n",
    "gnb.fit(train_X, train_y)\n",
    "y_gnb = gnb.predict(test_X)"
   ]
  },
  {
   "cell_type": "markdown",
   "id": "5edd9b0e",
   "metadata": {},
   "source": [
    "### Support Vector Machine (SVM)"
   ]
  },
  {
   "cell_type": "code",
   "execution_count": 27,
   "id": "590d358a",
   "metadata": {},
   "outputs": [],
   "source": [
    "from sklearn.svm import SVC\n",
    "svc = SVC()\n",
    "svc.fit(train_X, train_y)\n",
    "y_svc = svc.predict(test_X)"
   ]
  },
  {
   "cell_type": "markdown",
   "id": "3005cb66",
   "metadata": {},
   "source": [
    "### Logistic Regression"
   ]
  },
  {
   "cell_type": "code",
   "execution_count": 14,
   "id": "ee1d8fbf",
   "metadata": {},
   "outputs": [
    {
     "name": "stderr",
     "output_type": "stream",
     "text": [
      "/home/botu/.local/lib/python3.10/site-packages/sklearn/linear_model/_logistic.py:763: ConvergenceWarning: lbfgs failed to converge (status=1):\n",
      "STOP: TOTAL NO. of ITERATIONS REACHED LIMIT.\n",
      "\n",
      "Increase the number of iterations (max_iter) or scale the data as shown in:\n",
      "    https://scikit-learn.org/stable/modules/preprocessing.html\n",
      "Please also refer to the documentation for alternative solver options:\n",
      "    https://scikit-learn.org/stable/modules/linear_model.html#logistic-regression\n",
      "  n_iter_i = _check_optimize_result(\n"
     ]
    }
   ],
   "source": [
    "from sklearn.linear_model import LogisticRegression\n",
    "\n",
    "reg = LogisticRegression()\n",
    "reg.fit(train_X, train_y)\n",
    "y_reg = reg.predict(test_X)"
   ]
  },
  {
   "cell_type": "markdown",
   "id": "7faefed2",
   "metadata": {},
   "source": [
    "### Decision Tree Classifier"
   ]
  },
  {
   "cell_type": "code",
   "execution_count": 15,
   "id": "743bfb20",
   "metadata": {},
   "outputs": [],
   "source": [
    "from sklearn.tree import DecisionTreeClassifier\n",
    "\n",
    "dtc = DecisionTreeClassifier()\n",
    "dtc.fit(train_X, train_y)\n",
    "y_dtc = dtc.predict(test_X)"
   ]
  },
  {
   "cell_type": "markdown",
   "id": "761ae684",
   "metadata": {},
   "source": [
    "### Random Forest"
   ]
  },
  {
   "cell_type": "code",
   "execution_count": 16,
   "id": "d0490580",
   "metadata": {},
   "outputs": [],
   "source": [
    "from sklearn.ensemble import RandomForestClassifier\n",
    "\n",
    "rfc = RandomForestClassifier()\n",
    "rfc.fit(train_X, train_y)\n",
    "y_rfc = rfc.predict(test_X)"
   ]
  },
  {
   "cell_type": "markdown",
   "id": "08ace8ce",
   "metadata": {},
   "source": [
    "# Metrics evaluation\n",
    "\n",
    "We need to get a few metrics right"
   ]
  },
  {
   "cell_type": "code",
   "execution_count": 17,
   "id": "2dd9066c",
   "metadata": {},
   "outputs": [],
   "source": [
    "# Encodings\n",
    "encoding_to_label = {v: k for k, v in LABEL_ENCODING.items()}\n",
    "labels = [key for key in LABEL_ENCODING.keys()]"
   ]
  },
  {
   "cell_type": "code",
   "execution_count": 29,
   "id": "687f31fd",
   "metadata": {},
   "outputs": [
    {
     "name": "stdout",
     "output_type": "stream",
     "text": [
      "F1 score : 0.785\n"
     ]
    },
    {
     "data": {
      "text/html": [
       "<style type=\"text/css\">\n",
       "#T_f8ad3_row0_col0 {\n",
       "  background-color: #c2df23;\n",
       "  color: #000000;\n",
       "}\n",
       "#T_f8ad3_row0_col1 {\n",
       "  background-color: #424186;\n",
       "  color: #f1f1f1;\n",
       "}\n",
       "#T_f8ad3_row0_col2 {\n",
       "  background-color: #5ec962;\n",
       "  color: #000000;\n",
       "}\n",
       "#T_f8ad3_row1_col0 {\n",
       "  background-color: #7fd34e;\n",
       "  color: #000000;\n",
       "}\n",
       "#T_f8ad3_row1_col1 {\n",
       "  background-color: #31668e;\n",
       "  color: #f1f1f1;\n",
       "}\n",
       "#T_f8ad3_row1_col2 {\n",
       "  background-color: #4cc26c;\n",
       "  color: #000000;\n",
       "}\n",
       "#T_f8ad3_row2_col0, #T_f8ad3_row2_col1, #T_f8ad3_row2_col2 {\n",
       "  background-color: #fde725;\n",
       "  color: #000000;\n",
       "}\n",
       "#T_f8ad3_row3_col0 {\n",
       "  background-color: #481668;\n",
       "  color: #f1f1f1;\n",
       "}\n",
       "#T_f8ad3_row3_col1, #T_f8ad3_row4_col0, #T_f8ad3_row4_col2 {\n",
       "  background-color: #440154;\n",
       "  color: #f1f1f1;\n",
       "}\n",
       "#T_f8ad3_row3_col2 {\n",
       "  background-color: #460a5d;\n",
       "  color: #f1f1f1;\n",
       "}\n",
       "#T_f8ad3_row4_col1 {\n",
       "  background-color: #30698e;\n",
       "  color: #f1f1f1;\n",
       "}\n",
       "</style>\n",
       "<table id=\"T_f8ad3\">\n",
       "  <thead>\n",
       "    <tr>\n",
       "      <th class=\"blank level0\" >&nbsp;</th>\n",
       "      <th id=\"T_f8ad3_level0_col0\" class=\"col_heading level0 col0\" >precision</th>\n",
       "      <th id=\"T_f8ad3_level0_col1\" class=\"col_heading level0 col1\" >recall</th>\n",
       "      <th id=\"T_f8ad3_level0_col2\" class=\"col_heading level0 col2\" >f1-score</th>\n",
       "      <th id=\"T_f8ad3_level0_col3\" class=\"col_heading level0 col3\" >support</th>\n",
       "    </tr>\n",
       "  </thead>\n",
       "  <tbody>\n",
       "    <tr>\n",
       "      <th id=\"T_f8ad3_level0_row0\" class=\"row_heading level0 row0\" >0</th>\n",
       "      <td id=\"T_f8ad3_row0_col0\" class=\"data row0 col0\" >0.932862</td>\n",
       "      <td id=\"T_f8ad3_row0_col1\" class=\"data row0 col1\" >0.829667</td>\n",
       "      <td id=\"T_f8ad3_row0_col2\" class=\"data row0 col2\" >0.878244</td>\n",
       "      <td id=\"T_f8ad3_row0_col3\" class=\"data row0 col3\" >1591</td>\n",
       "    </tr>\n",
       "    <tr>\n",
       "      <th id=\"T_f8ad3_level0_row1\" class=\"row_heading level0 row1\" >1</th>\n",
       "      <td id=\"T_f8ad3_row1_col0\" class=\"data row1 col0\" >0.880317</td>\n",
       "      <td id=\"T_f8ad3_row1_col1\" class=\"data row1 col1\" >0.850860</td>\n",
       "      <td id=\"T_f8ad3_row1_col2\" class=\"data row1 col2\" >0.865338</td>\n",
       "      <td id=\"T_f8ad3_row1_col3\" class=\"data row1 col3\" >1046</td>\n",
       "    </tr>\n",
       "    <tr>\n",
       "      <th id=\"T_f8ad3_level0_row2\" class=\"row_heading level0 row2\" >2</th>\n",
       "      <td id=\"T_f8ad3_row2_col0\" class=\"data row2 col0\" >0.980157</td>\n",
       "      <td id=\"T_f8ad3_row2_col1\" class=\"data row2 col1\" >0.957151</td>\n",
       "      <td id=\"T_f8ad3_row2_col2\" class=\"data row2 col2\" >0.968517</td>\n",
       "      <td id=\"T_f8ad3_row2_col3\" class=\"data row2 col3\" >3664</td>\n",
       "    </tr>\n",
       "    <tr>\n",
       "      <th id=\"T_f8ad3_level0_row3\" class=\"row_heading level0 row3\" >3</th>\n",
       "      <td id=\"T_f8ad3_row3_col0\" class=\"data row3 col0\" >0.495935</td>\n",
       "      <td id=\"T_f8ad3_row3_col1\" class=\"data row3 col1\" >0.799127</td>\n",
       "      <td id=\"T_f8ad3_row3_col2\" class=\"data row3 col2\" >0.612040</td>\n",
       "      <td id=\"T_f8ad3_row3_col3\" class=\"data row3 col3\" >229</td>\n",
       "    </tr>\n",
       "    <tr>\n",
       "      <th id=\"T_f8ad3_level0_row4\" class=\"row_heading level0 row4\" >4</th>\n",
       "      <td id=\"T_f8ad3_row4_col0\" class=\"data row4 col0\" >0.466859</td>\n",
       "      <td id=\"T_f8ad3_row4_col1\" class=\"data row4 col1\" >0.852632</td>\n",
       "      <td id=\"T_f8ad3_row4_col2\" class=\"data row4 col2\" >0.603352</td>\n",
       "      <td id=\"T_f8ad3_row4_col3\" class=\"data row4 col3\" >190</td>\n",
       "    </tr>\n",
       "    <tr>\n",
       "      <th id=\"T_f8ad3_level0_row5\" class=\"row_heading level0 row5\" >accuracy</th>\n",
       "      <td id=\"T_f8ad3_row5_col0\" class=\"data row5 col0\" >0.902083</td>\n",
       "      <td id=\"T_f8ad3_row5_col1\" class=\"data row5 col1\" >0.902083</td>\n",
       "      <td id=\"T_f8ad3_row5_col2\" class=\"data row5 col2\" >0.902083</td>\n",
       "      <td id=\"T_f8ad3_row5_col3\" class=\"data row5 col3\" >0</td>\n",
       "    </tr>\n",
       "    <tr>\n",
       "      <th id=\"T_f8ad3_level0_row6\" class=\"row_heading level0 row6\" >macro avg</th>\n",
       "      <td id=\"T_f8ad3_row6_col0\" class=\"data row6 col0\" >0.751226</td>\n",
       "      <td id=\"T_f8ad3_row6_col1\" class=\"data row6 col1\" >0.857887</td>\n",
       "      <td id=\"T_f8ad3_row6_col2\" class=\"data row6 col2\" >0.785498</td>\n",
       "      <td id=\"T_f8ad3_row6_col3\" class=\"data row6 col3\" >6720</td>\n",
       "    </tr>\n",
       "    <tr>\n",
       "      <th id=\"T_f8ad3_level0_row7\" class=\"row_heading level0 row7\" >weighted avg</th>\n",
       "      <td id=\"T_f8ad3_row7_col0\" class=\"data row7 col0\" >0.922405</td>\n",
       "      <td id=\"T_f8ad3_row7_col1\" class=\"data row7 col1\" >0.902083</td>\n",
       "      <td id=\"T_f8ad3_row7_col2\" class=\"data row7 col2\" >0.908611</td>\n",
       "      <td id=\"T_f8ad3_row7_col3\" class=\"data row7 col3\" >6720</td>\n",
       "    </tr>\n",
       "  </tbody>\n",
       "</table>\n"
      ],
      "text/plain": [
       "<pandas.io.formats.style.Styler at 0x7fa379ff5000>"
      ]
     },
     "execution_count": 29,
     "metadata": {},
     "output_type": "execute_result"
    },
    {
     "data": {
      "image/png": "[encoded data removed]",
      "text/plain": [
       "<Figure size 432x288 with 1 Axes>"
      ]
     },
     "metadata": {},
     "output_type": "display_data"
    }
   ],
   "source": [
    "model_name, y_hat = 'KNN', y_knn\n",
    "\n",
    "plot_confusion_matrix(test_y, y_hat, labels,  f'Confusion Matrix {model_name}')\n",
    "print('F1 score : {:.3f}'.format(f1_score(test_y, y_hat, average='macro')))\n",
    "pretty_classification_report(test_y, y_hat)\n"
   ]
  },
  {
   "cell_type": "code",
   "execution_count": 31,
   "id": "8d4d81e4",
   "metadata": {},
   "outputs": [
    {
     "name": "stdout",
     "output_type": "stream",
     "text": [
      "F1 score : 0.378\n"
     ]
    },
    {
     "data": {
      "text/html": [
       "<style type=\"text/css\">\n",
       "#T_caff4_row0_col0, #T_caff4_row0_col2, #T_caff4_row3_col1 {\n",
       "  background-color: #440154;\n",
       "  color: #f1f1f1;\n",
       "}\n",
       "#T_caff4_row0_col1 {\n",
       "  background-color: #75d054;\n",
       "  color: #000000;\n",
       "}\n",
       "#T_caff4_row1_col0 {\n",
       "  background-color: #25858e;\n",
       "  color: #f1f1f1;\n",
       "}\n",
       "#T_caff4_row1_col1 {\n",
       "  background-color: #365c8d;\n",
       "  color: #f1f1f1;\n",
       "}\n",
       "#T_caff4_row1_col2 {\n",
       "  background-color: #2f6b8e;\n",
       "  color: #f1f1f1;\n",
       "}\n",
       "#T_caff4_row2_col0, #T_caff4_row2_col1, #T_caff4_row2_col2 {\n",
       "  background-color: #fde725;\n",
       "  color: #000000;\n",
       "}\n",
       "#T_caff4_row3_col0 {\n",
       "  background-color: #472c7a;\n",
       "  color: #f1f1f1;\n",
       "}\n",
       "#T_caff4_row3_col2 {\n",
       "  background-color: #46085c;\n",
       "  color: #f1f1f1;\n",
       "}\n",
       "#T_caff4_row4_col0 {\n",
       "  background-color: #472e7c;\n",
       "  color: #f1f1f1;\n",
       "}\n",
       "#T_caff4_row4_col1 {\n",
       "  background-color: #404588;\n",
       "  color: #f1f1f1;\n",
       "}\n",
       "#T_caff4_row4_col2 {\n",
       "  background-color: #482677;\n",
       "  color: #f1f1f1;\n",
       "}\n",
       "</style>\n",
       "<table id=\"T_caff4\">\n",
       "  <thead>\n",
       "    <tr>\n",
       "      <th class=\"blank level0\" >&nbsp;</th>\n",
       "      <th id=\"T_caff4_level0_col0\" class=\"col_heading level0 col0\" >precision</th>\n",
       "      <th id=\"T_caff4_level0_col1\" class=\"col_heading level0 col1\" >recall</th>\n",
       "      <th id=\"T_caff4_level0_col2\" class=\"col_heading level0 col2\" >f1-score</th>\n",
       "      <th id=\"T_caff4_level0_col3\" class=\"col_heading level0 col3\" >support</th>\n",
       "    </tr>\n",
       "  </thead>\n",
       "  <tbody>\n",
       "    <tr>\n",
       "      <th id=\"T_caff4_level0_row0\" class=\"row_heading level0 row0\" >0</th>\n",
       "      <td id=\"T_caff4_row0_col0\" class=\"data row0 col0\" >0.110954</td>\n",
       "      <td id=\"T_caff4_row0_col1\" class=\"data row0 col1\" >0.633065</td>\n",
       "      <td id=\"T_caff4_row0_col2\" class=\"data row0 col2\" >0.188815</td>\n",
       "      <td id=\"T_caff4_row0_col3\" class=\"data row0 col3\" >248</td>\n",
       "    </tr>\n",
       "    <tr>\n",
       "      <th id=\"T_caff4_level0_row1\" class=\"row_heading level0 row1\" >1</th>\n",
       "      <td id=\"T_caff4_row1_col0\" class=\"data row1 col0\" >0.483680</td>\n",
       "      <td id=\"T_caff4_row1_col1\" class=\"data row1 col1\" >0.355636</td>\n",
       "      <td id=\"T_caff4_row1_col2\" class=\"data row1 col2\" >0.409891</td>\n",
       "      <td id=\"T_caff4_row1_col3\" class=\"data row1 col3\" >1375</td>\n",
       "    </tr>\n",
       "    <tr>\n",
       "      <th id=\"T_caff4_level0_row2\" class=\"row_heading level0 row2\" >2</th>\n",
       "      <td id=\"T_caff4_row2_col0\" class=\"data row2 col0\" >0.932364</td>\n",
       "      <td id=\"T_caff4_row2_col1\" class=\"data row2 col1\" >0.748822</td>\n",
       "      <td id=\"T_caff4_row2_col2\" class=\"data row2 col2\" >0.830574</td>\n",
       "      <td id=\"T_caff4_row2_col3\" class=\"data row2 col3\" >4455</td>\n",
       "    </tr>\n",
       "    <tr>\n",
       "      <th id=\"T_caff4_level0_row3\" class=\"row_heading level0 row3\" >3</th>\n",
       "      <td id=\"T_caff4_row3_col0\" class=\"data row3 col0\" >0.211382</td>\n",
       "      <td id=\"T_caff4_row3_col1\" class=\"data row3 col1\" >0.196474</td>\n",
       "      <td id=\"T_caff4_row3_col2\" class=\"data row3 col2\" >0.203655</td>\n",
       "      <td id=\"T_caff4_row3_col3\" class=\"data row3 col3\" >397</td>\n",
       "    </tr>\n",
       "    <tr>\n",
       "      <th id=\"T_caff4_level0_row4\" class=\"row_heading level0 row4\" >4</th>\n",
       "      <td id=\"T_caff4_row4_col0\" class=\"data row4 col0\" >0.219020</td>\n",
       "      <td id=\"T_caff4_row4_col1\" class=\"data row4 col1\" >0.310204</td>\n",
       "      <td id=\"T_caff4_row4_col2\" class=\"data row4 col2\" >0.256757</td>\n",
       "      <td id=\"T_caff4_row4_col3\" class=\"data row4 col3\" >245</td>\n",
       "    </tr>\n",
       "    <tr>\n",
       "      <th id=\"T_caff4_level0_row5\" class=\"row_heading level0 row5\" >accuracy</th>\n",
       "      <td id=\"T_caff4_row5_col0\" class=\"data row5 col0\" >0.615476</td>\n",
       "      <td id=\"T_caff4_row5_col1\" class=\"data row5 col1\" >0.615476</td>\n",
       "      <td id=\"T_caff4_row5_col2\" class=\"data row5 col2\" >0.615476</td>\n",
       "      <td id=\"T_caff4_row5_col3\" class=\"data row5 col3\" >0</td>\n",
       "    </tr>\n",
       "    <tr>\n",
       "      <th id=\"T_caff4_level0_row6\" class=\"row_heading level0 row6\" >macro avg</th>\n",
       "      <td id=\"T_caff4_row6_col0\" class=\"data row6 col0\" >0.391480</td>\n",
       "      <td id=\"T_caff4_row6_col1\" class=\"data row6 col1\" >0.448840</td>\n",
       "      <td id=\"T_caff4_row6_col2\" class=\"data row6 col2\" >0.377938</td>\n",
       "      <td id=\"T_caff4_row6_col3\" class=\"data row6 col3\" >6720</td>\n",
       "    </tr>\n",
       "    <tr>\n",
       "      <th id=\"T_caff4_level0_row7\" class=\"row_heading level0 row7\" >weighted avg</th>\n",
       "      <td id=\"T_caff4_row7_col0\" class=\"data row7 col0\" >0.741643</td>\n",
       "      <td id=\"T_caff4_row7_col1\" class=\"data row7 col1\" >0.615476</td>\n",
       "      <td id=\"T_caff4_row7_col2\" class=\"data row7 col2\" >0.662856</td>\n",
       "      <td id=\"T_caff4_row7_col3\" class=\"data row7 col3\" >6720</td>\n",
       "    </tr>\n",
       "  </tbody>\n",
       "</table>\n"
      ],
      "text/plain": [
       "<pandas.io.formats.style.Styler at 0x7fa379f69060>"
      ]
     },
     "execution_count": 31,
     "metadata": {},
     "output_type": "execute_result"
    },
    {
     "data": {
      "image/png": "[encoded data removed]",
      "text/plain": [
       "<Figure size 432x288 with 1 Axes>"
      ]
     },
     "metadata": {},
     "output_type": "display_data"
    }
   ],
   "source": [
    "model_name, y_hat = 'Naive Bayes', y_gnb\n",
    "\n",
    "plot_confusion_matrix(test_y, y_hat, labels,  f'Confusion Matrix {model_name}')\n",
    "print('F1 score : {:.3f}'.format(f1_score(test_y, y_hat, average='macro')))\n",
    "pretty_classification_report(test_y, y_hat)"
   ]
  },
  {
   "cell_type": "code",
   "execution_count": 32,
   "id": "17097e70",
   "metadata": {},
   "outputs": [
    {
     "name": "stdout",
     "output_type": "stream",
     "text": [
      "F1 score : 0.693\n"
     ]
    },
    {
     "data": {
      "text/html": [
       "<style type=\"text/css\">\n",
       "#T_1e019_row0_col0 {\n",
       "  background-color: #58c765;\n",
       "  color: #000000;\n",
       "}\n",
       "#T_1e019_row0_col1, #T_1e019_row1_col1, #T_1e019_row3_col0, #T_1e019_row3_col2, #T_1e019_row4_col1 {\n",
       "  background-color: #440154;\n",
       "  color: #f1f1f1;\n",
       "}\n",
       "#T_1e019_row0_col2 {\n",
       "  background-color: #3aba76;\n",
       "  color: #f1f1f1;\n",
       "}\n",
       "#T_1e019_row1_col0 {\n",
       "  background-color: #4ac16d;\n",
       "  color: #000000;\n",
       "}\n",
       "#T_1e019_row1_col2 {\n",
       "  background-color: #32b67a;\n",
       "  color: #f1f1f1;\n",
       "}\n",
       "#T_1e019_row2_col0, #T_1e019_row2_col1, #T_1e019_row2_col2 {\n",
       "  background-color: #fde725;\n",
       "  color: #000000;\n",
       "}\n",
       "#T_1e019_row3_col1 {\n",
       "  background-color: #1f958b;\n",
       "  color: #f1f1f1;\n",
       "}\n",
       "#T_1e019_row4_col0 {\n",
       "  background-color: #482979;\n",
       "  color: #f1f1f1;\n",
       "}\n",
       "#T_1e019_row4_col2 {\n",
       "  background-color: #472d7b;\n",
       "  color: #f1f1f1;\n",
       "}\n",
       "</style>\n",
       "<table id=\"T_1e019\">\n",
       "  <thead>\n",
       "    <tr>\n",
       "      <th class=\"blank level0\" >&nbsp;</th>\n",
       "      <th id=\"T_1e019_level0_col0\" class=\"col_heading level0 col0\" >precision</th>\n",
       "      <th id=\"T_1e019_level0_col1\" class=\"col_heading level0 col1\" >recall</th>\n",
       "      <th id=\"T_1e019_level0_col2\" class=\"col_heading level0 col2\" >f1-score</th>\n",
       "      <th id=\"T_1e019_level0_col3\" class=\"col_heading level0 col3\" >support</th>\n",
       "    </tr>\n",
       "  </thead>\n",
       "  <tbody>\n",
       "    <tr>\n",
       "      <th id=\"T_1e019_level0_row0\" class=\"row_heading level0 row0\" >0</th>\n",
       "      <td id=\"T_1e019_row0_col0\" class=\"data row0 col0\" >0.812721</td>\n",
       "      <td id=\"T_1e019_row0_col1\" class=\"data row0 col1\" >0.765136</td>\n",
       "      <td id=\"T_1e019_row0_col2\" class=\"data row0 col2\" >0.788211</td>\n",
       "      <td id=\"T_1e019_row0_col3\" class=\"data row0 col3\" >1503</td>\n",
       "    </tr>\n",
       "    <tr>\n",
       "      <th id=\"T_1e019_level0_row1\" class=\"row_heading level0 row1\" >1</th>\n",
       "      <td id=\"T_1e019_row1_col0\" class=\"data row1 col0\" >0.793274</td>\n",
       "      <td id=\"T_1e019_row1_col1\" class=\"data row1 col1\" >0.765267</td>\n",
       "      <td id=\"T_1e019_row1_col2\" class=\"data row1 col2\" >0.779019</td>\n",
       "      <td id=\"T_1e019_row1_col3\" class=\"data row1 col3\" >1048</td>\n",
       "    </tr>\n",
       "    <tr>\n",
       "      <th id=\"T_1e019_level0_row2\" class=\"row_heading level0 row2\" >2</th>\n",
       "      <td id=\"T_1e019_row2_col0\" class=\"data row2 col0\" >0.993851</td>\n",
       "      <td id=\"T_1e019_row2_col1\" class=\"data row2 col1\" >0.918863</td>\n",
       "      <td id=\"T_1e019_row2_col2\" class=\"data row2 col2\" >0.954887</td>\n",
       "      <td id=\"T_1e019_row2_col3\" class=\"data row2 col3\" >3870</td>\n",
       "    </tr>\n",
       "    <tr>\n",
       "      <th id=\"T_1e019_level0_row3\" class=\"row_heading level0 row3\" >3</th>\n",
       "      <td id=\"T_1e019_row3_col0\" class=\"data row3 col0\" >0.295393</td>\n",
       "      <td id=\"T_1e019_row3_col1\" class=\"data row3 col1\" >0.844961</td>\n",
       "      <td id=\"T_1e019_row3_col2\" class=\"data row3 col2\" >0.437751</td>\n",
       "      <td id=\"T_1e019_row3_col3\" class=\"data row3 col3\" >129</td>\n",
       "    </tr>\n",
       "    <tr>\n",
       "      <th id=\"T_1e019_level0_row4\" class=\"row_heading level0 row4\" >4</th>\n",
       "      <td id=\"T_1e019_row4_col0\" class=\"data row4 col0\" >0.374640</td>\n",
       "      <td id=\"T_1e019_row4_col1\" class=\"data row4 col1\" >0.764706</td>\n",
       "      <td id=\"T_1e019_row4_col2\" class=\"data row4 col2\" >0.502901</td>\n",
       "      <td id=\"T_1e019_row4_col3\" class=\"data row4 col3\" >170</td>\n",
       "    </tr>\n",
       "    <tr>\n",
       "      <th id=\"T_1e019_level0_row5\" class=\"row_heading level0 row5\" >accuracy</th>\n",
       "      <td id=\"T_1e019_row5_col0\" class=\"data row5 col0\" >0.855208</td>\n",
       "      <td id=\"T_1e019_row5_col1\" class=\"data row5 col1\" >0.855208</td>\n",
       "      <td id=\"T_1e019_row5_col2\" class=\"data row5 col2\" >0.855208</td>\n",
       "      <td id=\"T_1e019_row5_col3\" class=\"data row5 col3\" >0</td>\n",
       "    </tr>\n",
       "    <tr>\n",
       "      <th id=\"T_1e019_level0_row6\" class=\"row_heading level0 row6\" >macro avg</th>\n",
       "      <td id=\"T_1e019_row6_col0\" class=\"data row6 col0\" >0.653976</td>\n",
       "      <td id=\"T_1e019_row6_col1\" class=\"data row6 col1\" >0.811787</td>\n",
       "      <td id=\"T_1e019_row6_col2\" class=\"data row6 col2\" >0.692554</td>\n",
       "      <td id=\"T_1e019_row6_col3\" class=\"data row6 col3\" >6720</td>\n",
       "    </tr>\n",
       "    <tr>\n",
       "      <th id=\"T_1e019_level0_row7\" class=\"row_heading level0 row7\" >weighted avg</th>\n",
       "      <td id=\"T_1e019_row7_col0\" class=\"data row7 col0\" >0.892987</td>\n",
       "      <td id=\"T_1e019_row7_col1\" class=\"data row7 col1\" >0.855208</td>\n",
       "      <td id=\"T_1e019_row7_col2\" class=\"data row7 col2\" >0.868820</td>\n",
       "      <td id=\"T_1e019_row7_col3\" class=\"data row7 col3\" >6720</td>\n",
       "    </tr>\n",
       "  </tbody>\n",
       "</table>\n"
      ],
      "text/plain": [
       "<pandas.io.formats.style.Styler at 0x7fa379f4e200>"
      ]
     },
     "execution_count": 32,
     "metadata": {},
     "output_type": "execute_result"
    },
    {
     "data": {
      "image/png": "[encoded data removed]",
      "text/plain": [
       "<Figure size 432x288 with 1 Axes>"
      ]
     },
     "metadata": {},
     "output_type": "display_data"
    }
   ],
   "source": [
    "model_name, y_hat = 'SVM', y_svc\n",
    "\n",
    "plot_confusion_matrix(test_y, y_hat, labels,  f'Confusion Matrix {model_name}')\n",
    "print('F1 score : {:.3f}'.format(f1_score(test_y, y_hat, average='macro')))\n",
    "pretty_classification_report(test_y, y_hat)"
   ]
  },
  {
   "cell_type": "code",
   "execution_count": 33,
   "id": "07abe2a6",
   "metadata": {},
   "outputs": [
    {
     "name": "stdout",
     "output_type": "stream",
     "text": [
      "F1 score : 0.507\n"
     ]
    },
    {
     "data": {
      "text/html": [
       "<style type=\"text/css\">\n",
       "#T_c1979_row0_col0 {\n",
       "  background-color: #1e9d89;\n",
       "  color: #f1f1f1;\n",
       "}\n",
       "#T_c1979_row0_col1 {\n",
       "  background-color: #2b758e;\n",
       "  color: #f1f1f1;\n",
       "}\n",
       "#T_c1979_row0_col2 {\n",
       "  background-color: #1e9b8a;\n",
       "  color: #f1f1f1;\n",
       "}\n",
       "#T_c1979_row1_col0 {\n",
       "  background-color: #26ad81;\n",
       "  color: #f1f1f1;\n",
       "}\n",
       "#T_c1979_row1_col1 {\n",
       "  background-color: #26828e;\n",
       "  color: #f1f1f1;\n",
       "}\n",
       "#T_c1979_row1_col2 {\n",
       "  background-color: #22a884;\n",
       "  color: #f1f1f1;\n",
       "}\n",
       "#T_c1979_row2_col0, #T_c1979_row2_col1, #T_c1979_row2_col2 {\n",
       "  background-color: #fde725;\n",
       "  color: #000000;\n",
       "}\n",
       "#T_c1979_row3_col0, #T_c1979_row3_col2, #T_c1979_row4_col1 {\n",
       "  background-color: #440154;\n",
       "  color: #f1f1f1;\n",
       "}\n",
       "#T_c1979_row3_col1 {\n",
       "  background-color: #460a5d;\n",
       "  color: #f1f1f1;\n",
       "}\n",
       "#T_c1979_row4_col0 {\n",
       "  background-color: #481668;\n",
       "  color: #f1f1f1;\n",
       "}\n",
       "#T_c1979_row4_col2 {\n",
       "  background-color: #48186a;\n",
       "  color: #f1f1f1;\n",
       "}\n",
       "</style>\n",
       "<table id=\"T_c1979\">\n",
       "  <thead>\n",
       "    <tr>\n",
       "      <th class=\"blank level0\" >&nbsp;</th>\n",
       "      <th id=\"T_c1979_level0_col0\" class=\"col_heading level0 col0\" >precision</th>\n",
       "      <th id=\"T_c1979_level0_col1\" class=\"col_heading level0 col1\" >recall</th>\n",
       "      <th id=\"T_c1979_level0_col2\" class=\"col_heading level0 col2\" >f1-score</th>\n",
       "      <th id=\"T_c1979_level0_col3\" class=\"col_heading level0 col3\" >support</th>\n",
       "    </tr>\n",
       "  </thead>\n",
       "  <tbody>\n",
       "    <tr>\n",
       "      <th id=\"T_c1979_level0_row0\" class=\"row_heading level0 row0\" >0</th>\n",
       "      <td id=\"T_c1979_row0_col0\" class=\"data row0 col0\" >0.580919</td>\n",
       "      <td id=\"T_c1979_row0_col1\" class=\"data row0 col1\" >0.576842</td>\n",
       "      <td id=\"T_c1979_row0_col2\" class=\"data row0 col2\" >0.578873</td>\n",
       "      <td id=\"T_c1979_row0_col3\" class=\"data row0 col3\" >1425</td>\n",
       "    </tr>\n",
       "    <tr>\n",
       "      <th id=\"T_c1979_level0_row1\" class=\"row_heading level0 row1\" >1</th>\n",
       "      <td id=\"T_c1979_row1_col0\" class=\"data row1 col0\" >0.635015</td>\n",
       "      <td id=\"T_c1979_row1_col1\" class=\"data row1 col1\" >0.600561</td>\n",
       "      <td id=\"T_c1979_row1_col2\" class=\"data row1 col2\" >0.617308</td>\n",
       "      <td id=\"T_c1979_row1_col3\" class=\"data row1 col3\" >1069</td>\n",
       "    </tr>\n",
       "    <tr>\n",
       "      <th id=\"T_c1979_level0_row2\" class=\"row_heading level0 row2\" >2</th>\n",
       "      <td id=\"T_c1979_row2_col0\" class=\"data row2 col0\" >0.946618</td>\n",
       "      <td id=\"T_c1979_row2_col1\" class=\"data row2 col1\" >0.856168</td>\n",
       "      <td id=\"T_c1979_row2_col2\" class=\"data row2 col2\" >0.899124</td>\n",
       "      <td id=\"T_c1979_row2_col3\" class=\"data row2 col3\" >3956</td>\n",
       "    </tr>\n",
       "    <tr>\n",
       "      <th id=\"T_c1979_level0_row3\" class=\"row_heading level0 row3\" >3</th>\n",
       "      <td id=\"T_c1979_row3_col0\" class=\"data row3 col0\" >0.130081</td>\n",
       "      <td id=\"T_c1979_row3_col1\" class=\"data row3 col1\" >0.410256</td>\n",
       "      <td id=\"T_c1979_row3_col2\" class=\"data row3 col2\" >0.197531</td>\n",
       "      <td id=\"T_c1979_row3_col3\" class=\"data row3 col3\" >117</td>\n",
       "    </tr>\n",
       "    <tr>\n",
       "      <th id=\"T_c1979_level0_row4\" class=\"row_heading level0 row4\" >4</th>\n",
       "      <td id=\"T_c1979_row4_col0\" class=\"data row4 col0\" >0.175793</td>\n",
       "      <td id=\"T_c1979_row4_col1\" class=\"data row4 col1\" >0.398693</td>\n",
       "      <td id=\"T_c1979_row4_col2\" class=\"data row4 col2\" >0.244000</td>\n",
       "      <td id=\"T_c1979_row4_col3\" class=\"data row4 col3\" >153</td>\n",
       "    </tr>\n",
       "    <tr>\n",
       "      <th id=\"T_c1979_level0_row5\" class=\"row_heading level0 row5\" >accuracy</th>\n",
       "      <td id=\"T_c1979_row5_col0\" class=\"data row5 col0\" >0.738095</td>\n",
       "      <td id=\"T_c1979_row5_col1\" class=\"data row5 col1\" >0.738095</td>\n",
       "      <td id=\"T_c1979_row5_col2\" class=\"data row5 col2\" >0.738095</td>\n",
       "      <td id=\"T_c1979_row5_col3\" class=\"data row5 col3\" >0</td>\n",
       "    </tr>\n",
       "    <tr>\n",
       "      <th id=\"T_c1979_level0_row6\" class=\"row_heading level0 row6\" >macro avg</th>\n",
       "      <td id=\"T_c1979_row6_col0\" class=\"data row6 col0\" >0.493685</td>\n",
       "      <td id=\"T_c1979_row6_col1\" class=\"data row6 col1\" >0.568504</td>\n",
       "      <td id=\"T_c1979_row6_col2\" class=\"data row6 col2\" >0.507367</td>\n",
       "      <td id=\"T_c1979_row6_col3\" class=\"data row6 col3\" >6720</td>\n",
       "    </tr>\n",
       "    <tr>\n",
       "      <th id=\"T_c1979_level0_row7\" class=\"row_heading level0 row7\" >weighted avg</th>\n",
       "      <td id=\"T_c1979_row7_col0\" class=\"data row7 col0\" >0.787735</td>\n",
       "      <td id=\"T_c1979_row7_col1\" class=\"data row7 col1\" >0.738095</td>\n",
       "      <td id=\"T_c1979_row7_col2\" class=\"data row7 col2\" >0.759252</td>\n",
       "      <td id=\"T_c1979_row7_col3\" class=\"data row7 col3\" >6720</td>\n",
       "    </tr>\n",
       "  </tbody>\n",
       "</table>\n"
      ],
      "text/plain": [
       "<pandas.io.formats.style.Styler at 0x7fa37a464d60>"
      ]
     },
     "execution_count": 33,
     "metadata": {},
     "output_type": "execute_result"
    },
    {
     "data": {
      "image/png": "[encoded data removed]",
      "text/plain": [
       "<Figure size 432x288 with 1 Axes>"
      ]
     },
     "metadata": {},
     "output_type": "display_data"
    }
   ],
   "source": [
    "model_name, y_hat = 'Logistic Regression', y_reg\n",
    "\n",
    "plot_confusion_matrix(test_y, y_hat, labels,  f'Confusion Matrix {model_name}')\n",
    "print('F1 score : {:.3f}'.format(f1_score(test_y, y_hat, average='macro')))\n",
    "pretty_classification_report(test_y, y_hat)"
   ]
  },
  {
   "cell_type": "code",
   "execution_count": 34,
   "id": "52816103",
   "metadata": {},
   "outputs": [
    {
     "name": "stdout",
     "output_type": "stream",
     "text": [
      "F1 score : 0.634\n"
     ]
    },
    {
     "data": {
      "text/html": [
       "<style type=\"text/css\">\n",
       "#T_16487_row0_col0 {\n",
       "  background-color: #35b779;\n",
       "  color: #f1f1f1;\n",
       "}\n",
       "#T_16487_row0_col1 {\n",
       "  background-color: #31b57b;\n",
       "  color: #f1f1f1;\n",
       "}\n",
       "#T_16487_row0_col2 {\n",
       "  background-color: #32b67a;\n",
       "  color: #f1f1f1;\n",
       "}\n",
       "#T_16487_row1_col0 {\n",
       "  background-color: #1f948c;\n",
       "  color: #f1f1f1;\n",
       "}\n",
       "#T_16487_row1_col1 {\n",
       "  background-color: #1f998a;\n",
       "  color: #f1f1f1;\n",
       "}\n",
       "#T_16487_row1_col2 {\n",
       "  background-color: #1f968b;\n",
       "  color: #f1f1f1;\n",
       "}\n",
       "#T_16487_row2_col0, #T_16487_row2_col1, #T_16487_row2_col2 {\n",
       "  background-color: #fde725;\n",
       "  color: #000000;\n",
       "}\n",
       "#T_16487_row3_col0, #T_16487_row4_col0, #T_16487_row4_col1, #T_16487_row4_col2 {\n",
       "  background-color: #440154;\n",
       "  color: #f1f1f1;\n",
       "}\n",
       "#T_16487_row3_col1 {\n",
       "  background-color: #481467;\n",
       "  color: #f1f1f1;\n",
       "}\n",
       "#T_16487_row3_col2 {\n",
       "  background-color: #460a5d;\n",
       "  color: #f1f1f1;\n",
       "}\n",
       "</style>\n",
       "<table id=\"T_16487\">\n",
       "  <thead>\n",
       "    <tr>\n",
       "      <th class=\"blank level0\" >&nbsp;</th>\n",
       "      <th id=\"T_16487_level0_col0\" class=\"col_heading level0 col0\" >precision</th>\n",
       "      <th id=\"T_16487_level0_col1\" class=\"col_heading level0 col1\" >recall</th>\n",
       "      <th id=\"T_16487_level0_col2\" class=\"col_heading level0 col2\" >f1-score</th>\n",
       "      <th id=\"T_16487_level0_col3\" class=\"col_heading level0 col3\" >support</th>\n",
       "    </tr>\n",
       "  </thead>\n",
       "  <tbody>\n",
       "    <tr>\n",
       "      <th id=\"T_16487_level0_row0\" class=\"row_heading level0 row0\" >0</th>\n",
       "      <td id=\"T_16487_row0_col0\" class=\"data row0 col0\" >0.752650</td>\n",
       "      <td id=\"T_16487_row0_col1\" class=\"data row0 col1\" >0.743196</td>\n",
       "      <td id=\"T_16487_row0_col2\" class=\"data row0 col2\" >0.747893</td>\n",
       "      <td id=\"T_16487_row0_col3\" class=\"data row0 col3\" >1433</td>\n",
       "    </tr>\n",
       "    <tr>\n",
       "      <th id=\"T_16487_level0_row1\" class=\"row_heading level0 row1\" >1</th>\n",
       "      <td id=\"T_16487_row1_col0\" class=\"data row1 col0\" >0.675569</td>\n",
       "      <td id=\"T_16487_row1_col1\" class=\"data row1 col1\" >0.681637</td>\n",
       "      <td id=\"T_16487_row1_col2\" class=\"data row1 col2\" >0.678589</td>\n",
       "      <td id=\"T_16487_row1_col3\" class=\"data row1 col3\" >1002</td>\n",
       "    </tr>\n",
       "    <tr>\n",
       "      <th id=\"T_16487_level0_row2\" class=\"row_heading level0 row2\" >2</th>\n",
       "      <td id=\"T_16487_row2_col0\" class=\"data row2 col0\" >0.925936</td>\n",
       "      <td id=\"T_16487_row2_col1\" class=\"data row2 col1\" >0.924902</td>\n",
       "      <td id=\"T_16487_row2_col2\" class=\"data row2 col2\" >0.925419</td>\n",
       "      <td id=\"T_16487_row2_col3\" class=\"data row2 col3\" >3582</td>\n",
       "    </tr>\n",
       "    <tr>\n",
       "      <th id=\"T_16487_level0_row3\" class=\"row_heading level0 row3\" >3</th>\n",
       "      <td id=\"T_16487_row3_col0\" class=\"data row3 col0\" >0.406504</td>\n",
       "      <td id=\"T_16487_row3_col1\" class=\"data row3 col1\" >0.427350</td>\n",
       "      <td id=\"T_16487_row3_col2\" class=\"data row3 col2\" >0.416667</td>\n",
       "      <td id=\"T_16487_row3_col3\" class=\"data row3 col3\" >351</td>\n",
       "    </tr>\n",
       "    <tr>\n",
       "      <th id=\"T_16487_level0_row4\" class=\"row_heading level0 row4\" >4</th>\n",
       "      <td id=\"T_16487_row4_col0\" class=\"data row4 col0\" >0.406340</td>\n",
       "      <td id=\"T_16487_row4_col1\" class=\"data row4 col1\" >0.400568</td>\n",
       "      <td id=\"T_16487_row4_col2\" class=\"data row4 col2\" >0.403433</td>\n",
       "      <td id=\"T_16487_row4_col3\" class=\"data row4 col3\" >352</td>\n",
       "    </tr>\n",
       "    <tr>\n",
       "      <th id=\"T_16487_level0_row5\" class=\"row_heading level0 row5\" >accuracy</th>\n",
       "      <td id=\"T_16487_row5_col0\" class=\"data row5 col0\" >0.796429</td>\n",
       "      <td id=\"T_16487_row5_col1\" class=\"data row5 col1\" >0.796429</td>\n",
       "      <td id=\"T_16487_row5_col2\" class=\"data row5 col2\" >0.796429</td>\n",
       "      <td id=\"T_16487_row5_col3\" class=\"data row5 col3\" >0</td>\n",
       "    </tr>\n",
       "    <tr>\n",
       "      <th id=\"T_16487_level0_row6\" class=\"row_heading level0 row6\" >macro avg</th>\n",
       "      <td id=\"T_16487_row6_col0\" class=\"data row6 col0\" >0.633400</td>\n",
       "      <td id=\"T_16487_row6_col1\" class=\"data row6 col1\" >0.635531</td>\n",
       "      <td id=\"T_16487_row6_col2\" class=\"data row6 col2\" >0.634400</td>\n",
       "      <td id=\"T_16487_row6_col3\" class=\"data row6 col3\" >6720</td>\n",
       "    </tr>\n",
       "    <tr>\n",
       "      <th id=\"T_16487_level0_row7\" class=\"row_heading level0 row7\" >weighted avg</th>\n",
       "      <td id=\"T_16487_row7_col0\" class=\"data row7 col0\" >0.797304</td>\n",
       "      <td id=\"T_16487_row7_col1\" class=\"data row7 col1\" >0.796429</td>\n",
       "      <td id=\"T_16487_row7_col2\" class=\"data row7 col2\" >0.796843</td>\n",
       "      <td id=\"T_16487_row7_col3\" class=\"data row7 col3\" >6720</td>\n",
       "    </tr>\n",
       "  </tbody>\n",
       "</table>\n"
      ],
      "text/plain": [
       "<pandas.io.formats.style.Styler at 0x7fa37a4348e0>"
      ]
     },
     "execution_count": 34,
     "metadata": {},
     "output_type": "execute_result"
    },
    {
     "data": {
      "image/png": "[encoded data removed]",
      "text/plain": [
       "<Figure size 432x288 with 1 Axes>"
      ]
     },
     "metadata": {},
     "output_type": "display_data"
    }
   ],
   "source": [
    "model_name, y_hat = 'Decision Tree Classifier', y_dtc\n",
    "\n",
    "plot_confusion_matrix(test_y, y_hat, labels,  f'Confusion Matrix {model_name}')\n",
    "print('F1 score : {:.3f}'.format(f1_score(test_y, y_hat, average='macro')))\n",
    "pretty_classification_report(test_y, y_hat)"
   ]
  },
  {
   "cell_type": "code",
   "execution_count": 35,
   "id": "7d050adb",
   "metadata": {},
   "outputs": [
    {
     "name": "stdout",
     "output_type": "stream",
     "text": [
      "F1 score : 0.722\n"
     ]
    },
    {
     "data": {
      "text/html": [
       "<style type=\"text/css\">\n",
       "#T_93c25_row0_col0 {\n",
       "  background-color: #84d44b;\n",
       "  color: #000000;\n",
       "}\n",
       "#T_93c25_row0_col1, #T_93c25_row3_col0, #T_93c25_row3_col2 {\n",
       "  background-color: #440154;\n",
       "  color: #f1f1f1;\n",
       "}\n",
       "#T_93c25_row0_col2 {\n",
       "  background-color: #60ca60;\n",
       "  color: #000000;\n",
       "}\n",
       "#T_93c25_row1_col0 {\n",
       "  background-color: #48c16e;\n",
       "  color: #f1f1f1;\n",
       "}\n",
       "#T_93c25_row1_col1 {\n",
       "  background-color: #32658e;\n",
       "  color: #f1f1f1;\n",
       "}\n",
       "#T_93c25_row1_col2 {\n",
       "  background-color: #4ec36b;\n",
       "  color: #000000;\n",
       "}\n",
       "#T_93c25_row2_col0, #T_93c25_row2_col1, #T_93c25_row2_col2 {\n",
       "  background-color: #fde725;\n",
       "  color: #000000;\n",
       "}\n",
       "#T_93c25_row3_col1 {\n",
       "  background-color: #44bf70;\n",
       "  color: #f1f1f1;\n",
       "}\n",
       "#T_93c25_row4_col0 {\n",
       "  background-color: #481a6c;\n",
       "  color: #f1f1f1;\n",
       "}\n",
       "#T_93c25_row4_col1 {\n",
       "  background-color: #2b748e;\n",
       "  color: #f1f1f1;\n",
       "}\n",
       "#T_93c25_row4_col2 {\n",
       "  background-color: #481f70;\n",
       "  color: #f1f1f1;\n",
       "}\n",
       "</style>\n",
       "<table id=\"T_93c25\">\n",
       "  <thead>\n",
       "    <tr>\n",
       "      <th class=\"blank level0\" >&nbsp;</th>\n",
       "      <th id=\"T_93c25_level0_col0\" class=\"col_heading level0 col0\" >precision</th>\n",
       "      <th id=\"T_93c25_level0_col1\" class=\"col_heading level0 col1\" >recall</th>\n",
       "      <th id=\"T_93c25_level0_col2\" class=\"col_heading level0 col2\" >f1-score</th>\n",
       "      <th id=\"T_93c25_level0_col3\" class=\"col_heading level0 col3\" >support</th>\n",
       "    </tr>\n",
       "  </thead>\n",
       "  <tbody>\n",
       "    <tr>\n",
       "      <th id=\"T_93c25_level0_row0\" class=\"row_heading level0 row0\" >0</th>\n",
       "      <td id=\"T_93c25_row0_col0\" class=\"data row0 col0\" >0.868551</td>\n",
       "      <td id=\"T_93c25_row0_col1\" class=\"data row0 col1\" >0.802219</td>\n",
       "      <td id=\"T_93c25_row0_col2\" class=\"data row0 col2\" >0.834069</td>\n",
       "      <td id=\"T_93c25_row0_col3\" class=\"data row0 col3\" >1532</td>\n",
       "    </tr>\n",
       "    <tr>\n",
       "      <th id=\"T_93c25_level0_row1\" class=\"row_heading level0 row1\" >1</th>\n",
       "      <td id=\"T_93c25_row1_col0\" class=\"data row1 col0\" >0.801187</td>\n",
       "      <td id=\"T_93c25_row1_col1\" class=\"data row1 col1\" >0.835052</td>\n",
       "      <td id=\"T_93c25_row1_col2\" class=\"data row1 col2\" >0.817769</td>\n",
       "      <td id=\"T_93c25_row1_col3\" class=\"data row1 col3\" >970</td>\n",
       "    </tr>\n",
       "    <tr>\n",
       "      <th id=\"T_93c25_level0_row2\" class=\"row_heading level0 row2\" >2</th>\n",
       "      <td id=\"T_93c25_row2_col0\" class=\"data row2 col0\" >0.990218</td>\n",
       "      <td id=\"T_93c25_row2_col1\" class=\"data row2 col1\" >0.904519</td>\n",
       "      <td id=\"T_93c25_row2_col2\" class=\"data row2 col2\" >0.945430</td>\n",
       "      <td id=\"T_93c25_row2_col3\" class=\"data row2 col3\" >3917</td>\n",
       "    </tr>\n",
       "    <tr>\n",
       "      <th id=\"T_93c25_level0_row3\" class=\"row_heading level0 row3\" >3</th>\n",
       "      <td id=\"T_93c25_row3_col0\" class=\"data row3 col0\" >0.338753</td>\n",
       "      <td id=\"T_93c25_row3_col1\" class=\"data row3 col1\" >0.874126</td>\n",
       "      <td id=\"T_93c25_row3_col2\" class=\"data row3 col2\" >0.488281</td>\n",
       "      <td id=\"T_93c25_row3_col3\" class=\"data row3 col3\" >143</td>\n",
       "    </tr>\n",
       "    <tr>\n",
       "      <th id=\"T_93c25_level0_row4\" class=\"row_heading level0 row4\" >4</th>\n",
       "      <td id=\"T_93c25_row4_col0\" class=\"data row4 col0\" >0.383285</td>\n",
       "      <td id=\"T_93c25_row4_col1\" class=\"data row4 col1\" >0.841772</td>\n",
       "      <td id=\"T_93c25_row4_col2\" class=\"data row4 col2\" >0.526733</td>\n",
       "      <td id=\"T_93c25_row4_col3\" class=\"data row4 col3\" >158</td>\n",
       "    </tr>\n",
       "    <tr>\n",
       "      <th id=\"T_93c25_level0_row5\" class=\"row_heading level0 row5\" >accuracy</th>\n",
       "      <td id=\"T_93c25_row5_col0\" class=\"data row5 col0\" >0.869048</td>\n",
       "      <td id=\"T_93c25_row5_col1\" class=\"data row5 col1\" >0.869048</td>\n",
       "      <td id=\"T_93c25_row5_col2\" class=\"data row5 col2\" >0.869048</td>\n",
       "      <td id=\"T_93c25_row5_col3\" class=\"data row5 col3\" >0</td>\n",
       "    </tr>\n",
       "    <tr>\n",
       "      <th id=\"T_93c25_level0_row6\" class=\"row_heading level0 row6\" >macro avg</th>\n",
       "      <td id=\"T_93c25_row6_col0\" class=\"data row6 col0\" >0.676399</td>\n",
       "      <td id=\"T_93c25_row6_col1\" class=\"data row6 col1\" >0.851538</td>\n",
       "      <td id=\"T_93c25_row6_col2\" class=\"data row6 col2\" >0.722456</td>\n",
       "      <td id=\"T_93c25_row6_col3\" class=\"data row6 col3\" >6720</td>\n",
       "    </tr>\n",
       "    <tr>\n",
       "      <th id=\"T_93c25_level0_row7\" class=\"row_heading level0 row7\" >weighted avg</th>\n",
       "      <td id=\"T_93c25_row7_col0\" class=\"data row7 col0\" >0.907062</td>\n",
       "      <td id=\"T_93c25_row7_col1\" class=\"data row7 col1\" >0.869048</td>\n",
       "      <td id=\"T_93c25_row7_col2\" class=\"data row7 col2\" >0.882043</td>\n",
       "      <td id=\"T_93c25_row7_col3\" class=\"data row7 col3\" >6720</td>\n",
       "    </tr>\n",
       "  </tbody>\n",
       "</table>\n"
      ],
      "text/plain": [
       "<pandas.io.formats.style.Styler at 0x7fa37a434610>"
      ]
     },
     "execution_count": 35,
     "metadata": {},
     "output_type": "execute_result"
    },
    {
     "data": {
      "image/png": "[encoded data removed]",
      "text/plain": [
       "<Figure size 432x288 with 1 Axes>"
      ]
     },
     "metadata": {},
     "output_type": "display_data"
    }
   ],
   "source": [
    "model_name, y_hat = 'Random Forest Classifier', y_rfc\n",
    "\n",
    "plot_confusion_matrix(test_y, y_hat, labels,  f'Confusion Matrix {model_name}')\n",
    "print('F1 score : {:.3f}'.format(f1_score(test_y, y_hat, average='macro')))\n",
    "pretty_classification_report(test_y, y_hat)"
   ]
  }
 ],
 "metadata": {
  "kernelspec": {
   "display_name": "Python 3.10.4 64-bit",
   "language": "python",
   "name": "python3"
  },
  "language_info": {
   "codemirror_mode": {
    "name": "ipython",
    "version": 3
   },
   "file_extension": ".py",
   "mimetype": "text/x-python",
   "name": "python",
   "nbconvert_exporter": "python",
   "pygments_lexer": "ipython3",
   "version": "3.10.4"
  },
  "toc": {
   "base_numbering": 1,
   "nav_menu": {},
   "number_sections": true,
   "sideBar": true,
   "skip_h1_title": false,
   "title_cell": "Table of Contents",
   "title_sidebar": "Contents",
   "toc_cell": false,
   "toc_position": {
    "height": "calc(100% - 180px)",
    "left": "10px",
    "top": "150px",
    "width": "341.333px"
   },
   "toc_section_display": true,
   "toc_window_display": true
  },
  "vscode": {
   "interpreter": {
    "hash": "31f2aee4e71d21fbe5cf8b01ff0e069b9275f58929596ceb00d14d90e3e16cd6"
   }
  }
 },
 "nbformat": 4,
 "nbformat_minor": 5
}
