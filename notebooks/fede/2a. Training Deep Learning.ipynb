{
 "cells": [
  {
   "cell_type": "markdown",
   "id": "2ab523fa",
   "metadata": {},
   "source": [
    "# Testing with some Deep Learning Model"
   ]
  },
  {
   "cell_type": "markdown",
   "id": "0bfd7e28",
   "metadata": {},
   "source": [
    "Following https://github.com/Yura52/rtdl/blob/main/examples/rtdl.ipynb"
   ]
  },
  {
   "cell_type": "code",
   "execution_count": 1,
   "id": "e11a61f6",
   "metadata": {},
   "outputs": [],
   "source": [
    "%load_ext autoreload\n",
    "%autoreload 2\n",
    "\n",
    "import pandas as pd\n",
    "import os\n",
    "import matplotlib.pyplot as plt\n",
    "import seaborn as sns\n",
    "from sklearn.metrics import f1_score\n",
    "sns.set_theme()\n",
    "\n",
    "\n",
    "import sys; sys.path.append(\"../../\")\n",
    "from modules.utils import load_yaml, save_yaml\n",
    "from modules.evaluation import pretty_classification_report, plot_confusion_matrix"
   ]
  },
  {
   "cell_type": "code",
   "execution_count": 2,
   "id": "d00dd04b",
   "metadata": {},
   "outputs": [],
   "source": [
    "from typing import Any, Dict\n",
    "\n",
    "import numpy as np\n",
    "# import rtdl\n",
    "import scipy.special\n",
    "import sklearn.datasets\n",
    "import sklearn.metrics\n",
    "import sklearn.model_selection\n",
    "import sklearn.preprocessing\n",
    "import sklearn\n",
    "import torch\n",
    "import torch.nn as nn\n",
    "import torch.nn.functional as F\n",
    "import zero"
   ]
  },
  {
   "cell_type": "code",
   "execution_count": 3,
   "id": "1c7fec29",
   "metadata": {},
   "outputs": [],
   "source": [
    "device = torch.device('cuda:1')\n"
   ]
  },
  {
   "cell_type": "markdown",
   "id": "c1053083",
   "metadata": {},
   "source": [
    "# Read Data\n",
    "\n",
    "Note: in the submission, we cannot use `test.csv`. This has no labels and it is for submission only. So we need to use validation data as the test\n",
    "\n",
    "--> This should be OK since the data size seems large enough"
   ]
  },
  {
   "cell_type": "code",
   "execution_count": 4,
   "id": "eec6863c",
   "metadata": {},
   "outputs": [
    {
     "name": "stdout",
     "output_type": "stream",
     "text": [
      "../../config/train_config.yaml\n"
     ]
    }
   ],
   "source": [
    "TRAIN_CONFIG_PATH = '../../config/train_config.yaml'\n",
    "DATA_PATH = '../../data/01_split/'\n",
    "\n",
    "config = load_yaml(TRAIN_CONFIG_PATH)\n",
    "LABEL_ENCODING = config['LABEL_ENCODING']\n",
    "encoding_to_label = {v: k for k, v in LABEL_ENCODING.items()}\n",
    "labels = [key for key in LABEL_ENCODING.keys()]\n",
    "\n",
    "train_df = pd.read_csv(os.path.join(DATA_PATH, 'train.csv'))\n",
    "valid_df = pd.read_csv(os.path.join(DATA_PATH, 'valid.csv'))"
   ]
  },
  {
   "cell_type": "markdown",
   "id": "fee75e53",
   "metadata": {},
   "source": [
    "## Split into train and test\n",
    "\n",
    "As said, we will use val and test as the same "
   ]
  },
  {
   "cell_type": "code",
   "execution_count": 5,
   "id": "4108511c",
   "metadata": {},
   "outputs": [],
   "source": [
    "train_X, train_y = train_df.loc[:,train_df.columns!='leaktype'], train_df['leaktype']\n",
    "valid_X, valid_y = valid_df.loc[:,train_df.columns!='leaktype'], valid_df['leaktype']\n",
    "\n",
    "train_y = train_y.replace(LABEL_ENCODING)\n",
    "valid_y = valid_y.replace(LABEL_ENCODING)\n",
    "\n",
    "# Same testing and validation\n",
    "test_X, test_y = valid_X, valid_y"
   ]
  },
  {
   "cell_type": "markdown",
   "id": "8507cb01",
   "metadata": {},
   "source": [
    "## Guided part"
   ]
  },
  {
   "cell_type": "code",
   "execution_count": 6,
   "id": "c894415a",
   "metadata": {},
   "outputs": [],
   "source": [
    "task_type = 'multiclass'\n",
    "assert task_type in ['binclass', 'multiclass', 'regression']\n",
    "\n",
    "n_classes = int(max(train_y)) + 1 if task_type == 'multiclass' else None\n",
    "\n",
    "\n",
    "X = {}\n",
    "y = {}\n",
    "X['train'],  X['val'], X['test'] = train_X, valid_X, test_X\n",
    "y['train'], y['val'],  y['test'] = train_y, valid_y, test_y\n",
    "\n",
    "# not the best way to preprocess features, but enough for the demonstration\n",
    "preprocess = sklearn.preprocessing.StandardScaler().fit(X['train'])\n",
    "X = {\n",
    "    k: torch.tensor(preprocess.fit_transform(v), device=device)\n",
    "    for k, v in X.items()\n",
    "}\n",
    "y = {k: torch.tensor(v, device=device) for k, v in y.items()}\n",
    "\n",
    "# !!! CRUCIAL for neural networks when solving regression problems !!!\n",
    "if task_type == 'regression':\n",
    "    y_mean = y['train'].mean().item()\n",
    "    y_std = y['train'].std().item()\n",
    "    y = {k: (v - y_mean) / y_std for k, v in y.items()}\n",
    "else:\n",
    "    y_std = y_mean = None\n",
    "\n",
    "if task_type != 'multiclass':\n",
    "    y = {k: v.float() for k, v in y.items()}\n",
    "\n",
    "\n",
    "\n",
    "### OURS convert all to float for compatibility\n",
    "X = {k: v.float() for k, v in X.items()}\n",
    "# y = {k: v.float() for k, v in y.items()} # not y, because this is an index"
   ]
  },
  {
   "cell_type": "markdown",
   "id": "a31eea01",
   "metadata": {},
   "source": [
    "## Imbalanced learning\n",
    "\n",
    "We should attempt something for the data imbalance: better check this out\n",
    "\n",
    "NOTE: this simple trick seems to be working!\n",
    "\n",
    "This will be given to the loss function\n",
    "\n",
    "https://towardsdatascience.com/machine-learning-multiclass-classification-with-imbalanced-data-set-29f6a177c1a\n",
    "\n",
    "https://towardsdatascience.com/how-to-handle-multiclass-imbalanced-data-say-no-to-smote-e9a7f393c310"
   ]
  },
  {
   "cell_type": "code",
   "execution_count": 7,
   "id": "9bb44a99",
   "metadata": {},
   "outputs": [],
   "source": [
    "from sklearn.utils.class_weight import compute_class_weight\n",
    "import numpy as np\n",
    "\n",
    "class_weights = torch.Tensor(compute_class_weight(class_weight='balanced', classes=np.arange(n_classes), y=train_y)).to(device)"
   ]
  },
  {
   "cell_type": "markdown",
   "id": "1288c9cd",
   "metadata": {},
   "source": [
    "# Train Model\n",
    "\n",
    "<!-- Tricks: we can use custom parameters to maximize the F1 score -->"
   ]
  },
  {
   "cell_type": "code",
   "execution_count": 8,
   "id": "8f965d13",
   "metadata": {},
   "outputs": [],
   "source": [
    "from datetime import datetime, timezone, timedelta\n",
    "KST = timezone(timedelta(hours=9))\n",
    "PREDICT_TIMESTAMP = datetime.now(tz=KST).strftime(\"%Y%m%d%H%M%S\")\n",
    "\n",
    "SAVE_DIR = f'checkpoints/{PREDICT_TIMESTAMP}'\n",
    "if not os.path.exists(SAVE_DIR):\n",
    "    os.makedirs(SAVE_DIR)"
   ]
  },
  {
   "cell_type": "code",
   "execution_count": 9,
   "id": "679aafca",
   "metadata": {},
   "outputs": [
    {
     "name": "stdout",
     "output_type": "stream",
     "text": [
      "The autoreload extension is already loaded. To reload it, use:\n",
      "  %reload_ext autoreload\n",
      "YAML saved checkpoints/20220609011031/model_config.yaml\n"
     ]
    },
    {
     "data": {
      "text/plain": [
       "'YAML saved checkpoints/20220609011031/model_config.yaml'"
      ]
     },
     "execution_count": 9,
     "metadata": {},
     "output_type": "execute_result"
    }
   ],
   "source": [
    "%load_ext autoreload\n",
    "%autoreload 2\n",
    "from models.ft_transformer.modules import FTTransformer, MLP, ResNet\n",
    "\n",
    "d_out = n_classes or 1\n",
    "num_features = X['train'].shape[1] # change based on your application\n",
    "\n",
    "model_config = {'n_num_features':num_features,\n",
    "                'cat_cardinalities':None,\n",
    "                'last_layer_query_idx':[-1],\n",
    "                'd_out':d_out}\n",
    "\n",
    "model = FTTransformer.make_default(**model_config)\n",
    "\n",
    "# Save configuration\n",
    "save_yaml(os.path.join(SAVE_DIR, 'model_config.yaml'), model_config)"
   ]
  },
  {
   "cell_type": "code",
   "execution_count": 10,
   "id": "c74b7cab",
   "metadata": {},
   "outputs": [],
   "source": [
    "lr = 0.001\n",
    "weight_decay = 0.0\n",
    "\n",
    "model.to(device)\n",
    "optimizer = (\n",
    "    model.make_default_optimizer()\n",
    "    if isinstance(model, FTTransformer)\n",
    "    else torch.optim.AdamW(model.parameters(), lr=lr, weight_decay=weight_decay)\n",
    ")\n",
    "\n",
    "# Custom declaration for multiclass models\n",
    "# Class weights for imbalanced learning (see above)\n",
    "loss_fn = nn.CrossEntropyLoss(weight=class_weights)\n",
    "\n",
    "# loss_fn = (\n",
    "#     F.binary_cross_entropy_with_logits\n",
    "#     if task_type == 'binclass'\n",
    "#     else F.cross_entropy\n",
    "#     if task_type == 'multiclass'\n",
    "#     else F.mse_loss\n",
    "# )"
   ]
  },
  {
   "cell_type": "code",
   "execution_count": 11,
   "id": "98c424a5",
   "metadata": {},
   "outputs": [
    {
     "name": "stderr",
     "output_type": "stream",
     "text": [
      "Failed to detect the name of this notebook, you can set it manually with the WANDB_NOTEBOOK_NAME environment variable to enable code saving.\n",
      "\u001b[34m\u001b[1mwandb\u001b[0m: Currently logged in as: \u001b[33mjujub\u001b[0m (use `wandb login --relogin` to force relogin)\n"
     ]
    },
    {
     "data": {
      "text/html": [
       "wandb version 0.12.17 is available!  To upgrade, please run:\n",
       " $ pip install wandb --upgrade"
      ],
      "text/plain": [
       "<IPython.core.display.HTML object>"
      ]
     },
     "metadata": {},
     "output_type": "display_data"
    },
    {
     "data": {
      "text/html": [
       "Tracking run with wandb version 0.12.15"
      ],
      "text/plain": [
       "<IPython.core.display.HTML object>"
      ]
     },
     "metadata": {},
     "output_type": "display_data"
    },
    {
     "data": {
      "text/html": [
       "Run data is saved locally in <code>/home/botu/Dev/aichallenge-2022/notebooks/fede/wandb/run-20220609_011032-rz3tq35g</code>"
      ],
      "text/plain": [
       "<IPython.core.display.HTML object>"
      ]
     },
     "metadata": {},
     "output_type": "display_data"
    },
    {
     "data": {
      "text/html": [
       "Syncing run <strong><a href=\"https://wandb.ai/jujub/FTTransformer/runs/rz3tq35g\" target=\"_blank\">dutiful-night-7</a></strong> to <a href=\"https://wandb.ai/jujub/FTTransformer\" target=\"_blank\">Weights & Biases</a> (<a href=\"https://wandb.me/run\" target=\"_blank\">docs</a>)<br/>"
      ],
      "text/plain": [
       "<IPython.core.display.HTML object>"
      ]
     },
     "metadata": {},
     "output_type": "display_data"
    }
   ],
   "source": [
    "\n",
    "\n",
    "def train_log(target, prediction, epoch=0):\n",
    "    f1_macro = sklearn.metrics.f1_score(target, prediction, average='macro')\n",
    "    f1_weighted = sklearn.metrics.f1_score(target, prediction, average='weighted')\n",
    "    accuracy = sklearn.metrics.accuracy_score(target, prediction)\n",
    "    wandb.log({\"epoch\": epoch, \"f1_macro\": f1_macro, \"f1_weighted\":f1_weighted, 'accuracy':accuracy})\n"
   ]
  },
  {
   "cell_type": "code",
   "execution_count": 12,
   "id": "22d2c519",
   "metadata": {},
   "outputs": [
    {
     "name": "stdout",
     "output_type": "stream",
     "text": [
      "Test score before training: 0.0590\n"
     ]
    }
   ],
   "source": [
    "def apply_model(x_num, model=model, x_cat=None):\n",
    "    if isinstance(model, FTTransformer):\n",
    "        return model(x_num, x_cat)\n",
    "    elif isinstance(model, (MLP, ResNet)):\n",
    "        assert x_cat is None\n",
    "        return model(x_num)\n",
    "    else:\n",
    "        raise NotImplementedError(\n",
    "            f'Looks like you are using a custom model: {type(model)}.'\n",
    "            ' Then you have to implement this branch first.'\n",
    "        )\n",
    "\n",
    "# Only log Wandb validation\n",
    "@torch.no_grad()\n",
    "def evaluate(part, batch_size_eval=32, log_wandb=True, epoch=0): \n",
    "    model.eval()\n",
    "    prediction = []\n",
    "    for batch in zero.iter_batches(X[part], batch_size_eval):\n",
    "        prediction.append(apply_model(batch.float()).cpu())\n",
    "    prediction = torch.cat(prediction).squeeze(1).cpu().numpy()\n",
    "    target = y[part].cpu().numpy()\n",
    "\n",
    "    if task_type == 'binclass':\n",
    "        prediction = np.round(scipy.special.expit(prediction))\n",
    "        score = sklearn.metrics.accuracy_score(target, prediction)\n",
    "    elif task_type == 'multiclass':\n",
    "        prediction = prediction.argmax(1)\n",
    "        score = sklearn.metrics.f1_score(target, prediction, average='macro') # NOTE: changed to macro F1\n",
    "        # score = sklearn.metrics.accuracy_score(target, prediction)\n",
    "\n",
    "        # Wandb Logging\n",
    "        if part == 'val' and log_wandb:\n",
    "            train_log(target, prediction, epoch=epoch)\n",
    "    else:\n",
    "        assert task_type == 'regression'\n",
    "        score = sklearn.metrics.mean_squared_error(target, prediction) ** 0.5 * y_std\n",
    "    return score\n",
    "\n",
    "\n",
    "# Create a dataloader for batches of indices\n",
    "# Docs: https://yura52.github.io/zero/reference/api/zero.data.IndexLoader.html\n",
    "batch_size = 128\n",
    "train_loader = zero.data.IndexLoader(len(X['train']), batch_size, device=device)\n",
    "\n",
    "# Create a progress tracker for early stopping\n",
    "# Docs: https://yura52.github.io/zero/reference/api/zero.ProgressTracker.html\n",
    "progress = zero.ProgressTracker(patience=100)\n",
    "\n",
    "print(f'Test score before training: {evaluate(\"test\", log_wandb=False):.4f}')"
   ]
  },
  {
   "cell_type": "code",
   "execution_count": 13,
   "id": "c7a77e35",
   "metadata": {},
   "outputs": [
    {
     "name": "stdout",
     "output_type": "stream",
     "text": [
      "(epoch) 1 (batch) 0 (loss) 1.7480\n",
      "(epoch) 1 (batch) 42 (loss) 1.4144\n",
      "(epoch) 1 (batch) 84 (loss) 1.4489\n",
      "(epoch) 1 (batch) 126 (loss) 1.2304\n",
      "(epoch) 1 (batch) 168 (loss) 1.2625\n",
      "Epoch 001 | Validation score: 0.3558 | Test score: 0.3558 <<< BEST VALIDATION EPOCH\n",
      "(epoch) 2 (batch) 0 (loss) 1.2611\n",
      "(epoch) 2 (batch) 42 (loss) 1.2375\n",
      "(epoch) 2 (batch) 84 (loss) 1.3433\n",
      "(epoch) 2 (batch) 126 (loss) 1.1342\n",
      "(epoch) 2 (batch) 168 (loss) 1.1792\n",
      "Epoch 002 | Validation score: 0.3877 | Test score: 0.3877 <<< BEST VALIDATION EPOCH\n",
      "(epoch) 3 (batch) 0 (loss) 1.2338\n",
      "(epoch) 3 (batch) 42 (loss) 1.1866\n",
      "(epoch) 3 (batch) 84 (loss) 1.1172\n",
      "(epoch) 3 (batch) 126 (loss) 1.0806\n",
      "(epoch) 3 (batch) 168 (loss) 1.0989\n",
      "Epoch 003 | Validation score: 0.4292 | Test score: 0.4292 <<< BEST VALIDATION EPOCH\n",
      "(epoch) 4 (batch) 0 (loss) 1.0886\n",
      "(epoch) 4 (batch) 42 (loss) 1.2056\n",
      "(epoch) 4 (batch) 84 (loss) 1.0972\n",
      "(epoch) 4 (batch) 126 (loss) 1.0208\n",
      "(epoch) 4 (batch) 168 (loss) 1.0191\n",
      "Epoch 004 | Validation score: 0.4724 | Test score: 0.4724 <<< BEST VALIDATION EPOCH\n",
      "(epoch) 5 (batch) 0 (loss) 1.0125\n",
      "(epoch) 5 (batch) 42 (loss) 1.1661\n",
      "(epoch) 5 (batch) 84 (loss) 1.0244\n",
      "(epoch) 5 (batch) 126 (loss) 1.0047\n",
      "(epoch) 5 (batch) 168 (loss) 0.9820\n",
      "Epoch 005 | Validation score: 0.5052 | Test score: 0.5052 <<< BEST VALIDATION EPOCH\n",
      "(epoch) 6 (batch) 0 (loss) 1.0160\n",
      "(epoch) 6 (batch) 42 (loss) 1.1314\n",
      "(epoch) 6 (batch) 84 (loss) 0.9597\n",
      "(epoch) 6 (batch) 126 (loss) 0.9166\n",
      "(epoch) 6 (batch) 168 (loss) 0.9380\n",
      "Epoch 006 | Validation score: 0.5421 | Test score: 0.5421 <<< BEST VALIDATION EPOCH\n",
      "(epoch) 7 (batch) 0 (loss) 0.9693\n",
      "(epoch) 7 (batch) 42 (loss) 1.0928\n",
      "(epoch) 7 (batch) 84 (loss) 0.9515\n",
      "(epoch) 7 (batch) 126 (loss) 0.9110\n",
      "(epoch) 7 (batch) 168 (loss) 0.8804\n",
      "Epoch 007 | Validation score: 0.5688 | Test score: 0.5688 <<< BEST VALIDATION EPOCH\n",
      "(epoch) 8 (batch) 0 (loss) 0.9488\n",
      "(epoch) 8 (batch) 42 (loss) 0.9609\n",
      "(epoch) 8 (batch) 84 (loss) 0.8936\n",
      "(epoch) 8 (batch) 126 (loss) 0.8547\n",
      "(epoch) 8 (batch) 168 (loss) 0.8180\n",
      "Epoch 008 | Validation score: 0.5896 | Test score: 0.5896 <<< BEST VALIDATION EPOCH\n",
      "(epoch) 9 (batch) 0 (loss) 0.9603\n",
      "(epoch) 9 (batch) 42 (loss) 1.0084\n",
      "(epoch) 9 (batch) 84 (loss) 0.9372\n",
      "(epoch) 9 (batch) 126 (loss) 0.7642\n",
      "(epoch) 9 (batch) 168 (loss) 0.7818\n",
      "Epoch 009 | Validation score: 0.6055 | Test score: 0.6055 <<< BEST VALIDATION EPOCH\n",
      "(epoch) 10 (batch) 0 (loss) 0.8191\n",
      "(epoch) 10 (batch) 42 (loss) 1.0028\n",
      "(epoch) 10 (batch) 84 (loss) 0.9608\n",
      "(epoch) 10 (batch) 126 (loss) 0.7062\n",
      "(epoch) 10 (batch) 168 (loss) 0.7600\n",
      "Epoch 010 | Validation score: 0.6095 | Test score: 0.6095 <<< BEST VALIDATION EPOCH\n",
      "(epoch) 11 (batch) 0 (loss) 0.8284\n",
      "(epoch) 11 (batch) 42 (loss) 1.0935\n",
      "(epoch) 11 (batch) 84 (loss) 0.8700\n",
      "(epoch) 11 (batch) 126 (loss) 0.6589\n",
      "(epoch) 11 (batch) 168 (loss) 0.6987\n",
      "Epoch 011 | Validation score: 0.6287 | Test score: 0.6287 <<< BEST VALIDATION EPOCH\n",
      "(epoch) 12 (batch) 0 (loss) 0.7751\n",
      "(epoch) 12 (batch) 42 (loss) 0.9486\n",
      "(epoch) 12 (batch) 84 (loss) 0.7675\n",
      "(epoch) 12 (batch) 126 (loss) 0.7681\n",
      "(epoch) 12 (batch) 168 (loss) 0.7586\n",
      "Epoch 012 | Validation score: 0.6409 | Test score: 0.6409 <<< BEST VALIDATION EPOCH\n",
      "(epoch) 13 (batch) 0 (loss) 0.7539\n",
      "(epoch) 13 (batch) 42 (loss) 0.9384\n"
     ]
    },
    {
     "ename": "KeyboardInterrupt",
     "evalue": "",
     "output_type": "error",
     "traceback": [
      "\u001b[0;31m---------------------------------------------------------------------------\u001b[0m",
      "\u001b[0;31mKeyboardInterrupt\u001b[0m                         Traceback (most recent call last)",
      "\u001b[1;32m/home/botu/Dev/aichallenge-2022/notebooks/fede/2 Training Deep Learning.ipynb Cell 20'\u001b[0m in \u001b[0;36m<module>\u001b[0;34m\u001b[0m\n\u001b[1;32m     <a href='vscode-notebook-cell:/home/botu/Dev/aichallenge-2022/notebooks/fede/2%20Training%20Deep%20Learning.ipynb#ch0000026?line=10'>11</a>\u001b[0m     optimizer\u001b[39m.\u001b[39mstep()\n\u001b[1;32m     <a href='vscode-notebook-cell:/home/botu/Dev/aichallenge-2022/notebooks/fede/2%20Training%20Deep%20Learning.ipynb#ch0000026?line=11'>12</a>\u001b[0m     \u001b[39mif\u001b[39;00m iteration \u001b[39m%\u001b[39m report_frequency \u001b[39m==\u001b[39m \u001b[39m0\u001b[39m:\n\u001b[0;32m---> <a href='vscode-notebook-cell:/home/botu/Dev/aichallenge-2022/notebooks/fede/2%20Training%20Deep%20Learning.ipynb#ch0000026?line=12'>13</a>\u001b[0m         \u001b[39mprint\u001b[39m(\u001b[39mf\u001b[39m\u001b[39m'\u001b[39m\u001b[39m(epoch) \u001b[39m\u001b[39m{\u001b[39;00mepoch\u001b[39m}\u001b[39;00m\u001b[39m (batch) \u001b[39m\u001b[39m{\u001b[39;00miteration\u001b[39m}\u001b[39;00m\u001b[39m (loss) \u001b[39m\u001b[39m{\u001b[39;00mloss\u001b[39m.\u001b[39mitem()\u001b[39m:\u001b[39;00m\u001b[39m.4f\u001b[39m\u001b[39m}\u001b[39;00m\u001b[39m'\u001b[39m)\n\u001b[1;32m     <a href='vscode-notebook-cell:/home/botu/Dev/aichallenge-2022/notebooks/fede/2%20Training%20Deep%20Learning.ipynb#ch0000026?line=14'>15</a>\u001b[0m val_score \u001b[39m=\u001b[39m evaluate(\u001b[39m'\u001b[39m\u001b[39mval\u001b[39m\u001b[39m'\u001b[39m, epoch\u001b[39m=\u001b[39mepoch)\n\u001b[1;32m     <a href='vscode-notebook-cell:/home/botu/Dev/aichallenge-2022/notebooks/fede/2%20Training%20Deep%20Learning.ipynb#ch0000026?line=15'>16</a>\u001b[0m test_score \u001b[39m=\u001b[39m evaluate(\u001b[39m'\u001b[39m\u001b[39mtest\u001b[39m\u001b[39m'\u001b[39m, epoch\u001b[39m=\u001b[39mepoch)\n",
      "\u001b[0;31mKeyboardInterrupt\u001b[0m: "
     ]
    }
   ],
   "source": [
    "n_epochs = 1000\n",
    "report_frequency = len(X['train']) // batch_size // 5\n",
    "for epoch in range(1, n_epochs + 1):\n",
    "    for iteration, batch_idx in enumerate(train_loader):\n",
    "        model.train()\n",
    "        optimizer.zero_grad()\n",
    "        x_batch = X['train'][batch_idx]\n",
    "        y_batch = y['train'][batch_idx]\n",
    "        loss = loss_fn(apply_model(x_batch).squeeze(1), y_batch) # NOTE: move to double\n",
    "        loss.backward()\n",
    "        optimizer.step()\n",
    "        if iteration % report_frequency == 0:\n",
    "            print(f'(epoch) {epoch} (batch) {iteration} (loss) {loss.item():.4f}')\n",
    "\n",
    "    val_score = evaluate('val', epoch=epoch)\n",
    "    test_score = evaluate('test', epoch=epoch)\n",
    "    print(f'Epoch {epoch:03d} | Validation score: {val_score:.4f} | Test score: {test_score:.4f}', end='')\n",
    "    progress.update((-1 if task_type == 'regression' else 1) * val_score)\n",
    "    if progress.success:\n",
    "        print(' <<< BEST VALIDATION EPOCH', end='')\n",
    "        torch.save(model.state_dict(), os.path.join(SAVE_DIR, 'best.pt')) # best checkpoint\n",
    "    print()\n",
    "    if progress.fail:\n",
    "        break\n",
    "    torch.save(model.state_dict(), os.path.join(SAVE_DIR, 'last.pt')) # last checkpoint"
   ]
  },
  {
   "cell_type": "markdown",
   "id": "f17cb366",
   "metadata": {},
   "source": [
    "# Prediction"
   ]
  },
  {
   "cell_type": "code",
   "execution_count": null,
   "id": "1c7ebe7d",
   "metadata": {},
   "outputs": [],
   "source": [
    "def get_predictions(model=model, batch_size_eval=32):\n",
    "    with torch.no_grad():\n",
    "        model.eval()\n",
    "        prediction = []\n",
    "        for batch in zero.iter_batches(X['test'], batch_size_eval):\n",
    "            prediction.append(apply_model(batch.float(), model=model).cpu())\n",
    "        pred_y = torch.cat(prediction).squeeze(1).cpu().numpy()\n",
    "        pred_y = pred_y.argmax(1)\n",
    "    return pred_y\n",
    "\n",
    "\n",
    "pred_y = get_predictions()"
   ]
  },
  {
   "cell_type": "markdown",
   "id": "08ace8ce",
   "metadata": {},
   "source": [
    "# Metrics evaluation\n",
    "\n",
    "We need to get a few metrics right"
   ]
  },
  {
   "cell_type": "code",
   "execution_count": null,
   "id": "2dd9066c",
   "metadata": {},
   "outputs": [],
   "source": [
    "encoding_to_label = {v: k for k, v in LABEL_ENCODING.items()}\n",
    "labels = [key for key in LABEL_ENCODING.keys()]\n"
   ]
  },
  {
   "cell_type": "code",
   "execution_count": null,
   "id": "52816103",
   "metadata": {},
   "outputs": [
    {
     "name": "stdout",
     "output_type": "stream",
     "text": [
      "F1 score : 0.725\n"
     ]
    },
    {
     "data": {
      "text/html": [
       "<style type=\"text/css\">\n",
       "#T_28c47_row0_col0, #T_28c47_row1_col1 {\n",
       "  background-color: #67cc5c;\n",
       "  color: #000000;\n",
       "}\n",
       "#T_28c47_row0_col1 {\n",
       "  background-color: #25ac82;\n",
       "  color: #f1f1f1;\n",
       "}\n",
       "#T_28c47_row0_col2 {\n",
       "  background-color: #44bf70;\n",
       "  color: #f1f1f1;\n",
       "}\n",
       "#T_28c47_row1_col0 {\n",
       "  background-color: #28ae80;\n",
       "  color: #f1f1f1;\n",
       "}\n",
       "#T_28c47_row1_col2 {\n",
       "  background-color: #3bbb75;\n",
       "  color: #f1f1f1;\n",
       "}\n",
       "#T_28c47_row2_col0, #T_28c47_row2_col1, #T_28c47_row2_col2 {\n",
       "  background-color: #fde725;\n",
       "  color: #000000;\n",
       "}\n",
       "#T_28c47_row3_col0 {\n",
       "  background-color: #46085c;\n",
       "  color: #f1f1f1;\n",
       "}\n",
       "#T_28c47_row3_col1, #T_28c47_row3_col2, #T_28c47_row4_col0 {\n",
       "  background-color: #440154;\n",
       "  color: #f1f1f1;\n",
       "}\n",
       "#T_28c47_row4_col1 {\n",
       "  background-color: #433d84;\n",
       "  color: #f1f1f1;\n",
       "}\n",
       "#T_28c47_row4_col2 {\n",
       "  background-color: #470e61;\n",
       "  color: #f1f1f1;\n",
       "}\n",
       "</style>\n",
       "<table id=\"T_28c47\">\n",
       "  <thead>\n",
       "    <tr>\n",
       "      <th class=\"blank level0\" >&nbsp;</th>\n",
       "      <th id=\"T_28c47_level0_col0\" class=\"col_heading level0 col0\" >precision</th>\n",
       "      <th id=\"T_28c47_level0_col1\" class=\"col_heading level0 col1\" >recall</th>\n",
       "      <th id=\"T_28c47_level0_col2\" class=\"col_heading level0 col2\" >f1-score</th>\n",
       "      <th id=\"T_28c47_level0_col3\" class=\"col_heading level0 col3\" >support</th>\n",
       "    </tr>\n",
       "  </thead>\n",
       "  <tbody>\n",
       "    <tr>\n",
       "      <th id=\"T_28c47_level0_row0\" class=\"row_heading level0 row0\" >0</th>\n",
       "      <td id=\"T_28c47_row0_col0\" class=\"data row0 col0\" >0.860071</td>\n",
       "      <td id=\"T_28c47_row0_col1\" class=\"data row0 col1\" >0.796988</td>\n",
       "      <td id=\"T_28c47_row0_col2\" class=\"data row0 col2\" >0.827328</td>\n",
       "      <td id=\"T_28c47_row0_col3\" class=\"data row0 col3\" >1527</td>\n",
       "    </tr>\n",
       "    <tr>\n",
       "      <th id=\"T_28c47_level0_row1\" class=\"row_heading level0 row1\" >1</th>\n",
       "      <td id=\"T_28c47_row1_col0\" class=\"data row1 col0\" >0.782394</td>\n",
       "      <td id=\"T_28c47_row1_col1\" class=\"data row1 col1\" >0.856988</td>\n",
       "      <td id=\"T_28c47_row1_col2\" class=\"data row1 col2\" >0.817994</td>\n",
       "      <td id=\"T_28c47_row1_col3\" class=\"data row1 col3\" >923</td>\n",
       "    </tr>\n",
       "    <tr>\n",
       "      <th id=\"T_28c47_level0_row2\" class=\"row_heading level0 row2\" >2</th>\n",
       "      <td id=\"T_28c47_row2_col0\" class=\"data row2 col0\" >0.989100</td>\n",
       "      <td id=\"T_28c47_row2_col1\" class=\"data row2 col1\" >0.948031</td>\n",
       "      <td id=\"T_28c47_row2_col2\" class=\"data row2 col2\" >0.968130</td>\n",
       "      <td id=\"T_28c47_row2_col3\" class=\"data row2 col3\" >3733</td>\n",
       "    </tr>\n",
       "    <tr>\n",
       "      <th id=\"T_28c47_level0_row3\" class=\"row_heading level0 row3\" >3</th>\n",
       "      <td id=\"T_28c47_row3_col0\" class=\"data row3 col0\" >0.447154</td>\n",
       "      <td id=\"T_28c47_row3_col1\" class=\"data row3 col1\" >0.557432</td>\n",
       "      <td id=\"T_28c47_row3_col2\" class=\"data row3 col2\" >0.496241</td>\n",
       "      <td id=\"T_28c47_row3_col3\" class=\"data row3 col3\" >296</td>\n",
       "    </tr>\n",
       "    <tr>\n",
       "      <th id=\"T_28c47_level0_row4\" class=\"row_heading level0 row4\" >4</th>\n",
       "      <td id=\"T_28c47_row4_col0\" class=\"data row4 col0\" >0.435159</td>\n",
       "      <td id=\"T_28c47_row4_col1\" class=\"data row4 col1\" >0.626556</td>\n",
       "      <td id=\"T_28c47_row4_col2\" class=\"data row4 col2\" >0.513605</td>\n",
       "      <td id=\"T_28c47_row4_col3\" class=\"data row4 col3\" >241</td>\n",
       "    </tr>\n",
       "    <tr>\n",
       "      <th id=\"T_28c47_level0_row5\" class=\"row_heading level0 row5\" >accuracy</th>\n",
       "      <td id=\"T_28c47_row5_col0\" class=\"data row5 col0\" >0.872470</td>\n",
       "      <td id=\"T_28c47_row5_col1\" class=\"data row5 col1\" >0.872470</td>\n",
       "      <td id=\"T_28c47_row5_col2\" class=\"data row5 col2\" >0.872470</td>\n",
       "      <td id=\"T_28c47_row5_col3\" class=\"data row5 col3\" >0</td>\n",
       "    </tr>\n",
       "    <tr>\n",
       "      <th id=\"T_28c47_level0_row6\" class=\"row_heading level0 row6\" >macro avg</th>\n",
       "      <td id=\"T_28c47_row6_col0\" class=\"data row6 col0\" >0.702775</td>\n",
       "      <td id=\"T_28c47_row6_col1\" class=\"data row6 col1\" >0.757199</td>\n",
       "      <td id=\"T_28c47_row6_col2\" class=\"data row6 col2\" >0.724660</td>\n",
       "      <td id=\"T_28c47_row6_col3\" class=\"data row6 col3\" >6720</td>\n",
       "    </tr>\n",
       "    <tr>\n",
       "      <th id=\"T_28c47_level0_row7\" class=\"row_heading level0 row7\" >weighted avg</th>\n",
       "      <td id=\"T_28c47_row7_col0\" class=\"data row7 col0\" >0.887652</td>\n",
       "      <td id=\"T_28c47_row7_col1\" class=\"data row7 col1\" >0.872470</td>\n",
       "      <td id=\"T_28c47_row7_col2\" class=\"data row7 col2\" >0.878428</td>\n",
       "      <td id=\"T_28c47_row7_col3\" class=\"data row7 col3\" >6720</td>\n",
       "    </tr>\n",
       "  </tbody>\n",
       "</table>\n"
      ],
      "text/plain": [
       "<pandas.io.formats.style.Styler at 0x7f23143fb4f0>"
      ]
     },
     "execution_count": 32,
     "metadata": {},
     "output_type": "execute_result"
    },
    {
     "data": {
      "image/png": "[encoded data removed]",
      "text/plain": [
       "<Figure size 432x288 with 1 Axes>"
      ]
     },
     "metadata": {},
     "output_type": "display_data"
    }
   ],
   "source": [
    "model_name, y_hat = 'FTTransformer', pred_y\n",
    "\n",
    "plot_confusion_matrix(test_y, y_hat, labels,  f'Confusion Matrix {model_name}')\n",
    "print('F1 score : {:.3f}'.format(f1_score(test_y, y_hat, average='macro')))\n",
    "pretty_classification_report(test_y, y_hat)"
   ]
  },
  {
   "cell_type": "markdown",
   "id": "7e887b1a",
   "metadata": {},
   "source": [
    "## Actual test for submission"
   ]
  },
  {
   "cell_type": "code",
   "execution_count": null,
   "id": "d1320301",
   "metadata": {},
   "outputs": [],
   "source": [
    "# Setup\n",
    "model = clf # change with the name of your model\n",
    "LABEL_DECODING = {y:x for x,y in LABEL_ENCODING.items()}\n",
    "RESULTS_PATH = '.'\n",
    "DATA_DIR = '../../data/01_split'\n",
    "SAMPLE_DIR = '../../data/sample_submission.csv'\n",
    "\n",
    "\n",
    "test_df = pd.read_csv(os.path.join(DATA_DIR,'test.csv'))\n",
    "test_X = test_df.loc[:,test_df.columns!='id']\n",
    "test_ids = test_df['id']\n",
    "\n",
    "\n",
    "# Make predictions\n",
    "sample_df = pd.read_csv(SAMPLE_DIR)\n",
    "sorter = list(sample_df['id'])\n",
    "\n",
    "y_pred = model.predict(test_X)\n",
    "y_pred_df = pd.DataFrame(y_pred, columns=['leaktype'])\n",
    "y_pred_df['leaktype'] = y_pred_df['leaktype'].replace(LABEL_DECODING)\n",
    "pred_df = pd.concat([test_ids, y_pred_df],axis=1)\n",
    "\n",
    "# sort predictions\n",
    "resdf = pred_df.set_index('id')\n",
    "result = resdf.loc[sorter].reset_index()\n",
    "resultpath = os.path.join(RESULTS_PATH, 'predictions.csv')\n",
    "result.to_csv(resultpath, index=False)"
   ]
  },
  {
   "cell_type": "markdown",
   "id": "afe0167a",
   "metadata": {},
   "source": [
    "____"
   ]
  },
  {
   "cell_type": "markdown",
   "id": "6bfa22c4",
   "metadata": {},
   "source": [
    "# Other"
   ]
  },
  {
   "cell_type": "code",
   "execution_count": null,
   "id": "c7cc0a50",
   "metadata": {},
   "outputs": [],
   "source": [
    "# Model saving\n",
    "# torch.save(model.state_dict(), os.path.join(SAVE_DIR, 'last.pt'))\n",
    "\n",
    "\n",
    "\n",
    "# Model loading\n",
    "model2_dict = torch.load(os.path.join(SAVE_DIR, 'last.pt'))\n",
    "\n",
    "\n",
    "model_config = load_yaml('soff.yaml')\n",
    "\n",
    "model2 = FTTransformer.make_default(**model_config)\n",
    "model2.load_state_dict(model2_dict)\n",
    "model2.eval()"
   ]
  }
 ],
 "metadata": {
  "interpreter": {
   "hash": "8a94588eda9d64d9e9a351ab8144e55b1fabf5113b54e67dd26a8c27df0381b3"
  },
  "kernelspec": {
   "display_name": "Python 3.10.4 64-bit",
   "language": "python",
   "name": "python3"
  },
  "language_info": {
   "codemirror_mode": {
    "name": "ipython",
    "version": 3
   },
   "file_extension": ".py",
   "mimetype": "text/x-python",
   "name": "python",
   "nbconvert_exporter": "python",
   "pygments_lexer": "ipython3",
   "version": "3.10.4"
  },
  "toc": {
   "base_numbering": 1,
   "nav_menu": {},
   "number_sections": true,
   "sideBar": true,
   "skip_h1_title": false,
   "title_cell": "Table of Contents",
   "title_sidebar": "Contents",
   "toc_cell": false,
   "toc_position": {
    "height": "calc(100% - 180px)",
    "left": "10px",
    "top": "150px",
    "width": "341.333px"
   },
   "toc_section_display": true,
   "toc_window_display": true
  },
  "vscode": {
   "interpreter": {
    "hash": "31f2aee4e71d21fbe5cf8b01ff0e069b9275f58929596ceb00d14d90e3e16cd6"
   }
  }
 },
 "nbformat": 4,
 "nbformat_minor": 5
}
