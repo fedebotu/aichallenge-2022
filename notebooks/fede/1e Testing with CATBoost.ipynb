{
 "cells": [
  {
   "cell_type": "markdown",
   "id": "2ab523fa",
   "metadata": {},
   "source": [
    "# Testing with CATBoost"
   ]
  },
  {
   "cell_type": "code",
   "execution_count": 1,
   "id": "e11a61f6",
   "metadata": {},
   "outputs": [],
   "source": [
    "%load_ext autoreload\n",
    "%autoreload 2\n",
    "\n",
    "import pandas as pd\n",
    "import os\n",
    "import matplotlib.pyplot as plt\n",
    "import seaborn as sns\n",
    "from sklearn.metrics import f1_score\n",
    "sns.set_theme()\n",
    "\n",
    "\n",
    "import sys; sys.path.append(\"../../\")\n",
    "from modules.utils import load_yaml\n",
    "from modules.evaluation import pretty_classification_report, plot_confusion_matrix"
   ]
  },
  {
   "cell_type": "markdown",
   "id": "c1053083",
   "metadata": {},
   "source": [
    "# Read Data\n",
    "\n",
    "Note: in the submission, we cannot use `test.csv`. This has no labels and it is for submission only. So we need to use validation data as the test\n",
    "\n",
    "--> This should be OK since the data size seems large enough"
   ]
  },
  {
   "cell_type": "code",
   "execution_count": 2,
   "id": "eec6863c",
   "metadata": {},
   "outputs": [
    {
     "name": "stdout",
     "output_type": "stream",
     "text": [
      "../../config/train_config.yaml\n"
     ]
    }
   ],
   "source": [
    "TRAIN_CONFIG_PATH = '../../config/train_config.yaml'\n",
    "DATA_PATH = '../../data/01_split/'\n",
    "\n",
    "config = load_yaml(TRAIN_CONFIG_PATH)\n",
    "LABEL_ENCODING = config['LABEL_ENCODING']\n",
    "\n",
    "train_df = pd.read_csv(os.path.join(DATA_PATH, 'train.csv'))\n",
    "valid_df = pd.read_csv(os.path.join(DATA_PATH, 'valid.csv'))"
   ]
  },
  {
   "cell_type": "markdown",
   "id": "fee75e53",
   "metadata": {},
   "source": [
    "## Split into train and test\n",
    "\n",
    "As said, we will use val and test as the same "
   ]
  },
  {
   "cell_type": "code",
   "execution_count": 3,
   "id": "4108511c",
   "metadata": {},
   "outputs": [],
   "source": [
    "train_X, train_y = train_df.loc[:,train_df.columns!='leaktype'], train_df['leaktype']\n",
    "valid_X, valid_y = valid_df.loc[:,train_df.columns!='leaktype'], valid_df['leaktype']\n",
    "\n",
    "train_y = train_y.replace(LABEL_ENCODING)\n",
    "valid_y = valid_y.replace(LABEL_ENCODING)\n",
    "\n",
    "# Same testing and validation\n",
    "test_X, test_y = valid_X, valid_y"
   ]
  },
  {
   "cell_type": "markdown",
   "id": "a31eea01",
   "metadata": {},
   "source": [
    "## Imbalanced learning\n",
    "\n",
    "We should attempt something for the data imbalance: better check this out\n",
    "\n",
    "NOTE: this simple trick seems to be working!"
   ]
  },
  {
   "cell_type": "code",
   "execution_count": 4,
   "id": "9bb44a99",
   "metadata": {},
   "outputs": [],
   "source": [
    "from sklearn.utils.class_weight import compute_class_weight\n",
    "import numpy as np\n",
    "\n",
    "class_weights = compute_class_weight(class_weight='balanced', classes=np.arange(5), y=train_y)"
   ]
  },
  {
   "cell_type": "markdown",
   "id": "1288c9cd",
   "metadata": {},
   "source": [
    "# Train Model\n",
    "\n",
    "<!-- Tricks: we can use custom parameters to maximize the F1 score -->"
   ]
  },
  {
   "cell_type": "code",
   "execution_count": 5,
   "id": "679aafca",
   "metadata": {},
   "outputs": [
    {
     "name": "stdout",
     "output_type": "stream",
     "text": [
      "Learning rate set to 0.039596\n",
      "0:\tlearn: 0.6259693\ttest: 0.6270063\tbest: 0.6270063 (0)\ttotal: 17.1ms\tremaining: 5m 42s\n",
      "200:\tlearn: 0.7715344\ttest: 0.7586133\tbest: 0.7586133 (200)\ttotal: 2.32s\tremaining: 3m 48s\n",
      "400:\tlearn: 0.8277153\ttest: 0.8076356\tbest: 0.8076356 (400)\ttotal: 4.37s\tremaining: 3m 33s\n",
      "600:\tlearn: 0.8537361\ttest: 0.8282362\tbest: 0.8298969 (593)\ttotal: 6.39s\tremaining: 3m 26s\n",
      "800:\tlearn: 0.8730127\ttest: 0.8457084\tbest: 0.8457084 (800)\ttotal: 8.35s\tremaining: 3m 20s\n",
      "1000:\tlearn: 0.8885005\ttest: 0.8557936\tbest: 0.8563476 (988)\ttotal: 10.3s\tremaining: 3m 14s\n",
      "1200:\tlearn: 0.8990173\ttest: 0.8646178\tbest: 0.8648024 (1178)\ttotal: 12.2s\tremaining: 3m 10s\n",
      "1400:\tlearn: 0.9076774\ttest: 0.8697647\tbest: 0.8700643 (1331)\ttotal: 14.2s\tremaining: 3m 8s\n",
      "1600:\tlearn: 0.9155874\ttest: 0.8750532\tbest: 0.8752236 (1574)\ttotal: 16.1s\tremaining: 3m 4s\n",
      "1800:\tlearn: 0.9227451\ttest: 0.8814147\tbest: 0.8815694 (1794)\ttotal: 18s\tremaining: 3m 1s\n",
      "2000:\tlearn: 0.9278985\ttest: 0.8839147\tbest: 0.8844215 (1985)\ttotal: 19.9s\tremaining: 2m 58s\n",
      "2200:\tlearn: 0.9330311\ttest: 0.8883371\tbest: 0.8886980 (2199)\ttotal: 21.8s\tremaining: 2m 56s\n",
      "2400:\tlearn: 0.9376788\ttest: 0.8919454\tbest: 0.8919916 (2391)\ttotal: 23.7s\tremaining: 2m 53s\n",
      "2600:\tlearn: 0.9434019\ttest: 0.8958876\tbest: 0.8963630 (2588)\ttotal: 25.6s\tremaining: 2m 51s\n",
      "2800:\tlearn: 0.9466106\ttest: 0.8979222\tbest: 0.8982683 (2794)\ttotal: 27.5s\tremaining: 2m 48s\n",
      "3000:\tlearn: 0.9494820\ttest: 0.9003306\tbest: 0.9004711 (2987)\ttotal: 29.4s\tremaining: 2m 46s\n",
      "3200:\tlearn: 0.9527683\ttest: 0.9030704\tbest: 0.9034140 (3181)\ttotal: 31.4s\tremaining: 2m 44s\n",
      "3400:\tlearn: 0.9560712\ttest: 0.9065307\tbest: 0.9065755 (3393)\ttotal: 33.3s\tremaining: 2m 42s\n",
      "3600:\tlearn: 0.9585346\ttest: 0.9083539\tbest: 0.9085476 (3598)\ttotal: 35.2s\tremaining: 2m 40s\n",
      "3800:\tlearn: 0.9611965\ttest: 0.9092355\tbest: 0.9095285 (3792)\ttotal: 37.2s\tremaining: 2m 38s\n",
      "4000:\tlearn: 0.9633987\ttest: 0.9095754\tbest: 0.9100091 (3937)\ttotal: 39.2s\tremaining: 2m 36s\n",
      "4200:\tlearn: 0.9657302\ttest: 0.9104312\tbest: 0.9111671 (4078)\ttotal: 41.1s\tremaining: 2m 34s\n",
      "4400:\tlearn: 0.9677378\ttest: 0.9112148\tbest: 0.9122035 (4318)\ttotal: 43.1s\tremaining: 2m 32s\n",
      "4600:\tlearn: 0.9699378\ttest: 0.9120774\tbest: 0.9122035 (4318)\ttotal: 45s\tremaining: 2m 30s\n",
      "4800:\tlearn: 0.9717847\ttest: 0.9132578\tbest: 0.9135827 (4780)\ttotal: 47s\tremaining: 2m 28s\n",
      "5000:\tlearn: 0.9734964\ttest: 0.9148444\tbest: 0.9151957 (4964)\ttotal: 49s\tremaining: 2m 26s\n",
      "5200:\tlearn: 0.9748057\ttest: 0.9157654\tbest: 0.9159421 (5168)\ttotal: 50.9s\tremaining: 2m 24s\n",
      "5400:\tlearn: 0.9767915\ttest: 0.9163687\tbest: 0.9168397 (5351)\ttotal: 52.9s\tremaining: 2m 23s\n",
      "5600:\tlearn: 0.9780042\ttest: 0.9171860\tbest: 0.9171860 (5598)\ttotal: 55s\tremaining: 2m 21s\n",
      "5800:\tlearn: 0.9796353\ttest: 0.9175375\tbest: 0.9176780 (5706)\ttotal: 56.9s\tremaining: 2m 19s\n",
      "6000:\tlearn: 0.9811074\ttest: 0.9186537\tbest: 0.9190038 (5990)\ttotal: 58.9s\tremaining: 2m 17s\n",
      "6200:\tlearn: 0.9825545\ttest: 0.9194752\tbest: 0.9195441 (6150)\ttotal: 1m\tremaining: 2m 15s\n",
      "6400:\tlearn: 0.9840267\ttest: 0.9195379\tbest: 0.9198267 (6360)\ttotal: 1m 2s\tremaining: 2m 13s\n",
      "6600:\tlearn: 0.9849718\ttest: 0.9202155\tbest: 0.9203895 (6589)\ttotal: 1m 4s\tremaining: 2m 11s\n",
      "6800:\tlearn: 0.9858456\ttest: 0.9216394\tbest: 0.9218297 (6793)\ttotal: 1m 6s\tremaining: 2m 9s\n",
      "7000:\tlearn: 0.9873151\ttest: 0.9218739\tbest: 0.9224165 (6934)\ttotal: 1m 8s\tremaining: 2m 7s\n",
      "7200:\tlearn: 0.9881806\ttest: 0.9225002\tbest: 0.9228616 (7128)\ttotal: 1m 10s\tremaining: 2m 6s\n",
      "7400:\tlearn: 0.9890441\ttest: 0.9232281\tbest: 0.9234697 (7392)\ttotal: 1m 12s\tremaining: 2m 4s\n",
      "7600:\tlearn: 0.9900979\ttest: 0.9240874\tbest: 0.9245963 (7590)\ttotal: 1m 15s\tremaining: 2m 2s\n",
      "7800:\tlearn: 0.9907373\ttest: 0.9233867\tbest: 0.9251239 (7680)\ttotal: 1m 16s\tremaining: 2m\n",
      "8000:\tlearn: 0.9916387\ttest: 0.9241061\tbest: 0.9251239 (7680)\ttotal: 1m 19s\tremaining: 1m 58s\n",
      "8200:\tlearn: 0.9922392\ttest: 0.9248269\tbest: 0.9251239 (7680)\ttotal: 1m 21s\tremaining: 1m 56s\n",
      "8400:\tlearn: 0.9927262\ttest: 0.9246182\tbest: 0.9256781 (8313)\ttotal: 1m 23s\tremaining: 1m 54s\n",
      "8600:\tlearn: 0.9932126\ttest: 0.9259230\tbest: 0.9260982 (8532)\ttotal: 1m 25s\tremaining: 1m 52s\n",
      "8800:\tlearn: 0.9939604\ttest: 0.9260275\tbest: 0.9263521 (8757)\ttotal: 1m 27s\tremaining: 1m 51s\n",
      "9000:\tlearn: 0.9943718\ttest: 0.9263529\tbest: 0.9263529 (8985)\ttotal: 1m 29s\tremaining: 1m 49s\n",
      "9200:\tlearn: 0.9949691\ttest: 0.9264171\tbest: 0.9267866 (9168)\ttotal: 1m 31s\tremaining: 1m 47s\n",
      "9400:\tlearn: 0.9953055\ttest: 0.9267780\tbest: 0.9269547 (9375)\ttotal: 1m 33s\tremaining: 1m 45s\n",
      "9600:\tlearn: 0.9956040\ttest: 0.9268578\tbest: 0.9272648 (9442)\ttotal: 1m 35s\tremaining: 1m 43s\n",
      "9800:\tlearn: 0.9962011\ttest: 0.9281451\tbest: 0.9282953 (9793)\ttotal: 1m 37s\tremaining: 1m 41s\n",
      "10000:\tlearn: 0.9964623\ttest: 0.9267993\tbest: 0.9282953 (9793)\ttotal: 1m 39s\tremaining: 1m 39s\n",
      "10200:\tlearn: 0.9966862\ttest: 0.9275925\tbest: 0.9282953 (9793)\ttotal: 1m 41s\tremaining: 1m 37s\n",
      "10400:\tlearn: 0.9969096\ttest: 0.9282697\tbest: 0.9284180 (10396)\ttotal: 1m 43s\tremaining: 1m 35s\n",
      "10600:\tlearn: 0.9970585\ttest: 0.9282866\tbest: 0.9284340 (10597)\ttotal: 1m 45s\tremaining: 1m 33s\n",
      "10800:\tlearn: 0.9973938\ttest: 0.9289098\tbest: 0.9289098 (10798)\ttotal: 1m 47s\tremaining: 1m 31s\n",
      "11000:\tlearn: 0.9976919\ttest: 0.9289553\tbest: 0.9291355 (10866)\ttotal: 1m 49s\tremaining: 1m 29s\n",
      "11200:\tlearn: 0.9979528\ttest: 0.9289917\tbest: 0.9292502 (11101)\ttotal: 1m 51s\tremaining: 1m 27s\n",
      "11400:\tlearn: 0.9981390\ttest: 0.9287718\tbest: 0.9294493 (11310)\ttotal: 1m 53s\tremaining: 1m 25s\n",
      "11600:\tlearn: 0.9982507\ttest: 0.9293799\tbest: 0.9297309 (11563)\ttotal: 1m 55s\tremaining: 1m 23s\n",
      "11800:\tlearn: 0.9985486\ttest: 0.9294145\tbest: 0.9298790 (11650)\ttotal: 1m 57s\tremaining: 1m 21s\n",
      "12000:\tlearn: 0.9986603\ttest: 0.9297200\tbest: 0.9303936 (11960)\ttotal: 1m 59s\tremaining: 1m 19s\n",
      "12200:\tlearn: 0.9987347\ttest: 0.9299678\tbest: 0.9303936 (11960)\ttotal: 2m 1s\tremaining: 1m 17s\n",
      "12400:\tlearn: 0.9988464\ttest: 0.9303816\tbest: 0.9308683 (12370)\ttotal: 2m 3s\tremaining: 1m 15s\n",
      "12600:\tlearn: 0.9991070\ttest: 0.9303994\tbest: 0.9310499 (12409)\ttotal: 2m 5s\tremaining: 1m 13s\n",
      "12800:\tlearn: 0.9992186\ttest: 0.9305834\tbest: 0.9310499 (12409)\ttotal: 2m 7s\tremaining: 1m 11s\n",
      "13000:\tlearn: 0.9992930\ttest: 0.9304070\tbest: 0.9310499 (12409)\ttotal: 2m 9s\tremaining: 1m 9s\n",
      "13200:\tlearn: 0.9993302\ttest: 0.9302665\tbest: 0.9310499 (12409)\ttotal: 2m 11s\tremaining: 1m 7s\n",
      "13400:\tlearn: 0.9993674\ttest: 0.9309734\tbest: 0.9312695 (13387)\ttotal: 2m 13s\tremaining: 1m 5s\n",
      "13600:\tlearn: 0.9993674\ttest: 0.9316127\tbest: 0.9316127 (13597)\ttotal: 2m 15s\tremaining: 1m 3s\n",
      "13800:\tlearn: 0.9993674\ttest: 0.9317359\tbest: 0.9319342 (13731)\ttotal: 2m 17s\tremaining: 1m 1s\n",
      "14000:\tlearn: 0.9994047\ttest: 0.9316839\tbest: 0.9319342 (13731)\ttotal: 2m 19s\tremaining: 59.9s\n",
      "14200:\tlearn: 0.9994047\ttest: 0.9307531\tbest: 0.9319342 (13731)\ttotal: 2m 21s\tremaining: 57.9s\n",
      "14400:\tlearn: 0.9995535\ttest: 0.9307350\tbest: 0.9319342 (13731)\ttotal: 2m 23s\tremaining: 55.9s\n",
      "14600:\tlearn: 0.9996279\ttest: 0.9310567\tbest: 0.9319342 (13731)\ttotal: 2m 25s\tremaining: 53.9s\n",
      "14800:\tlearn: 0.9996652\ttest: 0.9315105\tbest: 0.9319342 (13731)\ttotal: 2m 27s\tremaining: 51.9s\n",
      "15000:\tlearn: 0.9997024\ttest: 0.9315526\tbest: 0.9319342 (13731)\ttotal: 2m 29s\tremaining: 49.8s\n",
      "15200:\tlearn: 0.9997768\ttest: 0.9317192\tbest: 0.9319342 (13731)\ttotal: 2m 31s\tremaining: 47.8s\n",
      "15400:\tlearn: 0.9998140\ttest: 0.9315383\tbest: 0.9319342 (13731)\ttotal: 2m 33s\tremaining: 45.8s\n",
      "15600:\tlearn: 0.9998140\ttest: 0.9310806\tbest: 0.9319342 (13731)\ttotal: 2m 35s\tremaining: 43.8s\n",
      "15800:\tlearn: 0.9998140\ttest: 0.9310645\tbest: 0.9319342 (13731)\ttotal: 2m 37s\tremaining: 41.8s\n",
      "16000:\tlearn: 0.9998884\ttest: 0.9312194\tbest: 0.9319342 (13731)\ttotal: 2m 39s\tremaining: 39.9s\n",
      "16200:\tlearn: 0.9998884\ttest: 0.9314267\tbest: 0.9319342 (13731)\ttotal: 2m 41s\tremaining: 37.9s\n",
      "16400:\tlearn: 0.9999628\ttest: 0.9314379\tbest: 0.9319342 (13731)\ttotal: 2m 43s\tremaining: 35.9s\n",
      "16600:\tlearn: 0.9999628\ttest: 0.9314379\tbest: 0.9319342 (13731)\ttotal: 2m 45s\tremaining: 33.9s\n",
      "16800:\tlearn: 0.9999628\ttest: 0.9318882\tbest: 0.9322422 (16754)\ttotal: 2m 47s\tremaining: 31.9s\n",
      "17000:\tlearn: 0.9999628\ttest: 0.9319552\tbest: 0.9324277 (16989)\ttotal: 2m 49s\tremaining: 29.9s\n",
      "17200:\tlearn: 0.9999628\ttest: 0.9323217\tbest: 0.9327627 (17192)\ttotal: 2m 51s\tremaining: 27.9s\n",
      "17400:\tlearn: 0.9999628\ttest: 0.9327647\tbest: 0.9329438 (17325)\ttotal: 2m 53s\tremaining: 25.9s\n",
      "17600:\tlearn: 0.9999628\ttest: 0.9321104\tbest: 0.9329438 (17325)\ttotal: 2m 55s\tremaining: 23.9s\n",
      "17800:\tlearn: 1.0000000\ttest: 0.9324165\tbest: 0.9329438 (17325)\ttotal: 2m 57s\tremaining: 21.9s\n",
      "18000:\tlearn: 1.0000000\ttest: 0.9327820\tbest: 0.9329438 (17325)\ttotal: 2m 59s\tremaining: 19.9s\n",
      "18200:\tlearn: 1.0000000\ttest: 0.9326334\tbest: 0.9330750 (18053)\ttotal: 3m 1s\tremaining: 17.9s\n",
      "18400:\tlearn: 1.0000000\ttest: 0.9324545\tbest: 0.9330750 (18053)\ttotal: 3m 3s\tremaining: 15.9s\n",
      "18600:\tlearn: 1.0000000\ttest: 0.9326286\tbest: 0.9330750 (18053)\ttotal: 3m 5s\tremaining: 13.9s\n",
      "18800:\tlearn: 1.0000000\ttest: 0.9331761\tbest: 0.9331761 (18765)\ttotal: 3m 7s\tremaining: 11.9s\n",
      "19000:\tlearn: 1.0000000\ttest: 0.9325752\tbest: 0.9331761 (18765)\ttotal: 3m 8s\tremaining: 9.93s\n",
      "19200:\tlearn: 1.0000000\ttest: 0.9330081\tbest: 0.9331761 (18765)\ttotal: 3m 10s\tremaining: 7.95s\n",
      "19400:\tlearn: 1.0000000\ttest: 0.9328249\tbest: 0.9331761 (18765)\ttotal: 3m 12s\tremaining: 5.96s\n",
      "19600:\tlearn: 1.0000000\ttest: 0.9330112\tbest: 0.9333311 (19583)\ttotal: 3m 14s\tremaining: 3.96s\n",
      "19800:\tlearn: 1.0000000\ttest: 0.9329611\tbest: 0.9333311 (19583)\ttotal: 3m 16s\tremaining: 1.98s\n",
      "19999:\tlearn: 1.0000000\ttest: 0.9328248\tbest: 0.9333311 (19583)\ttotal: 3m 18s\tremaining: 0us\n",
      "bestTest = 0.9333311119\n",
      "bestIteration = 19583\n",
      "Shrink model to first 19584 iterations.\n"
     ]
    },
    {
     "data": {
      "text/plain": [
       "<catboost.core.CatBoostClassifier at 0x7f71d3a498a0>"
      ]
     },
     "execution_count": 5,
     "metadata": {},
     "output_type": "execute_result"
    }
   ],
   "source": [
    "from catboost import CatBoostClassifier\n",
    "\n",
    "clf = CatBoostClassifier(\n",
    "    iterations=20000,\n",
    "    verbose=200,\n",
    "    objective='MultiClass',\n",
    "    # labels=labels\n",
    "    eval_metric = 'TotalF1',\n",
    "    custom_metric='TotalF1',\n",
    "    task_type=\"GPU\",\n",
    "    # class_weights=class_weights\n",
    ")\n",
    "\n",
    "clf.fit(\n",
    "    train_X, train_y,\n",
    "    # cat_features=labels,\n",
    "    eval_set=(valid_X, valid_y),\n",
    ")"
   ]
  },
  {
   "cell_type": "markdown",
   "id": "f17cb366",
   "metadata": {},
   "source": [
    "# Prediction"
   ]
  },
  {
   "cell_type": "code",
   "execution_count": 6,
   "id": "1c7ebe7d",
   "metadata": {},
   "outputs": [],
   "source": [
    "pred_y = clf.predict(test_X)"
   ]
  },
  {
   "cell_type": "markdown",
   "id": "08ace8ce",
   "metadata": {},
   "source": [
    "# Metrics evaluation\n",
    "\n",
    "We need to get a few metrics right"
   ]
  },
  {
   "cell_type": "code",
   "execution_count": 7,
   "id": "2dd9066c",
   "metadata": {},
   "outputs": [],
   "source": [
    "encoding_to_label = {v: k for k, v in LABEL_ENCODING.items()}\n",
    "labels = [key for key in LABEL_ENCODING.keys()]\n"
   ]
  },
  {
   "cell_type": "code",
   "execution_count": 8,
   "id": "52816103",
   "metadata": {},
   "outputs": [
    {
     "name": "stdout",
     "output_type": "stream",
     "text": [
      "F1 score : 0.862\n"
     ]
    },
    {
     "data": {
      "text/html": [
       "<style type=\"text/css\">\n",
       "#T_bc882_row0_col0 {\n",
       "  background-color: #a5db36;\n",
       "  color: #000000;\n",
       "}\n",
       "#T_bc882_row0_col1 {\n",
       "  background-color: #1e9c89;\n",
       "  color: #f1f1f1;\n",
       "}\n",
       "#T_bc882_row0_col2, #T_bc882_row1_col0 {\n",
       "  background-color: #75d054;\n",
       "  color: #000000;\n",
       "}\n",
       "#T_bc882_row1_col1 {\n",
       "  background-color: #1f948c;\n",
       "  color: #f1f1f1;\n",
       "}\n",
       "#T_bc882_row1_col2 {\n",
       "  background-color: #52c569;\n",
       "  color: #000000;\n",
       "}\n",
       "#T_bc882_row2_col0, #T_bc882_row2_col1, #T_bc882_row2_col2 {\n",
       "  background-color: #fde725;\n",
       "  color: #000000;\n",
       "}\n",
       "#T_bc882_row3_col0, #T_bc882_row3_col2, #T_bc882_row4_col1 {\n",
       "  background-color: #440154;\n",
       "  color: #f1f1f1;\n",
       "}\n",
       "#T_bc882_row3_col1 {\n",
       "  background-color: #27808e;\n",
       "  color: #f1f1f1;\n",
       "}\n",
       "#T_bc882_row4_col0 {\n",
       "  background-color: #453781;\n",
       "  color: #f1f1f1;\n",
       "}\n",
       "#T_bc882_row4_col2 {\n",
       "  background-color: #482071;\n",
       "  color: #f1f1f1;\n",
       "}\n",
       "</style>\n",
       "<table id=\"T_bc882\">\n",
       "  <thead>\n",
       "    <tr>\n",
       "      <th class=\"blank level0\" >&nbsp;</th>\n",
       "      <th id=\"T_bc882_level0_col0\" class=\"col_heading level0 col0\" >precision</th>\n",
       "      <th id=\"T_bc882_level0_col1\" class=\"col_heading level0 col1\" >recall</th>\n",
       "      <th id=\"T_bc882_level0_col2\" class=\"col_heading level0 col2\" >f1-score</th>\n",
       "      <th id=\"T_bc882_level0_col3\" class=\"col_heading level0 col3\" >support</th>\n",
       "    </tr>\n",
       "  </thead>\n",
       "  <tbody>\n",
       "    <tr>\n",
       "      <th id=\"T_bc882_level0_row0\" class=\"row_heading level0 row0\" >0</th>\n",
       "      <td id=\"T_bc882_row0_col0\" class=\"data row0 col0\" >0.945583</td>\n",
       "      <td id=\"T_bc882_row0_col1\" class=\"data row0 col1\" >0.911444</td>\n",
       "      <td id=\"T_bc882_row0_col2\" class=\"data row0 col2\" >0.928200</td>\n",
       "      <td id=\"T_bc882_row0_col3\" class=\"data row0 col3\" >1468</td>\n",
       "    </tr>\n",
       "    <tr>\n",
       "      <th id=\"T_bc882_level0_row1\" class=\"row_heading level0 row1\" >1</th>\n",
       "      <td id=\"T_bc882_row1_col0\" class=\"data row1 col0\" >0.916914</td>\n",
       "      <td id=\"T_bc882_row1_col1\" class=\"data row1 col1\" >0.907933</td>\n",
       "      <td id=\"T_bc882_row1_col2\" class=\"data row1 col2\" >0.912402</td>\n",
       "      <td id=\"T_bc882_row1_col3\" class=\"data row1 col3\" >1021</td>\n",
       "    </tr>\n",
       "    <tr>\n",
       "      <th id=\"T_bc882_level0_row2\" class=\"row_heading level0 row2\" >2</th>\n",
       "      <td id=\"T_bc882_row2_col0\" class=\"data row2 col0\" >0.995528</td>\n",
       "      <td id=\"T_bc882_row2_col1\" class=\"data row2 col1\" >0.963223</td>\n",
       "      <td id=\"T_bc882_row2_col2\" class=\"data row2 col2\" >0.979109</td>\n",
       "      <td id=\"T_bc882_row2_col3\" class=\"data row2 col3\" >3698</td>\n",
       "    </tr>\n",
       "    <tr>\n",
       "      <th id=\"T_bc882_level0_row3\" class=\"row_heading level0 row3\" >3</th>\n",
       "      <td id=\"T_bc882_row3_col0\" class=\"data row3 col0\" >0.620596</td>\n",
       "      <td id=\"T_bc882_row3_col1\" class=\"data row3 col1\" >0.898039</td>\n",
       "      <td id=\"T_bc882_row3_col2\" class=\"data row3 col2\" >0.733974</td>\n",
       "      <td id=\"T_bc882_row3_col3\" class=\"data row3 col3\" >255</td>\n",
       "    </tr>\n",
       "    <tr>\n",
       "      <th id=\"T_bc882_level0_row4\" class=\"row_heading level0 row4\" >4</th>\n",
       "      <td id=\"T_bc882_row4_col0\" class=\"data row4 col0\" >0.680115</td>\n",
       "      <td id=\"T_bc882_row4_col1\" class=\"data row4 col1\" >0.848921</td>\n",
       "      <td id=\"T_bc882_row4_col2\" class=\"data row4 col2\" >0.755200</td>\n",
       "      <td id=\"T_bc882_row4_col3\" class=\"data row4 col3\" >278</td>\n",
       "    </tr>\n",
       "    <tr>\n",
       "      <th id=\"T_bc882_level0_row5\" class=\"row_heading level0 row5\" >accuracy</th>\n",
       "      <td id=\"T_bc882_row5_col0\" class=\"data row5 col0\" >0.936310</td>\n",
       "      <td id=\"T_bc882_row5_col1\" class=\"data row5 col1\" >0.936310</td>\n",
       "      <td id=\"T_bc882_row5_col2\" class=\"data row5 col2\" >0.936310</td>\n",
       "      <td id=\"T_bc882_row5_col3\" class=\"data row5 col3\" >0</td>\n",
       "    </tr>\n",
       "    <tr>\n",
       "      <th id=\"T_bc882_level0_row6\" class=\"row_heading level0 row6\" >macro avg</th>\n",
       "      <td id=\"T_bc882_row6_col0\" class=\"data row6 col0\" >0.831747</td>\n",
       "      <td id=\"T_bc882_row6_col1\" class=\"data row6 col1\" >0.905912</td>\n",
       "      <td id=\"T_bc882_row6_col2\" class=\"data row6 col2\" >0.861777</td>\n",
       "      <td id=\"T_bc882_row6_col3\" class=\"data row6 col3\" >6720</td>\n",
       "    </tr>\n",
       "    <tr>\n",
       "      <th id=\"T_bc882_level0_row7\" class=\"row_heading level0 row7\" >weighted avg</th>\n",
       "      <td id=\"T_bc882_row7_col0\" class=\"data row7 col0\" >0.945398</td>\n",
       "      <td id=\"T_bc882_row7_col1\" class=\"data row7 col1\" >0.936310</td>\n",
       "      <td id=\"T_bc882_row7_col2\" class=\"data row7 col2\" >0.939288</td>\n",
       "      <td id=\"T_bc882_row7_col3\" class=\"data row7 col3\" >6720</td>\n",
       "    </tr>\n",
       "  </tbody>\n",
       "</table>\n"
      ],
      "text/plain": [
       "<pandas.io.formats.style.Styler at 0x7f71ba6ed870>"
      ]
     },
     "execution_count": 8,
     "metadata": {},
     "output_type": "execute_result"
    },
    {
     "data": {
      "image/png": "[encoded data removed]",
      "text/plain": [
       "<Figure size 432x288 with 1 Axes>"
      ]
     },
     "metadata": {},
     "output_type": "display_data"
    }
   ],
   "source": [
    "model_name, y_hat = 'CATBoost', pred_y\n",
    "\n",
    "plot_confusion_matrix(test_y, y_hat, labels,  f'Confusion Matrix {model_name}')\n",
    "print('F1 score : {:.3f}'.format(f1_score(test_y, y_hat, average='macro')))\n",
    "pretty_classification_report(test_y, y_hat)"
   ]
  },
  {
   "cell_type": "markdown",
   "id": "7e887b1a",
   "metadata": {},
   "source": [
    "## Actual test for submission"
   ]
  },
  {
   "cell_type": "code",
   "execution_count": 13,
   "id": "d1320301",
   "metadata": {},
   "outputs": [],
   "source": [
    "# Setup\n",
    "model = clf\n",
    "LABEL_DECODING = {y:x for x,y in LABEL_ENCODING.items()}\n",
    "RESULTS_PATH = '.'\n",
    "DATA_DIR = '../../data/01_split'\n",
    "SAMPLE_DIR = '../../data/sample_submission.csv'\n",
    "\n",
    "\n",
    "test_df = pd.read_csv(os.path.join(DATA_DIR,'test.csv'))\n",
    "test_X = test_df.loc[:,test_df.columns!='id']\n",
    "test_ids = test_df['id']\n",
    "\n",
    "\n",
    "# Make predictions\n",
    "sample_df = pd.read_csv(SAMPLE_DIR)\n",
    "sorter = list(sample_df['id'])\n",
    "\n",
    "y_pred = model.predict(test_X)\n",
    "y_pred_df = pd.DataFrame(y_pred, columns=['leaktype'])\n",
    "y_pred_df['leaktype'] = y_pred_df['leaktype'].replace(LABEL_DECODING)\n",
    "pred_df = pd.concat([test_ids, y_pred_df],axis=1)\n",
    "\n",
    "# sort predictions\n",
    "resdf = pred_df.set_index('id')\n",
    "result = resdf.loc[sorter].reset_index()\n",
    "resultpath = os.path.join(RESULTS_PATH, 'predictions.csv')\n",
    "result.to_csv(resultpath, index=False)"
   ]
  }
 ],
 "metadata": {
  "kernelspec": {
   "display_name": "Python 3.10.4 64-bit",
   "language": "python",
   "name": "python3"
  },
  "language_info": {
   "codemirror_mode": {
    "name": "ipython",
    "version": 3
   },
   "file_extension": ".py",
   "mimetype": "text/x-python",
   "name": "python",
   "nbconvert_exporter": "python",
   "pygments_lexer": "ipython3",
   "version": "3.10.4"
  },
  "toc": {
   "base_numbering": 1,
   "nav_menu": {},
   "number_sections": true,
   "sideBar": true,
   "skip_h1_title": false,
   "title_cell": "Table of Contents",
   "title_sidebar": "Contents",
   "toc_cell": false,
   "toc_position": {
    "height": "calc(100% - 180px)",
    "left": "10px",
    "top": "150px",
    "width": "341.333px"
   },
   "toc_section_display": true,
   "toc_window_display": true
  },
  "vscode": {
   "interpreter": {
    "hash": "31f2aee4e71d21fbe5cf8b01ff0e069b9275f58929596ceb00d14d90e3e16cd6"
   }
  }
 },
 "nbformat": 4,
 "nbformat_minor": 5
}
