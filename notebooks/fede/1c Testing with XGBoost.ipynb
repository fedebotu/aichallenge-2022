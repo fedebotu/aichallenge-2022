{
 "cells": [
  {
   "cell_type": "markdown",
   "id": "2ab523fa",
   "metadata": {},
   "source": [
    "# Testing with XGBoost"
   ]
  },
  {
   "cell_type": "code",
   "execution_count": 1,
   "id": "e11a61f6",
   "metadata": {},
   "outputs": [],
   "source": [
    "%load_ext autoreload\n",
    "%autoreload 2\n",
    "\n",
    "import pandas as pd\n",
    "from sklearn.ensemble import RandomForestClassifier\n",
    "import os\n",
    "import matplotlib.pyplot as plt\n",
    "import seaborn as sns\n",
    "sns.set_theme()\n",
    "\n",
    "\n",
    "import sys; sys.path.append(\"../../\")\n",
    "from modules.utils import load_yaml\n",
    "from modules.evaluation import pretty_classification_report, plot_confusion_matrix"
   ]
  },
  {
   "cell_type": "markdown",
   "id": "c1053083",
   "metadata": {},
   "source": [
    "# Read Data\n",
    "\n",
    "Note: in the submission, we cannot use `test.csv`. This has no labels and it is for submission only. So we need to use validation data as the test\n",
    "\n",
    "--> This should be OK since the data size seems large enough"
   ]
  },
  {
   "cell_type": "code",
   "execution_count": 2,
   "id": "eec6863c",
   "metadata": {},
   "outputs": [
    {
     "name": "stdout",
     "output_type": "stream",
     "text": [
      "../../config/train_config.yaml\n"
     ]
    }
   ],
   "source": [
    "TRAIN_CONFIG_PATH = '../../config/train_config.yaml'\n",
    "DATA_PATH = '../../data/01_split/'\n",
    "\n",
    "config = load_yaml(TRAIN_CONFIG_PATH)\n",
    "LABEL_ENCODING = config['LABEL_ENCODING']\n",
    "\n",
    "train_df = pd.read_csv(os.path.join(DATA_PATH, 'train.csv'))\n",
    "valid_df = pd.read_csv(os.path.join(DATA_PATH, 'valid.csv'))"
   ]
  },
  {
   "cell_type": "markdown",
   "id": "fee75e53",
   "metadata": {},
   "source": [
    "## Split into train and test\n",
    "\n",
    "As said, we will use val and test as the same "
   ]
  },
  {
   "cell_type": "code",
   "execution_count": 3,
   "id": "4108511c",
   "metadata": {},
   "outputs": [],
   "source": [
    "train_X, train_y = train_df.loc[:,train_df.columns!='leaktype'], train_df['leaktype']\n",
    "valid_X, valid_y = valid_df.loc[:,train_df.columns!='leaktype'], valid_df['leaktype']\n",
    "\n",
    "train_y = train_y.replace(LABEL_ENCODING)\n",
    "valid_y = valid_y.replace(LABEL_ENCODING)\n",
    "\n",
    "# Same testing and validation\n",
    "test_X, test_y = valid_X, valid_y"
   ]
  },
  {
   "cell_type": "markdown",
   "id": "1288c9cd",
   "metadata": {},
   "source": [
    "# Train Model"
   ]
  },
  {
   "cell_type": "code",
   "execution_count": 4,
   "id": "679aafca",
   "metadata": {},
   "outputs": [
    {
     "data": {
      "text/plain": [
       "XGBClassifier(base_score=0.5, booster='gbtree', callbacks=None,\n",
       "              colsample_bylevel=1, colsample_bynode=1, colsample_bytree=1,\n",
       "              early_stopping_rounds=None, enable_categorical=False,\n",
       "              eval_metric=None, gamma=0, gpu_id=-1, grow_policy='depthwise',\n",
       "              importance_type=None, interaction_constraints='',\n",
       "              learning_rate=0.300000012, max_bin=256, max_cat_to_onehot=4,\n",
       "              max_delta_step=0, max_depth=6, max_leaves=0, min_child_weight=1,\n",
       "              missing=nan, monotone_constraints='()', n_estimators=100,\n",
       "              n_jobs=0, num_parallel_tree=1, objective='multi:softprob',\n",
       "              predictor='auto', random_state=0, reg_alpha=0, ...)"
      ]
     },
     "execution_count": 4,
     "metadata": {},
     "output_type": "execute_result"
    }
   ],
   "source": [
    "# XG\n",
    "\n",
    "import xgboost\n",
    "\n",
    "xgb = xgboost.XGBClassifier()\n",
    "xgb.fit(train_X, train_y)"
   ]
  },
  {
   "cell_type": "markdown",
   "id": "f17cb366",
   "metadata": {},
   "source": [
    "# Prediction"
   ]
  },
  {
   "cell_type": "code",
   "execution_count": 5,
   "id": "1c7ebe7d",
   "metadata": {},
   "outputs": [],
   "source": [
    "pred_y = xgb.predict(test_X)"
   ]
  },
  {
   "cell_type": "markdown",
   "id": "08ace8ce",
   "metadata": {},
   "source": [
    "# Metrics evaluation\n",
    "\n",
    "We need to get a few metrics right"
   ]
  },
  {
   "cell_type": "code",
   "execution_count": 6,
   "id": "2dd9066c",
   "metadata": {},
   "outputs": [],
   "source": [
    "encoding_to_label = {v: k for k, v in LABEL_ENCODING.items()}\n",
    "labels = [key for key in LABEL_ENCODING.keys()]\n"
   ]
  },
  {
   "cell_type": "code",
   "execution_count": 7,
   "id": "687f31fd",
   "metadata": {},
   "outputs": [
    {
     "data": {
      "image/png": "[encoded data removed]",
      "text/plain": [
       "<Figure size 432x288 with 1 Axes>"
      ]
     },
     "metadata": {},
     "output_type": "display_data"
    }
   ],
   "source": [
    "model = 'XGBoost'\n",
    "plot_confusion_matrix(test_y, pred_y, labels,  f'Confusion Matrix {model}')"
   ]
  },
  {
   "cell_type": "code",
   "execution_count": 8,
   "id": "17097e70",
   "metadata": {},
   "outputs": [
    {
     "data": {
      "text/html": [
       "<style type=\"text/css\">\n",
       "#T_fb7b4_row0_col0 {\n",
       "  background-color: #a2da37;\n",
       "  color: #000000;\n",
       "}\n",
       "#T_fb7b4_row0_col1 {\n",
       "  background-color: #287c8e;\n",
       "  color: #f1f1f1;\n",
       "}\n",
       "#T_fb7b4_row0_col2 {\n",
       "  background-color: #6ece58;\n",
       "  color: #000000;\n",
       "}\n",
       "#T_fb7b4_row1_col0 {\n",
       "  background-color: #67cc5c;\n",
       "  color: #000000;\n",
       "}\n",
       "#T_fb7b4_row1_col1 {\n",
       "  background-color: #26ad81;\n",
       "  color: #f1f1f1;\n",
       "}\n",
       "#T_fb7b4_row1_col2 {\n",
       "  background-color: #60ca60;\n",
       "  color: #000000;\n",
       "}\n",
       "#T_fb7b4_row2_col0, #T_fb7b4_row2_col1, #T_fb7b4_row2_col2 {\n",
       "  background-color: #fde725;\n",
       "  color: #000000;\n",
       "}\n",
       "#T_fb7b4_row3_col0, #T_fb7b4_row3_col2, #T_fb7b4_row4_col1 {\n",
       "  background-color: #440154;\n",
       "  color: #f1f1f1;\n",
       "}\n",
       "#T_fb7b4_row3_col1 {\n",
       "  background-color: #3f4788;\n",
       "  color: #f1f1f1;\n",
       "}\n",
       "#T_fb7b4_row4_col0 {\n",
       "  background-color: #463480;\n",
       "  color: #f1f1f1;\n",
       "}\n",
       "#T_fb7b4_row4_col2 {\n",
       "  background-color: #472e7c;\n",
       "  color: #f1f1f1;\n",
       "}\n",
       "</style>\n",
       "<table id=\"T_fb7b4\">\n",
       "  <thead>\n",
       "    <tr>\n",
       "      <th class=\"blank level0\" >&nbsp;</th>\n",
       "      <th id=\"T_fb7b4_level0_col0\" class=\"col_heading level0 col0\" >precision</th>\n",
       "      <th id=\"T_fb7b4_level0_col1\" class=\"col_heading level0 col1\" >recall</th>\n",
       "      <th id=\"T_fb7b4_level0_col2\" class=\"col_heading level0 col2\" >f1-score</th>\n",
       "      <th id=\"T_fb7b4_level0_col3\" class=\"col_heading level0 col3\" >support</th>\n",
       "    </tr>\n",
       "  </thead>\n",
       "  <tbody>\n",
       "    <tr>\n",
       "      <th id=\"T_fb7b4_level0_row0\" class=\"row_heading level0 row0\" >0</th>\n",
       "      <td id=\"T_fb7b4_row0_col0\" class=\"data row0 col0\" >0.927915</td>\n",
       "      <td id=\"T_fb7b4_row0_col1\" class=\"data row0 col1\" >0.871846</td>\n",
       "      <td id=\"T_fb7b4_row0_col2\" class=\"data row0 col2\" >0.899007</td>\n",
       "      <td id=\"T_fb7b4_row0_col3\" class=\"data row0 col3\" >1506</td>\n",
       "    </tr>\n",
       "    <tr>\n",
       "      <th id=\"T_fb7b4_level0_row1\" class=\"row_heading level0 row1\" >1</th>\n",
       "      <td id=\"T_fb7b4_row1_col0\" class=\"data row1 col0\" >0.883284</td>\n",
       "      <td id=\"T_fb7b4_row1_col1\" class=\"data row1 col1\" >0.899295</td>\n",
       "      <td id=\"T_fb7b4_row1_col2\" class=\"data row1 col2\" >0.891218</td>\n",
       "      <td id=\"T_fb7b4_row1_col3\" class=\"data row1 col3\" >993</td>\n",
       "    </tr>\n",
       "    <tr>\n",
       "      <th id=\"T_fb7b4_level0_row2\" class=\"row_heading level0 row2\" >2</th>\n",
       "      <td id=\"T_fb7b4_row2_col0\" class=\"data row2 col0\" >0.994969</td>\n",
       "      <td id=\"T_fb7b4_row2_col1\" class=\"data row2 col1\" >0.950347</td>\n",
       "      <td id=\"T_fb7b4_row2_col2\" class=\"data row2 col2\" >0.972146</td>\n",
       "      <td id=\"T_fb7b4_row2_col3\" class=\"data row2 col3\" >3746</td>\n",
       "    </tr>\n",
       "    <tr>\n",
       "      <th id=\"T_fb7b4_level0_row3\" class=\"row_heading level0 row3\" >3</th>\n",
       "      <td id=\"T_fb7b4_row3_col0\" class=\"data row3 col0\" >0.514905</td>\n",
       "      <td id=\"T_fb7b4_row3_col1\" class=\"data row3 col1\" >0.844444</td>\n",
       "      <td id=\"T_fb7b4_row3_col2\" class=\"data row3 col2\" >0.639731</td>\n",
       "      <td id=\"T_fb7b4_row3_col3\" class=\"data row3 col3\" >225</td>\n",
       "    </tr>\n",
       "    <tr>\n",
       "      <th id=\"T_fb7b4_level0_row4\" class=\"row_heading level0 row4\" >4</th>\n",
       "      <td id=\"T_fb7b4_row4_col0\" class=\"data row4 col0\" >0.587896</td>\n",
       "      <td id=\"T_fb7b4_row4_col1\" class=\"data row4 col1\" >0.816000</td>\n",
       "      <td id=\"T_fb7b4_row4_col2\" class=\"data row4 col2\" >0.683417</td>\n",
       "      <td id=\"T_fb7b4_row4_col3\" class=\"data row4 col3\" >250</td>\n",
       "    </tr>\n",
       "    <tr>\n",
       "      <th id=\"T_fb7b4_level0_row5\" class=\"row_heading level0 row5\" >accuracy</th>\n",
       "      <td id=\"T_fb7b4_row5_col0\" class=\"data row5 col0\" >0.916667</td>\n",
       "      <td id=\"T_fb7b4_row5_col1\" class=\"data row5 col1\" >0.916667</td>\n",
       "      <td id=\"T_fb7b4_row5_col2\" class=\"data row5 col2\" >0.916667</td>\n",
       "      <td id=\"T_fb7b4_row5_col3\" class=\"data row5 col3\" >0</td>\n",
       "    </tr>\n",
       "    <tr>\n",
       "      <th id=\"T_fb7b4_level0_row6\" class=\"row_heading level0 row6\" >macro avg</th>\n",
       "      <td id=\"T_fb7b4_row6_col0\" class=\"data row6 col0\" >0.781794</td>\n",
       "      <td id=\"T_fb7b4_row6_col1\" class=\"data row6 col1\" >0.876386</td>\n",
       "      <td id=\"T_fb7b4_row6_col2\" class=\"data row6 col2\" >0.817104</td>\n",
       "      <td id=\"T_fb7b4_row6_col3\" class=\"data row6 col3\" >6720</td>\n",
       "    </tr>\n",
       "    <tr>\n",
       "      <th id=\"T_fb7b4_level0_row7\" class=\"row_heading level0 row7\" >weighted avg</th>\n",
       "      <td id=\"T_fb7b4_row7_col0\" class=\"data row7 col0\" >0.932221</td>\n",
       "      <td id=\"T_fb7b4_row7_col1\" class=\"data row7 col1\" >0.916667</td>\n",
       "      <td id=\"T_fb7b4_row7_col2\" class=\"data row7 col2\" >0.921925</td>\n",
       "      <td id=\"T_fb7b4_row7_col3\" class=\"data row7 col3\" >6720</td>\n",
       "    </tr>\n",
       "  </tbody>\n",
       "</table>\n"
      ],
      "text/plain": [
       "<pandas.io.formats.style.Styler at 0x7f506e04b580>"
      ]
     },
     "execution_count": 8,
     "metadata": {},
     "output_type": "execute_result"
    }
   ],
   "source": [
    "pretty_classification_report(test_y, pred_y)"
   ]
  },
  {
   "cell_type": "code",
   "execution_count": 10,
   "id": "52816103",
   "metadata": {},
   "outputs": [
    {
     "name": "stdout",
     "output_type": "stream",
     "text": [
      "F1 score : 0.8171037694903245\n"
     ]
    }
   ],
   "source": [
    "from sklearn.metrics import f1_score\n",
    "\n",
    "f1 = f1_score(test_y, pred_y, average='macro')\n",
    "print('F1 score :', f1)"
   ]
  }
 ],
 "metadata": {
  "kernelspec": {
   "display_name": "Python 3.10.4 64-bit",
   "language": "python",
   "name": "python3"
  },
  "language_info": {
   "codemirror_mode": {
    "name": "ipython",
    "version": 3
   },
   "file_extension": ".py",
   "mimetype": "text/x-python",
   "name": "python",
   "nbconvert_exporter": "python",
   "pygments_lexer": "ipython3",
   "version": "3.10.4"
  },
  "toc": {
   "base_numbering": 1,
   "nav_menu": {},
   "number_sections": true,
   "sideBar": true,
   "skip_h1_title": false,
   "title_cell": "Table of Contents",
   "title_sidebar": "Contents",
   "toc_cell": false,
   "toc_position": {
    "height": "calc(100% - 180px)",
    "left": "10px",
    "top": "150px",
    "width": "341.333px"
   },
   "toc_section_display": true,
   "toc_window_display": true
  },
  "vscode": {
   "interpreter": {
    "hash": "31f2aee4e71d21fbe5cf8b01ff0e069b9275f58929596ceb00d14d90e3e16cd6"
   }
  }
 },
 "nbformat": 4,
 "nbformat_minor": 5
}
