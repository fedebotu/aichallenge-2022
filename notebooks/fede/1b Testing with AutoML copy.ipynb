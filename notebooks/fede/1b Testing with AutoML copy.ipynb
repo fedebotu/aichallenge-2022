{
 "cells": [
  {
   "cell_type": "markdown",
   "id": "2ab523fa",
   "metadata": {},
   "source": [
    "# Testing with Automatic ML selection"
   ]
  },
  {
   "cell_type": "code",
   "execution_count": 1,
   "id": "e11a61f6",
   "metadata": {},
   "outputs": [],
   "source": [
    "%load_ext autoreload\n",
    "%autoreload 2\n",
    "\n",
    "import pandas as pd\n",
    "from sklearn.ensemble import RandomForestClassifier\n",
    "import os\n",
    "import matplotlib.pyplot as plt\n",
    "import seaborn as sns\n",
    "sns.set_theme()\n",
    "\n",
    "\n",
    "import sys; sys.path.append(\"../../\")\n",
    "from modules.utils import load_yaml, load_pkl, make_directory, save_pkl, save_yaml"
   ]
  },
  {
   "cell_type": "markdown",
   "id": "c1053083",
   "metadata": {},
   "source": [
    "# Read Data\n",
    "\n",
    "Note: in the submission, we cannot use `test.csv`. This has no labels and it is for submission only. So we need to use validation data as the test\n",
    "\n",
    "--> This should be OK since the data size seems large enough"
   ]
  },
  {
   "cell_type": "code",
   "execution_count": 2,
   "id": "eec6863c",
   "metadata": {},
   "outputs": [
    {
     "name": "stdout",
     "output_type": "stream",
     "text": [
      "../../config/train_config.yaml\n"
     ]
    }
   ],
   "source": [
    "TRAIN_CONFIG_PATH = '../../config/train_config.yaml'\n",
    "DATA_PATH = '../../data/01_split/'\n",
    "\n",
    "config = load_yaml(TRAIN_CONFIG_PATH)\n",
    "LABEL_ENCODING = config['LABEL_ENCODING']\n",
    "\n",
    "train_df = pd.read_csv(os.path.join(DATA_PATH, 'train.csv'))\n",
    "valid_df = pd.read_csv(os.path.join(DATA_PATH, 'valid.csv'))"
   ]
  },
  {
   "cell_type": "markdown",
   "id": "fee75e53",
   "metadata": {},
   "source": [
    "## Split into train and test\n",
    "\n",
    "As said, we will use val and test as the same "
   ]
  },
  {
   "cell_type": "code",
   "execution_count": 3,
   "id": "4108511c",
   "metadata": {},
   "outputs": [],
   "source": [
    "train_X, train_y = train_df.loc[:,train_df.columns!='leaktype'], train_df['leaktype']\n",
    "valid_X, valid_y = valid_df.loc[:,train_df.columns!='leaktype'], valid_df['leaktype']\n",
    "\n",
    "train_y = train_y.replace(LABEL_ENCODING)\n",
    "valid_y = valid_y.replace(LABEL_ENCODING)\n",
    "\n",
    "# Same testing and validation\n",
    "test_X, test_y = valid_X, valid_y"
   ]
  },
  {
   "cell_type": "markdown",
   "id": "08ace8ce",
   "metadata": {},
   "source": [
    "# Metrics evaluation\n",
    "\n",
    "We need to get a few metrics right"
   ]
  },
  {
   "cell_type": "code",
   "execution_count": 4,
   "id": "2dd9066c",
   "metadata": {},
   "outputs": [],
   "source": [
    "from sklearn.metrics import accuracy_score, f1_score, classification_report, confusion_matrix, plot_roc_curve\n",
    "\n",
    "\n",
    "encoding_to_label = {v: k for k, v in LABEL_ENCODING.items()}\n",
    "labels = [key for key in LABEL_ENCODING.keys()]\n",
    "\n",
    "# accuracy = accuracy_score(test_y, pred_y)\n",
    "# print(f'Mean accuracy score: {accuracy:.3}')\n",
    "\n",
    "\n",
    "# f1 = f1_score(test_y, pred_y, average='macro')\n",
    "# print('f1 score :', f1)\n",
    "\n",
    "# print(classification_report(test_y, pred_y, target_names=labels))"
   ]
  },
  {
   "cell_type": "markdown",
   "id": "90112047",
   "metadata": {},
   "source": [
    "## Classification plotting"
   ]
  },
  {
   "cell_type": "code",
   "execution_count": 5,
   "id": "a170ee42",
   "metadata": {},
   "outputs": [],
   "source": [
    "import numpy as np\n",
    "from sklearn.metrics import accuracy_score, f1_score, classification_report, confusion_matrix, plot_roc_curve\n",
    "\n",
    "\n",
    "def plot_confusion_matrix(y_test, y_pred, classes, title='',\n",
    "                          normalize=False,\n",
    "                          cmap='Blues',\n",
    "                          linecolor='k'):\n",
    "    \n",
    "    cm = np.array(confusion_matrix(y_test, y_pred))\n",
    "\n",
    "    if normalize:\n",
    "        cm = cm.astype('float') / cm.sum(axis=1)[:, np.newaxis]\n",
    "        cm_title = 'Confusion matrix, with normalization'\n",
    "    else:\n",
    "        cm_title = title\n",
    "\n",
    "    fmt = '.3f' if normalize else 'd'\n",
    "    sns.heatmap(cm, fmt=fmt, annot=True, square=True,\n",
    "                xticklabels=classes, yticklabels=classes,\n",
    "                cmap=cmap,\n",
    "                linewidths=0.5, linecolor=linecolor,\n",
    "                cbar=False)\n",
    "    sns.despine(left=False, right=False, top=False, bottom=False)\n",
    "\n",
    "    plt.title(cm_title)\n",
    "    plt.ylabel('True class')\n",
    "    plt.xlabel('Predicted class')\n",
    "    plt.tight_layout()\n",
    "\n",
    "\n",
    "def pretty_classification_report(y_test, y_pred, labels=None, cmap='viridis'):\n",
    "    df = pd.DataFrame(classification_report(y_pred, \n",
    "                                            y_test, digits=2, \n",
    "                                            target_names=labels,\n",
    "                                            output_dict=True)).T\n",
    "    df['support'] = df.support.apply(int)\n",
    "\n",
    "    return  df.style.background_gradient(cmap=cmap,\n",
    "                                subset=pd.IndexSlice['0':'9', :'f1-score'])\n"
   ]
  },
  {
   "cell_type": "markdown",
   "id": "0863df23",
   "metadata": {},
   "source": [
    "## Auto-Sklearn\n",
    "\n",
    "`pip install auto-sklearn`"
   ]
  },
  {
   "cell_type": "code",
   "execution_count": 6,
   "id": "8757051c",
   "metadata": {},
   "outputs": [
    {
     "name": "stdout",
     "output_type": "stream",
     "text": [
      "The autoreload extension is already loaded. To reload it, use:\n",
      "  %reload_ext autoreload\n"
     ]
    }
   ],
   "source": [
    "%load_ext autoreload\n",
    "%autoreload 2\n",
    "\n",
    "import autosklearn.classification\n"
   ]
  },
  {
   "cell_type": "code",
   "execution_count": 7,
   "id": "ccf1b537",
   "metadata": {},
   "outputs": [],
   "source": [
    "# import os\n",
    "\n",
    "# os.environ[\"OPENBLAS_NUM_THREADS\"] = \"8\""
   ]
  },
  {
   "cell_type": "code",
   "execution_count": 8,
   "id": "5b126e9e",
   "metadata": {},
   "outputs": [
    {
     "name": "stdout",
     "output_type": "stream",
     "text": [
      "[WARNING] [2022-06-08 17:31:45,663:Client-AutoML(1):6d315849-e705-11ec-9656-277e5c64617f] Capping the per_run_time_limit to 29.0 to have time for a least 2 models in each process.\n"
     ]
    },
    {
     "name": "stderr",
     "output_type": "stream",
     "text": [
      "/home/botu/.local/lib/python3.10/site-packages/autosklearn/metalearning/metalearning/meta_base.py:68: FutureWarning: The frame.append method is deprecated and will be removed from pandas in a future version. Use pandas.concat instead.\n",
      "  self.metafeatures = self.metafeatures.append(metafeatures)\n",
      "/home/botu/.local/lib/python3.10/site-packages/autosklearn/metalearning/metalearning/meta_base.py:72: FutureWarning: The frame.append method is deprecated and will be removed from pandas in a future version. Use pandas.concat instead.\n",
      "  self.algorithm_runs[metric].append(runs)\n"
     ]
    },
    {
     "name": "stdout",
     "output_type": "stream",
     "text": [
      "[ERROR] [2022-06-08 17:32:34,908:asyncio.events] \n",
      "Traceback (most recent call last):\n",
      "  File \"/home/botu/.local/lib/python3.10/site-packages/distributed/client.py\", line 1406, in _handle_report\n",
      "    msgs = await self.scheduler_comm.comm.read()\n",
      "  File \"/home/botu/.local/lib/python3.10/site-packages/distributed/comm/inproc.py\", line 200, in read\n",
      "    raise CommClosedError()\n",
      "distributed.comm.core.CommClosedError\n",
      "\n",
      "During handling of the above exception, another exception occurred:\n",
      "\n",
      "Traceback (most recent call last):\n",
      "  File \"/home/botu/.local/lib/python3.10/site-packages/distributed/utils.py\", line 761, in wrapper\n",
      "    return await func(*args, **kwargs)\n",
      "  File \"/home/botu/.local/lib/python3.10/site-packages/distributed/client.py\", line 1414, in _handle_report\n",
      "    await self._reconnect()\n",
      "  File \"/home/botu/.local/lib/python3.10/site-packages/distributed/utils.py\", line 761, in wrapper\n",
      "    return await func(*args, **kwargs)\n",
      "  File \"/home/botu/.local/lib/python3.10/site-packages/distributed/client.py\", line 1225, in _reconnect\n",
      "    await self._ensure_connected(timeout=timeout)\n",
      "  File \"/home/botu/.local/lib/python3.10/site-packages/distributed/client.py\", line 1255, in _ensure_connected\n",
      "    comm = await connect(\n",
      "  File \"/home/botu/.local/lib/python3.10/site-packages/distributed/comm/core.py\", line 313, in connect\n",
      "    await asyncio.sleep(backoff)\n",
      "  File \"/usr/lib/python3.10/asyncio/tasks.py\", line 605, in sleep\n",
      "    return await future\n",
      "asyncio.exceptions.CancelledError\n"
     ]
    },
    {
     "data": {
      "text/plain": [
       "AutoSklearnClassifier(memory_limit=8192, n_jobs=4, per_run_time_limit=30,\n",
       "                      time_left_for_this_task=60)"
      ]
     },
     "execution_count": 8,
     "metadata": {},
     "output_type": "execute_result"
    }
   ],
   "source": [
    "automl = autosklearn.classification.AutoSklearnClassifier(\n",
    "    time_left_for_this_task=60,\n",
    "    per_run_time_limit=30,\n",
    "    n_jobs=4,\n",
    "    # Each one of the 4 jobs is allocated 8GB\n",
    "    memory_limit=8192,\n",
    "    # Bellow two flags are provided to speed up calculations\n",
    "    # Not recommended for a real implementation\n",
    "    # initial_configurations_via_metalearning=0,\n",
    "    # smac_scenario_args={'runcount_limit': 1},\n",
    ")\n",
    "automl.fit(train_X, train_y)"
   ]
  },
  {
   "cell_type": "code",
   "execution_count": 9,
   "id": "cbd76d6e",
   "metadata": {},
   "outputs": [
    {
     "name": "stdout",
     "output_type": "stream",
     "text": [
      "Accuracy score 0.8662202380952381\n"
     ]
    }
   ],
   "source": [
    "y_automl = automl.predict(test_X)\n",
    "print(\"Accuracy score\", accuracy_score(test_y, y_automl))"
   ]
  },
  {
   "cell_type": "code",
   "execution_count": 10,
   "id": "4914a60a",
   "metadata": {},
   "outputs": [
    {
     "data": {
      "image/png": "[encoded data removed]",
      "text/plain": [
       "<Figure size 432x288 with 1 Axes>"
      ]
     },
     "metadata": {},
     "output_type": "display_data"
    }
   ],
   "source": [
    "model = 'AutoML'\n",
    "plot_confusion_matrix(test_y, y_automl, labels,  f'Confusion Matrix {model}')"
   ]
  },
  {
   "cell_type": "code",
   "execution_count": 11,
   "id": "e394b0d4",
   "metadata": {},
   "outputs": [
    {
     "data": {
      "text/html": [
       "<style type=\"text/css\">\n",
       "#T_68b4d_row0_col0 {\n",
       "  background-color: #9dd93b;\n",
       "  color: #000000;\n",
       "}\n",
       "#T_68b4d_row0_col1, #T_68b4d_row1_col1 {\n",
       "  background-color: #2b758e;\n",
       "  color: #f1f1f1;\n",
       "}\n",
       "#T_68b4d_row0_col2 {\n",
       "  background-color: #56c667;\n",
       "  color: #000000;\n",
       "}\n",
       "#T_68b4d_row1_col0 {\n",
       "  background-color: #54c568;\n",
       "  color: #000000;\n",
       "}\n",
       "#T_68b4d_row1_col2 {\n",
       "  background-color: #32b67a;\n",
       "  color: #f1f1f1;\n",
       "}\n",
       "#T_68b4d_row2_col0, #T_68b4d_row2_col1, #T_68b4d_row2_col2 {\n",
       "  background-color: #fde725;\n",
       "  color: #000000;\n",
       "}\n",
       "#T_68b4d_row3_col0, #T_68b4d_row3_col1, #T_68b4d_row3_col2 {\n",
       "  background-color: #440154;\n",
       "  color: #f1f1f1;\n",
       "}\n",
       "#T_68b4d_row4_col0 {\n",
       "  background-color: #472d7b;\n",
       "  color: #f1f1f1;\n",
       "}\n",
       "#T_68b4d_row4_col1 {\n",
       "  background-color: #450457;\n",
       "  color: #f1f1f1;\n",
       "}\n",
       "#T_68b4d_row4_col2 {\n",
       "  background-color: #472a7a;\n",
       "  color: #f1f1f1;\n",
       "}\n",
       "</style>\n",
       "<table id=\"T_68b4d\">\n",
       "  <thead>\n",
       "    <tr>\n",
       "      <th class=\"blank level0\" >&nbsp;</th>\n",
       "      <th id=\"T_68b4d_level0_col0\" class=\"col_heading level0 col0\" >precision</th>\n",
       "      <th id=\"T_68b4d_level0_col1\" class=\"col_heading level0 col1\" >recall</th>\n",
       "      <th id=\"T_68b4d_level0_col2\" class=\"col_heading level0 col2\" >f1-score</th>\n",
       "      <th id=\"T_68b4d_level0_col3\" class=\"col_heading level0 col3\" >support</th>\n",
       "    </tr>\n",
       "  </thead>\n",
       "  <tbody>\n",
       "    <tr>\n",
       "      <th id=\"T_68b4d_level0_row0\" class=\"row_heading level0 row0\" >0</th>\n",
       "      <td id=\"T_68b4d_row0_col0\" class=\"data row0 col0\" >0.879152</td>\n",
       "      <td id=\"T_68b4d_row0_col1\" class=\"data row0 col1\" >0.801546</td>\n",
       "      <td id=\"T_68b4d_row0_col2\" class=\"data row0 col2\" >0.838557</td>\n",
       "      <td id=\"T_68b4d_row0_col3\" class=\"data row0 col3\" >1552</td>\n",
       "    </tr>\n",
       "    <tr>\n",
       "      <th id=\"T_68b4d_level0_row1\" class=\"row_heading level0 row1\" >1</th>\n",
       "      <td id=\"T_68b4d_row1_col0\" class=\"data row1 col0\" >0.817013</td>\n",
       "      <td id=\"T_68b4d_row1_col1\" class=\"data row1 col1\" >0.801164</td>\n",
       "      <td id=\"T_68b4d_row1_col2\" class=\"data row1 col2\" >0.809011</td>\n",
       "      <td id=\"T_68b4d_row1_col3\" class=\"data row1 col3\" >1031</td>\n",
       "    </tr>\n",
       "    <tr>\n",
       "      <th id=\"T_68b4d_level0_row2\" class=\"row_heading level0 row2\" >2</th>\n",
       "      <td id=\"T_68b4d_row2_col0\" class=\"data row2 col0\" >0.952208</td>\n",
       "      <td id=\"T_68b4d_row2_col1\" class=\"data row2 col1\" >0.931129</td>\n",
       "      <td id=\"T_68b4d_row2_col2\" class=\"data row2 col2\" >0.941550</td>\n",
       "      <td id=\"T_68b4d_row2_col3\" class=\"data row2 col3\" >3659</td>\n",
       "    </tr>\n",
       "    <tr>\n",
       "      <th id=\"T_68b4d_level0_row3\" class=\"row_heading level0 row3\" >3</th>\n",
       "      <td id=\"T_68b4d_row3_col0\" class=\"data row3 col0\" >0.449864</td>\n",
       "      <td id=\"T_68b4d_row3_col1\" class=\"data row3 col1\" >0.718615</td>\n",
       "      <td id=\"T_68b4d_row3_col2\" class=\"data row3 col2\" >0.553333</td>\n",
       "      <td id=\"T_68b4d_row3_col3\" class=\"data row3 col3\" >231</td>\n",
       "    </tr>\n",
       "    <tr>\n",
       "      <th id=\"T_68b4d_level0_row4\" class=\"row_heading level0 row4\" >4</th>\n",
       "      <td id=\"T_68b4d_row4_col0\" class=\"data row4 col0\" >0.512968</td>\n",
       "      <td id=\"T_68b4d_row4_col1\" class=\"data row4 col1\" >0.720648</td>\n",
       "      <td id=\"T_68b4d_row4_col2\" class=\"data row4 col2\" >0.599327</td>\n",
       "      <td id=\"T_68b4d_row4_col3\" class=\"data row4 col3\" >247</td>\n",
       "    </tr>\n",
       "    <tr>\n",
       "      <th id=\"T_68b4d_level0_row5\" class=\"row_heading level0 row5\" >accuracy</th>\n",
       "      <td id=\"T_68b4d_row5_col0\" class=\"data row5 col0\" >0.866220</td>\n",
       "      <td id=\"T_68b4d_row5_col1\" class=\"data row5 col1\" >0.866220</td>\n",
       "      <td id=\"T_68b4d_row5_col2\" class=\"data row5 col2\" >0.866220</td>\n",
       "      <td id=\"T_68b4d_row5_col3\" class=\"data row5 col3\" >0</td>\n",
       "    </tr>\n",
       "    <tr>\n",
       "      <th id=\"T_68b4d_level0_row6\" class=\"row_heading level0 row6\" >macro avg</th>\n",
       "      <td id=\"T_68b4d_row6_col0\" class=\"data row6 col0\" >0.722241</td>\n",
       "      <td id=\"T_68b4d_row6_col1\" class=\"data row6 col1\" >0.794620</td>\n",
       "      <td id=\"T_68b4d_row6_col2\" class=\"data row6 col2\" >0.748356</td>\n",
       "      <td id=\"T_68b4d_row6_col3\" class=\"data row6 col3\" >6720</td>\n",
       "    </tr>\n",
       "    <tr>\n",
       "      <th id=\"T_68b4d_level0_row7\" class=\"row_heading level0 row7\" >weighted avg</th>\n",
       "      <td id=\"T_68b4d_row7_col0\" class=\"data row7 col0\" >0.881181</td>\n",
       "      <td id=\"T_68b4d_row7_col1\" class=\"data row7 col1\" >0.866220</td>\n",
       "      <td id=\"T_68b4d_row7_col2\" class=\"data row7 col2\" >0.871506</td>\n",
       "      <td id=\"T_68b4d_row7_col3\" class=\"data row7 col3\" >6720</td>\n",
       "    </tr>\n",
       "  </tbody>\n",
       "</table>\n"
      ],
      "text/plain": [
       "<pandas.io.formats.style.Styler at 0x7f00e318f910>"
      ]
     },
     "execution_count": 11,
     "metadata": {},
     "output_type": "execute_result"
    }
   ],
   "source": [
    "pretty_classification_report(test_y, y_automl)"
   ]
  },
  {
   "cell_type": "code",
   "execution_count": 12,
   "id": "a73a48f1",
   "metadata": {},
   "outputs": [
    {
     "name": "stdout",
     "output_type": "stream",
     "text": [
      "F1 score : 0.7483557076076611\n"
     ]
    }
   ],
   "source": [
    "from sklearn.metrics import f1_score\n",
    "\n",
    "f1 = f1_score(test_y, y_automl, average='macro')\n",
    "print('F1 score :', f1)"
   ]
  }
 ],
 "metadata": {
  "kernelspec": {
   "display_name": "Python 3.10.4 64-bit",
   "language": "python",
   "name": "python3"
  },
  "language_info": {
   "codemirror_mode": {
    "name": "ipython",
    "version": 3
   },
   "file_extension": ".py",
   "mimetype": "text/x-python",
   "name": "python",
   "nbconvert_exporter": "python",
   "pygments_lexer": "ipython3",
   "version": "3.10.4"
  },
  "toc": {
   "base_numbering": 1,
   "nav_menu": {},
   "number_sections": true,
   "sideBar": true,
   "skip_h1_title": false,
   "title_cell": "Table of Contents",
   "title_sidebar": "Contents",
   "toc_cell": false,
   "toc_position": {
    "height": "calc(100% - 180px)",
    "left": "10px",
    "top": "150px",
    "width": "341.333px"
   },
   "toc_section_display": true,
   "toc_window_display": true
  },
  "vscode": {
   "interpreter": {
    "hash": "31f2aee4e71d21fbe5cf8b01ff0e069b9275f58929596ceb00d14d90e3e16cd6"
   }
  }
 },
 "nbformat": 4,
 "nbformat_minor": 5
}
