{
 "cells": [
  {
   "cell_type": "markdown",
   "id": "2ab523fa",
   "metadata": {},
   "source": [
    "# Testing with CATBoost"
   ]
  },
  {
   "cell_type": "code",
   "execution_count": 1,
   "id": "e11a61f6",
   "metadata": {},
   "outputs": [
    {
     "name": "stderr",
     "output_type": "stream",
     "text": [
      "/home/stefano/botu/aichallenge-2022/notebooks/fede/env/lib/python3.8/site-packages/tqdm/auto.py:22: TqdmWarning: IProgress not found. Please update jupyter and ipywidgets. See https://ipywidgets.readthedocs.io/en/stable/user_install.html\n",
      "  from .autonotebook import tqdm as notebook_tqdm\n"
     ]
    }
   ],
   "source": [
    "%load_ext autoreload\n",
    "%autoreload 2\n",
    "\n",
    "import pandas as pd\n",
    "import os\n",
    "import matplotlib.pyplot as plt\n",
    "import seaborn as sns\n",
    "import numpy as np\n",
    "from sklearn.metrics import f1_score\n",
    "sns.set_theme()\n",
    "from catboost import CatBoostClassifier\n",
    "import scipy\n",
    "from scipy import signal\n",
    "\n",
    "import sys; sys.path.append(\"../../\")\n",
    "from modules.utils import load_yaml\n",
    "from modules.evaluation import pretty_classification_report, plot_confusion_matrix"
   ]
  },
  {
   "cell_type": "markdown",
   "id": "c1053083",
   "metadata": {},
   "source": [
    "# Read Data\n",
    "\n",
    "Note: in the submission, we cannot use `test.csv`. This has no labels and it is for submission only. So we need to use validation data as the test\n",
    "\n",
    "--> This should be OK since the data size seems large enough"
   ]
  },
  {
   "cell_type": "code",
   "execution_count": 2,
   "id": "eec6863c",
   "metadata": {},
   "outputs": [
    {
     "name": "stdout",
     "output_type": "stream",
     "text": [
      "../../config/train_config.yaml\n"
     ]
    }
   ],
   "source": [
    "TRAIN_CONFIG_PATH = '../../config/train_config.yaml'\n",
    "DATA_PATH = '../../data/01_split/'\n",
    "\n",
    "config = load_yaml(TRAIN_CONFIG_PATH)\n",
    "LABEL_ENCODING = config['LABEL_ENCODING']\n",
    "\n",
    "train_df = pd.read_csv(os.path.join(DATA_PATH, 'train.csv'))\n",
    "valid_df = pd.read_csv(os.path.join(DATA_PATH, 'valid.csv'))\n",
    "\n",
    "encoding_to_label = {v: k for k, v in LABEL_ENCODING.items()}\n",
    "labels = [key for key in LABEL_ENCODING.keys()]\n"
   ]
  },
  {
   "cell_type": "markdown",
   "id": "fee75e53",
   "metadata": {},
   "source": [
    "## Split into train and test\n",
    "\n",
    "As said, we will use val and test as the same "
   ]
  },
  {
   "cell_type": "code",
   "execution_count": 4,
   "id": "4108511c",
   "metadata": {},
   "outputs": [],
   "source": [
    "train_X, train_y = train_df.loc[:,train_df.columns!='leaktype'], train_df['leaktype']\n",
    "valid_X, valid_y = valid_df.loc[:,train_df.columns!='leaktype'], valid_df['leaktype']\n",
    "\n",
    "train_y = train_y.replace(LABEL_ENCODING)\n",
    "valid_y = valid_y.replace(LABEL_ENCODING)\n",
    "\n",
    "# Same testing and validation\n",
    "test_X, test_y = valid_X, valid_y\n",
    "\n",
    "# Imbalanced learning\n",
    "from sklearn.utils.class_weight import compute_class_weight\n",
    "import numpy as np\n",
    "\n",
    "class_weights = compute_class_weight(class_weight='balanced', classes=np.arange(5), y=train_y)"
   ]
  },
  {
   "cell_type": "code",
   "execution_count": 12,
   "id": "6696378d",
   "metadata": {},
   "outputs": [
    {
     "name": "stdout",
     "output_type": "stream",
     "text": [
      "Requirement already up-to-date: scipy in ./env/lib/python3.8/site-packages (1.8.1)\n",
      "Requirement already satisfied, skipping upgrade: numpy<1.25.0,>=1.17.3 in ./env/lib/python3.8/site-packages (from scipy) (1.22.4)\n"
     ]
    }
   ],
   "source": [
    "# !pip install --upgrade scipy"
   ]
  },
  {
   "cell_type": "code",
   "execution_count": 31,
   "id": "2cbb4f43",
   "metadata": {},
   "outputs": [],
   "source": [
    "# from tsfresh import extract_features\n",
    "# from tsfresh import extract_features, extract_relevant_features, select_features\n",
    "\n",
    "# x_inverse = scipy.fft.ifft(train_X.to_numpy()).real\n"
   ]
  },
  {
   "cell_type": "code",
   "execution_count": 149,
   "id": "6f0ac57a",
   "metadata": {},
   "outputs": [],
   "source": [
    "# from pyts.transformation import ROCKET\n",
    "\n",
    "# rocket = ROCKET()\n",
    "\n",
    "# rocket.fit(train_X)\n",
    "\n",
    "# res_ = rocket.transform(train_X)"
   ]
  },
  {
   "cell_type": "code",
   "execution_count": 128,
   "id": "9e7bfeeb",
   "metadata": {},
   "outputs": [],
   "source": [
    "# import scipy.stats\n",
    "# impor tmatplotlib.pyplotasplt\n",
    "\n",
    "class Fea_Extra():\n",
    "    def __init__(self,Signal,Fs=10):\n",
    "        self.signal=Signal\n",
    "        self.Fs=Fs\n",
    "\n",
    "    def Time_fea(self,signal_):\n",
    "        \"\"\"\n",
    "        Extract11typesoftimedomainfeatures\n",
    "        \"\"\"\n",
    "        N=len(signal_)\n",
    "        y=signal_\n",
    "        t_mean_1=np.mean(y)#1_mean(averageamplitude)\n",
    "        t_std_2=np.std(y,ddof=1)#2_standarddeviation\n",
    "        t_fgf_3=((np.mean(np.sqrt(np.abs(y)))))**2#3_squarerootamplitude\n",
    "        t_rms_4=np.sqrt((np.mean(y**2)))#4_RMSrms\n",
    "        t_pp_5=0.5*(np.max(y)-np.min(y))#5_peak(refertoDr.ZhouHongtiseniorsisterapprenticethesis)\n",
    "        #t_skew_6=np.sum((t_mean_1)**3)/((N-1)*(t_std_3)**3)\n",
    "        t_skew_6=scipy.stats.skew(y)#6_skewness\n",
    "        #t_kur_7=np.sum((y-t_mean_1)**4)/((N-1)*(t_std_3)**4)\n",
    "        t_kur_7=scipy.stats.kurtosis(y)#7_kurtosis\n",
    "        t_cres_8=np.max(np.abs(y))/t_rms_4#8_CrestFactor\n",
    "        t_clear_9=np.max(np.abs(y))/t_fgf_3#9_clearancefactor\n",
    "        t_shape_10=(N*t_rms_4)/(np.sum(np.abs(y)))#10_Shapefator\n",
    "        t_imp_11=(np.max(np.abs(y)))/(np.mean(np.abs(y)))#11_ImpulseFator\n",
    "        t_fea=np.array([t_mean_1,t_std_2,t_fgf_3,t_rms_4,t_pp_5,\n",
    "        t_skew_6,t_kur_7,t_cres_8,t_clear_9,t_shape_10,t_imp_11])\n",
    "        return t_fea\n",
    "\n",
    "    def Fre_fea(self,signal_):\n",
    "        \"\"\"\n",
    "        Extract13typesoffrequencydomainfeatures\n",
    "        :paramsignal_:\n",
    "        :return:\n",
    "        \"\"\"\n",
    "        L=len(signal_)\n",
    "        PL=abs(np.fft.fft(signal_/L))[:int(L/2)]\n",
    "        PL[0]=0\n",
    "        F=np.fft.fftfreq(L,.1/self.Fs)[:int(L/2)]\n",
    "        x=F\n",
    "        y=PL\n",
    "        K=len(y)\n",
    "        f_12=np.mean(y)\n",
    "        f_13=np.var(y)\n",
    "        f_14=(np.sum((y-f_12)**3))/(K*((np.sqrt(f_13))**3))\n",
    "        f_15=(np.sum((y-f_12)**4))/(K*((f_13)**2))\n",
    "        f_16=(np.sum(x*y))/(np.sum(y))\n",
    "        f_17=np.sqrt((np.mean(((x-f_16)**2)*(y))))\n",
    "        f_18=np.sqrt((np.sum((x**2)*y))/(np.sum(y)))\n",
    "        f_19=np.sqrt((np.sum((x**4)*y))/(np.sum((x**2)*y)))\n",
    "        f_20=(np.sum((x**2)*y))/(np.sqrt((np.sum(y))*(np.sum((x**4)*y))))\n",
    "        f_21=f_17/f_16\n",
    "        f_22=(np.sum(((x-f_16)**3)*y))/(K*(f_17**3))\n",
    "        f_23=(np.sum(((x-f_16)**4)*y))/(K*(f_17**4))\n",
    "        f_fea=np.array([f_12,f_13,f_14,f_15,f_16,f_17,f_18,f_19,f_20,f_21,f_22,f_23])\n",
    "        return f_fea"
   ]
  },
  {
   "cell_type": "code",
   "execution_count": 129,
   "id": "a84fb68f",
   "metadata": {},
   "outputs": [],
   "source": [
    "from tqdm.auto import tqdm\n",
    "\n",
    "def get_features(x_inverse, freq_feature_spacing=10):\n",
    "    freq_class = Fea_Extra(x_inverse, freq_feature_spacing) # may need to fix\n",
    "    feats = []\n",
    "    for x in tqdm(x_inverse):\n",
    "        # print(x.type)\n",
    "        time_fea = freq_class.Time_fea(x)[None]\n",
    "        freq_fea = freq_class.Fre_fea(x)[None]\n",
    "        feat_ = np.concatenate([time_fea, freq_fea], axis=1)\n",
    "        feats.append(feat_)\n",
    "    feats = np.concatenate(feats, axis=0)\n",
    "    return feats"
   ]
  },
  {
   "cell_type": "code",
   "execution_count": 133,
   "id": "f1824a22",
   "metadata": {},
   "outputs": [],
   "source": [
    "from scipy.stats import kurtosis, skew, entropy, differential_entropy\n",
    "\n",
    "\n",
    "def add_frequency_features(x):\n",
    "    feats = [x]\n",
    "\n",
    "    x_inverse = scipy.fft.ifft(x).real\n",
    "    # x_inverse = scipy.fft.irfft(x)[:, :513]\n",
    "    feats.append(x_inverse)\n",
    "\n",
    "    feats.append(get_features(x_inverse))\n",
    "\n",
    "    # feats.append(kurtosis(x_inverse, axis=1)[:,None])\n",
    "    # feats.append(skew(x_inverse, axis=1)[:,None])\n",
    "    # # # feats.append(entropy(x_inverse, axis=1)[:,None])\n",
    "    # # # feats.append(differential_entropy(x_inverse, axis=1)[:,None])\n",
    "    # feats.append(np.max(x_inverse, axis=1)[:,None])\n",
    "    # feats.append(np.min(x_inverse, axis=1)[:,None])\n",
    "    # feats.append(np.std(x_inverse, axis=1)[:,None])\n",
    "    # feats.append(np.mean(x_inverse, axis=1)[:,None])\n",
    "    # feats.append(np.median(x_inverse, axis=1)[:,None])\n",
    "\n",
    "    # x_inverse = scipy.fft.ifft(x)\n",
    "    # czt  = scipy.signal.czt(x_inverse)[:, :256]\n",
    "    # feats.append(czt.real)\n",
    "    # feats.append(czt.imag)\n",
    "        \n",
    "    return np.concatenate(feats, -1)"
   ]
  },
  {
   "cell_type": "code",
   "execution_count": 134,
   "id": "b869e266",
   "metadata": {},
   "outputs": [
    {
     "name": "stderr",
     "output_type": "stream",
     "text": [
      "100%|██████████| 26880/26880 [00:12<00:00, 2097.84it/s]\n",
      "100%|██████████| 6720/6720 [00:03<00:00, 2120.98it/s]\n"
     ]
    }
   ],
   "source": [
    "x_train_new = add_frequency_features(train_X.to_numpy())\n",
    "x_valid_new = add_frequency_features(valid_X.to_numpy())\n",
    "x_test_new = x_valid_new"
   ]
  },
  {
   "cell_type": "markdown",
   "id": "1288c9cd",
   "metadata": {},
   "source": [
    "# Train Models\n",
    "\n",
    "<!-- Tricks: we can use custom parameters to maximize the F1 score -->"
   ]
  },
  {
   "cell_type": "code",
   "execution_count": 136,
   "id": "0f0efc55",
   "metadata": {},
   "outputs": [
    {
     "name": "stdout",
     "output_type": "stream",
     "text": [
      "Learning rate set to 0.080175\n",
      "0:\tlearn: 0.4554244\ttest: 0.3636919\tbest: 0.3636919 (0)\ttotal: 26.5ms\tremaining: 2m 12s\n",
      "200:\tlearn: 0.8554152\ttest: 0.6820482\tbest: 0.6826410 (199)\ttotal: 2.97s\tremaining: 1m 10s\n",
      "400:\tlearn: 0.9423944\ttest: 0.7819312\tbest: 0.7821467 (397)\ttotal: 5.85s\tremaining: 1m 7s\n",
      "600:\tlearn: 0.9701739\ttest: 0.8219471\tbest: 0.8219471 (600)\ttotal: 8.72s\tremaining: 1m 3s\n",
      "800:\tlearn: 0.9821709\ttest: 0.8373760\tbest: 0.8394114 (788)\ttotal: 11.6s\tremaining: 1m\n",
      "1000:\tlearn: 0.9880201\ttest: 0.8487198\tbest: 0.8506171 (974)\ttotal: 14.4s\tremaining: 57.5s\n",
      "1200:\tlearn: 0.9917553\ttest: 0.8539269\tbest: 0.8555218 (1195)\ttotal: 17.2s\tremaining: 54.5s\n",
      "1400:\tlearn: 0.9938441\ttest: 0.8566023\tbest: 0.8568216 (1291)\ttotal: 20s\tremaining: 51.4s\n",
      "1600:\tlearn: 0.9954260\ttest: 0.8596907\tbest: 0.8623419 (1548)\ttotal: 22.8s\tremaining: 48.5s\n",
      "1800:\tlearn: 0.9966582\ttest: 0.8606741\tbest: 0.8631930 (1759)\ttotal: 25.7s\tremaining: 45.6s\n",
      "2000:\tlearn: 0.9973051\ttest: 0.8627340\tbest: 0.8655061 (1980)\ttotal: 28.4s\tremaining: 42.6s\n",
      "2200:\tlearn: 0.9978608\ttest: 0.8674462\tbest: 0.8681418 (2182)\ttotal: 31.3s\tremaining: 39.9s\n",
      "2400:\tlearn: 0.9983071\ttest: 0.8687868\tbest: 0.8696264 (2390)\ttotal: 34.1s\tremaining: 36.9s\n",
      "2600:\tlearn: 0.9987096\ttest: 0.8696130\tbest: 0.8696264 (2390)\ttotal: 36.9s\tremaining: 34s\n",
      "2800:\tlearn: 0.9989707\ttest: 0.8711908\tbest: 0.8719347 (2792)\ttotal: 39.7s\tremaining: 31.1s\n",
      "3000:\tlearn: 0.9991576\ttest: 0.8704689\tbest: 0.8719347 (2792)\ttotal: 42.4s\tremaining: 28.2s\n",
      "3200:\tlearn: 0.9993592\ttest: 0.8718922\tbest: 0.8731210 (3096)\ttotal: 45.2s\tremaining: 25.4s\n",
      "3400:\tlearn: 0.9995082\ttest: 0.8718056\tbest: 0.8735359 (3288)\ttotal: 47.9s\tremaining: 22.5s\n",
      "3600:\tlearn: 0.9996153\ttest: 0.8730940\tbest: 0.8739232 (3527)\ttotal: 50.7s\tremaining: 19.7s\n",
      "3800:\tlearn: 0.9996886\ttest: 0.8738337\tbest: 0.8749725 (3779)\ttotal: 53.4s\tremaining: 16.9s\n",
      "4000:\tlearn: 0.9997811\ttest: 0.8750164\tbest: 0.8751543 (3983)\ttotal: 56.2s\tremaining: 14s\n",
      "4200:\tlearn: 0.9998223\ttest: 0.8751816\tbest: 0.8760355 (4041)\ttotal: 59s\tremaining: 11.2s\n",
      "4400:\tlearn: 0.9998457\ttest: 0.8760201\tbest: 0.8767763 (4391)\ttotal: 1m 1s\tremaining: 8.4s\n",
      "4600:\tlearn: 0.9998600\ttest: 0.8758454\tbest: 0.8767996 (4465)\ttotal: 1m 4s\tremaining: 5.59s\n",
      "4800:\tlearn: 0.9998921\ttest: 0.8732389\tbest: 0.8767996 (4465)\ttotal: 1m 7s\tremaining: 2.79s\n",
      "4999:\tlearn: 0.9999114\ttest: 0.8765920\tbest: 0.8771953 (4980)\ttotal: 1m 10s\tremaining: 0us\n",
      "bestTest = 0.877195337\n",
      "bestIteration = 4980\n",
      "Shrink model to first 4981 iterations.\n",
      "F1 score : 0.887\n"
     ]
    },
    {
     "data": {
      "text/html": [
       "<style type=\"text/css\">\n",
       "#T_f0c1d_row0_col0 {\n",
       "  background-color: #77d153;\n",
       "  color: #000000;\n",
       "}\n",
       "#T_f0c1d_row0_col1 {\n",
       "  background-color: #40bd72;\n",
       "  color: #f1f1f1;\n",
       "}\n",
       "#T_f0c1d_row0_col2 {\n",
       "  background-color: #50c46a;\n",
       "  color: #000000;\n",
       "}\n",
       "#T_f0c1d_row1_col0 {\n",
       "  background-color: #90d743;\n",
       "  color: #000000;\n",
       "}\n",
       "#T_f0c1d_row1_col1 {\n",
       "  background-color: #34b679;\n",
       "  color: #f1f1f1;\n",
       "}\n",
       "#T_f0c1d_row1_col2 {\n",
       "  background-color: #54c568;\n",
       "  color: #000000;\n",
       "}\n",
       "#T_f0c1d_row2_col0, #T_f0c1d_row2_col1, #T_f0c1d_row2_col2 {\n",
       "  background-color: #fde725;\n",
       "  color: #000000;\n",
       "}\n",
       "#T_f0c1d_row3_col0, #T_f0c1d_row3_col2, #T_f0c1d_row4_col1 {\n",
       "  background-color: #440154;\n",
       "  color: #f1f1f1;\n",
       "}\n",
       "#T_f0c1d_row3_col1 {\n",
       "  background-color: #375b8d;\n",
       "  color: #f1f1f1;\n",
       "}\n",
       "#T_f0c1d_row4_col0 {\n",
       "  background-color: #3d4e8a;\n",
       "  color: #f1f1f1;\n",
       "}\n",
       "#T_f0c1d_row4_col2 {\n",
       "  background-color: #470e61;\n",
       "  color: #f1f1f1;\n",
       "}\n",
       "</style>\n",
       "<table id=\"T_f0c1d\">\n",
       "  <thead>\n",
       "    <tr>\n",
       "      <th class=\"blank level0\" >&nbsp;</th>\n",
       "      <th id=\"T_f0c1d_level0_col0\" class=\"col_heading level0 col0\" >precision</th>\n",
       "      <th id=\"T_f0c1d_level0_col1\" class=\"col_heading level0 col1\" >recall</th>\n",
       "      <th id=\"T_f0c1d_level0_col2\" class=\"col_heading level0 col2\" >f1-score</th>\n",
       "      <th id=\"T_f0c1d_level0_col3\" class=\"col_heading level0 col3\" >support</th>\n",
       "    </tr>\n",
       "  </thead>\n",
       "  <tbody>\n",
       "    <tr>\n",
       "      <th id=\"T_f0c1d_level0_row0\" class=\"row_heading level0 row0\" >0</th>\n",
       "      <td id=\"T_f0c1d_row0_col0\" class=\"data row0 col0\" >0.934982</td>\n",
       "      <td id=\"T_f0c1d_row0_col1\" class=\"data row0 col1\" >0.925822</td>\n",
       "      <td id=\"T_f0c1d_row0_col2\" class=\"data row0 col2\" >0.930380</td>\n",
       "      <td id=\"T_f0c1d_row0_col3\" class=\"data row0 col3\" >1429</td>\n",
       "    </tr>\n",
       "    <tr>\n",
       "      <th id=\"T_f0c1d_level0_row1\" class=\"row_heading level0 row1\" >1</th>\n",
       "      <td id=\"T_f0c1d_row1_col0\" class=\"data row1 col0\" >0.944609</td>\n",
       "      <td id=\"T_f0c1d_row1_col1\" class=\"data row1 col1\" >0.920039</td>\n",
       "      <td id=\"T_f0c1d_row1_col2\" class=\"data row1 col2\" >0.932162</td>\n",
       "      <td id=\"T_f0c1d_row1_col3\" class=\"data row1 col3\" >1038</td>\n",
       "    </tr>\n",
       "    <tr>\n",
       "      <th id=\"T_f0c1d_level0_row2\" class=\"row_heading level0 row2\" >2</th>\n",
       "      <td id=\"T_f0c1d_row2_col0\" class=\"data row2 col0\" >0.985467</td>\n",
       "      <td id=\"T_f0c1d_row2_col1\" class=\"data row2 col1\" >0.982994</td>\n",
       "      <td id=\"T_f0c1d_row2_col2\" class=\"data row2 col2\" >0.984229</td>\n",
       "      <td id=\"T_f0c1d_row2_col3\" class=\"data row2 col3\" >3587</td>\n",
       "    </tr>\n",
       "    <tr>\n",
       "      <th id=\"T_f0c1d_level0_row3\" class=\"row_heading level0 row3\" >3</th>\n",
       "      <td id=\"T_f0c1d_row3_col0\" class=\"data row3 col0\" >0.737127</td>\n",
       "      <td id=\"T_f0c1d_row3_col1\" class=\"data row3 col1\" >0.850000</td>\n",
       "      <td id=\"T_f0c1d_row3_col2\" class=\"data row3 col2\" >0.789550</td>\n",
       "      <td id=\"T_f0c1d_row3_col3\" class=\"data row3 col3\" >320</td>\n",
       "    </tr>\n",
       "    <tr>\n",
       "      <th id=\"T_f0c1d_level0_row4\" class=\"row_heading level0 row4\" >4</th>\n",
       "      <td id=\"T_f0c1d_row4_col0\" class=\"data row4 col0\" >0.795389</td>\n",
       "      <td id=\"T_f0c1d_row4_col1\" class=\"data row4 col1\" >0.797688</td>\n",
       "      <td id=\"T_f0c1d_row4_col2\" class=\"data row4 col2\" >0.796537</td>\n",
       "      <td id=\"T_f0c1d_row4_col3\" class=\"data row4 col3\" >346</td>\n",
       "    </tr>\n",
       "    <tr>\n",
       "      <th id=\"T_f0c1d_level0_row5\" class=\"row_heading level0 row5\" >accuracy</th>\n",
       "      <td id=\"T_f0c1d_row5_col0\" class=\"data row5 col0\" >0.945238</td>\n",
       "      <td id=\"T_f0c1d_row5_col1\" class=\"data row5 col1\" >0.945238</td>\n",
       "      <td id=\"T_f0c1d_row5_col2\" class=\"data row5 col2\" >0.945238</td>\n",
       "      <td id=\"T_f0c1d_row5_col3\" class=\"data row5 col3\" >0</td>\n",
       "    </tr>\n",
       "    <tr>\n",
       "      <th id=\"T_f0c1d_level0_row6\" class=\"row_heading level0 row6\" >macro avg</th>\n",
       "      <td id=\"T_f0c1d_row6_col0\" class=\"data row6 col0\" >0.879515</td>\n",
       "      <td id=\"T_f0c1d_row6_col1\" class=\"data row6 col1\" >0.895309</td>\n",
       "      <td id=\"T_f0c1d_row6_col2\" class=\"data row6 col2\" >0.886572</td>\n",
       "      <td id=\"T_f0c1d_row6_col3\" class=\"data row6 col3\" >6720</td>\n",
       "    </tr>\n",
       "    <tr>\n",
       "      <th id=\"T_f0c1d_level0_row7\" class=\"row_heading level0 row7\" >weighted avg</th>\n",
       "      <td id=\"T_f0c1d_row7_col0\" class=\"data row7 col0\" >0.946808</td>\n",
       "      <td id=\"T_f0c1d_row7_col1\" class=\"data row7 col1\" >0.945238</td>\n",
       "      <td id=\"T_f0c1d_row7_col2\" class=\"data row7 col2\" >0.945801</td>\n",
       "      <td id=\"T_f0c1d_row7_col3\" class=\"data row7 col3\" >6720</td>\n",
       "    </tr>\n",
       "  </tbody>\n",
       "</table>\n"
      ],
      "text/plain": [
       "<pandas.io.formats.style.Styler at 0x7f504fca8b80>"
      ]
     },
     "execution_count": 136,
     "metadata": {},
     "output_type": "execute_result"
    },
    {
     "data": {
      "image/png": "[encoded data removed]",
      "text/plain": [
       "<Figure size 432x288 with 1 Axes>"
      ]
     },
     "metadata": {
      "needs_background": "light"
     },
     "output_type": "display_data"
    }
   ],
   "source": [
    "MODEL_NAME = 'CATBoost - SMOTE'\n",
    "\n",
    "from imblearn.over_sampling import SMOTE\n",
    "smote = SMOTE(random_state = 42)\n",
    "X_oversample, y_oversample = smote.fit_resample(x_train_new, train_y)\n",
    "\n",
    "clf = CatBoostClassifier(\n",
    "    iterations=5000,\n",
    "    verbose=200,\n",
    "    objective='MultiClass',\n",
    "    eval_metric = 'TotalF1',\n",
    "    custom_metric='TotalF1',\n",
    "    task_type=\"GPU\",\n",
    "    # depth=9,\n",
    "    devices='2:3',\n",
    "    # learning_rate=0.3\n",
    "    class_weights=class_weights\n",
    ")\n",
    "\n",
    "\n",
    "clf.fit(\n",
    "    # x_train_new, train_y,\n",
    "    X_oversample, y_oversample,\n",
    "    # cat_features=labels,\n",
    "    eval_set=(x_valid_new, valid_y),\n",
    ")\n",
    "\n",
    "pred_y = clf.predict(x_test_new)\n",
    "model_name, y_hat = MODEL_NAME, pred_y\n",
    "plot_confusion_matrix(test_y, y_hat, labels,  f'Confusion Matrix {model_name}')\n",
    "print('F1 score : {:.3f}'.format(f1_score(test_y, y_hat, average='macro')))\n",
    "pretty_classification_report(test_y, y_hat)"
   ]
  },
  {
   "cell_type": "markdown",
   "id": "b58fecab",
   "metadata": {},
   "source": [
    "## Train on all available data"
   ]
  },
  {
   "cell_type": "code",
   "execution_count": 137,
   "id": "4d197996",
   "metadata": {},
   "outputs": [
    {
     "name": "stderr",
     "output_type": "stream",
     "text": [
      "100%|██████████| 33600/33600 [00:15<00:00, 2120.65it/s]\n"
     ]
    },
    {
     "name": "stdout",
     "output_type": "stream",
     "text": [
      "Learning rate set to 0.08199\n",
      "0:\tlearn: 0.5483392\ttest: 0.4750865\tbest: 0.4750865 (0)\ttotal: 139ms\tremaining: 11m 33s\n",
      "200:\tlearn: 0.9815197\ttest: 0.9491617\tbest: 0.9491617 (200)\ttotal: 16.4s\tremaining: 6m 31s\n",
      "400:\tlearn: 0.9955863\ttest: 0.9864615\tbest: 0.9864615 (400)\ttotal: 31.5s\tremaining: 6m\n",
      "600:\tlearn: 0.9981683\ttest: 0.9936904\tbest: 0.9936904 (600)\ttotal: 45.4s\tremaining: 5m 32s\n",
      "800:\tlearn: 0.9991474\ttest: 0.9966372\tbest: 0.9967806 (768)\ttotal: 58.9s\tremaining: 5m 8s\n",
      "1000:\tlearn: 0.9996072\ttest: 0.9983651\tbest: 0.9983651 (998)\ttotal: 1m 12s\tremaining: 4m 49s\n",
      "1200:\tlearn: 0.9998352\ttest: 0.9994690\tbest: 0.9994690 (1194)\ttotal: 1m 25s\tremaining: 4m 31s\n",
      "1400:\tlearn: 0.9999001\ttest: 0.9997461\tbest: 0.9997461 (1329)\ttotal: 1m 39s\tremaining: 4m 14s\n",
      "1600:\tlearn: 0.9999539\ttest: 0.9998569\tbest: 0.9998569 (1425)\ttotal: 1m 52s\tremaining: 3m 59s\n",
      "1800:\tlearn: 0.9999837\ttest: 1.0000000\tbest: 1.0000000 (1784)\ttotal: 2m 6s\tremaining: 3m 44s\n",
      "2000:\tlearn: 0.9999898\ttest: 1.0000000\tbest: 1.0000000 (1784)\ttotal: 2m 19s\tremaining: 3m 29s\n",
      "2200:\tlearn: 0.9999939\ttest: 1.0000000\tbest: 1.0000000 (1784)\ttotal: 2m 33s\tremaining: 3m 14s\n",
      "2400:\tlearn: 1.0000000\ttest: 1.0000000\tbest: 1.0000000 (1784)\ttotal: 2m 46s\tremaining: 3m\n",
      "2600:\tlearn: 1.0000000\ttest: 1.0000000\tbest: 1.0000000 (1784)\ttotal: 2m 59s\tremaining: 2m 45s\n",
      "2800:\tlearn: 1.0000000\ttest: 1.0000000\tbest: 1.0000000 (1784)\ttotal: 3m 12s\tremaining: 2m 31s\n",
      "3000:\tlearn: 1.0000000\ttest: 1.0000000\tbest: 1.0000000 (1784)\ttotal: 3m 26s\tremaining: 2m 17s\n",
      "3200:\tlearn: 1.0000000\ttest: 1.0000000\tbest: 1.0000000 (1784)\ttotal: 3m 39s\tremaining: 2m 3s\n",
      "3400:\tlearn: 1.0000000\ttest: 1.0000000\tbest: 1.0000000 (1784)\ttotal: 3m 52s\tremaining: 1m 49s\n",
      "3600:\tlearn: 1.0000000\ttest: 1.0000000\tbest: 1.0000000 (1784)\ttotal: 4m 6s\tremaining: 1m 35s\n",
      "3800:\tlearn: 1.0000000\ttest: 1.0000000\tbest: 1.0000000 (1784)\ttotal: 4m 19s\tremaining: 1m 21s\n",
      "4000:\tlearn: 1.0000000\ttest: 1.0000000\tbest: 1.0000000 (1784)\ttotal: 4m 32s\tremaining: 1m 8s\n",
      "4200:\tlearn: 1.0000000\ttest: 1.0000000\tbest: 1.0000000 (1784)\ttotal: 4m 46s\tremaining: 54.4s\n",
      "4400:\tlearn: 1.0000000\ttest: 1.0000000\tbest: 1.0000000 (1784)\ttotal: 4m 59s\tremaining: 40.7s\n",
      "4600:\tlearn: 1.0000000\ttest: 1.0000000\tbest: 1.0000000 (1784)\ttotal: 5m 12s\tremaining: 27.1s\n",
      "4800:\tlearn: 1.0000000\ttest: 1.0000000\tbest: 1.0000000 (1784)\ttotal: 5m 25s\tremaining: 13.5s\n",
      "4999:\tlearn: 1.0000000\ttest: 1.0000000\tbest: 1.0000000 (1784)\ttotal: 5m 39s\tremaining: 0us\n",
      "bestTest = 1\n",
      "bestIteration = 1784\n",
      "Shrink model to first 1785 iterations.\n",
      "F1 score : 1.000\n"
     ]
    },
    {
     "data": {
      "text/html": [
       "<style type=\"text/css\">\n",
       "#T_06e93_row0_col0, #T_06e93_row0_col1, #T_06e93_row0_col2, #T_06e93_row1_col0, #T_06e93_row1_col1, #T_06e93_row1_col2, #T_06e93_row2_col0, #T_06e93_row2_col1, #T_06e93_row2_col2, #T_06e93_row3_col0, #T_06e93_row3_col1, #T_06e93_row3_col2, #T_06e93_row4_col0, #T_06e93_row4_col1, #T_06e93_row4_col2 {\n",
       "  background-color: #440154;\n",
       "  color: #f1f1f1;\n",
       "}\n",
       "</style>\n",
       "<table id=\"T_06e93\">\n",
       "  <thead>\n",
       "    <tr>\n",
       "      <th class=\"blank level0\" >&nbsp;</th>\n",
       "      <th id=\"T_06e93_level0_col0\" class=\"col_heading level0 col0\" >precision</th>\n",
       "      <th id=\"T_06e93_level0_col1\" class=\"col_heading level0 col1\" >recall</th>\n",
       "      <th id=\"T_06e93_level0_col2\" class=\"col_heading level0 col2\" >f1-score</th>\n",
       "      <th id=\"T_06e93_level0_col3\" class=\"col_heading level0 col3\" >support</th>\n",
       "    </tr>\n",
       "  </thead>\n",
       "  <tbody>\n",
       "    <tr>\n",
       "      <th id=\"T_06e93_level0_row0\" class=\"row_heading level0 row0\" >0</th>\n",
       "      <td id=\"T_06e93_row0_col0\" class=\"data row0 col0\" >1.000000</td>\n",
       "      <td id=\"T_06e93_row0_col1\" class=\"data row0 col1\" >1.000000</td>\n",
       "      <td id=\"T_06e93_row0_col2\" class=\"data row0 col2\" >1.000000</td>\n",
       "      <td id=\"T_06e93_row0_col3\" class=\"data row0 col3\" >1415</td>\n",
       "    </tr>\n",
       "    <tr>\n",
       "      <th id=\"T_06e93_level0_row1\" class=\"row_heading level0 row1\" >1</th>\n",
       "      <td id=\"T_06e93_row1_col0\" class=\"data row1 col0\" >1.000000</td>\n",
       "      <td id=\"T_06e93_row1_col1\" class=\"data row1 col1\" >1.000000</td>\n",
       "      <td id=\"T_06e93_row1_col2\" class=\"data row1 col2\" >1.000000</td>\n",
       "      <td id=\"T_06e93_row1_col3\" class=\"data row1 col3\" >1011</td>\n",
       "    </tr>\n",
       "    <tr>\n",
       "      <th id=\"T_06e93_level0_row2\" class=\"row_heading level0 row2\" >2</th>\n",
       "      <td id=\"T_06e93_row2_col0\" class=\"data row2 col0\" >1.000000</td>\n",
       "      <td id=\"T_06e93_row2_col1\" class=\"data row2 col1\" >1.000000</td>\n",
       "      <td id=\"T_06e93_row2_col2\" class=\"data row2 col2\" >1.000000</td>\n",
       "      <td id=\"T_06e93_row2_col3\" class=\"data row2 col3\" >3578</td>\n",
       "    </tr>\n",
       "    <tr>\n",
       "      <th id=\"T_06e93_level0_row3\" class=\"row_heading level0 row3\" >3</th>\n",
       "      <td id=\"T_06e93_row3_col0\" class=\"data row3 col0\" >1.000000</td>\n",
       "      <td id=\"T_06e93_row3_col1\" class=\"data row3 col1\" >1.000000</td>\n",
       "      <td id=\"T_06e93_row3_col2\" class=\"data row3 col2\" >1.000000</td>\n",
       "      <td id=\"T_06e93_row3_col3\" class=\"data row3 col3\" >369</td>\n",
       "    </tr>\n",
       "    <tr>\n",
       "      <th id=\"T_06e93_level0_row4\" class=\"row_heading level0 row4\" >4</th>\n",
       "      <td id=\"T_06e93_row4_col0\" class=\"data row4 col0\" >1.000000</td>\n",
       "      <td id=\"T_06e93_row4_col1\" class=\"data row4 col1\" >1.000000</td>\n",
       "      <td id=\"T_06e93_row4_col2\" class=\"data row4 col2\" >1.000000</td>\n",
       "      <td id=\"T_06e93_row4_col3\" class=\"data row4 col3\" >347</td>\n",
       "    </tr>\n",
       "    <tr>\n",
       "      <th id=\"T_06e93_level0_row5\" class=\"row_heading level0 row5\" >accuracy</th>\n",
       "      <td id=\"T_06e93_row5_col0\" class=\"data row5 col0\" >1.000000</td>\n",
       "      <td id=\"T_06e93_row5_col1\" class=\"data row5 col1\" >1.000000</td>\n",
       "      <td id=\"T_06e93_row5_col2\" class=\"data row5 col2\" >1.000000</td>\n",
       "      <td id=\"T_06e93_row5_col3\" class=\"data row5 col3\" >1</td>\n",
       "    </tr>\n",
       "    <tr>\n",
       "      <th id=\"T_06e93_level0_row6\" class=\"row_heading level0 row6\" >macro avg</th>\n",
       "      <td id=\"T_06e93_row6_col0\" class=\"data row6 col0\" >1.000000</td>\n",
       "      <td id=\"T_06e93_row6_col1\" class=\"data row6 col1\" >1.000000</td>\n",
       "      <td id=\"T_06e93_row6_col2\" class=\"data row6 col2\" >1.000000</td>\n",
       "      <td id=\"T_06e93_row6_col3\" class=\"data row6 col3\" >6720</td>\n",
       "    </tr>\n",
       "    <tr>\n",
       "      <th id=\"T_06e93_level0_row7\" class=\"row_heading level0 row7\" >weighted avg</th>\n",
       "      <td id=\"T_06e93_row7_col0\" class=\"data row7 col0\" >1.000000</td>\n",
       "      <td id=\"T_06e93_row7_col1\" class=\"data row7 col1\" >1.000000</td>\n",
       "      <td id=\"T_06e93_row7_col2\" class=\"data row7 col2\" >1.000000</td>\n",
       "      <td id=\"T_06e93_row7_col3\" class=\"data row7 col3\" >6720</td>\n",
       "    </tr>\n",
       "  </tbody>\n",
       "</table>\n"
      ],
      "text/plain": [
       "<pandas.io.formats.style.Styler at 0x7f5066640be0>"
      ]
     },
     "execution_count": 137,
     "metadata": {},
     "output_type": "execute_result"
    },
    {
     "data": {
      "image/png": "[encoded data removed]",
      "text/plain": [
       "<Figure size 432x288 with 1 Axes>"
      ]
     },
     "metadata": {
      "needs_background": "light"
     },
     "output_type": "display_data"
    }
   ],
   "source": [
    "MODEL_NAME = 'CATBoost - SMOTE - ALL DATA'\n",
    "\n",
    "from imblearn.over_sampling import SMOTE\n",
    "smote = SMOTE(random_state = 42)\n",
    "\n",
    "total_train_X, total_train_y =  pd.concat([train_X, valid_X], ignore_index=True), pd.concat([train_y, valid_y], ignore_index=True)\n",
    "\n",
    "# Add features in frequency domain\n",
    "total_train_X = add_frequency_features(total_train_X.to_numpy())\n",
    "\n",
    "X_oversample, y_oversample = smote.fit_resample(total_train_X, total_train_y)\n",
    "\n",
    "clf = CatBoostClassifier(\n",
    "    iterations=5000,\n",
    "    verbose=200,\n",
    "    objective='MultiClass',\n",
    "    eval_metric = 'TotalF1',\n",
    "    custom_metric='TotalF1',\n",
    "    task_type=\"GPU\",\n",
    "    depth=10,\n",
    "    devices='2:3',\n",
    "    class_weights=class_weights\n",
    ")\n",
    "\n",
    "clf.fit(\n",
    "    X_oversample, y_oversample,\n",
    "    # cat_features=labels,\n",
    "    eval_set=(x_valid_new, valid_y),\n",
    ")\n",
    "\n",
    "pred_y = clf.predict(x_test_new)\n",
    "model_name, y_hat = MODEL_NAME, pred_y\n",
    "plot_confusion_matrix(test_y, y_hat, labels,  f'Confusion Matrix {model_name}')\n",
    "print('F1 score : {:.3f}'.format(f1_score(test_y, y_hat, average='macro')))\n",
    "pretty_classification_report(test_y, y_hat)"
   ]
  },
  {
   "cell_type": "markdown",
   "id": "7e887b1a",
   "metadata": {},
   "source": [
    "## Actual test for submission"
   ]
  },
  {
   "cell_type": "markdown",
   "id": "4a837fa2",
   "metadata": {},
   "source": [
    "## New test\n",
    "\n",
    "Here we transform test data so that it matches the format of the new model with new features"
   ]
  },
  {
   "cell_type": "code",
   "execution_count": 138,
   "id": "c202d064",
   "metadata": {},
   "outputs": [
    {
     "name": "stderr",
     "output_type": "stream",
     "text": [
      "100%|██████████| 7820/7820 [00:03<00:00, 2121.72it/s]\n"
     ]
    }
   ],
   "source": [
    "# Setup\n",
    "model = clf\n",
    "LABEL_DECODING = {y:x for x,y in LABEL_ENCODING.items()}\n",
    "RESULTS_PATH = '.'\n",
    "DATA_DIR = '../../data/01_split'\n",
    "SAMPLE_DIR = '../../data/sample_submission.csv'\n",
    "\n",
    "\n",
    "test_df = pd.read_csv(os.path.join(DATA_DIR,'test.csv'))\n",
    "test_X = test_df.loc[:,test_df.columns!='id']\n",
    "test_ids = test_df['id']\n",
    "\n",
    "\n",
    "\n",
    "# Make predictions\n",
    "sample_df = pd.read_csv(SAMPLE_DIR)\n",
    "sorter = list(sample_df['id'])\n",
    "\n",
    "\n",
    "new_test_x = add_frequency_features(test_X.to_numpy())\n",
    "y_pred = model.predict(new_test_x)\n",
    "y_pred_df = pd.DataFrame(y_pred, columns=['leaktype'])\n",
    "y_pred_df['leaktype'] = y_pred_df['leaktype'].replace(LABEL_DECODING)\n",
    "pred_df = pd.concat([test_ids, y_pred_df],axis=1)\n",
    "\n",
    "# sort predictions\n",
    "resdf = pred_df.set_index('id')\n",
    "result = resdf.loc[sorter].reset_index()\n",
    "resultpath = os.path.join(RESULTS_PATH, 'predictions.csv')\n",
    "result.to_csv(resultpath, index=False)"
   ]
  },
  {
   "cell_type": "markdown",
   "id": "62045cdf",
   "metadata": {},
   "source": [
    "## Old test"
   ]
  },
  {
   "cell_type": "code",
   "execution_count": 139,
   "id": "d1320301",
   "metadata": {},
   "outputs": [],
   "source": [
    "# # Setup\n",
    "# model = clf\n",
    "# LABEL_DECODING = {y:x for x,y in LABEL_ENCODING.items()}\n",
    "# RESULTS_PATH = '.'\n",
    "# DATA_DIR = '../../data/01_split'\n",
    "# SAMPLE_DIR = '../../data/sample_submission.csv'\n",
    "\n",
    "\n",
    "# test_df = pd.read_csv(os.path.join(DATA_DIR,'test.csv'))\n",
    "# test_X = test_df.loc[:,test_df.columns!='id']\n",
    "# test_ids = test_df['id']\n",
    "\n",
    "\n",
    "# # Make predictions\n",
    "# sample_df = pd.read_csv(SAMPLE_DIR)\n",
    "# sorter = list(sample_df['id'])\n",
    "\n",
    "# y_pred = model.predict(test_X)\n",
    "# y_pred_df = pd.DataFrame(y_pred, columns=['leaktype'])\n",
    "# y_pred_df['leaktype'] = y_pred_df['leaktype'].replace(LABEL_DECODING)\n",
    "# pred_df = pd.concat([test_ids, y_pred_df],axis=1)\n",
    "\n",
    "# # sort predictions\n",
    "# resdf = pred_df.set_index('id')\n",
    "# result = resdf.loc[sorter].reset_index()\n",
    "# resultpath = os.path.join(RESULTS_PATH, 'predictions.csv')\n",
    "# result.to_csv(resultpath, index=False)"
   ]
  }
 ],
 "metadata": {
  "interpreter": {
   "hash": "6ab86766f082f578154986f6653c6e39d629c5da3e8ef8a19694c090b82841ee"
  },
  "kernelspec": {
   "display_name": "Python 3.8.10 ('env': venv)",
   "language": "python",
   "name": "python3"
  },
  "language_info": {
   "codemirror_mode": {
    "name": "ipython",
    "version": 3
   },
   "file_extension": ".py",
   "mimetype": "text/x-python",
   "name": "python",
   "nbconvert_exporter": "python",
   "pygments_lexer": "ipython3",
   "version": "3.8.10"
  },
  "toc": {
   "base_numbering": 1,
   "nav_menu": {},
   "number_sections": true,
   "sideBar": true,
   "skip_h1_title": false,
   "title_cell": "Table of Contents",
   "title_sidebar": "Contents",
   "toc_cell": false,
   "toc_position": {
    "height": "calc(100% - 180px)",
    "left": "10px",
    "top": "150px",
    "width": "341.333px"
   },
   "toc_section_display": true,
   "toc_window_display": true
  },
  "vscode": {
   "interpreter": {
    "hash": "31f2aee4e71d21fbe5cf8b01ff0e069b9275f58929596ceb00d14d90e3e16cd6"
   }
  }
 },
 "nbformat": 4,
 "nbformat_minor": 5
}
