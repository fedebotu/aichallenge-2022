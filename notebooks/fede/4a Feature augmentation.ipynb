{
 "cells": [
  {
   "cell_type": "markdown",
   "id": "2ab523fa",
   "metadata": {},
   "source": [
    "# Testing with CATBoost"
   ]
  },
  {
   "cell_type": "code",
   "execution_count": 1,
   "id": "e11a61f6",
   "metadata": {},
   "outputs": [
    {
     "name": "stderr",
     "output_type": "stream",
     "text": [
      "/home/stefano/botu/aichallenge-2022/notebooks/fede/env/lib/python3.8/site-packages/tqdm/auto.py:22: TqdmWarning: IProgress not found. Please update jupyter and ipywidgets. See https://ipywidgets.readthedocs.io/en/stable/user_install.html\n",
      "  from .autonotebook import tqdm as notebook_tqdm\n"
     ]
    }
   ],
   "source": [
    "%load_ext autoreload\n",
    "%autoreload 2\n",
    "\n",
    "import pandas as pd\n",
    "import os\n",
    "import matplotlib.pyplot as plt\n",
    "import seaborn as sns\n",
    "import numpy as np\n",
    "from sklearn.metrics import f1_score\n",
    "sns.set_theme()\n",
    "from catboost import CatBoostClassifier\n",
    "import scipy\n",
    "from scipy import signal\n",
    "\n",
    "import sys; sys.path.append(\"../../\")\n",
    "from modules.utils import load_yaml\n",
    "from modules.evaluation import pretty_classification_report, plot_confusion_matrix"
   ]
  },
  {
   "cell_type": "markdown",
   "id": "c1053083",
   "metadata": {},
   "source": [
    "# Read Data\n",
    "\n",
    "Note: in the submission, we cannot use `test.csv`. This has no labels and it is for submission only. So we need to use validation data as the test\n",
    "\n",
    "--> This should be OK since the data size seems large enough"
   ]
  },
  {
   "cell_type": "code",
   "execution_count": 2,
   "id": "eec6863c",
   "metadata": {},
   "outputs": [
    {
     "name": "stdout",
     "output_type": "stream",
     "text": [
      "../../config/train_config.yaml\n"
     ]
    }
   ],
   "source": [
    "TRAIN_CONFIG_PATH = '../../config/train_config.yaml'\n",
    "DATA_PATH = '../../data/01_split/'\n",
    "\n",
    "config = load_yaml(TRAIN_CONFIG_PATH)\n",
    "LABEL_ENCODING = config['LABEL_ENCODING']\n",
    "\n",
    "train_df = pd.read_csv(os.path.join(DATA_PATH, 'train.csv'))\n",
    "valid_df = pd.read_csv(os.path.join(DATA_PATH, 'valid.csv'))\n",
    "\n",
    "encoding_to_label = {v: k for k, v in LABEL_ENCODING.items()}\n",
    "labels = [key for key in LABEL_ENCODING.keys()]\n"
   ]
  },
  {
   "cell_type": "markdown",
   "id": "fee75e53",
   "metadata": {},
   "source": [
    "## Split into train and test\n",
    "\n",
    "As said, we will use val and test as the same "
   ]
  },
  {
   "cell_type": "code",
   "execution_count": 4,
   "id": "4108511c",
   "metadata": {},
   "outputs": [],
   "source": [
    "train_X, train_y = train_df.loc[:,train_df.columns!='leaktype'], train_df['leaktype']\n",
    "valid_X, valid_y = valid_df.loc[:,train_df.columns!='leaktype'], valid_df['leaktype']\n",
    "\n",
    "train_y = train_y.replace(LABEL_ENCODING)\n",
    "valid_y = valid_y.replace(LABEL_ENCODING)\n",
    "\n",
    "# Same testing and validation\n",
    "test_X, test_y = valid_X, valid_y\n",
    "\n",
    "# Imbalanced learning\n",
    "from sklearn.utils.class_weight import compute_class_weight\n",
    "import numpy as np\n",
    "\n",
    "class_weights = compute_class_weight(class_weight='balanced', classes=np.arange(5), y=train_y)"
   ]
  },
  {
   "cell_type": "code",
   "execution_count": 12,
   "id": "6696378d",
   "metadata": {},
   "outputs": [
    {
     "name": "stdout",
     "output_type": "stream",
     "text": [
      "Requirement already up-to-date: scipy in ./env/lib/python3.8/site-packages (1.8.1)\n",
      "Requirement already satisfied, skipping upgrade: numpy<1.25.0,>=1.17.3 in ./env/lib/python3.8/site-packages (from scipy) (1.22.4)\n"
     ]
    }
   ],
   "source": [
    "# !pip install --upgrade scipy"
   ]
  },
  {
   "cell_type": "code",
   "execution_count": 31,
   "id": "2cbb4f43",
   "metadata": {},
   "outputs": [],
   "source": [
    "# from tsfresh import extract_features\n",
    "# from tsfresh import extract_features, extract_relevant_features, select_features\n",
    "\n",
    "# x_inverse = scipy.fft.ifft(train_X.to_numpy()).real\n"
   ]
  },
  {
   "cell_type": "code",
   "execution_count": 149,
   "id": "6f0ac57a",
   "metadata": {},
   "outputs": [],
   "source": [
    "# from pyts.transformation import ROCKET\n",
    "\n",
    "# rocket = ROCKET()\n",
    "\n",
    "# rocket.fit(train_X)\n",
    "\n",
    "# res_ = rocket.transform(train_X)"
   ]
  },
  {
   "cell_type": "code",
   "execution_count": 147,
   "id": "9e7bfeeb",
   "metadata": {},
   "outputs": [],
   "source": [
    "# import scipy.stats\n",
    "# impor tmatplotlib.pyplotasplt\n",
    "\n",
    "class Fea_Extra():\n",
    "    def __init__(self,Signal,Fs=10):\n",
    "        self.signal=Signal\n",
    "        self.Fs=Fs\n",
    "\n",
    "    def Time_fea(self,signal_):\n",
    "        \"\"\"\n",
    "        Extract11typesoftimedomainfeatures\n",
    "        \"\"\"\n",
    "        N=len(signal_)\n",
    "        y=signal_\n",
    "        t_mean_1=np.mean(y)#1_mean(averageamplitude)\n",
    "        t_std_2=np.std(y,ddof=1)#2_standarddeviation\n",
    "        t_fgf_3=((np.mean(np.sqrt(np.abs(y)))))**2#3_squarerootamplitude\n",
    "        t_rms_4=np.sqrt((np.mean(y**2)))#4_RMSrms\n",
    "        t_pp_5=0.5*(np.max(y)-np.min(y))#5_peak(refertoDr.ZhouHongtiseniorsisterapprenticethesis)\n",
    "        #t_skew_6=np.sum((t_mean_1)**3)/((N-1)*(t_std_3)**3)\n",
    "        t_skew_6=scipy.stats.skew(y)#6_skewness\n",
    "        #t_kur_7=np.sum((y-t_mean_1)**4)/((N-1)*(t_std_3)**4)\n",
    "        t_kur_7=scipy.stats.kurtosis(y)#7_kurtosis\n",
    "        t_cres_8=np.max(np.abs(y))/t_rms_4#8_CrestFactor\n",
    "        t_clear_9=np.max(np.abs(y))/t_fgf_3#9_clearancefactor\n",
    "        t_shape_10=(N*t_rms_4)/(np.sum(np.abs(y)))#10_Shapefator\n",
    "        t_imp_11=(np.max(np.abs(y)))/(np.mean(np.abs(y)))#11_ImpulseFator\n",
    "        t_fea=np.array([t_mean_1,t_std_2,t_fgf_3,t_rms_4,t_pp_5,\n",
    "        t_skew_6,t_kur_7,t_cres_8,t_clear_9,t_shape_10,t_imp_11])\n",
    "        return t_fea\n",
    "\n",
    "\n",
    "    # get signal_ from freq domain!!!\n",
    "    def Fre_fea(self,signal_):\n",
    "        \"\"\"\n",
    "        Extract13typesoffrequencydomainfeatures\n",
    "        :paramsignal_:\n",
    "        :return:\n",
    "        \"\"\"\n",
    "        L=len(signal_)\n",
    "        # PL=abs(np.fft.fft(signal_/L))[:int(L/2)]\n",
    "        # F=np.fft.fftfreq(L,.1/self.Fs)[:int(L/2)]\n",
    "        F=np.fft.fftfreq(L,.1/self.Fs)#[:int(L/2)]\n",
    "\n",
    "        PL=signal_\n",
    "        PL[0]=0\n",
    "        x=F\n",
    "        y=PL\n",
    "        K=len(y)\n",
    "        f_12=np.mean(y)\n",
    "        f_13=np.var(y)\n",
    "        f_14=(np.sum((y-f_12)**3))/(K*((np.sqrt(f_13))**3))\n",
    "        f_15=(np.sum((y-f_12)**4))/(K*((f_13)**2))\n",
    "        f_16=(np.sum(x*y))/(np.sum(y))\n",
    "        f_17=np.sqrt((np.mean(((x-f_16)**2)*(y))))\n",
    "        f_18=np.sqrt((np.sum((x**2)*y))/(np.sum(y)))\n",
    "        f_19=np.sqrt((np.sum((x**4)*y))/(np.sum((x**2)*y)))\n",
    "        f_20=(np.sum((x**2)*y))/(np.sqrt((np.sum(y))*(np.sum((x**4)*y))))\n",
    "        f_21=f_17/f_16\n",
    "        f_22=(np.sum(((x-f_16)**3)*y))/(K*(f_17**3))\n",
    "        f_23=(np.sum(((x-f_16)**4)*y))/(K*(f_17**4))\n",
    "        f_fea=np.array([f_12,f_13,f_14,f_15,f_16,f_17,f_18,f_19,f_20,f_21,f_22,f_23])\n",
    "        return f_fea"
   ]
  },
  {
   "cell_type": "code",
   "execution_count": 148,
   "id": "a84fb68f",
   "metadata": {},
   "outputs": [],
   "source": [
    "from tqdm.auto import tqdm\n",
    "\n",
    "def get_features(x_time_domain, x_freq_domain, freq_feature_spacing=10):\n",
    "    freq_class = Fea_Extra(x_time_domain, freq_feature_spacing) # may need to fix\n",
    "    feats = []\n",
    "    for x_t, x_f in tqdm(zip(x_time_domain, x_freq_domain)):\n",
    "        # print(x.type)\n",
    "        time_fea = freq_class.Time_fea(x_t)[None]\n",
    "        freq_fea = freq_class.Fre_fea(x_f)[None]\n",
    "        feat_ = np.concatenate([time_fea, freq_fea], axis=1)\n",
    "        feats.append(feat_)\n",
    "    feats = np.concatenate(feats, axis=0)\n",
    "    return feats"
   ]
  },
  {
   "cell_type": "code",
   "execution_count": 149,
   "id": "f1824a22",
   "metadata": {},
   "outputs": [],
   "source": [
    "from scipy.stats import kurtosis, skew, entropy, differential_entropy\n",
    "\n",
    "\n",
    "def add_frequency_features(x):\n",
    "\n",
    "    x_freq_domain = x\n",
    "    feats = [x_freq_domain]\n",
    "    x_time_domain = scipy.fft.ifft(x).real\n",
    "    feats.append(x_time_domain)\n",
    "    feats.append(get_features(x_time_domain, x_freq_domain))\n",
    "\n",
    "\n",
    "    # x_time_domain = scipy.fft.irfft(x)[:, :513]\n",
    "\n",
    "    # feats.append(kurtosis(x_inverse, axis=1)[:,None])\n",
    "    # feats.append(skew(x_inverse, axis=1)[:,None])\n",
    "    # # # feats.append(entropy(x_inverse, axis=1)[:,None])\n",
    "    # # # feats.append(differential_entropy(x_inverse, axis=1)[:,None])\n",
    "    # feats.append(np.max(x_inverse, axis=1)[:,None])\n",
    "    # feats.append(np.min(x_inverse, axis=1)[:,None])\n",
    "    # feats.append(np.std(x_inverse, axis=1)[:,None])\n",
    "    # feats.append(np.mean(x_inverse, axis=1)[:,None])\n",
    "    # feats.append(np.median(x_inverse, axis=1)[:,None])\n",
    "\n",
    "    # x_inverse = scipy.fft.ifft(x)\n",
    "    # czt  = scipy.signal.czt(x_inverse)[:, :256]\n",
    "    # feats.append(czt.real)\n",
    "    # feats.append(czt.imag)\n",
    "        \n",
    "    return np.concatenate(feats, -1)"
   ]
  },
  {
   "cell_type": "code",
   "execution_count": 150,
   "id": "b869e266",
   "metadata": {},
   "outputs": [
    {
     "name": "stderr",
     "output_type": "stream",
     "text": [
      "26880it [00:14, 1909.26it/s]\n",
      "6720it [00:03, 1966.54it/s]\n"
     ]
    }
   ],
   "source": [
    "x_train_new = add_frequency_features(train_X.to_numpy())\n",
    "x_valid_new = add_frequency_features(valid_X.to_numpy())\n",
    "x_test_new = x_valid_new"
   ]
  },
  {
   "cell_type": "markdown",
   "id": "1288c9cd",
   "metadata": {},
   "source": [
    "# Train Models\n",
    "\n",
    "<!-- Tricks: we can use custom parameters to maximize the F1 score -->"
   ]
  },
  {
   "cell_type": "code",
   "execution_count": 151,
   "id": "0f0efc55",
   "metadata": {},
   "outputs": [
    {
     "name": "stdout",
     "output_type": "stream",
     "text": [
      "Learning rate set to 0.080175\n",
      "0:\tlearn: 0.4735235\ttest: 0.3753041\tbest: 0.3753041 (0)\ttotal: 26.2ms\tremaining: 2m 10s\n",
      "200:\tlearn: 0.8547492\ttest: 0.6773714\tbest: 0.6777891 (199)\ttotal: 2.98s\tremaining: 1m 11s\n",
      "400:\tlearn: 0.9391061\ttest: 0.7814911\tbest: 0.7814911 (400)\ttotal: 5.86s\tremaining: 1m 7s\n",
      "600:\tlearn: 0.9677305\ttest: 0.8215398\tbest: 0.8224606 (595)\ttotal: 8.71s\tremaining: 1m 3s\n",
      "800:\tlearn: 0.9801667\ttest: 0.8377614\tbest: 0.8377614 (800)\ttotal: 11.5s\tremaining: 1m\n",
      "1000:\tlearn: 0.9867066\ttest: 0.8499695\tbest: 0.8508124 (997)\ttotal: 14.3s\tremaining: 57.2s\n",
      "1200:\tlearn: 0.9909270\ttest: 0.8563581\tbest: 0.8563581 (1200)\ttotal: 17.1s\tremaining: 54.1s\n",
      "1400:\tlearn: 0.9933417\ttest: 0.8611732\tbest: 0.8616174 (1364)\ttotal: 19.9s\tremaining: 51.2s\n",
      "1600:\tlearn: 0.9949637\ttest: 0.8598661\tbest: 0.8619264 (1454)\ttotal: 22.7s\tremaining: 48.2s\n",
      "1800:\tlearn: 0.9962019\ttest: 0.8651785\tbest: 0.8651785 (1800)\ttotal: 25.5s\tremaining: 45.2s\n",
      "2000:\tlearn: 0.9970412\ttest: 0.8656391\tbest: 0.8664064 (1942)\ttotal: 28.2s\tremaining: 42.3s\n",
      "2200:\tlearn: 0.9976159\ttest: 0.8672199\tbest: 0.8685274 (2190)\ttotal: 31s\tremaining: 39.4s\n",
      "2400:\tlearn: 0.9980719\ttest: 0.8691580\tbest: 0.8707408 (2387)\ttotal: 33.8s\tremaining: 36.5s\n",
      "2600:\tlearn: 0.9984160\ttest: 0.8689774\tbest: 0.8714647 (2423)\ttotal: 36.5s\tremaining: 33.7s\n",
      "2800:\tlearn: 0.9987680\ttest: 0.8720288\tbest: 0.8725083 (2731)\ttotal: 39.3s\tremaining: 30.9s\n",
      "3000:\tlearn: 0.9990721\ttest: 0.8730468\tbest: 0.8736678 (2937)\ttotal: 42s\tremaining: 28s\n",
      "3200:\tlearn: 0.9992293\ttest: 0.8745825\tbest: 0.8750339 (3187)\ttotal: 44.8s\tremaining: 25.2s\n",
      "3400:\tlearn: 0.9993703\ttest: 0.8746550\tbest: 0.8765336 (3320)\ttotal: 47.5s\tremaining: 22.3s\n",
      "3600:\tlearn: 0.9995325\ttest: 0.8759831\tbest: 0.8770620 (3429)\ttotal: 50.3s\tremaining: 19.5s\n",
      "3800:\tlearn: 0.9996332\ttest: 0.8742852\tbest: 0.8770620 (3429)\ttotal: 53s\tremaining: 16.7s\n",
      "4000:\tlearn: 0.9997577\ttest: 0.8750677\tbest: 0.8770620 (3429)\ttotal: 55.8s\tremaining: 13.9s\n",
      "4200:\tlearn: 0.9997953\ttest: 0.8747609\tbest: 0.8770620 (3429)\ttotal: 58.5s\tremaining: 11.1s\n",
      "4400:\tlearn: 0.9998198\ttest: 0.8753706\tbest: 0.8770620 (3429)\ttotal: 1m 1s\tremaining: 8.33s\n",
      "4600:\tlearn: 0.9998432\ttest: 0.8750238\tbest: 0.8770620 (3429)\ttotal: 1m 3s\tremaining: 5.54s\n",
      "4800:\tlearn: 0.9998742\ttest: 0.8753459\tbest: 0.8770620 (3429)\ttotal: 1m 6s\tremaining: 2.76s\n",
      "4999:\tlearn: 0.9999027\ttest: 0.8765985\tbest: 0.8770620 (3429)\ttotal: 1m 9s\tremaining: 0us\n",
      "bestTest = 0.877062021\n",
      "bestIteration = 3429\n",
      "Shrink model to first 3430 iterations.\n",
      "F1 score : 0.880\n"
     ]
    },
    {
     "data": {
      "text/html": [
       "<style type=\"text/css\">\n",
       "#T_ed47d_row0_col0 {\n",
       "  background-color: #56c667;\n",
       "  color: #000000;\n",
       "}\n",
       "#T_ed47d_row0_col1 {\n",
       "  background-color: #52c569;\n",
       "  color: #000000;\n",
       "}\n",
       "#T_ed47d_row0_col2 {\n",
       "  background-color: #46c06f;\n",
       "  color: #f1f1f1;\n",
       "}\n",
       "#T_ed47d_row1_col0 {\n",
       "  background-color: #6ccd5a;\n",
       "  color: #000000;\n",
       "}\n",
       "#T_ed47d_row1_col1 {\n",
       "  background-color: #2eb37c;\n",
       "  color: #f1f1f1;\n",
       "}\n",
       "#T_ed47d_row1_col2 {\n",
       "  background-color: #3bbb75;\n",
       "  color: #f1f1f1;\n",
       "}\n",
       "#T_ed47d_row2_col0, #T_ed47d_row2_col1, #T_ed47d_row2_col2 {\n",
       "  background-color: #fde725;\n",
       "  color: #000000;\n",
       "}\n",
       "#T_ed47d_row3_col0, #T_ed47d_row3_col2, #T_ed47d_row4_col1 {\n",
       "  background-color: #440154;\n",
       "  color: #f1f1f1;\n",
       "}\n",
       "#T_ed47d_row3_col1 {\n",
       "  background-color: #404688;\n",
       "  color: #f1f1f1;\n",
       "}\n",
       "#T_ed47d_row4_col0 {\n",
       "  background-color: #414287;\n",
       "  color: #f1f1f1;\n",
       "}\n",
       "#T_ed47d_row4_col2 {\n",
       "  background-color: #450457;\n",
       "  color: #f1f1f1;\n",
       "}\n",
       "</style>\n",
       "<table id=\"T_ed47d\">\n",
       "  <thead>\n",
       "    <tr>\n",
       "      <th class=\"blank level0\" >&nbsp;</th>\n",
       "      <th id=\"T_ed47d_level0_col0\" class=\"col_heading level0 col0\" >precision</th>\n",
       "      <th id=\"T_ed47d_level0_col1\" class=\"col_heading level0 col1\" >recall</th>\n",
       "      <th id=\"T_ed47d_level0_col2\" class=\"col_heading level0 col2\" >f1-score</th>\n",
       "      <th id=\"T_ed47d_level0_col3\" class=\"col_heading level0 col3\" >support</th>\n",
       "    </tr>\n",
       "  </thead>\n",
       "  <tbody>\n",
       "    <tr>\n",
       "      <th id=\"T_ed47d_level0_row0\" class=\"row_heading level0 row0\" >0</th>\n",
       "      <td id=\"T_ed47d_row0_col0\" class=\"data row0 col0\" >0.922968</td>\n",
       "      <td id=\"T_ed47d_row0_col1\" class=\"data row0 col1\" >0.926899</td>\n",
       "      <td id=\"T_ed47d_row0_col2\" class=\"data row0 col2\" >0.924929</td>\n",
       "      <td id=\"T_ed47d_row0_col3\" class=\"data row0 col3\" >1409</td>\n",
       "    </tr>\n",
       "    <tr>\n",
       "      <th id=\"T_ed47d_level0_row1\" class=\"row_heading level0 row1\" >1</th>\n",
       "      <td id=\"T_ed47d_row1_col0\" class=\"data row1 col0\" >0.931751</td>\n",
       "      <td id=\"T_ed47d_row1_col1\" class=\"data row1 col1\" >0.909266</td>\n",
       "      <td id=\"T_ed47d_row1_col2\" class=\"data row1 col2\" >0.920371</td>\n",
       "      <td id=\"T_ed47d_row1_col3\" class=\"data row1 col3\" >1036</td>\n",
       "    </tr>\n",
       "    <tr>\n",
       "      <th id=\"T_ed47d_level0_row2\" class=\"row_heading level0 row2\" >2</th>\n",
       "      <td id=\"T_ed47d_row2_col0\" class=\"data row2 col0\" >0.982672</td>\n",
       "      <td id=\"T_ed47d_row2_col1\" class=\"data row2 col1\" >0.983497</td>\n",
       "      <td id=\"T_ed47d_row2_col2\" class=\"data row2 col2\" >0.983084</td>\n",
       "      <td id=\"T_ed47d_row2_col3\" class=\"data row2 col3\" >3575</td>\n",
       "    </tr>\n",
       "    <tr>\n",
       "      <th id=\"T_ed47d_level0_row3\" class=\"row_heading level0 row3\" >3</th>\n",
       "      <td id=\"T_ed47d_row3_col0\" class=\"data row3 col0\" >0.756098</td>\n",
       "      <td id=\"T_ed47d_row3_col1\" class=\"data row3 col1\" >0.818182</td>\n",
       "      <td id=\"T_ed47d_row3_col2\" class=\"data row3 col2\" >0.785915</td>\n",
       "      <td id=\"T_ed47d_row3_col3\" class=\"data row3 col3\" >341</td>\n",
       "    </tr>\n",
       "    <tr>\n",
       "      <th id=\"T_ed47d_level0_row4\" class=\"row_heading level0 row4\" >4</th>\n",
       "      <td id=\"T_ed47d_row4_col0\" class=\"data row4 col0\" >0.801153</td>\n",
       "      <td id=\"T_ed47d_row4_col1\" class=\"data row4 col1\" >0.774373</td>\n",
       "      <td id=\"T_ed47d_row4_col2\" class=\"data row4 col2\" >0.787535</td>\n",
       "      <td id=\"T_ed47d_row4_col3\" class=\"data row4 col3\" >359</td>\n",
       "    </tr>\n",
       "    <tr>\n",
       "      <th id=\"T_ed47d_level0_row5\" class=\"row_heading level0 row5\" >accuracy</th>\n",
       "      <td id=\"T_ed47d_row5_col0\" class=\"data row5 col0\" >0.940625</td>\n",
       "      <td id=\"T_ed47d_row5_col1\" class=\"data row5 col1\" >0.940625</td>\n",
       "      <td id=\"T_ed47d_row5_col2\" class=\"data row5 col2\" >0.940625</td>\n",
       "      <td id=\"T_ed47d_row5_col3\" class=\"data row5 col3\" >0</td>\n",
       "    </tr>\n",
       "    <tr>\n",
       "      <th id=\"T_ed47d_level0_row6\" class=\"row_heading level0 row6\" >macro avg</th>\n",
       "      <td id=\"T_ed47d_row6_col0\" class=\"data row6 col0\" >0.878928</td>\n",
       "      <td id=\"T_ed47d_row6_col1\" class=\"data row6 col1\" >0.882443</td>\n",
       "      <td id=\"T_ed47d_row6_col2\" class=\"data row6 col2\" >0.880367</td>\n",
       "      <td id=\"T_ed47d_row6_col3\" class=\"data row6 col3\" >6720</td>\n",
       "    </tr>\n",
       "    <tr>\n",
       "      <th id=\"T_ed47d_level0_row7\" class=\"row_heading level0 row7\" >weighted avg</th>\n",
       "      <td id=\"T_ed47d_row7_col0\" class=\"data row7 col0\" >0.941109</td>\n",
       "      <td id=\"T_ed47d_row7_col1\" class=\"data row7 col1\" >0.940625</td>\n",
       "      <td id=\"T_ed47d_row7_col2\" class=\"data row7 col2\" >0.940770</td>\n",
       "      <td id=\"T_ed47d_row7_col3\" class=\"data row7 col3\" >6720</td>\n",
       "    </tr>\n",
       "  </tbody>\n",
       "</table>\n"
      ],
      "text/plain": [
       "<pandas.io.formats.style.Styler at 0x7f504fb58e80>"
      ]
     },
     "execution_count": 151,
     "metadata": {},
     "output_type": "execute_result"
    },
    {
     "data": {
      "image/png": "[encoded data removed]",
      "text/plain": [
       "<Figure size 432x288 with 1 Axes>"
      ]
     },
     "metadata": {
      "needs_background": "light"
     },
     "output_type": "display_data"
    }
   ],
   "source": [
    "MODEL_NAME = 'CATBoost - SMOTE'\n",
    "\n",
    "from imblearn.over_sampling import SMOTE\n",
    "smote = SMOTE(random_state = 42)\n",
    "X_oversample, y_oversample = smote.fit_resample(x_train_new, train_y)\n",
    "\n",
    "clf = CatBoostClassifier(\n",
    "    iterations=5000,\n",
    "    verbose=200,\n",
    "    objective='MultiClass',\n",
    "    eval_metric = 'TotalF1',\n",
    "    custom_metric='TotalF1',\n",
    "    task_type=\"GPU\",\n",
    "    # depth=9,\n",
    "    devices='2:3',\n",
    "    # learning_rate=0.3\n",
    "    class_weights=class_weights\n",
    ")\n",
    "\n",
    "\n",
    "clf.fit(\n",
    "    # x_train_new, train_y,\n",
    "    X_oversample, y_oversample,\n",
    "    # cat_features=labels,\n",
    "    eval_set=(x_valid_new, valid_y),\n",
    ")\n",
    "\n",
    "pred_y = clf.predict(x_test_new)\n",
    "model_name, y_hat = MODEL_NAME, pred_y\n",
    "plot_confusion_matrix(test_y, y_hat, labels,  f'Confusion Matrix {model_name}')\n",
    "print('F1 score : {:.3f}'.format(f1_score(test_y, y_hat, average='macro')))\n",
    "pretty_classification_report(test_y, y_hat)"
   ]
  },
  {
   "cell_type": "markdown",
   "id": "b58fecab",
   "metadata": {},
   "source": [
    "## Train on all available data"
   ]
  },
  {
   "cell_type": "code",
   "execution_count": 152,
   "id": "4d197996",
   "metadata": {},
   "outputs": [
    {
     "name": "stderr",
     "output_type": "stream",
     "text": [
      "33600it [00:17, 1963.18it/s]\n"
     ]
    },
    {
     "name": "stdout",
     "output_type": "stream",
     "text": [
      "Learning rate set to 0.08199\n",
      "0:\tlearn: 0.5350543\ttest: 0.4788045\tbest: 0.4788045 (0)\ttotal: 131ms\tremaining: 10m 56s\n",
      "200:\tlearn: 0.9801321\ttest: 0.9467700\tbest: 0.9467700 (200)\ttotal: 16.5s\tremaining: 6m 34s\n",
      "400:\tlearn: 0.9951734\ttest: 0.9850866\tbest: 0.9850866 (400)\ttotal: 31.9s\tremaining: 6m 5s\n",
      "600:\tlearn: 0.9979323\ttest: 0.9927591\tbest: 0.9928146 (596)\ttotal: 45.9s\tremaining: 5m 35s\n",
      "800:\tlearn: 0.9989363\ttest: 0.9967248\tbest: 0.9967248 (793)\ttotal: 59.7s\tremaining: 5m 12s\n",
      "1000:\tlearn: 0.9995307\ttest: 0.9980863\tbest: 0.9980863 (985)\ttotal: 1m 13s\tremaining: 4m 52s\n",
      "1200:\tlearn: 0.9997951\ttest: 0.9991364\tbest: 0.9991364 (1111)\ttotal: 1m 26s\tremaining: 4m 34s\n",
      "1400:\tlearn: 0.9999042\ttest: 0.9997461\tbest: 0.9997461 (1393)\ttotal: 1m 40s\tremaining: 4m 17s\n",
      "1600:\tlearn: 0.9999539\ttest: 0.9998569\tbest: 0.9998569 (1541)\ttotal: 1m 53s\tremaining: 4m 1s\n",
      "1800:\tlearn: 0.9999682\ttest: 0.9998569\tbest: 0.9998569 (1541)\ttotal: 2m 7s\tremaining: 3m 45s\n",
      "2000:\tlearn: 0.9999857\ttest: 1.0000000\tbest: 1.0000000 (1876)\ttotal: 2m 20s\tremaining: 3m 30s\n",
      "2200:\tlearn: 0.9999939\ttest: 1.0000000\tbest: 1.0000000 (1876)\ttotal: 2m 34s\tremaining: 3m 16s\n",
      "2400:\tlearn: 0.9999980\ttest: 1.0000000\tbest: 1.0000000 (1876)\ttotal: 2m 47s\tremaining: 3m 1s\n",
      "2600:\tlearn: 1.0000000\ttest: 1.0000000\tbest: 1.0000000 (1876)\ttotal: 3m 1s\tremaining: 2m 47s\n",
      "2800:\tlearn: 1.0000000\ttest: 1.0000000\tbest: 1.0000000 (1876)\ttotal: 3m 14s\tremaining: 2m 32s\n",
      "3000:\tlearn: 1.0000000\ttest: 1.0000000\tbest: 1.0000000 (1876)\ttotal: 3m 28s\tremaining: 2m 18s\n",
      "3200:\tlearn: 1.0000000\ttest: 1.0000000\tbest: 1.0000000 (1876)\ttotal: 3m 41s\tremaining: 2m 4s\n",
      "3400:\tlearn: 1.0000000\ttest: 1.0000000\tbest: 1.0000000 (1876)\ttotal: 3m 54s\tremaining: 1m 50s\n",
      "3600:\tlearn: 1.0000000\ttest: 1.0000000\tbest: 1.0000000 (1876)\ttotal: 4m 8s\tremaining: 1m 36s\n",
      "3800:\tlearn: 1.0000000\ttest: 1.0000000\tbest: 1.0000000 (1876)\ttotal: 4m 21s\tremaining: 1m 22s\n",
      "4000:\tlearn: 1.0000000\ttest: 1.0000000\tbest: 1.0000000 (1876)\ttotal: 4m 35s\tremaining: 1m 8s\n",
      "4200:\tlearn: 1.0000000\ttest: 1.0000000\tbest: 1.0000000 (1876)\ttotal: 4m 48s\tremaining: 54.9s\n",
      "4400:\tlearn: 1.0000000\ttest: 1.0000000\tbest: 1.0000000 (1876)\ttotal: 5m 1s\tremaining: 41.1s\n",
      "4600:\tlearn: 1.0000000\ttest: 1.0000000\tbest: 1.0000000 (1876)\ttotal: 5m 14s\tremaining: 27.3s\n",
      "4800:\tlearn: 1.0000000\ttest: 1.0000000\tbest: 1.0000000 (1876)\ttotal: 5m 28s\tremaining: 13.6s\n",
      "4999:\tlearn: 1.0000000\ttest: 1.0000000\tbest: 1.0000000 (1876)\ttotal: 5m 41s\tremaining: 0us\n",
      "bestTest = 1\n",
      "bestIteration = 1876\n",
      "Shrink model to first 1877 iterations.\n",
      "F1 score : 1.000\n"
     ]
    },
    {
     "data": {
      "text/html": [
       "<style type=\"text/css\">\n",
       "#T_84371_row0_col0, #T_84371_row0_col1, #T_84371_row0_col2, #T_84371_row1_col0, #T_84371_row1_col1, #T_84371_row1_col2, #T_84371_row2_col0, #T_84371_row2_col1, #T_84371_row2_col2, #T_84371_row3_col0, #T_84371_row3_col1, #T_84371_row3_col2, #T_84371_row4_col0, #T_84371_row4_col1, #T_84371_row4_col2 {\n",
       "  background-color: #440154;\n",
       "  color: #f1f1f1;\n",
       "}\n",
       "</style>\n",
       "<table id=\"T_84371\">\n",
       "  <thead>\n",
       "    <tr>\n",
       "      <th class=\"blank level0\" >&nbsp;</th>\n",
       "      <th id=\"T_84371_level0_col0\" class=\"col_heading level0 col0\" >precision</th>\n",
       "      <th id=\"T_84371_level0_col1\" class=\"col_heading level0 col1\" >recall</th>\n",
       "      <th id=\"T_84371_level0_col2\" class=\"col_heading level0 col2\" >f1-score</th>\n",
       "      <th id=\"T_84371_level0_col3\" class=\"col_heading level0 col3\" >support</th>\n",
       "    </tr>\n",
       "  </thead>\n",
       "  <tbody>\n",
       "    <tr>\n",
       "      <th id=\"T_84371_level0_row0\" class=\"row_heading level0 row0\" >0</th>\n",
       "      <td id=\"T_84371_row0_col0\" class=\"data row0 col0\" >1.000000</td>\n",
       "      <td id=\"T_84371_row0_col1\" class=\"data row0 col1\" >1.000000</td>\n",
       "      <td id=\"T_84371_row0_col2\" class=\"data row0 col2\" >1.000000</td>\n",
       "      <td id=\"T_84371_row0_col3\" class=\"data row0 col3\" >1415</td>\n",
       "    </tr>\n",
       "    <tr>\n",
       "      <th id=\"T_84371_level0_row1\" class=\"row_heading level0 row1\" >1</th>\n",
       "      <td id=\"T_84371_row1_col0\" class=\"data row1 col0\" >1.000000</td>\n",
       "      <td id=\"T_84371_row1_col1\" class=\"data row1 col1\" >1.000000</td>\n",
       "      <td id=\"T_84371_row1_col2\" class=\"data row1 col2\" >1.000000</td>\n",
       "      <td id=\"T_84371_row1_col3\" class=\"data row1 col3\" >1011</td>\n",
       "    </tr>\n",
       "    <tr>\n",
       "      <th id=\"T_84371_level0_row2\" class=\"row_heading level0 row2\" >2</th>\n",
       "      <td id=\"T_84371_row2_col0\" class=\"data row2 col0\" >1.000000</td>\n",
       "      <td id=\"T_84371_row2_col1\" class=\"data row2 col1\" >1.000000</td>\n",
       "      <td id=\"T_84371_row2_col2\" class=\"data row2 col2\" >1.000000</td>\n",
       "      <td id=\"T_84371_row2_col3\" class=\"data row2 col3\" >3578</td>\n",
       "    </tr>\n",
       "    <tr>\n",
       "      <th id=\"T_84371_level0_row3\" class=\"row_heading level0 row3\" >3</th>\n",
       "      <td id=\"T_84371_row3_col0\" class=\"data row3 col0\" >1.000000</td>\n",
       "      <td id=\"T_84371_row3_col1\" class=\"data row3 col1\" >1.000000</td>\n",
       "      <td id=\"T_84371_row3_col2\" class=\"data row3 col2\" >1.000000</td>\n",
       "      <td id=\"T_84371_row3_col3\" class=\"data row3 col3\" >369</td>\n",
       "    </tr>\n",
       "    <tr>\n",
       "      <th id=\"T_84371_level0_row4\" class=\"row_heading level0 row4\" >4</th>\n",
       "      <td id=\"T_84371_row4_col0\" class=\"data row4 col0\" >1.000000</td>\n",
       "      <td id=\"T_84371_row4_col1\" class=\"data row4 col1\" >1.000000</td>\n",
       "      <td id=\"T_84371_row4_col2\" class=\"data row4 col2\" >1.000000</td>\n",
       "      <td id=\"T_84371_row4_col3\" class=\"data row4 col3\" >347</td>\n",
       "    </tr>\n",
       "    <tr>\n",
       "      <th id=\"T_84371_level0_row5\" class=\"row_heading level0 row5\" >accuracy</th>\n",
       "      <td id=\"T_84371_row5_col0\" class=\"data row5 col0\" >1.000000</td>\n",
       "      <td id=\"T_84371_row5_col1\" class=\"data row5 col1\" >1.000000</td>\n",
       "      <td id=\"T_84371_row5_col2\" class=\"data row5 col2\" >1.000000</td>\n",
       "      <td id=\"T_84371_row5_col3\" class=\"data row5 col3\" >1</td>\n",
       "    </tr>\n",
       "    <tr>\n",
       "      <th id=\"T_84371_level0_row6\" class=\"row_heading level0 row6\" >macro avg</th>\n",
       "      <td id=\"T_84371_row6_col0\" class=\"data row6 col0\" >1.000000</td>\n",
       "      <td id=\"T_84371_row6_col1\" class=\"data row6 col1\" >1.000000</td>\n",
       "      <td id=\"T_84371_row6_col2\" class=\"data row6 col2\" >1.000000</td>\n",
       "      <td id=\"T_84371_row6_col3\" class=\"data row6 col3\" >6720</td>\n",
       "    </tr>\n",
       "    <tr>\n",
       "      <th id=\"T_84371_level0_row7\" class=\"row_heading level0 row7\" >weighted avg</th>\n",
       "      <td id=\"T_84371_row7_col0\" class=\"data row7 col0\" >1.000000</td>\n",
       "      <td id=\"T_84371_row7_col1\" class=\"data row7 col1\" >1.000000</td>\n",
       "      <td id=\"T_84371_row7_col2\" class=\"data row7 col2\" >1.000000</td>\n",
       "      <td id=\"T_84371_row7_col3\" class=\"data row7 col3\" >6720</td>\n",
       "    </tr>\n",
       "  </tbody>\n",
       "</table>\n"
      ],
      "text/plain": [
       "<pandas.io.formats.style.Styler at 0x7f504d5d5e80>"
      ]
     },
     "execution_count": 152,
     "metadata": {},
     "output_type": "execute_result"
    },
    {
     "data": {
      "image/png": "[encoded data removed]",
      "text/plain": [
       "<Figure size 432x288 with 1 Axes>"
      ]
     },
     "metadata": {
      "needs_background": "light"
     },
     "output_type": "display_data"
    }
   ],
   "source": [
    "MODEL_NAME = 'CATBoost - SMOTE - ALL DATA'\n",
    "\n",
    "from imblearn.over_sampling import SMOTE\n",
    "smote = SMOTE(random_state = 42)\n",
    "\n",
    "total_train_X, total_train_y =  pd.concat([train_X, valid_X], ignore_index=True), pd.concat([train_y, valid_y], ignore_index=True)\n",
    "\n",
    "# Add features in frequency domain\n",
    "total_train_X = add_frequency_features(total_train_X.to_numpy())\n",
    "\n",
    "X_oversample, y_oversample = smote.fit_resample(total_train_X, total_train_y)\n",
    "\n",
    "clf = CatBoostClassifier(\n",
    "    iterations=5000,\n",
    "    verbose=200,\n",
    "    objective='MultiClass',\n",
    "    eval_metric = 'TotalF1',\n",
    "    custom_metric='TotalF1',\n",
    "    task_type=\"GPU\",\n",
    "    depth=10,\n",
    "    devices='2:3',\n",
    "    class_weights=class_weights\n",
    ")\n",
    "\n",
    "clf.fit(\n",
    "    X_oversample, y_oversample,\n",
    "    # cat_features=labels,\n",
    "    eval_set=(x_valid_new, valid_y),\n",
    ")\n",
    "\n",
    "pred_y = clf.predict(x_test_new)\n",
    "model_name, y_hat = MODEL_NAME, pred_y\n",
    "plot_confusion_matrix(test_y, y_hat, labels,  f'Confusion Matrix {model_name}')\n",
    "print('F1 score : {:.3f}'.format(f1_score(test_y, y_hat, average='macro')))\n",
    "pretty_classification_report(test_y, y_hat)"
   ]
  },
  {
   "cell_type": "markdown",
   "id": "7e887b1a",
   "metadata": {},
   "source": [
    "## Actual test for submission"
   ]
  },
  {
   "cell_type": "markdown",
   "id": "4a837fa2",
   "metadata": {},
   "source": [
    "## New test\n",
    "\n",
    "Here we transform test data so that it matches the format of the new model with new features"
   ]
  },
  {
   "cell_type": "code",
   "execution_count": 153,
   "id": "c202d064",
   "metadata": {},
   "outputs": [
    {
     "name": "stderr",
     "output_type": "stream",
     "text": [
      "7820it [00:03, 2003.74it/s]\n"
     ]
    }
   ],
   "source": [
    "# Setup\n",
    "model = clf\n",
    "LABEL_DECODING = {y:x for x,y in LABEL_ENCODING.items()}\n",
    "RESULTS_PATH = '.'\n",
    "DATA_DIR = '../../data/01_split'\n",
    "SAMPLE_DIR = '../../data/sample_submission.csv'\n",
    "\n",
    "\n",
    "test_df = pd.read_csv(os.path.join(DATA_DIR,'test.csv'))\n",
    "test_X = test_df.loc[:,test_df.columns!='id']\n",
    "test_ids = test_df['id']\n",
    "\n",
    "\n",
    "\n",
    "# Make predictions\n",
    "sample_df = pd.read_csv(SAMPLE_DIR)\n",
    "sorter = list(sample_df['id'])\n",
    "\n",
    "\n",
    "new_test_x = add_frequency_features(test_X.to_numpy())\n",
    "y_pred = model.predict(new_test_x)\n",
    "y_pred_df = pd.DataFrame(y_pred, columns=['leaktype'])\n",
    "y_pred_df['leaktype'] = y_pred_df['leaktype'].replace(LABEL_DECODING)\n",
    "pred_df = pd.concat([test_ids, y_pred_df],axis=1)\n",
    "\n",
    "# sort predictions\n",
    "resdf = pred_df.set_index('id')\n",
    "result = resdf.loc[sorter].reset_index()\n",
    "resultpath = os.path.join(RESULTS_PATH, 'predictions.csv')\n",
    "result.to_csv(resultpath, index=False)"
   ]
  },
  {
   "cell_type": "markdown",
   "id": "62045cdf",
   "metadata": {},
   "source": [
    "## Old test"
   ]
  },
  {
   "cell_type": "code",
   "execution_count": 139,
   "id": "d1320301",
   "metadata": {},
   "outputs": [],
   "source": [
    "# # Setup\n",
    "# model = clf\n",
    "# LABEL_DECODING = {y:x for x,y in LABEL_ENCODING.items()}\n",
    "# RESULTS_PATH = '.'\n",
    "# DATA_DIR = '../../data/01_split'\n",
    "# SAMPLE_DIR = '../../data/sample_submission.csv'\n",
    "\n",
    "\n",
    "# test_df = pd.read_csv(os.path.join(DATA_DIR,'test.csv'))\n",
    "# test_X = test_df.loc[:,test_df.columns!='id']\n",
    "# test_ids = test_df['id']\n",
    "\n",
    "\n",
    "# # Make predictions\n",
    "# sample_df = pd.read_csv(SAMPLE_DIR)\n",
    "# sorter = list(sample_df['id'])\n",
    "\n",
    "# y_pred = model.predict(test_X)\n",
    "# y_pred_df = pd.DataFrame(y_pred, columns=['leaktype'])\n",
    "# y_pred_df['leaktype'] = y_pred_df['leaktype'].replace(LABEL_DECODING)\n",
    "# pred_df = pd.concat([test_ids, y_pred_df],axis=1)\n",
    "\n",
    "# # sort predictions\n",
    "# resdf = pred_df.set_index('id')\n",
    "# result = resdf.loc[sorter].reset_index()\n",
    "# resultpath = os.path.join(RESULTS_PATH, 'predictions.csv')\n",
    "# result.to_csv(resultpath, index=False)"
   ]
  }
 ],
 "metadata": {
  "interpreter": {
   "hash": "6ab86766f082f578154986f6653c6e39d629c5da3e8ef8a19694c090b82841ee"
  },
  "kernelspec": {
   "display_name": "Python 3.8.10 ('env': venv)",
   "language": "python",
   "name": "python3"
  },
  "language_info": {
   "codemirror_mode": {
    "name": "ipython",
    "version": 3
   },
   "file_extension": ".py",
   "mimetype": "text/x-python",
   "name": "python",
   "nbconvert_exporter": "python",
   "pygments_lexer": "ipython3",
   "version": "3.8.10"
  },
  "toc": {
   "base_numbering": 1,
   "nav_menu": {},
   "number_sections": true,
   "sideBar": true,
   "skip_h1_title": false,
   "title_cell": "Table of Contents",
   "title_sidebar": "Contents",
   "toc_cell": false,
   "toc_position": {
    "height": "calc(100% - 180px)",
    "left": "10px",
    "top": "150px",
    "width": "341.333px"
   },
   "toc_section_display": true,
   "toc_window_display": true
  },
  "vscode": {
   "interpreter": {
    "hash": "31f2aee4e71d21fbe5cf8b01ff0e069b9275f58929596ceb00d14d90e3e16cd6"
   }
  }
 },
 "nbformat": 4,
 "nbformat_minor": 5
}
