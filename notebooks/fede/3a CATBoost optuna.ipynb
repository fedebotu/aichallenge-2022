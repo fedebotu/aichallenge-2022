{
 "cells": [
  {
   "cell_type": "markdown",
   "id": "2ab523fa",
   "metadata": {},
   "source": [
    "# Testing with CATBoost"
   ]
  },
  {
   "cell_type": "code",
   "execution_count": 2,
   "id": "e11a61f6",
   "metadata": {},
   "outputs": [
    {
     "name": "stdout",
     "output_type": "stream",
     "text": [
      "The autoreload extension is already loaded. To reload it, use:\n",
      "  %reload_ext autoreload\n"
     ]
    }
   ],
   "source": [
    "%load_ext autoreload\n",
    "%autoreload 2\n",
    "\n",
    "import pandas as pd\n",
    "import os\n",
    "import matplotlib.pyplot as plt\n",
    "import seaborn as sns\n",
    "from sklearn.metrics import f1_score\n",
    "sns.set_theme()\n",
    "from catboost import CatBoostClassifier\n",
    "\n",
    "\n",
    "import sys; sys.path.append(\"../../\")\n",
    "from modules.utils import load_yaml\n",
    "from modules.evaluation import pretty_classification_report, plot_confusion_matrix"
   ]
  },
  {
   "cell_type": "markdown",
   "id": "c1053083",
   "metadata": {},
   "source": [
    "# Read Data\n",
    "\n",
    "Note: in the submission, we cannot use `test.csv`. This has no labels and it is for submission only. So we need to use validation data as the test\n",
    "\n",
    "--> This should be OK since the data size seems large enough"
   ]
  },
  {
   "cell_type": "code",
   "execution_count": 3,
   "id": "eec6863c",
   "metadata": {},
   "outputs": [
    {
     "name": "stdout",
     "output_type": "stream",
     "text": [
      "../../config/train_config.yaml\n"
     ]
    }
   ],
   "source": [
    "TRAIN_CONFIG_PATH = '../../config/train_config.yaml'\n",
    "DATA_PATH = '../../data/01_split/'\n",
    "\n",
    "config = load_yaml(TRAIN_CONFIG_PATH)\n",
    "LABEL_ENCODING = config['LABEL_ENCODING']\n",
    "\n",
    "train_df = pd.read_csv(os.path.join(DATA_PATH, 'train.csv'))\n",
    "valid_df = pd.read_csv(os.path.join(DATA_PATH, 'valid.csv'))\n",
    "\n",
    "encoding_to_label = {v: k for k, v in LABEL_ENCODING.items()}\n",
    "labels = [key for key in LABEL_ENCODING.keys()]\n"
   ]
  },
  {
   "cell_type": "markdown",
   "id": "fee75e53",
   "metadata": {},
   "source": [
    "## Split into train and test\n",
    "\n",
    "As said, we will use val and test as the same "
   ]
  },
  {
   "cell_type": "code",
   "execution_count": 4,
   "id": "4108511c",
   "metadata": {},
   "outputs": [],
   "source": [
    "train_X, train_y = train_df.loc[:,train_df.columns!='leaktype'], train_df['leaktype']\n",
    "valid_X, valid_y = valid_df.loc[:,train_df.columns!='leaktype'], valid_df['leaktype']\n",
    "\n",
    "train_y = train_y.replace(LABEL_ENCODING)\n",
    "valid_y = valid_y.replace(LABEL_ENCODING)\n",
    "\n",
    "# Same testing and validation\n",
    "test_X, test_y = valid_X, valid_y"
   ]
  },
  {
   "cell_type": "markdown",
   "id": "a31eea01",
   "metadata": {},
   "source": [
    "## Imbalanced learning\n",
    "\n",
    "We should attempt something for the data imbalance: better check this out\n",
    "\n",
    "NOTE: this simple trick seems to be working!"
   ]
  },
  {
   "cell_type": "markdown",
   "id": "d598c080",
   "metadata": {},
   "source": [
    "### Weights"
   ]
  },
  {
   "cell_type": "code",
   "execution_count": 5,
   "id": "9bb44a99",
   "metadata": {},
   "outputs": [],
   "source": [
    "from sklearn.utils.class_weight import compute_class_weight\n",
    "import numpy as np\n",
    "\n",
    "class_weights = compute_class_weight(class_weight='balanced', classes=np.arange(5), y=train_y)"
   ]
  },
  {
   "cell_type": "markdown",
   "id": "986ffae3",
   "metadata": {},
   "source": [
    "### Smote"
   ]
  },
  {
   "cell_type": "code",
   "execution_count": 8,
   "id": "531e1855",
   "metadata": {},
   "outputs": [],
   "source": [
    "MODEL_NAME = 'CATBoost - SMOTE'\n",
    "\n",
    "from imblearn.over_sampling import SMOTE\n",
    "smote = SMOTE(random_state = 42)\n",
    "X_oversample, y_oversample = smote.fit_resample(train_X, train_y)"
   ]
  },
  {
   "cell_type": "markdown",
   "id": "54466dd1",
   "metadata": {},
   "source": [
    "# Optuna optimization\n",
    "\n",
    "https://github.com/optuna/optuna-examples/blob/main/catboost/catboost_simple.py"
   ]
  },
  {
   "cell_type": "code",
   "execution_count": 17,
   "id": "2055f667",
   "metadata": {},
   "outputs": [],
   "source": [
    "import optuna\n",
    "from sklearn.metrics import f1_score, accuracy_score\n",
    "\n",
    "# Setup metrics and data\n",
    "metric = f1_score\n",
    "metric_kwargs = {'average':'macro'}\n",
    "data = [train_X, valid_X, train_y, valid_y]\n",
    "\n",
    "def objective(trial,):\n",
    "    train_x, valid_x, train_y, valid_y = data\n",
    "\n",
    "    param = {\n",
    "        # \"objective\": trial.suggest_categorical(\"objective\", [\"Logloss\", \"CrossEntropy\"]),\n",
    "        \"objective\":\"MultiClass\",\n",
    "        \"colsample_bylevel\": trial.suggest_float(\"colsample_bylevel\", 0.01, 0.1),\n",
    "        \"depth\": trial.suggest_int(\"depth\", 1, 12),\n",
    "        \"boosting_type\": trial.suggest_categorical(\"boosting_type\", [\"Ordered\", \"Plain\"]),\n",
    "        \"bootstrap_type\": trial.suggest_categorical(\n",
    "            \"bootstrap_type\", [\"Bayesian\", \"Bernoulli\", \"MVS\"]\n",
    "        ),\n",
    "        \"used_ram_limit\": \"8gb\",\n",
    "        \"task_type\": \"GPU\"\n",
    "    }\n",
    "\n",
    "    if param[\"bootstrap_type\"] == \"Bayesian\":\n",
    "        param[\"bagging_temperature\"] = trial.suggest_float(\"bagging_temperature\", 0, 10)\n",
    "    elif param[\"bootstrap_type\"] == \"Bernoulli\":\n",
    "        param[\"subsample\"] = trial.suggest_float(\"subsample\", 0.1, 1)\n",
    "\n",
    "    gbm = CatBoostClassifier(**param)\n",
    "\n",
    "    gbm.fit(train_x, train_y, eval_set=[(valid_x, valid_y)], verbose=0, early_stopping_rounds=100)\n",
    "\n",
    "    preds = gbm.predict(valid_x)\n",
    "    pred_labels = np.rint(preds)\n",
    "    target_metric = metric(valid_y, pred_labels, **metric_kwargs)\n",
    "    return target_metric\n"
   ]
  },
  {
   "cell_type": "code",
   "execution_count": 18,
   "id": "394fad55",
   "metadata": {},
   "outputs": [
    {
     "name": "stderr",
     "output_type": "stream",
     "text": [
      "\u001b[32m[I 2022-06-10 00:08:55,571]\u001b[0m A new study created in memory with name: no-name-943f62e1-3d3e-49d5-9ef6-6557ef035237\u001b[0m\n",
      "\u001b[33m[W 2022-06-10 00:08:55,579]\u001b[0m Trial 0 failed because of the following error: CatBoostError('catboost/private/libs/options/catboost_options.cpp:779: MVS is not supported for multiclass models on GPU')\u001b[0m\n",
      "Traceback (most recent call last):\n",
      "  File \"/home/botu/.local/lib/python3.10/site-packages/optuna/study/_optimize.py\", line 213, in _run_trial\n",
      "    value_or_values = func(trial)\n",
      "  File \"/tmp/ipykernel_329773/492423622.py\", line 32, in objective\n",
      "    gbm.fit(train_x, train_y, eval_set=[(valid_x, valid_y)], verbose=0, early_stopping_rounds=100)\n",
      "  File \"/home/botu/.local/lib/python3.10/site-packages/catboost/core.py\", line 5007, in fit\n",
      "    self._fit(X, y, cat_features, text_features, embedding_features, None, sample_weight, None, None, None, None, baseline, use_best_model,\n",
      "  File \"/home/botu/.local/lib/python3.10/site-packages/catboost/core.py\", line 2262, in _fit\n",
      "    train_params = self._prepare_train_params(\n",
      "  File \"/home/botu/.local/lib/python3.10/site-packages/catboost/core.py\", line 2194, in _prepare_train_params\n",
      "    _check_train_params(params)\n",
      "  File \"_catboost.pyx\", line 6032, in _catboost._check_train_params\n",
      "  File \"_catboost.pyx\", line 6051, in _catboost._check_train_params\n",
      "_catboost.CatBoostError: catboost/private/libs/options/catboost_options.cpp:779: MVS is not supported for multiclass models on GPU\n"
     ]
    },
    {
     "ename": "CatBoostError",
     "evalue": "catboost/private/libs/options/catboost_options.cpp:779: MVS is not supported for multiclass models on GPU",
     "output_type": "error",
     "traceback": [
      "\u001b[0;31m---------------------------------------------------------------------------\u001b[0m",
      "\u001b[0;31mCatBoostError\u001b[0m                             Traceback (most recent call last)",
      "\u001b[1;32m/home/botu/Dev/aichallenge-2022/notebooks/fede/3a CATBoost optuna.ipynb Cell 14'\u001b[0m in \u001b[0;36m<module>\u001b[0;34m\u001b[0m\n\u001b[1;32m      <a href='vscode-notebook-cell://ssh-remote%2B7b22686f73744e616d65223a224461727468426f7475227d/home/botu/Dev/aichallenge-2022/notebooks/fede/3a%20CATBoost%20optuna.ipynb#ch0000033vscode-remote?line=0'>1</a>\u001b[0m study \u001b[39m=\u001b[39m optuna\u001b[39m.\u001b[39mcreate_study(direction\u001b[39m=\u001b[39m\u001b[39m\"\u001b[39m\u001b[39mmaximize\u001b[39m\u001b[39m\"\u001b[39m)\n\u001b[0;32m----> <a href='vscode-notebook-cell://ssh-remote%2B7b22686f73744e616d65223a224461727468426f7475227d/home/botu/Dev/aichallenge-2022/notebooks/fede/3a%20CATBoost%20optuna.ipynb#ch0000033vscode-remote?line=1'>2</a>\u001b[0m study\u001b[39m.\u001b[39;49moptimize(objective, n_trials\u001b[39m=\u001b[39;49m\u001b[39m100\u001b[39;49m, timeout\u001b[39m=\u001b[39;49m\u001b[39m600\u001b[39;49m)\n\u001b[1;32m      <a href='vscode-notebook-cell://ssh-remote%2B7b22686f73744e616d65223a224461727468426f7475227d/home/botu/Dev/aichallenge-2022/notebooks/fede/3a%20CATBoost%20optuna.ipynb#ch0000033vscode-remote?line=3'>4</a>\u001b[0m \u001b[39mprint\u001b[39m(\u001b[39m\"\u001b[39m\u001b[39mNumber of finished trials: \u001b[39m\u001b[39m{}\u001b[39;00m\u001b[39m\"\u001b[39m\u001b[39m.\u001b[39mformat(\u001b[39mlen\u001b[39m(study\u001b[39m.\u001b[39mtrials)))\n\u001b[1;32m      <a href='vscode-notebook-cell://ssh-remote%2B7b22686f73744e616d65223a224461727468426f7475227d/home/botu/Dev/aichallenge-2022/notebooks/fede/3a%20CATBoost%20optuna.ipynb#ch0000033vscode-remote?line=5'>6</a>\u001b[0m \u001b[39mprint\u001b[39m(\u001b[39m\"\u001b[39m\u001b[39mBest trial:\u001b[39m\u001b[39m\"\u001b[39m)\n",
      "File \u001b[0;32m~/.local/lib/python3.10/site-packages/optuna/study/study.py:400\u001b[0m, in \u001b[0;36mStudy.optimize\u001b[0;34m(self, func, n_trials, timeout, n_jobs, catch, callbacks, gc_after_trial, show_progress_bar)\u001b[0m\n\u001b[1;32m    <a href='file:///home/botu/.local/lib/python3.10/site-packages/optuna/study/study.py?line=391'>392</a>\u001b[0m \u001b[39mif\u001b[39;00m n_jobs \u001b[39m!=\u001b[39m \u001b[39m1\u001b[39m:\n\u001b[1;32m    <a href='file:///home/botu/.local/lib/python3.10/site-packages/optuna/study/study.py?line=392'>393</a>\u001b[0m     warnings\u001b[39m.\u001b[39mwarn(\n\u001b[1;32m    <a href='file:///home/botu/.local/lib/python3.10/site-packages/optuna/study/study.py?line=393'>394</a>\u001b[0m         \u001b[39m\"\u001b[39m\u001b[39m`n_jobs` argument has been deprecated in v2.7.0. \u001b[39m\u001b[39m\"\u001b[39m\n\u001b[1;32m    <a href='file:///home/botu/.local/lib/python3.10/site-packages/optuna/study/study.py?line=394'>395</a>\u001b[0m         \u001b[39m\"\u001b[39m\u001b[39mThis feature will be removed in v4.0.0. \u001b[39m\u001b[39m\"\u001b[39m\n\u001b[1;32m    <a href='file:///home/botu/.local/lib/python3.10/site-packages/optuna/study/study.py?line=395'>396</a>\u001b[0m         \u001b[39m\"\u001b[39m\u001b[39mSee https://github.com/optuna/optuna/releases/tag/v2.7.0.\u001b[39m\u001b[39m\"\u001b[39m,\n\u001b[1;32m    <a href='file:///home/botu/.local/lib/python3.10/site-packages/optuna/study/study.py?line=396'>397</a>\u001b[0m         \u001b[39mFutureWarning\u001b[39;00m,\n\u001b[1;32m    <a href='file:///home/botu/.local/lib/python3.10/site-packages/optuna/study/study.py?line=397'>398</a>\u001b[0m     )\n\u001b[0;32m--> <a href='file:///home/botu/.local/lib/python3.10/site-packages/optuna/study/study.py?line=399'>400</a>\u001b[0m _optimize(\n\u001b[1;32m    <a href='file:///home/botu/.local/lib/python3.10/site-packages/optuna/study/study.py?line=400'>401</a>\u001b[0m     study\u001b[39m=\u001b[39;49m\u001b[39mself\u001b[39;49m,\n\u001b[1;32m    <a href='file:///home/botu/.local/lib/python3.10/site-packages/optuna/study/study.py?line=401'>402</a>\u001b[0m     func\u001b[39m=\u001b[39;49mfunc,\n\u001b[1;32m    <a href='file:///home/botu/.local/lib/python3.10/site-packages/optuna/study/study.py?line=402'>403</a>\u001b[0m     n_trials\u001b[39m=\u001b[39;49mn_trials,\n\u001b[1;32m    <a href='file:///home/botu/.local/lib/python3.10/site-packages/optuna/study/study.py?line=403'>404</a>\u001b[0m     timeout\u001b[39m=\u001b[39;49mtimeout,\n\u001b[1;32m    <a href='file:///home/botu/.local/lib/python3.10/site-packages/optuna/study/study.py?line=404'>405</a>\u001b[0m     n_jobs\u001b[39m=\u001b[39;49mn_jobs,\n\u001b[1;32m    <a href='file:///home/botu/.local/lib/python3.10/site-packages/optuna/study/study.py?line=405'>406</a>\u001b[0m     catch\u001b[39m=\u001b[39;49mcatch,\n\u001b[1;32m    <a href='file:///home/botu/.local/lib/python3.10/site-packages/optuna/study/study.py?line=406'>407</a>\u001b[0m     callbacks\u001b[39m=\u001b[39;49mcallbacks,\n\u001b[1;32m    <a href='file:///home/botu/.local/lib/python3.10/site-packages/optuna/study/study.py?line=407'>408</a>\u001b[0m     gc_after_trial\u001b[39m=\u001b[39;49mgc_after_trial,\n\u001b[1;32m    <a href='file:///home/botu/.local/lib/python3.10/site-packages/optuna/study/study.py?line=408'>409</a>\u001b[0m     show_progress_bar\u001b[39m=\u001b[39;49mshow_progress_bar,\n\u001b[1;32m    <a href='file:///home/botu/.local/lib/python3.10/site-packages/optuna/study/study.py?line=409'>410</a>\u001b[0m )\n",
      "File \u001b[0;32m~/.local/lib/python3.10/site-packages/optuna/study/_optimize.py:66\u001b[0m, in \u001b[0;36m_optimize\u001b[0;34m(study, func, n_trials, timeout, n_jobs, catch, callbacks, gc_after_trial, show_progress_bar)\u001b[0m\n\u001b[1;32m     <a href='file:///home/botu/.local/lib/python3.10/site-packages/optuna/study/_optimize.py?line=63'>64</a>\u001b[0m \u001b[39mtry\u001b[39;00m:\n\u001b[1;32m     <a href='file:///home/botu/.local/lib/python3.10/site-packages/optuna/study/_optimize.py?line=64'>65</a>\u001b[0m     \u001b[39mif\u001b[39;00m n_jobs \u001b[39m==\u001b[39m \u001b[39m1\u001b[39m:\n\u001b[0;32m---> <a href='file:///home/botu/.local/lib/python3.10/site-packages/optuna/study/_optimize.py?line=65'>66</a>\u001b[0m         _optimize_sequential(\n\u001b[1;32m     <a href='file:///home/botu/.local/lib/python3.10/site-packages/optuna/study/_optimize.py?line=66'>67</a>\u001b[0m             study,\n\u001b[1;32m     <a href='file:///home/botu/.local/lib/python3.10/site-packages/optuna/study/_optimize.py?line=67'>68</a>\u001b[0m             func,\n\u001b[1;32m     <a href='file:///home/botu/.local/lib/python3.10/site-packages/optuna/study/_optimize.py?line=68'>69</a>\u001b[0m             n_trials,\n\u001b[1;32m     <a href='file:///home/botu/.local/lib/python3.10/site-packages/optuna/study/_optimize.py?line=69'>70</a>\u001b[0m             timeout,\n\u001b[1;32m     <a href='file:///home/botu/.local/lib/python3.10/site-packages/optuna/study/_optimize.py?line=70'>71</a>\u001b[0m             catch,\n\u001b[1;32m     <a href='file:///home/botu/.local/lib/python3.10/site-packages/optuna/study/_optimize.py?line=71'>72</a>\u001b[0m             callbacks,\n\u001b[1;32m     <a href='file:///home/botu/.local/lib/python3.10/site-packages/optuna/study/_optimize.py?line=72'>73</a>\u001b[0m             gc_after_trial,\n\u001b[1;32m     <a href='file:///home/botu/.local/lib/python3.10/site-packages/optuna/study/_optimize.py?line=73'>74</a>\u001b[0m             reseed_sampler_rng\u001b[39m=\u001b[39;49m\u001b[39mFalse\u001b[39;49;00m,\n\u001b[1;32m     <a href='file:///home/botu/.local/lib/python3.10/site-packages/optuna/study/_optimize.py?line=74'>75</a>\u001b[0m             time_start\u001b[39m=\u001b[39;49m\u001b[39mNone\u001b[39;49;00m,\n\u001b[1;32m     <a href='file:///home/botu/.local/lib/python3.10/site-packages/optuna/study/_optimize.py?line=75'>76</a>\u001b[0m             progress_bar\u001b[39m=\u001b[39;49mprogress_bar,\n\u001b[1;32m     <a href='file:///home/botu/.local/lib/python3.10/site-packages/optuna/study/_optimize.py?line=76'>77</a>\u001b[0m         )\n\u001b[1;32m     <a href='file:///home/botu/.local/lib/python3.10/site-packages/optuna/study/_optimize.py?line=77'>78</a>\u001b[0m     \u001b[39melse\u001b[39;00m:\n\u001b[1;32m     <a href='file:///home/botu/.local/lib/python3.10/site-packages/optuna/study/_optimize.py?line=78'>79</a>\u001b[0m         \u001b[39mif\u001b[39;00m show_progress_bar:\n",
      "File \u001b[0;32m~/.local/lib/python3.10/site-packages/optuna/study/_optimize.py:163\u001b[0m, in \u001b[0;36m_optimize_sequential\u001b[0;34m(study, func, n_trials, timeout, catch, callbacks, gc_after_trial, reseed_sampler_rng, time_start, progress_bar)\u001b[0m\n\u001b[1;32m    <a href='file:///home/botu/.local/lib/python3.10/site-packages/optuna/study/_optimize.py?line=159'>160</a>\u001b[0m         \u001b[39mbreak\u001b[39;00m\n\u001b[1;32m    <a href='file:///home/botu/.local/lib/python3.10/site-packages/optuna/study/_optimize.py?line=161'>162</a>\u001b[0m \u001b[39mtry\u001b[39;00m:\n\u001b[0;32m--> <a href='file:///home/botu/.local/lib/python3.10/site-packages/optuna/study/_optimize.py?line=162'>163</a>\u001b[0m     trial \u001b[39m=\u001b[39m _run_trial(study, func, catch)\n\u001b[1;32m    <a href='file:///home/botu/.local/lib/python3.10/site-packages/optuna/study/_optimize.py?line=163'>164</a>\u001b[0m \u001b[39mexcept\u001b[39;00m \u001b[39mException\u001b[39;00m:\n\u001b[1;32m    <a href='file:///home/botu/.local/lib/python3.10/site-packages/optuna/study/_optimize.py?line=164'>165</a>\u001b[0m     \u001b[39mraise\u001b[39;00m\n",
      "File \u001b[0;32m~/.local/lib/python3.10/site-packages/optuna/study/_optimize.py:264\u001b[0m, in \u001b[0;36m_run_trial\u001b[0;34m(study, func, catch)\u001b[0m\n\u001b[1;32m    <a href='file:///home/botu/.local/lib/python3.10/site-packages/optuna/study/_optimize.py?line=260'>261</a>\u001b[0m         \u001b[39massert\u001b[39;00m \u001b[39mFalse\u001b[39;00m, \u001b[39m\"\u001b[39m\u001b[39mShould not reach.\u001b[39m\u001b[39m\"\u001b[39m\n\u001b[1;32m    <a href='file:///home/botu/.local/lib/python3.10/site-packages/optuna/study/_optimize.py?line=262'>263</a>\u001b[0m \u001b[39mif\u001b[39;00m state \u001b[39m==\u001b[39m TrialState\u001b[39m.\u001b[39mFAIL \u001b[39mand\u001b[39;00m func_err \u001b[39mis\u001b[39;00m \u001b[39mnot\u001b[39;00m \u001b[39mNone\u001b[39;00m \u001b[39mand\u001b[39;00m \u001b[39mnot\u001b[39;00m \u001b[39misinstance\u001b[39m(func_err, catch):\n\u001b[0;32m--> <a href='file:///home/botu/.local/lib/python3.10/site-packages/optuna/study/_optimize.py?line=263'>264</a>\u001b[0m     \u001b[39mraise\u001b[39;00m func_err\n\u001b[1;32m    <a href='file:///home/botu/.local/lib/python3.10/site-packages/optuna/study/_optimize.py?line=264'>265</a>\u001b[0m \u001b[39mreturn\u001b[39;00m trial\n",
      "File \u001b[0;32m~/.local/lib/python3.10/site-packages/optuna/study/_optimize.py:213\u001b[0m, in \u001b[0;36m_run_trial\u001b[0;34m(study, func, catch)\u001b[0m\n\u001b[1;32m    <a href='file:///home/botu/.local/lib/python3.10/site-packages/optuna/study/_optimize.py?line=209'>210</a>\u001b[0m     thread\u001b[39m.\u001b[39mstart()\n\u001b[1;32m    <a href='file:///home/botu/.local/lib/python3.10/site-packages/optuna/study/_optimize.py?line=211'>212</a>\u001b[0m \u001b[39mtry\u001b[39;00m:\n\u001b[0;32m--> <a href='file:///home/botu/.local/lib/python3.10/site-packages/optuna/study/_optimize.py?line=212'>213</a>\u001b[0m     value_or_values \u001b[39m=\u001b[39m func(trial)\n\u001b[1;32m    <a href='file:///home/botu/.local/lib/python3.10/site-packages/optuna/study/_optimize.py?line=213'>214</a>\u001b[0m \u001b[39mexcept\u001b[39;00m exceptions\u001b[39m.\u001b[39mTrialPruned \u001b[39mas\u001b[39;00m e:\n\u001b[1;32m    <a href='file:///home/botu/.local/lib/python3.10/site-packages/optuna/study/_optimize.py?line=214'>215</a>\u001b[0m     \u001b[39m# TODO(mamu): Handle multi-objective cases.\u001b[39;00m\n\u001b[1;32m    <a href='file:///home/botu/.local/lib/python3.10/site-packages/optuna/study/_optimize.py?line=215'>216</a>\u001b[0m     state \u001b[39m=\u001b[39m TrialState\u001b[39m.\u001b[39mPRUNED\n",
      "\u001b[1;32m/home/botu/Dev/aichallenge-2022/notebooks/fede/3a CATBoost optuna.ipynb Cell 13'\u001b[0m in \u001b[0;36mobjective\u001b[0;34m(trial)\u001b[0m\n\u001b[1;32m     <a href='vscode-notebook-cell://ssh-remote%2B7b22686f73744e616d65223a224461727468426f7475227d/home/botu/Dev/aichallenge-2022/notebooks/fede/3a%20CATBoost%20optuna.ipynb#ch0000032vscode-remote?line=27'>28</a>\u001b[0m     param[\u001b[39m\"\u001b[39m\u001b[39msubsample\u001b[39m\u001b[39m\"\u001b[39m] \u001b[39m=\u001b[39m trial\u001b[39m.\u001b[39msuggest_float(\u001b[39m\"\u001b[39m\u001b[39msubsample\u001b[39m\u001b[39m\"\u001b[39m, \u001b[39m0.1\u001b[39m, \u001b[39m1\u001b[39m)\n\u001b[1;32m     <a href='vscode-notebook-cell://ssh-remote%2B7b22686f73744e616d65223a224461727468426f7475227d/home/botu/Dev/aichallenge-2022/notebooks/fede/3a%20CATBoost%20optuna.ipynb#ch0000032vscode-remote?line=29'>30</a>\u001b[0m gbm \u001b[39m=\u001b[39m CatBoostClassifier(\u001b[39m*\u001b[39m\u001b[39m*\u001b[39mparam)\n\u001b[0;32m---> <a href='vscode-notebook-cell://ssh-remote%2B7b22686f73744e616d65223a224461727468426f7475227d/home/botu/Dev/aichallenge-2022/notebooks/fede/3a%20CATBoost%20optuna.ipynb#ch0000032vscode-remote?line=31'>32</a>\u001b[0m gbm\u001b[39m.\u001b[39;49mfit(train_x, train_y, eval_set\u001b[39m=\u001b[39;49m[(valid_x, valid_y)], verbose\u001b[39m=\u001b[39;49m\u001b[39m0\u001b[39;49m, early_stopping_rounds\u001b[39m=\u001b[39;49m\u001b[39m100\u001b[39;49m)\n\u001b[1;32m     <a href='vscode-notebook-cell://ssh-remote%2B7b22686f73744e616d65223a224461727468426f7475227d/home/botu/Dev/aichallenge-2022/notebooks/fede/3a%20CATBoost%20optuna.ipynb#ch0000032vscode-remote?line=33'>34</a>\u001b[0m preds \u001b[39m=\u001b[39m gbm\u001b[39m.\u001b[39mpredict(valid_x)\n\u001b[1;32m     <a href='vscode-notebook-cell://ssh-remote%2B7b22686f73744e616d65223a224461727468426f7475227d/home/botu/Dev/aichallenge-2022/notebooks/fede/3a%20CATBoost%20optuna.ipynb#ch0000032vscode-remote?line=34'>35</a>\u001b[0m pred_labels \u001b[39m=\u001b[39m np\u001b[39m.\u001b[39mrint(preds)\n",
      "File \u001b[0;32m~/.local/lib/python3.10/site-packages/catboost/core.py:5007\u001b[0m, in \u001b[0;36mCatBoostClassifier.fit\u001b[0;34m(self, X, y, cat_features, text_features, embedding_features, sample_weight, baseline, use_best_model, eval_set, verbose, logging_level, plot, column_description, verbose_eval, metric_period, silent, early_stopping_rounds, save_snapshot, snapshot_file, snapshot_interval, init_model, callbacks, log_cout, log_cerr)\u001b[0m\n\u001b[1;32m   <a href='file:///home/botu/.local/lib/python3.10/site-packages/catboost/core.py?line=5003'>5004</a>\u001b[0m \u001b[39mif\u001b[39;00m \u001b[39m'\u001b[39m\u001b[39mloss_function\u001b[39m\u001b[39m'\u001b[39m \u001b[39min\u001b[39;00m params:\n\u001b[1;32m   <a href='file:///home/botu/.local/lib/python3.10/site-packages/catboost/core.py?line=5004'>5005</a>\u001b[0m     CatBoostClassifier\u001b[39m.\u001b[39m_check_is_compatible_loss(params[\u001b[39m'\u001b[39m\u001b[39mloss_function\u001b[39m\u001b[39m'\u001b[39m])\n\u001b[0;32m-> <a href='file:///home/botu/.local/lib/python3.10/site-packages/catboost/core.py?line=5006'>5007</a>\u001b[0m \u001b[39mself\u001b[39;49m\u001b[39m.\u001b[39;49m_fit(X, y, cat_features, text_features, embedding_features, \u001b[39mNone\u001b[39;49;00m, sample_weight, \u001b[39mNone\u001b[39;49;00m, \u001b[39mNone\u001b[39;49;00m, \u001b[39mNone\u001b[39;49;00m, \u001b[39mNone\u001b[39;49;00m, baseline, use_best_model,\n\u001b[1;32m   <a href='file:///home/botu/.local/lib/python3.10/site-packages/catboost/core.py?line=5007'>5008</a>\u001b[0m           eval_set, verbose, logging_level, plot, column_description, verbose_eval, metric_period,\n\u001b[1;32m   <a href='file:///home/botu/.local/lib/python3.10/site-packages/catboost/core.py?line=5008'>5009</a>\u001b[0m           silent, early_stopping_rounds, save_snapshot, snapshot_file, snapshot_interval, init_model, callbacks, log_cout, log_cerr)\n\u001b[1;32m   <a href='file:///home/botu/.local/lib/python3.10/site-packages/catboost/core.py?line=5009'>5010</a>\u001b[0m \u001b[39mreturn\u001b[39;00m \u001b[39mself\u001b[39m\n",
      "File \u001b[0;32m~/.local/lib/python3.10/site-packages/catboost/core.py:2262\u001b[0m, in \u001b[0;36mCatBoost._fit\u001b[0;34m(self, X, y, cat_features, text_features, embedding_features, pairs, sample_weight, group_id, group_weight, subgroup_id, pairs_weight, baseline, use_best_model, eval_set, verbose, logging_level, plot, column_description, verbose_eval, metric_period, silent, early_stopping_rounds, save_snapshot, snapshot_file, snapshot_interval, init_model, callbacks, log_cout, log_cerr)\u001b[0m\n\u001b[1;32m   <a href='file:///home/botu/.local/lib/python3.10/site-packages/catboost/core.py?line=2258'>2259</a>\u001b[0m \u001b[39mif\u001b[39;00m y \u001b[39mis\u001b[39;00m \u001b[39mNone\u001b[39;00m \u001b[39mand\u001b[39;00m \u001b[39mnot\u001b[39;00m \u001b[39misinstance\u001b[39m(X, PATH_TYPES \u001b[39m+\u001b[39m (Pool,)):\n\u001b[1;32m   <a href='file:///home/botu/.local/lib/python3.10/site-packages/catboost/core.py?line=2259'>2260</a>\u001b[0m     \u001b[39mraise\u001b[39;00m CatBoostError(\u001b[39m\"\u001b[39m\u001b[39my may be None only when X is an instance of catboost.Pool or string\u001b[39m\u001b[39m\"\u001b[39m)\n\u001b[0;32m-> <a href='file:///home/botu/.local/lib/python3.10/site-packages/catboost/core.py?line=2261'>2262</a>\u001b[0m train_params \u001b[39m=\u001b[39m \u001b[39mself\u001b[39;49m\u001b[39m.\u001b[39;49m_prepare_train_params(\n\u001b[1;32m   <a href='file:///home/botu/.local/lib/python3.10/site-packages/catboost/core.py?line=2262'>2263</a>\u001b[0m     X\u001b[39m=\u001b[39;49mX, y\u001b[39m=\u001b[39;49my, cat_features\u001b[39m=\u001b[39;49mcat_features, text_features\u001b[39m=\u001b[39;49mtext_features, embedding_features\u001b[39m=\u001b[39;49membedding_features,\n\u001b[1;32m   <a href='file:///home/botu/.local/lib/python3.10/site-packages/catboost/core.py?line=2263'>2264</a>\u001b[0m     pairs\u001b[39m=\u001b[39;49mpairs, sample_weight\u001b[39m=\u001b[39;49msample_weight, group_id\u001b[39m=\u001b[39;49mgroup_id, group_weight\u001b[39m=\u001b[39;49mgroup_weight,\n\u001b[1;32m   <a href='file:///home/botu/.local/lib/python3.10/site-packages/catboost/core.py?line=2264'>2265</a>\u001b[0m     subgroup_id\u001b[39m=\u001b[39;49msubgroup_id, pairs_weight\u001b[39m=\u001b[39;49mpairs_weight, baseline\u001b[39m=\u001b[39;49mbaseline, use_best_model\u001b[39m=\u001b[39;49muse_best_model,\n\u001b[1;32m   <a href='file:///home/botu/.local/lib/python3.10/site-packages/catboost/core.py?line=2265'>2266</a>\u001b[0m     eval_set\u001b[39m=\u001b[39;49meval_set, verbose\u001b[39m=\u001b[39;49mverbose, logging_level\u001b[39m=\u001b[39;49mlogging_level, plot\u001b[39m=\u001b[39;49mplot,\n\u001b[1;32m   <a href='file:///home/botu/.local/lib/python3.10/site-packages/catboost/core.py?line=2266'>2267</a>\u001b[0m     column_description\u001b[39m=\u001b[39;49mcolumn_description, verbose_eval\u001b[39m=\u001b[39;49mverbose_eval, metric_period\u001b[39m=\u001b[39;49mmetric_period,\n\u001b[1;32m   <a href='file:///home/botu/.local/lib/python3.10/site-packages/catboost/core.py?line=2267'>2268</a>\u001b[0m     silent\u001b[39m=\u001b[39;49msilent, early_stopping_rounds\u001b[39m=\u001b[39;49mearly_stopping_rounds, save_snapshot\u001b[39m=\u001b[39;49msave_snapshot,\n\u001b[1;32m   <a href='file:///home/botu/.local/lib/python3.10/site-packages/catboost/core.py?line=2268'>2269</a>\u001b[0m     snapshot_file\u001b[39m=\u001b[39;49msnapshot_file, snapshot_interval\u001b[39m=\u001b[39;49msnapshot_interval, init_model\u001b[39m=\u001b[39;49minit_model,\n\u001b[1;32m   <a href='file:///home/botu/.local/lib/python3.10/site-packages/catboost/core.py?line=2269'>2270</a>\u001b[0m     callbacks\u001b[39m=\u001b[39;49mcallbacks\n\u001b[1;32m   <a href='file:///home/botu/.local/lib/python3.10/site-packages/catboost/core.py?line=2270'>2271</a>\u001b[0m )\n\u001b[1;32m   <a href='file:///home/botu/.local/lib/python3.10/site-packages/catboost/core.py?line=2271'>2272</a>\u001b[0m params \u001b[39m=\u001b[39m train_params[\u001b[39m\"\u001b[39m\u001b[39mparams\u001b[39m\u001b[39m\"\u001b[39m]\n\u001b[1;32m   <a href='file:///home/botu/.local/lib/python3.10/site-packages/catboost/core.py?line=2272'>2273</a>\u001b[0m train_pool \u001b[39m=\u001b[39m train_params[\u001b[39m\"\u001b[39m\u001b[39mtrain_pool\u001b[39m\u001b[39m\"\u001b[39m]\n",
      "File \u001b[0;32m~/.local/lib/python3.10/site-packages/catboost/core.py:2194\u001b[0m, in \u001b[0;36mCatBoost._prepare_train_params\u001b[0;34m(self, X, y, cat_features, text_features, embedding_features, pairs, sample_weight, group_id, group_weight, subgroup_id, pairs_weight, baseline, use_best_model, eval_set, verbose, logging_level, plot, column_description, verbose_eval, metric_period, silent, early_stopping_rounds, save_snapshot, snapshot_file, snapshot_interval, init_model, callbacks)\u001b[0m\n\u001b[1;32m   <a href='file:///home/botu/.local/lib/python3.10/site-packages/catboost/core.py?line=2191'>2192</a>\u001b[0m _check_param_types(params)\n\u001b[1;32m   <a href='file:///home/botu/.local/lib/python3.10/site-packages/catboost/core.py?line=2192'>2193</a>\u001b[0m params \u001b[39m=\u001b[39m _params_type_cast(params)\n\u001b[0;32m-> <a href='file:///home/botu/.local/lib/python3.10/site-packages/catboost/core.py?line=2193'>2194</a>\u001b[0m _check_train_params(params)\n\u001b[1;32m   <a href='file:///home/botu/.local/lib/python3.10/site-packages/catboost/core.py?line=2195'>2196</a>\u001b[0m eval_set_list \u001b[39m=\u001b[39m eval_set \u001b[39mif\u001b[39;00m \u001b[39misinstance\u001b[39m(eval_set, \u001b[39mlist\u001b[39m) \u001b[39melse\u001b[39;00m [eval_set]\n\u001b[1;32m   <a href='file:///home/botu/.local/lib/python3.10/site-packages/catboost/core.py?line=2196'>2197</a>\u001b[0m eval_sets \u001b[39m=\u001b[39m []\n",
      "File \u001b[0;32m_catboost.pyx:6032\u001b[0m, in \u001b[0;36m_catboost._check_train_params\u001b[0;34m()\u001b[0m\n",
      "File \u001b[0;32m_catboost.pyx:6051\u001b[0m, in \u001b[0;36m_catboost._check_train_params\u001b[0;34m()\u001b[0m\n",
      "\u001b[0;31mCatBoostError\u001b[0m: catboost/private/libs/options/catboost_options.cpp:779: MVS is not supported for multiclass models on GPU"
     ]
    }
   ],
   "source": [
    "study = optuna.create_study(direction=\"maximize\")\n",
    "study.optimize(objective, n_trials=100, timeout=600)\n",
    "\n",
    "print(\"Number of finished trials: {}\".format(len(study.trials)))\n",
    "\n",
    "print(\"Best trial:\")\n",
    "trial = study.best_trial\n",
    "\n",
    "print(\"  Value: {}\".format(trial.value))\n",
    "\n",
    "print(\"  Params: \")\n",
    "for key, value in trial.params.items():\n",
    "    print(\"    {}: {}\".format(key, value))"
   ]
  },
  {
   "cell_type": "markdown",
   "id": "1288c9cd",
   "metadata": {},
   "source": [
    "# Train Models\n",
    "\n",
    "<!-- Tricks: we can use custom parameters to maximize the F1 score -->"
   ]
  },
  {
   "cell_type": "code",
   "execution_count": 32,
   "id": "b2e4d9b6",
   "metadata": {},
   "outputs": [
    {
     "name": "stderr",
     "output_type": "stream",
     "text": [
      "Warning: less than 75% gpu memory available for training. Free: 4503.1875 Total: 7974.3125\n"
     ]
    },
    {
     "name": "stdout",
     "output_type": "stream",
     "text": [
      "Learning rate set to 0.059223\n",
      "0:\tlearn: 0.3983525\ttest: 0.5384148\tbest: 0.5384148 (0)\ttotal: 21ms\tremaining: 3m 30s\n",
      "200:\tlearn: 0.7608419\ttest: 0.7929679\tbest: 0.7929679 (200)\ttotal: 2.87s\tremaining: 2m 19s\n",
      "400:\tlearn: 0.8460245\ttest: 0.8439659\tbest: 0.8439659 (400)\ttotal: 5.6s\tremaining: 2m 14s\n",
      "600:\tlearn: 0.8902068\ttest: 0.8664640\tbest: 0.8668964 (595)\ttotal: 8.28s\tremaining: 2m 9s\n",
      "800:\tlearn: 0.9180553\ttest: 0.8804744\tbest: 0.8813116 (794)\ttotal: 10.9s\tremaining: 2m 5s\n",
      "1000:\tlearn: 0.9365019\ttest: 0.8910432\tbest: 0.8918090 (992)\ttotal: 13.5s\tremaining: 2m 1s\n",
      "1200:\tlearn: 0.9498989\ttest: 0.8956536\tbest: 0.8961039 (1147)\ttotal: 16.1s\tremaining: 1m 57s\n",
      "1400:\tlearn: 0.9586535\ttest: 0.9026784\tbest: 0.9031445 (1397)\ttotal: 18.6s\tremaining: 1m 53s\n",
      "1600:\tlearn: 0.9658695\ttest: 0.9072814\tbest: 0.9075420 (1590)\ttotal: 21.1s\tremaining: 1m 50s\n",
      "1800:\tlearn: 0.9710246\ttest: 0.9108857\tbest: 0.9109126 (1799)\ttotal: 23.6s\tremaining: 1m 47s\n",
      "2000:\tlearn: 0.9752090\ttest: 0.9142075\tbest: 0.9147836 (1995)\ttotal: 26s\tremaining: 1m 44s\n",
      "2200:\tlearn: 0.9784661\ttest: 0.9168275\tbest: 0.9173234 (2170)\ttotal: 28.5s\tremaining: 1m 41s\n",
      "2400:\tlearn: 0.9811967\ttest: 0.9187932\tbest: 0.9188293 (2398)\ttotal: 30.9s\tremaining: 1m 37s\n",
      "2600:\tlearn: 0.9834962\ttest: 0.9216415\tbest: 0.9220937 (2596)\ttotal: 33.4s\tremaining: 1m 35s\n",
      "2800:\tlearn: 0.9856998\ttest: 0.9231726\tbest: 0.9242549 (2790)\ttotal: 35.9s\tremaining: 1m 32s\n",
      "3000:\tlearn: 0.9872236\ttest: 0.9250636\tbest: 0.9250636 (2943)\ttotal: 38.4s\tremaining: 1m 29s\n",
      "3200:\tlearn: 0.9886504\ttest: 0.9264600\tbest: 0.9268312 (3190)\ttotal: 41s\tremaining: 1m 27s\n",
      "3400:\tlearn: 0.9898970\ttest: 0.9272920\tbest: 0.9277185 (3294)\ttotal: 43.5s\tremaining: 1m 24s\n",
      "3600:\tlearn: 0.9908670\ttest: 0.9284508\tbest: 0.9290120 (3581)\ttotal: 46s\tremaining: 1m 21s\n",
      "3800:\tlearn: 0.9921407\ttest: 0.9295657\tbest: 0.9297080 (3737)\ttotal: 48.5s\tremaining: 1m 19s\n",
      "4000:\tlearn: 0.9928894\ttest: 0.9312440\tbest: 0.9315584 (3946)\ttotal: 51.1s\tremaining: 1m 16s\n",
      "4200:\tlearn: 0.9936927\ttest: 0.9315218\tbest: 0.9320003 (4126)\ttotal: 53.6s\tremaining: 1m 14s\n",
      "4400:\tlearn: 0.9943857\ttest: 0.9323002\tbest: 0.9323002 (4400)\ttotal: 56.1s\tremaining: 1m 11s\n",
      "4600:\tlearn: 0.9950926\ttest: 0.9327763\tbest: 0.9331237 (4588)\ttotal: 58.6s\tremaining: 1m 8s\n",
      "4800:\tlearn: 0.9956888\ttest: 0.9333999\tbest: 0.9335522 (4781)\ttotal: 1m 1s\tremaining: 1m 6s\n",
      "5000:\tlearn: 0.9961461\ttest: 0.9342020\tbest: 0.9344804 (4882)\ttotal: 1m 3s\tremaining: 1m 3s\n",
      "5200:\tlearn: 0.9966033\ttest: 0.9347319\tbest: 0.9350790 (5060)\ttotal: 1m 6s\tremaining: 1m 1s\n",
      "5400:\tlearn: 0.9969220\ttest: 0.9341246\tbest: 0.9354391 (5273)\ttotal: 1m 8s\tremaining: 58.6s\n",
      "5600:\tlearn: 0.9973101\ttest: 0.9352793\tbest: 0.9354391 (5273)\ttotal: 1m 12s\tremaining: 56.6s\n",
      "5800:\tlearn: 0.9976430\ttest: 0.9353511\tbest: 0.9355960 (5611)\ttotal: 1m 15s\tremaining: 54.9s\n",
      "6000:\tlearn: 0.9978649\ttest: 0.9354882\tbest: 0.9359407 (5923)\ttotal: 1m 19s\tremaining: 53s\n",
      "6200:\tlearn: 0.9980035\ttest: 0.9352780\tbest: 0.9359407 (5923)\ttotal: 1m 22s\tremaining: 50.3s\n",
      "6400:\tlearn: 0.9982670\ttest: 0.9355386\tbest: 0.9359407 (5923)\ttotal: 1m 25s\tremaining: 47.9s\n",
      "6600:\tlearn: 0.9985581\ttest: 0.9357127\tbest: 0.9359833 (6421)\ttotal: 1m 28s\tremaining: 45.4s\n",
      "6800:\tlearn: 0.9987660\ttest: 0.9360073\tbest: 0.9363156 (6765)\ttotal: 1m 31s\tremaining: 42.9s\n",
      "7000:\tlearn: 0.9988631\ttest: 0.9364485\tbest: 0.9364766 (6994)\ttotal: 1m 35s\tremaining: 41s\n",
      "7200:\tlearn: 0.9990710\ttest: 0.9369991\tbest: 0.9373178 (7166)\ttotal: 1m 38s\tremaining: 38.3s\n",
      "7400:\tlearn: 0.9991681\ttest: 0.9374509\tbest: 0.9376084 (7399)\ttotal: 1m 41s\tremaining: 35.6s\n",
      "7600:\tlearn: 0.9993344\ttest: 0.9376334\tbest: 0.9377396 (7520)\ttotal: 1m 44s\tremaining: 33s\n",
      "7800:\tlearn: 0.9993899\ttest: 0.9377366\tbest: 0.9379389 (7634)\ttotal: 1m 48s\tremaining: 30.5s\n",
      "8000:\tlearn: 0.9994592\ttest: 0.9383770\tbest: 0.9385154 (7949)\ttotal: 1m 52s\tremaining: 28s\n",
      "8200:\tlearn: 0.9995424\ttest: 0.9387945\tbest: 0.9389787 (8174)\ttotal: 1m 55s\tremaining: 25.4s\n",
      "8400:\tlearn: 0.9995979\ttest: 0.9393985\tbest: 0.9395403 (8344)\ttotal: 1m 58s\tremaining: 22.6s\n",
      "8600:\tlearn: 0.9996672\ttest: 0.9390433\tbest: 0.9396757 (8477)\ttotal: 2m 1s\tremaining: 19.7s\n",
      "8800:\tlearn: 0.9997504\ttest: 0.9385708\tbest: 0.9396757 (8477)\ttotal: 2m 4s\tremaining: 16.9s\n",
      "9000:\tlearn: 0.9997920\ttest: 0.9390044\tbest: 0.9396757 (8477)\ttotal: 2m 6s\tremaining: 14.1s\n",
      "9200:\tlearn: 0.9997643\ttest: 0.9388820\tbest: 0.9396757 (8477)\ttotal: 2m 9s\tremaining: 11.3s\n",
      "9400:\tlearn: 0.9998059\ttest: 0.9391436\tbest: 0.9396757 (8477)\ttotal: 2m 13s\tremaining: 8.52s\n",
      "9600:\tlearn: 0.9998475\ttest: 0.9387131\tbest: 0.9396757 (8477)\ttotal: 2m 16s\tremaining: 5.67s\n",
      "9800:\tlearn: 0.9998752\ttest: 0.9386784\tbest: 0.9396757 (8477)\ttotal: 2m 18s\tremaining: 2.82s\n",
      "9999:\tlearn: 0.9998752\ttest: 0.9391193\tbest: 0.9396757 (8477)\ttotal: 2m 21s\tremaining: 0us\n",
      "bestTest = 0.9396756982\n",
      "bestIteration = 8477\n",
      "Shrink model to first 8478 iterations.\n",
      "F1 score : 0.877\n"
     ]
    },
    {
     "data": {
      "text/html": [
       "<style type=\"text/css\">\n",
       "#T_423a0_row0_col0 {\n",
       "  background-color: #77d153;\n",
       "  color: #000000;\n",
       "}\n",
       "#T_423a0_row0_col1 {\n",
       "  background-color: #75d054;\n",
       "  color: #000000;\n",
       "}\n",
       "#T_423a0_row0_col2 {\n",
       "  background-color: #6ccd5a;\n",
       "  color: #000000;\n",
       "}\n",
       "#T_423a0_row1_col0 {\n",
       "  background-color: #65cb5e;\n",
       "  color: #000000;\n",
       "}\n",
       "#T_423a0_row1_col1 {\n",
       "  background-color: #4ac16d;\n",
       "  color: #000000;\n",
       "}\n",
       "#T_423a0_row1_col2 {\n",
       "  background-color: #4ec36b;\n",
       "  color: #000000;\n",
       "}\n",
       "#T_423a0_row2_col0, #T_423a0_row2_col1, #T_423a0_row2_col2 {\n",
       "  background-color: #fde725;\n",
       "  color: #000000;\n",
       "}\n",
       "#T_423a0_row3_col0, #T_423a0_row4_col1, #T_423a0_row4_col2 {\n",
       "  background-color: #440154;\n",
       "  color: #f1f1f1;\n",
       "}\n",
       "#T_423a0_row3_col1 {\n",
       "  background-color: #3a548c;\n",
       "  color: #f1f1f1;\n",
       "}\n",
       "#T_423a0_row3_col2 {\n",
       "  background-color: #440256;\n",
       "  color: #f1f1f1;\n",
       "}\n",
       "#T_423a0_row4_col0 {\n",
       "  background-color: #472d7b;\n",
       "  color: #f1f1f1;\n",
       "}\n",
       "</style>\n",
       "<table id=\"T_423a0\">\n",
       "  <thead>\n",
       "    <tr>\n",
       "      <th class=\"blank level0\" >&nbsp;</th>\n",
       "      <th id=\"T_423a0_level0_col0\" class=\"col_heading level0 col0\" >precision</th>\n",
       "      <th id=\"T_423a0_level0_col1\" class=\"col_heading level0 col1\" >recall</th>\n",
       "      <th id=\"T_423a0_level0_col2\" class=\"col_heading level0 col2\" >f1-score</th>\n",
       "      <th id=\"T_423a0_level0_col3\" class=\"col_heading level0 col3\" >support</th>\n",
       "    </tr>\n",
       "  </thead>\n",
       "  <tbody>\n",
       "    <tr>\n",
       "      <th id=\"T_423a0_level0_row0\" class=\"row_heading level0 row0\" >0</th>\n",
       "      <td id=\"T_423a0_row0_col0\" class=\"data row0 col0\" >0.933569</td>\n",
       "      <td id=\"T_423a0_row0_col1\" class=\"data row0 col1\" >0.934229</td>\n",
       "      <td id=\"T_423a0_row0_col2\" class=\"data row0 col2\" >0.933899</td>\n",
       "      <td id=\"T_423a0_row0_col3\" class=\"data row0 col3\" >1414</td>\n",
       "    </tr>\n",
       "    <tr>\n",
       "      <th id=\"T_423a0_level0_row1\" class=\"row_heading level0 row1\" >1</th>\n",
       "      <td id=\"T_423a0_row1_col0\" class=\"data row1 col0\" >0.924827</td>\n",
       "      <td id=\"T_423a0_row1_col1\" class=\"data row1 col1\" >0.920276</td>\n",
       "      <td id=\"T_423a0_row1_col2\" class=\"data row1 col2\" >0.922546</td>\n",
       "      <td id=\"T_423a0_row1_col3\" class=\"data row1 col3\" >1016</td>\n",
       "    </tr>\n",
       "    <tr>\n",
       "      <th id=\"T_423a0_level0_row2\" class=\"row_heading level0 row2\" >2</th>\n",
       "      <td id=\"T_423a0_row2_col0\" class=\"data row2 col0\" >0.989380</td>\n",
       "      <td id=\"T_423a0_row2_col1\" class=\"data row2 col1\" >0.970661</td>\n",
       "      <td id=\"T_423a0_row2_col2\" class=\"data row2 col2\" >0.979931</td>\n",
       "      <td id=\"T_423a0_row2_col3\" class=\"data row2 col3\" >3647</td>\n",
       "    </tr>\n",
       "    <tr>\n",
       "      <th id=\"T_423a0_level0_row3\" class=\"row_heading level0 row3\" >3</th>\n",
       "      <td id=\"T_423a0_row3_col0\" class=\"data row3 col0\" >0.718157</td>\n",
       "      <td id=\"T_423a0_row3_col1\" class=\"data row3 col1\" >0.841270</td>\n",
       "      <td id=\"T_423a0_row3_col2\" class=\"data row3 col2\" >0.774854</td>\n",
       "      <td id=\"T_423a0_row3_col3\" class=\"data row3 col3\" >315</td>\n",
       "    </tr>\n",
       "    <tr>\n",
       "      <th id=\"T_423a0_level0_row4\" class=\"row_heading level0 row4\" >4</th>\n",
       "      <td id=\"T_423a0_row4_col0\" class=\"data row4 col0\" >0.752161</td>\n",
       "      <td id=\"T_423a0_row4_col1\" class=\"data row4 col1\" >0.795732</td>\n",
       "      <td id=\"T_423a0_row4_col2\" class=\"data row4 col2\" >0.773333</td>\n",
       "      <td id=\"T_423a0_row4_col3\" class=\"data row4 col3\" >328</td>\n",
       "    </tr>\n",
       "    <tr>\n",
       "      <th id=\"T_423a0_level0_row5\" class=\"row_heading level0 row5\" >accuracy</th>\n",
       "      <td id=\"T_423a0_row5_col0\" class=\"data row5 col0\" >0.940774</td>\n",
       "      <td id=\"T_423a0_row5_col1\" class=\"data row5 col1\" >0.940774</td>\n",
       "      <td id=\"T_423a0_row5_col2\" class=\"data row5 col2\" >0.940774</td>\n",
       "      <td id=\"T_423a0_row5_col3\" class=\"data row5 col3\" >0</td>\n",
       "    </tr>\n",
       "    <tr>\n",
       "      <th id=\"T_423a0_level0_row6\" class=\"row_heading level0 row6\" >macro avg</th>\n",
       "      <td id=\"T_423a0_row6_col0\" class=\"data row6 col0\" >0.863619</td>\n",
       "      <td id=\"T_423a0_row6_col1\" class=\"data row6 col1\" >0.892433</td>\n",
       "      <td id=\"T_423a0_row6_col2\" class=\"data row6 col2\" >0.876912</td>\n",
       "      <td id=\"T_423a0_row6_col3\" class=\"data row6 col3\" >6720</td>\n",
       "    </tr>\n",
       "    <tr>\n",
       "      <th id=\"T_423a0_level0_row7\" class=\"row_heading level0 row7\" >weighted avg</th>\n",
       "      <td id=\"T_423a0_row7_col0\" class=\"data row7 col0\" >0.943584</td>\n",
       "      <td id=\"T_423a0_row7_col1\" class=\"data row7 col1\" >0.940774</td>\n",
       "      <td id=\"T_423a0_row7_col2\" class=\"data row7 col2\" >0.941872</td>\n",
       "      <td id=\"T_423a0_row7_col3\" class=\"data row7 col3\" >6720</td>\n",
       "    </tr>\n",
       "  </tbody>\n",
       "</table>\n"
      ],
      "text/plain": [
       "<pandas.io.formats.style.Styler at 0x7fe5dfd5d0f0>"
      ]
     },
     "execution_count": 32,
     "metadata": {},
     "output_type": "execute_result"
    },
    {
     "data": {
      "image/png": "[encoded data removed]",
      "text/plain": [
       "<Figure size 432x288 with 1 Axes>"
      ]
     },
     "metadata": {},
     "output_type": "display_data"
    }
   ],
   "source": [
    "\n",
    "clf = CatBoostClassifier(\n",
    "    iterations=10000,\n",
    "    verbose=200,\n",
    "    objective='MultiClass',\n",
    "    eval_metric = 'TotalF1',\n",
    "    custom_metric='TotalF1',\n",
    "    task_type=\"GPU\",\n",
    "    # devices='0:1',\n",
    "    # class_weights=class_weights\n",
    ")\n",
    "\n",
    "\n",
    "clf.fit(\n",
    "    X_oversample, y_oversample,\n",
    "    # cat_features=labels,\n",
    "    eval_set=(valid_X, valid_y),\n",
    ")\n",
    "\n",
    "pred_y = clf.predict(test_X)\n",
    "model_name, y_hat = MODEL_NAME, pred_y\n",
    "plot_confusion_matrix(test_y, y_hat, labels,  f'Confusion Matrix {model_name}')\n",
    "print('F1 score : {:.3f}'.format(f1_score(test_y, y_hat, average='macro')))\n",
    "pretty_classification_report(test_y, y_hat)"
   ]
  },
  {
   "cell_type": "code",
   "execution_count": null,
   "id": "e894d2b7",
   "metadata": {},
   "outputs": [],
   "source": []
  },
  {
   "cell_type": "markdown",
   "id": "7e887b1a",
   "metadata": {},
   "source": [
    "## Actual test for submission"
   ]
  },
  {
   "cell_type": "code",
   "execution_count": 51,
   "id": "d1320301",
   "metadata": {},
   "outputs": [],
   "source": [
    "# Setup\n",
    "model = clf\n",
    "LABEL_DECODING = {y:x for x,y in LABEL_ENCODING.items()}\n",
    "RESULTS_PATH = '.'\n",
    "DATA_DIR = '../../data/01_split'\n",
    "SAMPLE_DIR = '../../data/sample_submission.csv'\n",
    "\n",
    "\n",
    "test_df = pd.read_csv(os.path.join(DATA_DIR,'test.csv'))\n",
    "test_X = test_df.loc[:,test_df.columns!='id']\n",
    "test_ids = test_df['id']\n",
    "\n",
    "\n",
    "# Make predictions\n",
    "sample_df = pd.read_csv(SAMPLE_DIR)\n",
    "sorter = list(sample_df['id'])\n",
    "\n",
    "y_pred = model.predict(test_X)\n",
    "y_pred_df = pd.DataFrame(y_pred, columns=['leaktype'])\n",
    "y_pred_df['leaktype'] = y_pred_df['leaktype'].replace(LABEL_DECODING)\n",
    "pred_df = pd.concat([test_ids, y_pred_df],axis=1)\n",
    "\n",
    "# sort predictions\n",
    "resdf = pred_df.set_index('id')\n",
    "result = resdf.loc[sorter].reset_index()\n",
    "resultpath = os.path.join(RESULTS_PATH, 'predictions.csv')\n",
    "result.to_csv(resultpath, index=False)"
   ]
  }
 ],
 "metadata": {
  "kernelspec": {
   "display_name": "Python 3.10.4 64-bit",
   "language": "python",
   "name": "python3"
  },
  "language_info": {
   "codemirror_mode": {
    "name": "ipython",
    "version": 3
   },
   "file_extension": ".py",
   "mimetype": "text/x-python",
   "name": "python",
   "nbconvert_exporter": "python",
   "pygments_lexer": "ipython3",
   "version": "3.10.4"
  },
  "toc": {
   "base_numbering": 1,
   "nav_menu": {},
   "number_sections": true,
   "sideBar": true,
   "skip_h1_title": false,
   "title_cell": "Table of Contents",
   "title_sidebar": "Contents",
   "toc_cell": false,
   "toc_position": {
    "height": "calc(100% - 180px)",
    "left": "10px",
    "top": "150px",
    "width": "341.333px"
   },
   "toc_section_display": true,
   "toc_window_display": true
  },
  "vscode": {
   "interpreter": {
    "hash": "31f2aee4e71d21fbe5cf8b01ff0e069b9275f58929596ceb00d14d90e3e16cd6"
   }
  }
 },
 "nbformat": 4,
 "nbformat_minor": 5
}
