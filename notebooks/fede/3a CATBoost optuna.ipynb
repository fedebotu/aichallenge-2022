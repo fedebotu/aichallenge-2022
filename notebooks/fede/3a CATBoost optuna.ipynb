{
 "cells": [
  {
   "cell_type": "markdown",
   "id": "2ab523fa",
   "metadata": {},
   "source": [
    "# Testing with CATBoost"
   ]
  },
  {
   "cell_type": "code",
   "execution_count": 1,
   "id": "e11a61f6",
   "metadata": {},
   "outputs": [
    {
     "name": "stderr",
     "output_type": "stream",
     "text": [
      "/home/stefano/botu/aichallenge-2022/notebooks/fede/env/lib/python3.8/site-packages/tqdm/auto.py:22: TqdmWarning: IProgress not found. Please update jupyter and ipywidgets. See https://ipywidgets.readthedocs.io/en/stable/user_install.html\n",
      "  from .autonotebook import tqdm as notebook_tqdm\n"
     ]
    }
   ],
   "source": [
    "%load_ext autoreload\n",
    "%autoreload 2\n",
    "\n",
    "import pandas as pd\n",
    "import os\n",
    "import matplotlib.pyplot as plt\n",
    "import seaborn as sns\n",
    "from sklearn.metrics import f1_score\n",
    "sns.set_theme()\n",
    "from catboost import CatBoostClassifier\n",
    "\n",
    "\n",
    "import sys; sys.path.append(\"../../\")\n",
    "from modules.utils import load_yaml\n",
    "from modules.evaluation import pretty_classification_report, plot_confusion_matrix"
   ]
  },
  {
   "cell_type": "markdown",
   "id": "c1053083",
   "metadata": {},
   "source": [
    "# Read Data\n",
    "\n",
    "Note: in the submission, we cannot use `test.csv`. This has no labels and it is for submission only. So we need to use validation data as the test\n",
    "\n",
    "--> This should be OK since the data size seems large enough"
   ]
  },
  {
   "cell_type": "code",
   "execution_count": 2,
   "id": "eec6863c",
   "metadata": {},
   "outputs": [
    {
     "name": "stdout",
     "output_type": "stream",
     "text": [
      "../../config/train_config.yaml\n"
     ]
    }
   ],
   "source": [
    "TRAIN_CONFIG_PATH = '../../config/train_config.yaml'\n",
    "DATA_PATH = '../../data/01_split/'\n",
    "\n",
    "config = load_yaml(TRAIN_CONFIG_PATH)\n",
    "LABEL_ENCODING = config['LABEL_ENCODING']\n",
    "\n",
    "train_df = pd.read_csv(os.path.join(DATA_PATH, 'train.csv'))\n",
    "valid_df = pd.read_csv(os.path.join(DATA_PATH, 'valid.csv'))\n",
    "\n",
    "encoding_to_label = {v: k for k, v in LABEL_ENCODING.items()}\n",
    "labels = [key for key in LABEL_ENCODING.keys()]\n"
   ]
  },
  {
   "cell_type": "markdown",
   "id": "fee75e53",
   "metadata": {},
   "source": [
    "## Split into train and test\n",
    "\n",
    "As said, we will use val and test as the same "
   ]
  },
  {
   "cell_type": "code",
   "execution_count": 3,
   "id": "4108511c",
   "metadata": {},
   "outputs": [],
   "source": [
    "train_X, train_y = train_df.loc[:,train_df.columns!='leaktype'], train_df['leaktype']\n",
    "valid_X, valid_y = valid_df.loc[:,train_df.columns!='leaktype'], valid_df['leaktype']\n",
    "\n",
    "train_y = train_y.replace(LABEL_ENCODING)\n",
    "valid_y = valid_y.replace(LABEL_ENCODING)\n",
    "\n",
    "# Same testing and validation\n",
    "test_X, test_y = valid_X, valid_y"
   ]
  },
  {
   "cell_type": "markdown",
   "id": "a31eea01",
   "metadata": {},
   "source": [
    "## Imbalanced learning\n",
    "\n",
    "We should attempt something for the data imbalance: better check this out\n",
    "\n",
    "NOTE: this simple trick seems to be working!"
   ]
  },
  {
   "cell_type": "markdown",
   "id": "d598c080",
   "metadata": {},
   "source": [
    "### Weights"
   ]
  },
  {
   "cell_type": "code",
   "execution_count": 66,
   "id": "9bb44a99",
   "metadata": {},
   "outputs": [],
   "source": [
    "from sklearn.utils.class_weight import compute_class_weight\n",
    "import numpy as np\n",
    "\n",
    "class_weights = compute_class_weight(class_weight='balanced', classes=np.arange(5), y=train_y)"
   ]
  },
  {
   "cell_type": "markdown",
   "id": "986ffae3",
   "metadata": {},
   "source": [
    "### Smote"
   ]
  },
  {
   "cell_type": "code",
   "execution_count": 6,
   "id": "531e1855",
   "metadata": {},
   "outputs": [],
   "source": [
    "MODEL_NAME = 'CATBoost - SMOTE'\n",
    "\n",
    "from imblearn.over_sampling import SMOTE\n",
    "smote = SMOTE(random_state = 42)\n",
    "X_oversample, y_oversample = smote.fit_resample(train_X, train_y)"
   ]
  },
  {
   "cell_type": "markdown",
   "id": "54466dd1",
   "metadata": {},
   "source": [
    "# Optuna optimization\n",
    "\n",
    "https://github.com/optuna/optuna-examples/blob/main/catboost/catboost_simple.py"
   ]
  },
  {
   "cell_type": "code",
   "execution_count": 33,
   "id": "2055f667",
   "metadata": {},
   "outputs": [],
   "source": [
    "import optuna\n",
    "from sklearn.metrics import f1_score, accuracy_score\n",
    "\n",
    "# Setup metrics and data\n",
    "metric = f1_score\n",
    "metric_kwargs = {'average':'macro'}\n",
    "# data = [train_X, valid_X, train_y, valid_y] # normal data\n",
    "data = [X_oversample, valid_X, y_oversample, valid_y] # oversampled data\n",
    "\n",
    "def objective(trial):\n",
    "    train_x, valid_x, train_y, valid_y = data\n",
    "\n",
    "    param = {\n",
    "        # \"objective\": trial.suggest_categorical(\"objective\", [\"Logloss\", \"CrossEntropy\"]),\n",
    "        'objective': 'MultiClass',\n",
    "        'eval_metric': 'TotalF1',\n",
    "        'custom_metric': 'TotalF1',\n",
    "        # \"depth\": trial.suggest_int(\"depth\", 8, 10), #1,12\n",
    "        \"depth\": 10,\n",
    "        # \"learning_rate\": trial.suggest_float(\"learning_rate\", 0.01, 0.2),\n",
    "        \"l2_leaf_reg\": trial.suggest_discrete_uniform(\"l2_leaf_reg\", 0.002, 0.2, 0.002),\n",
    "        \"used_ram_limit\": \"64gb\",\n",
    "        \"task_type\": \"GPU\",\n",
    "        \"devices\": '2:3'\n",
    "   }\n",
    "\n",
    "    # if param[\"bootstrap_type\"] == \"Bayesian\":\n",
    "    #     param[\"bagging_temperature\"] = trial.suggest_float(\"bagging_temperature\", 0, 10)\n",
    "    # elif param[\"bootstrap_type\"] == \"Bernoulli\":\n",
    "    #     param[\"subsample\"] = trial.suggest_float(\"subsample\", 0.1, 1)\n",
    "\n",
    "    gbm = CatBoostClassifier(**param)\n",
    "\n",
    "    gbm.fit(train_x, train_y, eval_set=[(valid_x, valid_y)], verbose=0, early_stopping_rounds=100)\n",
    "\n",
    "    preds = gbm.predict(valid_x)\n",
    "    pred_labels = np.rint(preds)\n",
    "    target_metric = metric(valid_y, pred_labels, **metric_kwargs)\n",
    "    return target_metric\n"
   ]
  },
  {
   "cell_type": "code",
   "execution_count": 34,
   "id": "394fad55",
   "metadata": {},
   "outputs": [
    {
     "name": "stderr",
     "output_type": "stream",
     "text": [
      "\u001b[32m[I 2022-06-10 01:24:04,202]\u001b[0m A new study created in memory with name: no-name-5b597463-244a-41c7-968a-9b74d3d25f83\u001b[0m\n",
      "/home/stefano/botu/aichallenge-2022/notebooks/fede/env/lib/python3.8/site-packages/optuna/progress_bar.py:47: ExperimentalWarning: Progress bar is experimental (supported from v1.2.0). The interface can change in the future.\n",
      "  self._init_valid()\n",
      "  0%|          | 0/100 [00:28<?, ?it/s]\n"
     ]
    },
    {
     "ename": "KeyboardInterrupt",
     "evalue": "",
     "output_type": "error",
     "traceback": [
      "\u001b[0;31m---------------------------------------------------------------------------\u001b[0m",
      "\u001b[0;31mKeyboardInterrupt\u001b[0m                         Traceback (most recent call last)",
      "\u001b[1;32m/home/stefano/botu/aichallenge-2022/notebooks/fede/3a CATBoost optuna.ipynb Cell 14'\u001b[0m in \u001b[0;36m<cell line: 2>\u001b[0;34m()\u001b[0m\n\u001b[1;32m      <a href='vscode-notebook-cell://ssh-remote%2Bdgx-tokyo/home/stefano/botu/aichallenge-2022/notebooks/fede/3a%20CATBoost%20optuna.ipynb#ch0000013vscode-remote?line=0'>1</a>\u001b[0m study \u001b[39m=\u001b[39m optuna\u001b[39m.\u001b[39mcreate_study(direction\u001b[39m=\u001b[39m\u001b[39m\"\u001b[39m\u001b[39mmaximize\u001b[39m\u001b[39m\"\u001b[39m)\n\u001b[0;32m----> <a href='vscode-notebook-cell://ssh-remote%2Bdgx-tokyo/home/stefano/botu/aichallenge-2022/notebooks/fede/3a%20CATBoost%20optuna.ipynb#ch0000013vscode-remote?line=1'>2</a>\u001b[0m study\u001b[39m.\u001b[39;49moptimize(objective, n_trials\u001b[39m=\u001b[39;49m\u001b[39m100\u001b[39;49m, timeout\u001b[39m=\u001b[39;49m\u001b[39m600\u001b[39;49m, show_progress_bar\u001b[39m=\u001b[39;49m\u001b[39mTrue\u001b[39;49;00m)\n\u001b[1;32m      <a href='vscode-notebook-cell://ssh-remote%2Bdgx-tokyo/home/stefano/botu/aichallenge-2022/notebooks/fede/3a%20CATBoost%20optuna.ipynb#ch0000013vscode-remote?line=3'>4</a>\u001b[0m \u001b[39mprint\u001b[39m(\u001b[39m\"\u001b[39m\u001b[39mNumber of finished trials: \u001b[39m\u001b[39m{}\u001b[39;00m\u001b[39m\"\u001b[39m\u001b[39m.\u001b[39mformat(\u001b[39mlen\u001b[39m(study\u001b[39m.\u001b[39mtrials)))\n\u001b[1;32m      <a href='vscode-notebook-cell://ssh-remote%2Bdgx-tokyo/home/stefano/botu/aichallenge-2022/notebooks/fede/3a%20CATBoost%20optuna.ipynb#ch0000013vscode-remote?line=5'>6</a>\u001b[0m \u001b[39mprint\u001b[39m(\u001b[39m\"\u001b[39m\u001b[39mBest trial:\u001b[39m\u001b[39m\"\u001b[39m)\n",
      "File \u001b[0;32m~/botu/aichallenge-2022/notebooks/fede/env/lib/python3.8/site-packages/optuna/study/study.py:400\u001b[0m, in \u001b[0;36mStudy.optimize\u001b[0;34m(self, func, n_trials, timeout, n_jobs, catch, callbacks, gc_after_trial, show_progress_bar)\u001b[0m\n\u001b[1;32m    <a href='file:///home/stefano/botu/aichallenge-2022/notebooks/fede/env/lib/python3.8/site-packages/optuna/study/study.py?line=391'>392</a>\u001b[0m \u001b[39mif\u001b[39;00m n_jobs \u001b[39m!=\u001b[39m \u001b[39m1\u001b[39m:\n\u001b[1;32m    <a href='file:///home/stefano/botu/aichallenge-2022/notebooks/fede/env/lib/python3.8/site-packages/optuna/study/study.py?line=392'>393</a>\u001b[0m     warnings\u001b[39m.\u001b[39mwarn(\n\u001b[1;32m    <a href='file:///home/stefano/botu/aichallenge-2022/notebooks/fede/env/lib/python3.8/site-packages/optuna/study/study.py?line=393'>394</a>\u001b[0m         \u001b[39m\"\u001b[39m\u001b[39m`n_jobs` argument has been deprecated in v2.7.0. \u001b[39m\u001b[39m\"\u001b[39m\n\u001b[1;32m    <a href='file:///home/stefano/botu/aichallenge-2022/notebooks/fede/env/lib/python3.8/site-packages/optuna/study/study.py?line=394'>395</a>\u001b[0m         \u001b[39m\"\u001b[39m\u001b[39mThis feature will be removed in v4.0.0. \u001b[39m\u001b[39m\"\u001b[39m\n\u001b[1;32m    <a href='file:///home/stefano/botu/aichallenge-2022/notebooks/fede/env/lib/python3.8/site-packages/optuna/study/study.py?line=395'>396</a>\u001b[0m         \u001b[39m\"\u001b[39m\u001b[39mSee https://github.com/optuna/optuna/releases/tag/v2.7.0.\u001b[39m\u001b[39m\"\u001b[39m,\n\u001b[1;32m    <a href='file:///home/stefano/botu/aichallenge-2022/notebooks/fede/env/lib/python3.8/site-packages/optuna/study/study.py?line=396'>397</a>\u001b[0m         \u001b[39mFutureWarning\u001b[39;00m,\n\u001b[1;32m    <a href='file:///home/stefano/botu/aichallenge-2022/notebooks/fede/env/lib/python3.8/site-packages/optuna/study/study.py?line=397'>398</a>\u001b[0m     )\n\u001b[0;32m--> <a href='file:///home/stefano/botu/aichallenge-2022/notebooks/fede/env/lib/python3.8/site-packages/optuna/study/study.py?line=399'>400</a>\u001b[0m _optimize(\n\u001b[1;32m    <a href='file:///home/stefano/botu/aichallenge-2022/notebooks/fede/env/lib/python3.8/site-packages/optuna/study/study.py?line=400'>401</a>\u001b[0m     study\u001b[39m=\u001b[39;49m\u001b[39mself\u001b[39;49m,\n\u001b[1;32m    <a href='file:///home/stefano/botu/aichallenge-2022/notebooks/fede/env/lib/python3.8/site-packages/optuna/study/study.py?line=401'>402</a>\u001b[0m     func\u001b[39m=\u001b[39;49mfunc,\n\u001b[1;32m    <a href='file:///home/stefano/botu/aichallenge-2022/notebooks/fede/env/lib/python3.8/site-packages/optuna/study/study.py?line=402'>403</a>\u001b[0m     n_trials\u001b[39m=\u001b[39;49mn_trials,\n\u001b[1;32m    <a href='file:///home/stefano/botu/aichallenge-2022/notebooks/fede/env/lib/python3.8/site-packages/optuna/study/study.py?line=403'>404</a>\u001b[0m     timeout\u001b[39m=\u001b[39;49mtimeout,\n\u001b[1;32m    <a href='file:///home/stefano/botu/aichallenge-2022/notebooks/fede/env/lib/python3.8/site-packages/optuna/study/study.py?line=404'>405</a>\u001b[0m     n_jobs\u001b[39m=\u001b[39;49mn_jobs,\n\u001b[1;32m    <a href='file:///home/stefano/botu/aichallenge-2022/notebooks/fede/env/lib/python3.8/site-packages/optuna/study/study.py?line=405'>406</a>\u001b[0m     catch\u001b[39m=\u001b[39;49mcatch,\n\u001b[1;32m    <a href='file:///home/stefano/botu/aichallenge-2022/notebooks/fede/env/lib/python3.8/site-packages/optuna/study/study.py?line=406'>407</a>\u001b[0m     callbacks\u001b[39m=\u001b[39;49mcallbacks,\n\u001b[1;32m    <a href='file:///home/stefano/botu/aichallenge-2022/notebooks/fede/env/lib/python3.8/site-packages/optuna/study/study.py?line=407'>408</a>\u001b[0m     gc_after_trial\u001b[39m=\u001b[39;49mgc_after_trial,\n\u001b[1;32m    <a href='file:///home/stefano/botu/aichallenge-2022/notebooks/fede/env/lib/python3.8/site-packages/optuna/study/study.py?line=408'>409</a>\u001b[0m     show_progress_bar\u001b[39m=\u001b[39;49mshow_progress_bar,\n\u001b[1;32m    <a href='file:///home/stefano/botu/aichallenge-2022/notebooks/fede/env/lib/python3.8/site-packages/optuna/study/study.py?line=409'>410</a>\u001b[0m )\n",
      "File \u001b[0;32m~/botu/aichallenge-2022/notebooks/fede/env/lib/python3.8/site-packages/optuna/study/_optimize.py:66\u001b[0m, in \u001b[0;36m_optimize\u001b[0;34m(study, func, n_trials, timeout, n_jobs, catch, callbacks, gc_after_trial, show_progress_bar)\u001b[0m\n\u001b[1;32m     <a href='file:///home/stefano/botu/aichallenge-2022/notebooks/fede/env/lib/python3.8/site-packages/optuna/study/_optimize.py?line=63'>64</a>\u001b[0m \u001b[39mtry\u001b[39;00m:\n\u001b[1;32m     <a href='file:///home/stefano/botu/aichallenge-2022/notebooks/fede/env/lib/python3.8/site-packages/optuna/study/_optimize.py?line=64'>65</a>\u001b[0m     \u001b[39mif\u001b[39;00m n_jobs \u001b[39m==\u001b[39m \u001b[39m1\u001b[39m:\n\u001b[0;32m---> <a href='file:///home/stefano/botu/aichallenge-2022/notebooks/fede/env/lib/python3.8/site-packages/optuna/study/_optimize.py?line=65'>66</a>\u001b[0m         _optimize_sequential(\n\u001b[1;32m     <a href='file:///home/stefano/botu/aichallenge-2022/notebooks/fede/env/lib/python3.8/site-packages/optuna/study/_optimize.py?line=66'>67</a>\u001b[0m             study,\n\u001b[1;32m     <a href='file:///home/stefano/botu/aichallenge-2022/notebooks/fede/env/lib/python3.8/site-packages/optuna/study/_optimize.py?line=67'>68</a>\u001b[0m             func,\n\u001b[1;32m     <a href='file:///home/stefano/botu/aichallenge-2022/notebooks/fede/env/lib/python3.8/site-packages/optuna/study/_optimize.py?line=68'>69</a>\u001b[0m             n_trials,\n\u001b[1;32m     <a href='file:///home/stefano/botu/aichallenge-2022/notebooks/fede/env/lib/python3.8/site-packages/optuna/study/_optimize.py?line=69'>70</a>\u001b[0m             timeout,\n\u001b[1;32m     <a href='file:///home/stefano/botu/aichallenge-2022/notebooks/fede/env/lib/python3.8/site-packages/optuna/study/_optimize.py?line=70'>71</a>\u001b[0m             catch,\n\u001b[1;32m     <a href='file:///home/stefano/botu/aichallenge-2022/notebooks/fede/env/lib/python3.8/site-packages/optuna/study/_optimize.py?line=71'>72</a>\u001b[0m             callbacks,\n\u001b[1;32m     <a href='file:///home/stefano/botu/aichallenge-2022/notebooks/fede/env/lib/python3.8/site-packages/optuna/study/_optimize.py?line=72'>73</a>\u001b[0m             gc_after_trial,\n\u001b[1;32m     <a href='file:///home/stefano/botu/aichallenge-2022/notebooks/fede/env/lib/python3.8/site-packages/optuna/study/_optimize.py?line=73'>74</a>\u001b[0m             reseed_sampler_rng\u001b[39m=\u001b[39;49m\u001b[39mFalse\u001b[39;49;00m,\n\u001b[1;32m     <a href='file:///home/stefano/botu/aichallenge-2022/notebooks/fede/env/lib/python3.8/site-packages/optuna/study/_optimize.py?line=74'>75</a>\u001b[0m             time_start\u001b[39m=\u001b[39;49m\u001b[39mNone\u001b[39;49;00m,\n\u001b[1;32m     <a href='file:///home/stefano/botu/aichallenge-2022/notebooks/fede/env/lib/python3.8/site-packages/optuna/study/_optimize.py?line=75'>76</a>\u001b[0m             progress_bar\u001b[39m=\u001b[39;49mprogress_bar,\n\u001b[1;32m     <a href='file:///home/stefano/botu/aichallenge-2022/notebooks/fede/env/lib/python3.8/site-packages/optuna/study/_optimize.py?line=76'>77</a>\u001b[0m         )\n\u001b[1;32m     <a href='file:///home/stefano/botu/aichallenge-2022/notebooks/fede/env/lib/python3.8/site-packages/optuna/study/_optimize.py?line=77'>78</a>\u001b[0m     \u001b[39melse\u001b[39;00m:\n\u001b[1;32m     <a href='file:///home/stefano/botu/aichallenge-2022/notebooks/fede/env/lib/python3.8/site-packages/optuna/study/_optimize.py?line=78'>79</a>\u001b[0m         \u001b[39mif\u001b[39;00m show_progress_bar:\n",
      "File \u001b[0;32m~/botu/aichallenge-2022/notebooks/fede/env/lib/python3.8/site-packages/optuna/study/_optimize.py:163\u001b[0m, in \u001b[0;36m_optimize_sequential\u001b[0;34m(study, func, n_trials, timeout, catch, callbacks, gc_after_trial, reseed_sampler_rng, time_start, progress_bar)\u001b[0m\n\u001b[1;32m    <a href='file:///home/stefano/botu/aichallenge-2022/notebooks/fede/env/lib/python3.8/site-packages/optuna/study/_optimize.py?line=159'>160</a>\u001b[0m         \u001b[39mbreak\u001b[39;00m\n\u001b[1;32m    <a href='file:///home/stefano/botu/aichallenge-2022/notebooks/fede/env/lib/python3.8/site-packages/optuna/study/_optimize.py?line=161'>162</a>\u001b[0m \u001b[39mtry\u001b[39;00m:\n\u001b[0;32m--> <a href='file:///home/stefano/botu/aichallenge-2022/notebooks/fede/env/lib/python3.8/site-packages/optuna/study/_optimize.py?line=162'>163</a>\u001b[0m     trial \u001b[39m=\u001b[39m _run_trial(study, func, catch)\n\u001b[1;32m    <a href='file:///home/stefano/botu/aichallenge-2022/notebooks/fede/env/lib/python3.8/site-packages/optuna/study/_optimize.py?line=163'>164</a>\u001b[0m \u001b[39mexcept\u001b[39;00m \u001b[39mException\u001b[39;00m:\n\u001b[1;32m    <a href='file:///home/stefano/botu/aichallenge-2022/notebooks/fede/env/lib/python3.8/site-packages/optuna/study/_optimize.py?line=164'>165</a>\u001b[0m     \u001b[39mraise\u001b[39;00m\n",
      "File \u001b[0;32m~/botu/aichallenge-2022/notebooks/fede/env/lib/python3.8/site-packages/optuna/study/_optimize.py:213\u001b[0m, in \u001b[0;36m_run_trial\u001b[0;34m(study, func, catch)\u001b[0m\n\u001b[1;32m    <a href='file:///home/stefano/botu/aichallenge-2022/notebooks/fede/env/lib/python3.8/site-packages/optuna/study/_optimize.py?line=209'>210</a>\u001b[0m     thread\u001b[39m.\u001b[39mstart()\n\u001b[1;32m    <a href='file:///home/stefano/botu/aichallenge-2022/notebooks/fede/env/lib/python3.8/site-packages/optuna/study/_optimize.py?line=211'>212</a>\u001b[0m \u001b[39mtry\u001b[39;00m:\n\u001b[0;32m--> <a href='file:///home/stefano/botu/aichallenge-2022/notebooks/fede/env/lib/python3.8/site-packages/optuna/study/_optimize.py?line=212'>213</a>\u001b[0m     value_or_values \u001b[39m=\u001b[39m func(trial)\n\u001b[1;32m    <a href='file:///home/stefano/botu/aichallenge-2022/notebooks/fede/env/lib/python3.8/site-packages/optuna/study/_optimize.py?line=213'>214</a>\u001b[0m \u001b[39mexcept\u001b[39;00m exceptions\u001b[39m.\u001b[39mTrialPruned \u001b[39mas\u001b[39;00m e:\n\u001b[1;32m    <a href='file:///home/stefano/botu/aichallenge-2022/notebooks/fede/env/lib/python3.8/site-packages/optuna/study/_optimize.py?line=214'>215</a>\u001b[0m     \u001b[39m# TODO(mamu): Handle multi-objective cases.\u001b[39;00m\n\u001b[1;32m    <a href='file:///home/stefano/botu/aichallenge-2022/notebooks/fede/env/lib/python3.8/site-packages/optuna/study/_optimize.py?line=215'>216</a>\u001b[0m     state \u001b[39m=\u001b[39m TrialState\u001b[39m.\u001b[39mPRUNED\n",
      "\u001b[1;32m/home/stefano/botu/aichallenge-2022/notebooks/fede/3a CATBoost optuna.ipynb Cell 13'\u001b[0m in \u001b[0;36mobjective\u001b[0;34m(trial)\u001b[0m\n\u001b[1;32m     <a href='vscode-notebook-cell://ssh-remote%2Bdgx-tokyo/home/stefano/botu/aichallenge-2022/notebooks/fede/3a%20CATBoost%20optuna.ipynb#ch0000012vscode-remote?line=26'>27</a>\u001b[0m \u001b[39m# if param[\"bootstrap_type\"] == \"Bayesian\":\u001b[39;00m\n\u001b[1;32m     <a href='vscode-notebook-cell://ssh-remote%2Bdgx-tokyo/home/stefano/botu/aichallenge-2022/notebooks/fede/3a%20CATBoost%20optuna.ipynb#ch0000012vscode-remote?line=27'>28</a>\u001b[0m \u001b[39m#     param[\"bagging_temperature\"] = trial.suggest_float(\"bagging_temperature\", 0, 10)\u001b[39;00m\n\u001b[1;32m     <a href='vscode-notebook-cell://ssh-remote%2Bdgx-tokyo/home/stefano/botu/aichallenge-2022/notebooks/fede/3a%20CATBoost%20optuna.ipynb#ch0000012vscode-remote?line=28'>29</a>\u001b[0m \u001b[39m# elif param[\"bootstrap_type\"] == \"Bernoulli\":\u001b[39;00m\n\u001b[1;32m     <a href='vscode-notebook-cell://ssh-remote%2Bdgx-tokyo/home/stefano/botu/aichallenge-2022/notebooks/fede/3a%20CATBoost%20optuna.ipynb#ch0000012vscode-remote?line=29'>30</a>\u001b[0m \u001b[39m#     param[\"subsample\"] = trial.suggest_float(\"subsample\", 0.1, 1)\u001b[39;00m\n\u001b[1;32m     <a href='vscode-notebook-cell://ssh-remote%2Bdgx-tokyo/home/stefano/botu/aichallenge-2022/notebooks/fede/3a%20CATBoost%20optuna.ipynb#ch0000012vscode-remote?line=31'>32</a>\u001b[0m gbm \u001b[39m=\u001b[39m CatBoostClassifier(\u001b[39m*\u001b[39m\u001b[39m*\u001b[39mparam)\n\u001b[0;32m---> <a href='vscode-notebook-cell://ssh-remote%2Bdgx-tokyo/home/stefano/botu/aichallenge-2022/notebooks/fede/3a%20CATBoost%20optuna.ipynb#ch0000012vscode-remote?line=33'>34</a>\u001b[0m gbm\u001b[39m.\u001b[39;49mfit(train_x, train_y, eval_set\u001b[39m=\u001b[39;49m[(valid_x, valid_y)], verbose\u001b[39m=\u001b[39;49m\u001b[39m0\u001b[39;49m, early_stopping_rounds\u001b[39m=\u001b[39;49m\u001b[39m100\u001b[39;49m)\n\u001b[1;32m     <a href='vscode-notebook-cell://ssh-remote%2Bdgx-tokyo/home/stefano/botu/aichallenge-2022/notebooks/fede/3a%20CATBoost%20optuna.ipynb#ch0000012vscode-remote?line=35'>36</a>\u001b[0m preds \u001b[39m=\u001b[39m gbm\u001b[39m.\u001b[39mpredict(valid_x)\n\u001b[1;32m     <a href='vscode-notebook-cell://ssh-remote%2Bdgx-tokyo/home/stefano/botu/aichallenge-2022/notebooks/fede/3a%20CATBoost%20optuna.ipynb#ch0000012vscode-remote?line=36'>37</a>\u001b[0m pred_labels \u001b[39m=\u001b[39m np\u001b[39m.\u001b[39mrint(preds)\n",
      "File \u001b[0;32m~/botu/aichallenge-2022/notebooks/fede/env/lib/python3.8/site-packages/catboost/core.py:5007\u001b[0m, in \u001b[0;36mCatBoostClassifier.fit\u001b[0;34m(self, X, y, cat_features, text_features, embedding_features, sample_weight, baseline, use_best_model, eval_set, verbose, logging_level, plot, column_description, verbose_eval, metric_period, silent, early_stopping_rounds, save_snapshot, snapshot_file, snapshot_interval, init_model, callbacks, log_cout, log_cerr)\u001b[0m\n\u001b[1;32m   <a href='file:///home/stefano/botu/aichallenge-2022/notebooks/fede/env/lib/python3.8/site-packages/catboost/core.py?line=5003'>5004</a>\u001b[0m \u001b[39mif\u001b[39;00m \u001b[39m'\u001b[39m\u001b[39mloss_function\u001b[39m\u001b[39m'\u001b[39m \u001b[39min\u001b[39;00m params:\n\u001b[1;32m   <a href='file:///home/stefano/botu/aichallenge-2022/notebooks/fede/env/lib/python3.8/site-packages/catboost/core.py?line=5004'>5005</a>\u001b[0m     CatBoostClassifier\u001b[39m.\u001b[39m_check_is_compatible_loss(params[\u001b[39m'\u001b[39m\u001b[39mloss_function\u001b[39m\u001b[39m'\u001b[39m])\n\u001b[0;32m-> <a href='file:///home/stefano/botu/aichallenge-2022/notebooks/fede/env/lib/python3.8/site-packages/catboost/core.py?line=5006'>5007</a>\u001b[0m \u001b[39mself\u001b[39;49m\u001b[39m.\u001b[39;49m_fit(X, y, cat_features, text_features, embedding_features, \u001b[39mNone\u001b[39;49;00m, sample_weight, \u001b[39mNone\u001b[39;49;00m, \u001b[39mNone\u001b[39;49;00m, \u001b[39mNone\u001b[39;49;00m, \u001b[39mNone\u001b[39;49;00m, baseline, use_best_model,\n\u001b[1;32m   <a href='file:///home/stefano/botu/aichallenge-2022/notebooks/fede/env/lib/python3.8/site-packages/catboost/core.py?line=5007'>5008</a>\u001b[0m           eval_set, verbose, logging_level, plot, column_description, verbose_eval, metric_period,\n\u001b[1;32m   <a href='file:///home/stefano/botu/aichallenge-2022/notebooks/fede/env/lib/python3.8/site-packages/catboost/core.py?line=5008'>5009</a>\u001b[0m           silent, early_stopping_rounds, save_snapshot, snapshot_file, snapshot_interval, init_model, callbacks, log_cout, log_cerr)\n\u001b[1;32m   <a href='file:///home/stefano/botu/aichallenge-2022/notebooks/fede/env/lib/python3.8/site-packages/catboost/core.py?line=5009'>5010</a>\u001b[0m \u001b[39mreturn\u001b[39;00m \u001b[39mself\u001b[39m\n",
      "File \u001b[0;32m~/botu/aichallenge-2022/notebooks/fede/env/lib/python3.8/site-packages/catboost/core.py:2278\u001b[0m, in \u001b[0;36mCatBoost._fit\u001b[0;34m(self, X, y, cat_features, text_features, embedding_features, pairs, sample_weight, group_id, group_weight, subgroup_id, pairs_weight, baseline, use_best_model, eval_set, verbose, logging_level, plot, column_description, verbose_eval, metric_period, silent, early_stopping_rounds, save_snapshot, snapshot_file, snapshot_interval, init_model, callbacks, log_cout, log_cerr)\u001b[0m\n\u001b[1;32m   <a href='file:///home/stefano/botu/aichallenge-2022/notebooks/fede/env/lib/python3.8/site-packages/catboost/core.py?line=2273'>2274</a>\u001b[0m allow_clear_pool \u001b[39m=\u001b[39m train_params[\u001b[39m\"\u001b[39m\u001b[39mallow_clear_pool\u001b[39m\u001b[39m\"\u001b[39m]\n\u001b[1;32m   <a href='file:///home/stefano/botu/aichallenge-2022/notebooks/fede/env/lib/python3.8/site-packages/catboost/core.py?line=2275'>2276</a>\u001b[0m \u001b[39mwith\u001b[39;00m log_fixup(log_cout, log_cerr), \\\n\u001b[1;32m   <a href='file:///home/stefano/botu/aichallenge-2022/notebooks/fede/env/lib/python3.8/site-packages/catboost/core.py?line=2276'>2277</a>\u001b[0m     plot_wrapper(plot, [_get_train_dir(\u001b[39mself\u001b[39m\u001b[39m.\u001b[39mget_params())]):\n\u001b[0;32m-> <a href='file:///home/stefano/botu/aichallenge-2022/notebooks/fede/env/lib/python3.8/site-packages/catboost/core.py?line=2277'>2278</a>\u001b[0m     \u001b[39mself\u001b[39;49m\u001b[39m.\u001b[39;49m_train(\n\u001b[1;32m   <a href='file:///home/stefano/botu/aichallenge-2022/notebooks/fede/env/lib/python3.8/site-packages/catboost/core.py?line=2278'>2279</a>\u001b[0m         train_pool,\n\u001b[1;32m   <a href='file:///home/stefano/botu/aichallenge-2022/notebooks/fede/env/lib/python3.8/site-packages/catboost/core.py?line=2279'>2280</a>\u001b[0m         train_params[\u001b[39m\"\u001b[39;49m\u001b[39meval_sets\u001b[39;49m\u001b[39m\"\u001b[39;49m],\n\u001b[1;32m   <a href='file:///home/stefano/botu/aichallenge-2022/notebooks/fede/env/lib/python3.8/site-packages/catboost/core.py?line=2280'>2281</a>\u001b[0m         params,\n\u001b[1;32m   <a href='file:///home/stefano/botu/aichallenge-2022/notebooks/fede/env/lib/python3.8/site-packages/catboost/core.py?line=2281'>2282</a>\u001b[0m         allow_clear_pool,\n\u001b[1;32m   <a href='file:///home/stefano/botu/aichallenge-2022/notebooks/fede/env/lib/python3.8/site-packages/catboost/core.py?line=2282'>2283</a>\u001b[0m         train_params[\u001b[39m\"\u001b[39;49m\u001b[39minit_model\u001b[39;49m\u001b[39m\"\u001b[39;49m]\n\u001b[1;32m   <a href='file:///home/stefano/botu/aichallenge-2022/notebooks/fede/env/lib/python3.8/site-packages/catboost/core.py?line=2283'>2284</a>\u001b[0m     )\n\u001b[1;32m   <a href='file:///home/stefano/botu/aichallenge-2022/notebooks/fede/env/lib/python3.8/site-packages/catboost/core.py?line=2285'>2286</a>\u001b[0m \u001b[39m# Have property feature_importance possibly set\u001b[39;00m\n\u001b[1;32m   <a href='file:///home/stefano/botu/aichallenge-2022/notebooks/fede/env/lib/python3.8/site-packages/catboost/core.py?line=2286'>2287</a>\u001b[0m loss \u001b[39m=\u001b[39m \u001b[39mself\u001b[39m\u001b[39m.\u001b[39m_object\u001b[39m.\u001b[39m_get_loss_function_name()\n",
      "File \u001b[0;32m~/botu/aichallenge-2022/notebooks/fede/env/lib/python3.8/site-packages/catboost/core.py:1705\u001b[0m, in \u001b[0;36m_CatBoostBase._train\u001b[0;34m(self, train_pool, test_pool, params, allow_clear_pool, init_model)\u001b[0m\n\u001b[1;32m   <a href='file:///home/stefano/botu/aichallenge-2022/notebooks/fede/env/lib/python3.8/site-packages/catboost/core.py?line=1703'>1704</a>\u001b[0m \u001b[39mdef\u001b[39;00m \u001b[39m_train\u001b[39m(\u001b[39mself\u001b[39m, train_pool, test_pool, params, allow_clear_pool, init_model):\n\u001b[0;32m-> <a href='file:///home/stefano/botu/aichallenge-2022/notebooks/fede/env/lib/python3.8/site-packages/catboost/core.py?line=1704'>1705</a>\u001b[0m     \u001b[39mself\u001b[39;49m\u001b[39m.\u001b[39;49m_object\u001b[39m.\u001b[39;49m_train(train_pool, test_pool, params, allow_clear_pool, init_model\u001b[39m.\u001b[39;49m_object \u001b[39mif\u001b[39;49;00m init_model \u001b[39melse\u001b[39;49;00m \u001b[39mNone\u001b[39;49;00m)\n\u001b[1;32m   <a href='file:///home/stefano/botu/aichallenge-2022/notebooks/fede/env/lib/python3.8/site-packages/catboost/core.py?line=1705'>1706</a>\u001b[0m     \u001b[39mself\u001b[39m\u001b[39m.\u001b[39m_set_trained_model_attributes()\n",
      "File \u001b[0;32m_catboost.pyx:4585\u001b[0m, in \u001b[0;36m_catboost._CatBoost._train\u001b[0;34m()\u001b[0m\n",
      "File \u001b[0;32m_catboost.pyx:4634\u001b[0m, in \u001b[0;36m_catboost._CatBoost._train\u001b[0;34m()\u001b[0m\n",
      "\u001b[0;31mKeyboardInterrupt\u001b[0m: "
     ]
    }
   ],
   "source": [
    "study = optuna.create_study(direction=\"maximize\")\n",
    "study.optimize(objective, n_trials=100, timeout=600, show_progress_bar=True)\n",
    "\n",
    "print(\"Number of finished trials: {}\".format(len(study.trials)))\n",
    "\n",
    "print(\"Best trial:\")\n",
    "trial = study.best_trial\n",
    "\n",
    "print(\"  Value: {}\".format(trial.value))\n",
    "\n",
    "print(\"  Params: \")\n",
    "for key, value in trial.params.items():\n",
    "    print(\"    {}: {}\".format(key, value))"
   ]
  },
  {
   "cell_type": "markdown",
   "id": "1288c9cd",
   "metadata": {},
   "source": [
    "# Train Models\n",
    "\n",
    "<!-- Tricks: we can use custom parameters to maximize the F1 score -->"
   ]
  },
  {
   "cell_type": "code",
   "execution_count": 58,
   "id": "b2e4d9b6",
   "metadata": {},
   "outputs": [
    {
     "name": "stdout",
     "output_type": "stream",
     "text": [
      "Learning rate set to 0.080175\n",
      "0:\tlearn: 0.4740430\ttest: 0.6204980\tbest: 0.6204980 (0)\ttotal: 55ms\tremaining: 4m 34s\n",
      "200:\tlearn: 0.9124161\ttest: 0.8720864\tbest: 0.8723811 (199)\ttotal: 5.35s\tremaining: 2m 7s\n",
      "400:\tlearn: 0.9627633\ttest: 0.9031265\tbest: 0.9034585 (398)\ttotal: 10.3s\tremaining: 1m 57s\n",
      "600:\tlearn: 0.9787672\ttest: 0.9177693\tbest: 0.9180500 (599)\ttotal: 15s\tremaining: 1m 50s\n",
      "800:\tlearn: 0.9866960\ttest: 0.9244984\tbest: 0.9247931 (797)\ttotal: 19.7s\tremaining: 1m 43s\n",
      "1000:\tlearn: 0.9910344\ttest: 0.9285389\tbest: 0.9288373 (998)\ttotal: 24.4s\tremaining: 1m 37s\n",
      "1200:\tlearn: 0.9943038\ttest: 0.9309734\tbest: 0.9315679 (1197)\ttotal: 29.2s\tremaining: 1m 32s\n",
      "1400:\tlearn: 0.9962991\ttest: 0.9345101\tbest: 0.9349454 (1394)\ttotal: 33.9s\tremaining: 1m 27s\n",
      "1600:\tlearn: 0.9973663\ttest: 0.9352760\tbest: 0.9360485 (1579)\ttotal: 38.6s\tremaining: 1m 21s\n",
      "1800:\tlearn: 0.9982393\ttest: 0.9375957\tbest: 0.9382156 (1790)\ttotal: 43.3s\tremaining: 1m 16s\n",
      "2000:\tlearn: 0.9987938\ttest: 0.9388415\tbest: 0.9394493 (1917)\ttotal: 48s\tremaining: 1m 11s\n",
      "2200:\tlearn: 0.9993067\ttest: 0.9397879\tbest: 0.9404364 (2156)\ttotal: 52.8s\tremaining: 1m 7s\n",
      "2400:\tlearn: 0.9994870\ttest: 0.9410204\tbest: 0.9411878 (2341)\ttotal: 57.5s\tremaining: 1m 2s\n",
      "2600:\tlearn: 0.9996811\ttest: 0.9415623\tbest: 0.9415623 (2599)\ttotal: 1m 2s\tremaining: 57.4s\n",
      "2800:\tlearn: 0.9998197\ttest: 0.9426438\tbest: 0.9427956 (2795)\ttotal: 1m 6s\tremaining: 52.6s\n",
      "3000:\tlearn: 0.9998891\ttest: 0.9425797\tbest: 0.9429265 (2879)\ttotal: 1m 11s\tremaining: 47.8s\n",
      "3200:\tlearn: 0.9999584\ttest: 0.9425783\tbest: 0.9430075 (3102)\ttotal: 1m 16s\tremaining: 42.9s\n",
      "3400:\tlearn: 0.9999861\ttest: 0.9432212\tbest: 0.9433560 (3354)\ttotal: 1m 21s\tremaining: 38.1s\n",
      "3600:\tlearn: 0.9999861\ttest: 0.9437592\tbest: 0.9439224 (3562)\ttotal: 1m 25s\tremaining: 33.3s\n",
      "3800:\tlearn: 1.0000000\ttest: 0.9434684\tbest: 0.9440615 (3707)\ttotal: 1m 30s\tremaining: 28.5s\n",
      "4000:\tlearn: 1.0000000\ttest: 0.9439639\tbest: 0.9445356 (3943)\ttotal: 1m 35s\tremaining: 23.7s\n",
      "4200:\tlearn: 1.0000000\ttest: 0.9446283\tbest: 0.9448491 (4042)\ttotal: 1m 39s\tremaining: 19s\n",
      "4400:\tlearn: 1.0000000\ttest: 0.9444716\tbest: 0.9448491 (4042)\ttotal: 1m 44s\tremaining: 14.2s\n",
      "4600:\tlearn: 1.0000000\ttest: 0.9446424\tbest: 0.9448491 (4042)\ttotal: 1m 49s\tremaining: 9.47s\n",
      "4800:\tlearn: 1.0000000\ttest: 0.9443082\tbest: 0.9451095 (4743)\ttotal: 1m 53s\tremaining: 4.72s\n",
      "4999:\tlearn: 1.0000000\ttest: 0.9450505\tbest: 0.9452121 (4973)\ttotal: 1m 58s\tremaining: 0us\n",
      "bestTest = 0.9452121223\n",
      "bestIteration = 4973\n",
      "Shrink model to first 4974 iterations.\n",
      "F1 score : 0.888\n"
     ]
    },
    {
     "data": {
      "text/html": [
       "<style type=\"text/css\">\n",
       "#T_8012b_row0_col0, #T_8012b_row0_col2 {\n",
       "  background-color: #75d054;\n",
       "  color: #000000;\n",
       "}\n",
       "#T_8012b_row0_col1 {\n",
       "  background-color: #8ed645;\n",
       "  color: #000000;\n",
       "}\n",
       "#T_8012b_row1_col0 {\n",
       "  background-color: #67cc5c;\n",
       "  color: #000000;\n",
       "}\n",
       "#T_8012b_row1_col1 {\n",
       "  background-color: #48c16e;\n",
       "  color: #f1f1f1;\n",
       "}\n",
       "#T_8012b_row1_col2 {\n",
       "  background-color: #52c569;\n",
       "  color: #000000;\n",
       "}\n",
       "#T_8012b_row2_col0, #T_8012b_row2_col1, #T_8012b_row2_col2 {\n",
       "  background-color: #fde725;\n",
       "  color: #000000;\n",
       "}\n",
       "#T_8012b_row3_col0, #T_8012b_row3_col2, #T_8012b_row4_col1 {\n",
       "  background-color: #440154;\n",
       "  color: #f1f1f1;\n",
       "}\n",
       "#T_8012b_row3_col1 {\n",
       "  background-color: #39568c;\n",
       "  color: #f1f1f1;\n",
       "}\n",
       "#T_8012b_row4_col0 {\n",
       "  background-color: #3f4889;\n",
       "  color: #f1f1f1;\n",
       "}\n",
       "#T_8012b_row4_col2 {\n",
       "  background-color: #481b6d;\n",
       "  color: #f1f1f1;\n",
       "}\n",
       "</style>\n",
       "<table id=\"T_8012b\">\n",
       "  <thead>\n",
       "    <tr>\n",
       "      <th class=\"blank level0\" >&nbsp;</th>\n",
       "      <th id=\"T_8012b_level0_col0\" class=\"col_heading level0 col0\" >precision</th>\n",
       "      <th id=\"T_8012b_level0_col1\" class=\"col_heading level0 col1\" >recall</th>\n",
       "      <th id=\"T_8012b_level0_col2\" class=\"col_heading level0 col2\" >f1-score</th>\n",
       "      <th id=\"T_8012b_level0_col3\" class=\"col_heading level0 col3\" >support</th>\n",
       "    </tr>\n",
       "  </thead>\n",
       "  <tbody>\n",
       "    <tr>\n",
       "      <th id=\"T_8012b_level0_row0\" class=\"row_heading level0 row0\" >0</th>\n",
       "      <td id=\"T_8012b_row0_col0\" class=\"data row0 col0\" >0.937102</td>\n",
       "      <td id=\"T_8012b_row0_col1\" class=\"data row0 col1\" >0.945118</td>\n",
       "      <td id=\"T_8012b_row0_col2\" class=\"data row0 col2\" >0.941093</td>\n",
       "      <td id=\"T_8012b_row0_col3\" class=\"data row0 col3\" >1403</td>\n",
       "    </tr>\n",
       "    <tr>\n",
       "      <th id=\"T_8012b_level0_row1\" class=\"row_heading level0 row1\" >1</th>\n",
       "      <td id=\"T_8012b_row1_col0\" class=\"data row1 col0\" >0.930762</td>\n",
       "      <td id=\"T_8012b_row1_col1\" class=\"data row1 col1\" >0.927094</td>\n",
       "      <td id=\"T_8012b_row1_col2\" class=\"data row1 col2\" >0.928924</td>\n",
       "      <td id=\"T_8012b_row1_col3\" class=\"data row1 col3\" >1015</td>\n",
       "    </tr>\n",
       "    <tr>\n",
       "      <th id=\"T_8012b_level0_row2\" class=\"row_heading level0 row2\" >2</th>\n",
       "      <td id=\"T_8012b_row2_col0\" class=\"data row2 col0\" >0.992733</td>\n",
       "      <td id=\"T_8012b_row2_col1\" class=\"data row2 col1\" >0.970492</td>\n",
       "      <td id=\"T_8012b_row2_col2\" class=\"data row2 col2\" >0.981487</td>\n",
       "      <td id=\"T_8012b_row2_col3\" class=\"data row2 col3\" >3660</td>\n",
       "    </tr>\n",
       "    <tr>\n",
       "      <th id=\"T_8012b_level0_row3\" class=\"row_heading level0 row3\" >3</th>\n",
       "      <td id=\"T_8012b_row3_col0\" class=\"data row3 col0\" >0.726287</td>\n",
       "      <td id=\"T_8012b_row3_col1\" class=\"data row3 col1\" >0.861736</td>\n",
       "      <td id=\"T_8012b_row3_col2\" class=\"data row3 col2\" >0.788235</td>\n",
       "      <td id=\"T_8012b_row3_col3\" class=\"data row3 col3\" >311</td>\n",
       "    </tr>\n",
       "    <tr>\n",
       "      <th id=\"T_8012b_level0_row4\" class=\"row_heading level0 row4\" >4</th>\n",
       "      <td id=\"T_8012b_row4_col0\" class=\"data row4 col0\" >0.783862</td>\n",
       "      <td id=\"T_8012b_row4_col1\" class=\"data row4 col1\" >0.821752</td>\n",
       "      <td id=\"T_8012b_row4_col2\" class=\"data row4 col2\" >0.802360</td>\n",
       "      <td id=\"T_8012b_row4_col3\" class=\"data row4 col3\" >331</td>\n",
       "    </tr>\n",
       "    <tr>\n",
       "      <th id=\"T_8012b_level0_row5\" class=\"row_heading level0 row5\" >accuracy</th>\n",
       "      <td id=\"T_8012b_row5_col0\" class=\"data row5 col0\" >0.946280</td>\n",
       "      <td id=\"T_8012b_row5_col1\" class=\"data row5 col1\" >0.946280</td>\n",
       "      <td id=\"T_8012b_row5_col2\" class=\"data row5 col2\" >0.946280</td>\n",
       "      <td id=\"T_8012b_row5_col3\" class=\"data row5 col3\" >0</td>\n",
       "    </tr>\n",
       "    <tr>\n",
       "      <th id=\"T_8012b_level0_row6\" class=\"row_heading level0 row6\" >macro avg</th>\n",
       "      <td id=\"T_8012b_row6_col0\" class=\"data row6 col0\" >0.874149</td>\n",
       "      <td id=\"T_8012b_row6_col1\" class=\"data row6 col1\" >0.905238</td>\n",
       "      <td id=\"T_8012b_row6_col2\" class=\"data row6 col2\" >0.888420</td>\n",
       "      <td id=\"T_8012b_row6_col3\" class=\"data row6 col3\" >6720</td>\n",
       "    </tr>\n",
       "    <tr>\n",
       "      <th id=\"T_8012b_level0_row7\" class=\"row_heading level0 row7\" >weighted avg</th>\n",
       "      <td id=\"T_8012b_row7_col0\" class=\"data row7 col0\" >0.949139</td>\n",
       "      <td id=\"T_8012b_row7_col1\" class=\"data row7 col1\" >0.946280</td>\n",
       "      <td id=\"T_8012b_row7_col2\" class=\"data row7 col2\" >0.947347</td>\n",
       "      <td id=\"T_8012b_row7_col3\" class=\"data row7 col3\" >6720</td>\n",
       "    </tr>\n",
       "  </tbody>\n",
       "</table>\n"
      ],
      "text/plain": [
       "<pandas.io.formats.style.Styler at 0x7f87105a4b20>"
      ]
     },
     "execution_count": 58,
     "metadata": {},
     "output_type": "execute_result"
    },
    {
     "data": {
      "image/png": "[encoded data removed]",
      "text/plain": [
       "<Figure size 432x288 with 1 Axes>"
      ]
     },
     "metadata": {
      "needs_background": "light"
     },
     "output_type": "display_data"
    }
   ],
   "source": [
    "clf = CatBoostClassifier(\n",
    "    iterations=5000,\n",
    "    verbose=200,\n",
    "    objective='MultiClass',\n",
    "    eval_metric = 'TotalF1',\n",
    "    custom_metric='TotalF1',\n",
    "    task_type=\"GPU\",\n",
    "    depth=9,\n",
    "    devices='2:3',\n",
    "    # learning_rate=0.3\n",
    "    # class_weights=class_weights\n",
    ")\n",
    "\n",
    "\n",
    "clf.fit(\n",
    "    X_oversample, y_oversample,\n",
    "    # cat_features=labels,\n",
    "    eval_set=(valid_X, valid_y),\n",
    ")\n",
    "\n",
    "pred_y = clf.predict(test_X)\n",
    "model_name, y_hat = MODEL_NAME, pred_y\n",
    "plot_confusion_matrix(test_y, y_hat, labels,  f'Confusion Matrix {model_name}')\n",
    "print('F1 score : {:.3f}'.format(f1_score(test_y, y_hat, average='macro')))\n",
    "pretty_classification_report(test_y, y_hat)"
   ]
  },
  {
   "cell_type": "code",
   "execution_count": 62,
   "id": "b73bf28d",
   "metadata": {},
   "outputs": [
    {
     "name": "stdout",
     "output_type": "stream",
     "text": [
      "Learning rate set to 0.08199\n",
      "0:\tlearn: 0.5100959\ttest: 0.6434217\tbest: 0.6434217 (0)\ttotal: 97.5ms\tremaining: 8m 7s\n",
      "200:\tlearn: 0.9302713\ttest: 0.9303404\tbest: 0.9303404 (200)\ttotal: 8.33s\tremaining: 3m 18s\n",
      "400:\tlearn: 0.9724486\ttest: 0.9667776\tbest: 0.9669287 (397)\ttotal: 16.1s\tremaining: 3m 4s\n",
      "600:\tlearn: 0.9853754\ttest: 0.9819668\tbest: 0.9819668 (600)\ttotal: 23.4s\tremaining: 2m 51s\n",
      "800:\tlearn: 0.9912610\ttest: 0.9888248\tbest: 0.9888248 (800)\ttotal: 30.6s\tremaining: 2m 40s\n",
      "1000:\tlearn: 0.9945470\ttest: 0.9916566\tbest: 0.9918052 (995)\ttotal: 37.8s\tremaining: 2m 30s\n",
      "1200:\tlearn: 0.9968345\ttest: 0.9946374\tbest: 0.9946374 (1185)\ttotal: 45.2s\tremaining: 2m 23s\n",
      "1400:\tlearn: 0.9978673\ttest: 0.9958285\tbest: 0.9958285 (1346)\ttotal: 52.5s\tremaining: 2m 14s\n",
      "1600:\tlearn: 0.9986115\ttest: 0.9971703\tbest: 0.9971703 (1594)\ttotal: 59.7s\tremaining: 2m 6s\n",
      "1800:\tlearn: 0.9991669\ttest: 0.9979152\tbest: 0.9979152 (1775)\ttotal: 1m 6s\tremaining: 1m 58s\n",
      "2000:\tlearn: 0.9995112\ttest: 0.9988092\tbest: 0.9988092 (1951)\ttotal: 1m 14s\tremaining: 1m 51s\n",
      "2200:\tlearn: 0.9997223\ttest: 0.9989582\tbest: 0.9989582 (2008)\ttotal: 1m 21s\tremaining: 1m 43s\n",
      "2400:\tlearn: 0.9999111\ttest: 0.9995535\tbest: 0.9995535 (2313)\ttotal: 1m 28s\tremaining: 1m 36s\n",
      "2600:\tlearn: 0.9999556\ttest: 0.9998512\tbest: 0.9998512 (2446)\ttotal: 1m 35s\tremaining: 1m 28s\n",
      "2800:\tlearn: 1.0000000\ttest: 1.0000000\tbest: 1.0000000 (2773)\ttotal: 1m 43s\tremaining: 1m 20s\n",
      "3000:\tlearn: 1.0000000\ttest: 1.0000000\tbest: 1.0000000 (2773)\ttotal: 1m 50s\tremaining: 1m 13s\n",
      "3200:\tlearn: 1.0000000\ttest: 1.0000000\tbest: 1.0000000 (2773)\ttotal: 1m 57s\tremaining: 1m 6s\n",
      "3400:\tlearn: 1.0000000\ttest: 1.0000000\tbest: 1.0000000 (2773)\ttotal: 2m 4s\tremaining: 58.6s\n",
      "3600:\tlearn: 1.0000000\ttest: 1.0000000\tbest: 1.0000000 (2773)\ttotal: 2m 11s\tremaining: 51.2s\n",
      "3800:\tlearn: 1.0000000\ttest: 1.0000000\tbest: 1.0000000 (2773)\ttotal: 2m 19s\tremaining: 43.9s\n",
      "4000:\tlearn: 1.0000000\ttest: 1.0000000\tbest: 1.0000000 (2773)\ttotal: 2m 26s\tremaining: 36.5s\n",
      "4200:\tlearn: 1.0000000\ttest: 1.0000000\tbest: 1.0000000 (2773)\ttotal: 2m 33s\tremaining: 29.2s\n",
      "4400:\tlearn: 1.0000000\ttest: 1.0000000\tbest: 1.0000000 (2773)\ttotal: 2m 40s\tremaining: 21.9s\n",
      "4600:\tlearn: 1.0000000\ttest: 1.0000000\tbest: 1.0000000 (2773)\ttotal: 2m 47s\tremaining: 14.5s\n",
      "4800:\tlearn: 1.0000000\ttest: 1.0000000\tbest: 1.0000000 (2773)\ttotal: 2m 54s\tremaining: 7.24s\n",
      "4999:\tlearn: 1.0000000\ttest: 1.0000000\tbest: 1.0000000 (2773)\ttotal: 3m 1s\tremaining: 0us\n",
      "bestTest = 1\n",
      "bestIteration = 2773\n",
      "Shrink model to first 2774 iterations.\n"
     ]
    },
    {
     "ename": "ValueError",
     "evalue": "Found input variables with inconsistent numbers of samples: [6720, 7820]",
     "output_type": "error",
     "traceback": [
      "\u001b[0;31m---------------------------------------------------------------------------\u001b[0m",
      "\u001b[0;31mValueError\u001b[0m                                Traceback (most recent call last)",
      "\u001b[1;32m/home/stefano/botu/aichallenge-2022/notebooks/fede/3a CATBoost optuna.ipynb Cell 17'\u001b[0m in \u001b[0;36m<cell line: 31>\u001b[0;34m()\u001b[0m\n\u001b[1;32m     <a href='vscode-notebook-cell://ssh-remote%2Bdgx-tokyo/home/stefano/botu/aichallenge-2022/notebooks/fede/3a%20CATBoost%20optuna.ipynb#ch0000019vscode-remote?line=28'>29</a>\u001b[0m pred_y \u001b[39m=\u001b[39m clf\u001b[39m.\u001b[39mpredict(test_X)\n\u001b[1;32m     <a href='vscode-notebook-cell://ssh-remote%2Bdgx-tokyo/home/stefano/botu/aichallenge-2022/notebooks/fede/3a%20CATBoost%20optuna.ipynb#ch0000019vscode-remote?line=29'>30</a>\u001b[0m model_name, y_hat \u001b[39m=\u001b[39m MODEL_NAME, pred_y\n\u001b[0;32m---> <a href='vscode-notebook-cell://ssh-remote%2Bdgx-tokyo/home/stefano/botu/aichallenge-2022/notebooks/fede/3a%20CATBoost%20optuna.ipynb#ch0000019vscode-remote?line=30'>31</a>\u001b[0m plot_confusion_matrix(test_y, y_hat, labels,  \u001b[39mf\u001b[39;49m\u001b[39m'\u001b[39;49m\u001b[39mConfusion Matrix \u001b[39;49m\u001b[39m{\u001b[39;49;00mmodel_name\u001b[39m}\u001b[39;49;00m\u001b[39m'\u001b[39;49m)\n\u001b[1;32m     <a href='vscode-notebook-cell://ssh-remote%2Bdgx-tokyo/home/stefano/botu/aichallenge-2022/notebooks/fede/3a%20CATBoost%20optuna.ipynb#ch0000019vscode-remote?line=31'>32</a>\u001b[0m \u001b[39mprint\u001b[39m(\u001b[39m'\u001b[39m\u001b[39mF1 score : \u001b[39m\u001b[39m{:.3f}\u001b[39;00m\u001b[39m'\u001b[39m\u001b[39m.\u001b[39mformat(f1_score(test_y, y_hat, average\u001b[39m=\u001b[39m\u001b[39m'\u001b[39m\u001b[39mmacro\u001b[39m\u001b[39m'\u001b[39m)))\n\u001b[1;32m     <a href='vscode-notebook-cell://ssh-remote%2Bdgx-tokyo/home/stefano/botu/aichallenge-2022/notebooks/fede/3a%20CATBoost%20optuna.ipynb#ch0000019vscode-remote?line=32'>33</a>\u001b[0m pretty_classification_report(test_y, y_hat)\n",
      "File \u001b[0;32m~/botu/aichallenge-2022/notebooks/fede/../../modules/evaluation.py:12\u001b[0m, in \u001b[0;36mplot_confusion_matrix\u001b[0;34m(y_test, y_pred, classes, title, normalize, cmap, linecolor)\u001b[0m\n\u001b[1;32m      <a href='file:///home/stefano/botu/aichallenge-2022/notebooks/fede/../../modules/evaluation.py?line=6'>7</a>\u001b[0m \u001b[39mdef\u001b[39;00m \u001b[39mplot_confusion_matrix\u001b[39m(y_test, y_pred, classes, title\u001b[39m=\u001b[39m\u001b[39m'\u001b[39m\u001b[39m'\u001b[39m,\n\u001b[1;32m      <a href='file:///home/stefano/botu/aichallenge-2022/notebooks/fede/../../modules/evaluation.py?line=7'>8</a>\u001b[0m                           normalize\u001b[39m=\u001b[39m\u001b[39mFalse\u001b[39;00m,\n\u001b[1;32m      <a href='file:///home/stefano/botu/aichallenge-2022/notebooks/fede/../../modules/evaluation.py?line=8'>9</a>\u001b[0m                           cmap\u001b[39m=\u001b[39m\u001b[39m'\u001b[39m\u001b[39mBlues\u001b[39m\u001b[39m'\u001b[39m,\n\u001b[1;32m     <a href='file:///home/stefano/botu/aichallenge-2022/notebooks/fede/../../modules/evaluation.py?line=9'>10</a>\u001b[0m                           linecolor\u001b[39m=\u001b[39m\u001b[39m'\u001b[39m\u001b[39mk\u001b[39m\u001b[39m'\u001b[39m):\n\u001b[0;32m---> <a href='file:///home/stefano/botu/aichallenge-2022/notebooks/fede/../../modules/evaluation.py?line=11'>12</a>\u001b[0m     cm \u001b[39m=\u001b[39m np\u001b[39m.\u001b[39marray(confusion_matrix(y_test, y_pred))\n\u001b[1;32m     <a href='file:///home/stefano/botu/aichallenge-2022/notebooks/fede/../../modules/evaluation.py?line=13'>14</a>\u001b[0m     \u001b[39mif\u001b[39;00m normalize:\n\u001b[1;32m     <a href='file:///home/stefano/botu/aichallenge-2022/notebooks/fede/../../modules/evaluation.py?line=14'>15</a>\u001b[0m         cm \u001b[39m=\u001b[39m cm\u001b[39m.\u001b[39mastype(\u001b[39m'\u001b[39m\u001b[39mfloat\u001b[39m\u001b[39m'\u001b[39m) \u001b[39m/\u001b[39m cm\u001b[39m.\u001b[39msum(axis\u001b[39m=\u001b[39m\u001b[39m1\u001b[39m)[:, np\u001b[39m.\u001b[39mnewaxis]\n",
      "File \u001b[0;32m~/botu/aichallenge-2022/notebooks/fede/env/lib/python3.8/site-packages/sklearn/metrics/_classification.py:307\u001b[0m, in \u001b[0;36mconfusion_matrix\u001b[0;34m(y_true, y_pred, labels, sample_weight, normalize)\u001b[0m\n\u001b[1;32m    <a href='file:///home/stefano/botu/aichallenge-2022/notebooks/fede/env/lib/python3.8/site-packages/sklearn/metrics/_classification.py?line=221'>222</a>\u001b[0m \u001b[39mdef\u001b[39;00m \u001b[39mconfusion_matrix\u001b[39m(\n\u001b[1;32m    <a href='file:///home/stefano/botu/aichallenge-2022/notebooks/fede/env/lib/python3.8/site-packages/sklearn/metrics/_classification.py?line=222'>223</a>\u001b[0m     y_true, y_pred, \u001b[39m*\u001b[39m, labels\u001b[39m=\u001b[39m\u001b[39mNone\u001b[39;00m, sample_weight\u001b[39m=\u001b[39m\u001b[39mNone\u001b[39;00m, normalize\u001b[39m=\u001b[39m\u001b[39mNone\u001b[39;00m\n\u001b[1;32m    <a href='file:///home/stefano/botu/aichallenge-2022/notebooks/fede/env/lib/python3.8/site-packages/sklearn/metrics/_classification.py?line=223'>224</a>\u001b[0m ):\n\u001b[1;32m    <a href='file:///home/stefano/botu/aichallenge-2022/notebooks/fede/env/lib/python3.8/site-packages/sklearn/metrics/_classification.py?line=224'>225</a>\u001b[0m     \u001b[39m\"\"\"Compute confusion matrix to evaluate the accuracy of a classification.\u001b[39;00m\n\u001b[1;32m    <a href='file:///home/stefano/botu/aichallenge-2022/notebooks/fede/env/lib/python3.8/site-packages/sklearn/metrics/_classification.py?line=225'>226</a>\u001b[0m \n\u001b[1;32m    <a href='file:///home/stefano/botu/aichallenge-2022/notebooks/fede/env/lib/python3.8/site-packages/sklearn/metrics/_classification.py?line=226'>227</a>\u001b[0m \u001b[39m    By definition a confusion matrix :math:`C` is such that :math:`C_{i, j}`\u001b[39;00m\n\u001b[0;32m   (...)\u001b[0m\n\u001b[1;32m    <a href='file:///home/stefano/botu/aichallenge-2022/notebooks/fede/env/lib/python3.8/site-packages/sklearn/metrics/_classification.py?line=304'>305</a>\u001b[0m \u001b[39m    (0, 2, 1, 1)\u001b[39;00m\n\u001b[1;32m    <a href='file:///home/stefano/botu/aichallenge-2022/notebooks/fede/env/lib/python3.8/site-packages/sklearn/metrics/_classification.py?line=305'>306</a>\u001b[0m \u001b[39m    \"\"\"\u001b[39;00m\n\u001b[0;32m--> <a href='file:///home/stefano/botu/aichallenge-2022/notebooks/fede/env/lib/python3.8/site-packages/sklearn/metrics/_classification.py?line=306'>307</a>\u001b[0m     y_type, y_true, y_pred \u001b[39m=\u001b[39m _check_targets(y_true, y_pred)\n\u001b[1;32m    <a href='file:///home/stefano/botu/aichallenge-2022/notebooks/fede/env/lib/python3.8/site-packages/sklearn/metrics/_classification.py?line=307'>308</a>\u001b[0m     \u001b[39mif\u001b[39;00m y_type \u001b[39mnot\u001b[39;00m \u001b[39min\u001b[39;00m (\u001b[39m\"\u001b[39m\u001b[39mbinary\u001b[39m\u001b[39m\"\u001b[39m, \u001b[39m\"\u001b[39m\u001b[39mmulticlass\u001b[39m\u001b[39m\"\u001b[39m):\n\u001b[1;32m    <a href='file:///home/stefano/botu/aichallenge-2022/notebooks/fede/env/lib/python3.8/site-packages/sklearn/metrics/_classification.py?line=308'>309</a>\u001b[0m         \u001b[39mraise\u001b[39;00m \u001b[39mValueError\u001b[39;00m(\u001b[39m\"\u001b[39m\u001b[39m%s\u001b[39;00m\u001b[39m is not supported\u001b[39m\u001b[39m\"\u001b[39m \u001b[39m%\u001b[39m y_type)\n",
      "File \u001b[0;32m~/botu/aichallenge-2022/notebooks/fede/env/lib/python3.8/site-packages/sklearn/metrics/_classification.py:84\u001b[0m, in \u001b[0;36m_check_targets\u001b[0;34m(y_true, y_pred)\u001b[0m\n\u001b[1;32m     <a href='file:///home/stefano/botu/aichallenge-2022/notebooks/fede/env/lib/python3.8/site-packages/sklearn/metrics/_classification.py?line=56'>57</a>\u001b[0m \u001b[39mdef\u001b[39;00m \u001b[39m_check_targets\u001b[39m(y_true, y_pred):\n\u001b[1;32m     <a href='file:///home/stefano/botu/aichallenge-2022/notebooks/fede/env/lib/python3.8/site-packages/sklearn/metrics/_classification.py?line=57'>58</a>\u001b[0m     \u001b[39m\"\"\"Check that y_true and y_pred belong to the same classification task.\u001b[39;00m\n\u001b[1;32m     <a href='file:///home/stefano/botu/aichallenge-2022/notebooks/fede/env/lib/python3.8/site-packages/sklearn/metrics/_classification.py?line=58'>59</a>\u001b[0m \n\u001b[1;32m     <a href='file:///home/stefano/botu/aichallenge-2022/notebooks/fede/env/lib/python3.8/site-packages/sklearn/metrics/_classification.py?line=59'>60</a>\u001b[0m \u001b[39m    This converts multiclass or binary types to a common shape, and raises a\u001b[39;00m\n\u001b[0;32m   (...)\u001b[0m\n\u001b[1;32m     <a href='file:///home/stefano/botu/aichallenge-2022/notebooks/fede/env/lib/python3.8/site-packages/sklearn/metrics/_classification.py?line=81'>82</a>\u001b[0m \u001b[39m    y_pred : array or indicator matrix\u001b[39;00m\n\u001b[1;32m     <a href='file:///home/stefano/botu/aichallenge-2022/notebooks/fede/env/lib/python3.8/site-packages/sklearn/metrics/_classification.py?line=82'>83</a>\u001b[0m \u001b[39m    \"\"\"\u001b[39;00m\n\u001b[0;32m---> <a href='file:///home/stefano/botu/aichallenge-2022/notebooks/fede/env/lib/python3.8/site-packages/sklearn/metrics/_classification.py?line=83'>84</a>\u001b[0m     check_consistent_length(y_true, y_pred)\n\u001b[1;32m     <a href='file:///home/stefano/botu/aichallenge-2022/notebooks/fede/env/lib/python3.8/site-packages/sklearn/metrics/_classification.py?line=84'>85</a>\u001b[0m     type_true \u001b[39m=\u001b[39m type_of_target(y_true, input_name\u001b[39m=\u001b[39m\u001b[39m\"\u001b[39m\u001b[39my_true\u001b[39m\u001b[39m\"\u001b[39m)\n\u001b[1;32m     <a href='file:///home/stefano/botu/aichallenge-2022/notebooks/fede/env/lib/python3.8/site-packages/sklearn/metrics/_classification.py?line=85'>86</a>\u001b[0m     type_pred \u001b[39m=\u001b[39m type_of_target(y_pred, input_name\u001b[39m=\u001b[39m\u001b[39m\"\u001b[39m\u001b[39my_pred\u001b[39m\u001b[39m\"\u001b[39m)\n",
      "File \u001b[0;32m~/botu/aichallenge-2022/notebooks/fede/env/lib/python3.8/site-packages/sklearn/utils/validation.py:387\u001b[0m, in \u001b[0;36mcheck_consistent_length\u001b[0;34m(*arrays)\u001b[0m\n\u001b[1;32m    <a href='file:///home/stefano/botu/aichallenge-2022/notebooks/fede/env/lib/python3.8/site-packages/sklearn/utils/validation.py?line=384'>385</a>\u001b[0m uniques \u001b[39m=\u001b[39m np\u001b[39m.\u001b[39munique(lengths)\n\u001b[1;32m    <a href='file:///home/stefano/botu/aichallenge-2022/notebooks/fede/env/lib/python3.8/site-packages/sklearn/utils/validation.py?line=385'>386</a>\u001b[0m \u001b[39mif\u001b[39;00m \u001b[39mlen\u001b[39m(uniques) \u001b[39m>\u001b[39m \u001b[39m1\u001b[39m:\n\u001b[0;32m--> <a href='file:///home/stefano/botu/aichallenge-2022/notebooks/fede/env/lib/python3.8/site-packages/sklearn/utils/validation.py?line=386'>387</a>\u001b[0m     \u001b[39mraise\u001b[39;00m \u001b[39mValueError\u001b[39;00m(\n\u001b[1;32m    <a href='file:///home/stefano/botu/aichallenge-2022/notebooks/fede/env/lib/python3.8/site-packages/sklearn/utils/validation.py?line=387'>388</a>\u001b[0m         \u001b[39m\"\u001b[39m\u001b[39mFound input variables with inconsistent numbers of samples: \u001b[39m\u001b[39m%r\u001b[39;00m\u001b[39m\"\u001b[39m\n\u001b[1;32m    <a href='file:///home/stefano/botu/aichallenge-2022/notebooks/fede/env/lib/python3.8/site-packages/sklearn/utils/validation.py?line=388'>389</a>\u001b[0m         \u001b[39m%\u001b[39m [\u001b[39mint\u001b[39m(l) \u001b[39mfor\u001b[39;00m l \u001b[39min\u001b[39;00m lengths]\n\u001b[1;32m    <a href='file:///home/stefano/botu/aichallenge-2022/notebooks/fede/env/lib/python3.8/site-packages/sklearn/utils/validation.py?line=389'>390</a>\u001b[0m     )\n",
      "\u001b[0;31mValueError\u001b[0m: Found input variables with inconsistent numbers of samples: [6720, 7820]"
     ]
    }
   ],
   "source": [
    "MODEL_NAME = 'CATBoost - SMOTE - ALL DATA'\n",
    "\n",
    "from imblearn.over_sampling import SMOTE\n",
    "smote = SMOTE(random_state = 42)\n",
    "\n",
    "total_train_X, total_train_y =  pd.concat([train_X, valid_X], ignore_index=True), pd.concat([train_y, valid_y], ignore_index=True)\n",
    "X_oversample, y_oversample = smote.fit_resample(total_train_X, total_train_y)\n",
    "\n",
    "clf = CatBoostClassifier(\n",
    "    iterations=5000,\n",
    "    verbose=200,\n",
    "    objective='MultiClass',\n",
    "    eval_metric = 'TotalF1',\n",
    "    custom_metric='TotalF1',\n",
    "    task_type=\"GPU\",\n",
    "    depth=10,\n",
    "    # depth=15,\n",
    "    devices='2:3',\n",
    "    # learning_rate=0.3\n",
    "    # class_weights=class_weights\n",
    ")\n",
    "\n",
    "clf.fit(\n",
    "    X_oversample, y_oversample,\n",
    "    # cat_features=labels,\n",
    "    eval_set=(valid_X, valid_y),\n",
    ")\n",
    "\n",
    "pred_y = clf.predict(test_X)\n",
    "model_name, y_hat = MODEL_NAME, pred_y\n",
    "plot_confusion_matrix(test_y, y_hat, labels,  f'Confusion Matrix {model_name}')\n",
    "print('F1 score : {:.3f}'.format(f1_score(test_y, y_hat, average='macro')))\n",
    "pretty_classification_report(test_y, y_hat)"
   ]
  },
  {
   "cell_type": "code",
   "execution_count": 68,
   "id": "3728138d",
   "metadata": {},
   "outputs": [
    {
     "name": "stdout",
     "output_type": "stream",
     "text": [
      "F1 score : 1.000\n"
     ]
    },
    {
     "data": {
      "text/html": [
       "<style type=\"text/css\">\n",
       "#T_ed8f1_row0_col0, #T_ed8f1_row0_col1, #T_ed8f1_row0_col2, #T_ed8f1_row1_col0, #T_ed8f1_row1_col1, #T_ed8f1_row1_col2, #T_ed8f1_row2_col0, #T_ed8f1_row2_col1, #T_ed8f1_row2_col2, #T_ed8f1_row3_col0, #T_ed8f1_row3_col1, #T_ed8f1_row3_col2, #T_ed8f1_row4_col0, #T_ed8f1_row4_col1, #T_ed8f1_row4_col2 {\n",
       "  background-color: #440154;\n",
       "  color: #f1f1f1;\n",
       "}\n",
       "</style>\n",
       "<table id=\"T_ed8f1\">\n",
       "  <thead>\n",
       "    <tr>\n",
       "      <th class=\"blank level0\" >&nbsp;</th>\n",
       "      <th id=\"T_ed8f1_level0_col0\" class=\"col_heading level0 col0\" >precision</th>\n",
       "      <th id=\"T_ed8f1_level0_col1\" class=\"col_heading level0 col1\" >recall</th>\n",
       "      <th id=\"T_ed8f1_level0_col2\" class=\"col_heading level0 col2\" >f1-score</th>\n",
       "      <th id=\"T_ed8f1_level0_col3\" class=\"col_heading level0 col3\" >support</th>\n",
       "    </tr>\n",
       "  </thead>\n",
       "  <tbody>\n",
       "    <tr>\n",
       "      <th id=\"T_ed8f1_level0_row0\" class=\"row_heading level0 row0\" >0</th>\n",
       "      <td id=\"T_ed8f1_row0_col0\" class=\"data row0 col0\" >1.000000</td>\n",
       "      <td id=\"T_ed8f1_row0_col1\" class=\"data row0 col1\" >1.000000</td>\n",
       "      <td id=\"T_ed8f1_row0_col2\" class=\"data row0 col2\" >1.000000</td>\n",
       "      <td id=\"T_ed8f1_row0_col3\" class=\"data row0 col3\" >1415</td>\n",
       "    </tr>\n",
       "    <tr>\n",
       "      <th id=\"T_ed8f1_level0_row1\" class=\"row_heading level0 row1\" >1</th>\n",
       "      <td id=\"T_ed8f1_row1_col0\" class=\"data row1 col0\" >1.000000</td>\n",
       "      <td id=\"T_ed8f1_row1_col1\" class=\"data row1 col1\" >1.000000</td>\n",
       "      <td id=\"T_ed8f1_row1_col2\" class=\"data row1 col2\" >1.000000</td>\n",
       "      <td id=\"T_ed8f1_row1_col3\" class=\"data row1 col3\" >1011</td>\n",
       "    </tr>\n",
       "    <tr>\n",
       "      <th id=\"T_ed8f1_level0_row2\" class=\"row_heading level0 row2\" >2</th>\n",
       "      <td id=\"T_ed8f1_row2_col0\" class=\"data row2 col0\" >1.000000</td>\n",
       "      <td id=\"T_ed8f1_row2_col1\" class=\"data row2 col1\" >1.000000</td>\n",
       "      <td id=\"T_ed8f1_row2_col2\" class=\"data row2 col2\" >1.000000</td>\n",
       "      <td id=\"T_ed8f1_row2_col3\" class=\"data row2 col3\" >3578</td>\n",
       "    </tr>\n",
       "    <tr>\n",
       "      <th id=\"T_ed8f1_level0_row3\" class=\"row_heading level0 row3\" >3</th>\n",
       "      <td id=\"T_ed8f1_row3_col0\" class=\"data row3 col0\" >1.000000</td>\n",
       "      <td id=\"T_ed8f1_row3_col1\" class=\"data row3 col1\" >1.000000</td>\n",
       "      <td id=\"T_ed8f1_row3_col2\" class=\"data row3 col2\" >1.000000</td>\n",
       "      <td id=\"T_ed8f1_row3_col3\" class=\"data row3 col3\" >369</td>\n",
       "    </tr>\n",
       "    <tr>\n",
       "      <th id=\"T_ed8f1_level0_row4\" class=\"row_heading level0 row4\" >4</th>\n",
       "      <td id=\"T_ed8f1_row4_col0\" class=\"data row4 col0\" >1.000000</td>\n",
       "      <td id=\"T_ed8f1_row4_col1\" class=\"data row4 col1\" >1.000000</td>\n",
       "      <td id=\"T_ed8f1_row4_col2\" class=\"data row4 col2\" >1.000000</td>\n",
       "      <td id=\"T_ed8f1_row4_col3\" class=\"data row4 col3\" >347</td>\n",
       "    </tr>\n",
       "    <tr>\n",
       "      <th id=\"T_ed8f1_level0_row5\" class=\"row_heading level0 row5\" >accuracy</th>\n",
       "      <td id=\"T_ed8f1_row5_col0\" class=\"data row5 col0\" >1.000000</td>\n",
       "      <td id=\"T_ed8f1_row5_col1\" class=\"data row5 col1\" >1.000000</td>\n",
       "      <td id=\"T_ed8f1_row5_col2\" class=\"data row5 col2\" >1.000000</td>\n",
       "      <td id=\"T_ed8f1_row5_col3\" class=\"data row5 col3\" >1</td>\n",
       "    </tr>\n",
       "    <tr>\n",
       "      <th id=\"T_ed8f1_level0_row6\" class=\"row_heading level0 row6\" >macro avg</th>\n",
       "      <td id=\"T_ed8f1_row6_col0\" class=\"data row6 col0\" >1.000000</td>\n",
       "      <td id=\"T_ed8f1_row6_col1\" class=\"data row6 col1\" >1.000000</td>\n",
       "      <td id=\"T_ed8f1_row6_col2\" class=\"data row6 col2\" >1.000000</td>\n",
       "      <td id=\"T_ed8f1_row6_col3\" class=\"data row6 col3\" >6720</td>\n",
       "    </tr>\n",
       "    <tr>\n",
       "      <th id=\"T_ed8f1_level0_row7\" class=\"row_heading level0 row7\" >weighted avg</th>\n",
       "      <td id=\"T_ed8f1_row7_col0\" class=\"data row7 col0\" >1.000000</td>\n",
       "      <td id=\"T_ed8f1_row7_col1\" class=\"data row7 col1\" >1.000000</td>\n",
       "      <td id=\"T_ed8f1_row7_col2\" class=\"data row7 col2\" >1.000000</td>\n",
       "      <td id=\"T_ed8f1_row7_col3\" class=\"data row7 col3\" >6720</td>\n",
       "    </tr>\n",
       "  </tbody>\n",
       "</table>\n"
      ],
      "text/plain": [
       "<pandas.io.formats.style.Styler at 0x7f88f6aa3e80>"
      ]
     },
     "execution_count": 68,
     "metadata": {},
     "output_type": "execute_result"
    },
    {
     "data": {
      "image/png": "[encoded data removed]",
      "text/plain": [
       "<Figure size 432x288 with 1 Axes>"
      ]
     },
     "metadata": {},
     "output_type": "display_data"
    }
   ],
   "source": [
    "pred_y = clf.predict(test_X)\n",
    "model_name, y_hat = MODEL_NAME, pred_y\n",
    "plot_confusion_matrix(test_y, y_hat, labels,  f'Confusion Matrix {model_name}')\n",
    "print('F1 score : {:.3f}'.format(f1_score(test_y, y_hat, average='macro')))\n",
    "pretty_classification_report(test_y, y_hat)"
   ]
  },
  {
   "cell_type": "markdown",
   "id": "7e887b1a",
   "metadata": {},
   "source": [
    "## Actual test for submission"
   ]
  },
  {
   "cell_type": "code",
   "execution_count": 60,
   "id": "d1320301",
   "metadata": {},
   "outputs": [],
   "source": [
    "# Setup\n",
    "model = clf\n",
    "LABEL_DECODING = {y:x for x,y in LABEL_ENCODING.items()}\n",
    "RESULTS_PATH = '.'\n",
    "DATA_DIR = '../../data/01_split'\n",
    "SAMPLE_DIR = '../../data/sample_submission.csv'\n",
    "\n",
    "\n",
    "test_df = pd.read_csv(os.path.join(DATA_DIR,'test.csv'))\n",
    "test_X = test_df.loc[:,test_df.columns!='id']\n",
    "test_ids = test_df['id']\n",
    "\n",
    "\n",
    "# Make predictions\n",
    "sample_df = pd.read_csv(SAMPLE_DIR)\n",
    "sorter = list(sample_df['id'])\n",
    "\n",
    "y_pred = model.predict(test_X)\n",
    "y_pred_df = pd.DataFrame(y_pred, columns=['leaktype'])\n",
    "y_pred_df['leaktype'] = y_pred_df['leaktype'].replace(LABEL_DECODING)\n",
    "pred_df = pd.concat([test_ids, y_pred_df],axis=1)\n",
    "\n",
    "# sort predictions\n",
    "resdf = pred_df.set_index('id')\n",
    "result = resdf.loc[sorter].reset_index()\n",
    "resultpath = os.path.join(RESULTS_PATH, 'predictions.csv')\n",
    "result.to_csv(resultpath, index=False)"
   ]
  }
 ],
 "metadata": {
  "interpreter": {
   "hash": "6ab86766f082f578154986f6653c6e39d629c5da3e8ef8a19694c090b82841ee"
  },
  "kernelspec": {
   "display_name": "Python 3.8.10 ('env': venv)",
   "language": "python",
   "name": "python3"
  },
  "language_info": {
   "codemirror_mode": {
    "name": "ipython",
    "version": 3
   },
   "file_extension": ".py",
   "mimetype": "text/x-python",
   "name": "python",
   "nbconvert_exporter": "python",
   "pygments_lexer": "ipython3",
   "version": "3.8.10"
  },
  "toc": {
   "base_numbering": 1,
   "nav_menu": {},
   "number_sections": true,
   "sideBar": true,
   "skip_h1_title": false,
   "title_cell": "Table of Contents",
   "title_sidebar": "Contents",
   "toc_cell": false,
   "toc_position": {
    "height": "calc(100% - 180px)",
    "left": "10px",
    "top": "150px",
    "width": "341.333px"
   },
   "toc_section_display": true,
   "toc_window_display": true
  },
  "vscode": {
   "interpreter": {
    "hash": "31f2aee4e71d21fbe5cf8b01ff0e069b9275f58929596ceb00d14d90e3e16cd6"
   }
  }
 },
 "nbformat": 4,
 "nbformat_minor": 5
}
