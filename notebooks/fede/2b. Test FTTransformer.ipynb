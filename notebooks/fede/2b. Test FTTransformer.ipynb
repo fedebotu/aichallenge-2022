{
 "cells": [
  {
   "cell_type": "markdown",
   "id": "2ab523fa",
   "metadata": {},
   "source": [
    "# Testing with some Deep Learning Model"
   ]
  },
  {
   "cell_type": "markdown",
   "id": "0bfd7e28",
   "metadata": {},
   "source": [
    "Following https://github.com/Yura52/rtdl/blob/main/examples/rtdl.ipynb"
   ]
  },
  {
   "cell_type": "code",
   "execution_count": 1,
   "id": "e11a61f6",
   "metadata": {},
   "outputs": [],
   "source": [
    "import sys; sys.path.append(\"../../\")\n",
    "\n",
    "import pandas as pd\n",
    "import os\n",
    "import matplotlib.pyplot as plt\n",
    "import seaborn as sns\n",
    "from datetime import datetime, timezone, timedelta\n",
    "from typing import Any, Dict\n",
    "\n",
    "import numpy as np\n",
    "import scipy.special\n",
    "import sklearn.datasets\n",
    "import sklearn.metrics\n",
    "import sklearn.model_selection\n",
    "import sklearn.preprocessing\n",
    "import sklearn\n",
    "from sklearn.utils.class_weight import compute_class_weight\n",
    "import torch\n",
    "import torch.nn as nn\n",
    "import torch.nn.functional as F\n",
    "import zero\n",
    "from sklearn.metrics import f1_score\n",
    "from modules.utils import load_yaml, save_yaml\n",
    "from modules.evaluation import pretty_classification_report, plot_confusion_matrix\n",
    "from models.ft_transformer.modules import FTTransformer, MLP, ResNet"
   ]
  },
  {
   "cell_type": "markdown",
   "id": "6cd17f24",
   "metadata": {},
   "source": [
    "## Load model\n",
    "\n"
   ]
  },
  {
   "cell_type": "code",
   "execution_count": 2,
   "id": "951a1b9c",
   "metadata": {},
   "outputs": [
    {
     "name": "stdout",
     "output_type": "stream",
     "text": [
      "checkpoints/20220609185518/model_config.yaml\n"
     ]
    },
    {
     "data": {
      "text/plain": [
       "FTTransformer(\n",
       "  (feature_tokenizer): FeatureTokenizer(\n",
       "    (num_tokenizer): NumericalFeatureTokenizer()\n",
       "  )\n",
       "  (cls_token): CLSToken()\n",
       "  (transformer): Transformer(\n",
       "    (blocks): ModuleList(\n",
       "      (0): ModuleDict(\n",
       "        (attention): MultiheadAttention(\n",
       "          (W_q): Linear(in_features=192, out_features=192, bias=True)\n",
       "          (W_k): Linear(in_features=192, out_features=192, bias=True)\n",
       "          (W_v): Linear(in_features=192, out_features=192, bias=True)\n",
       "          (W_out): Linear(in_features=192, out_features=192, bias=True)\n",
       "          (dropout): Dropout(p=0.2, inplace=False)\n",
       "        )\n",
       "        (ffn): FFN(\n",
       "          (linear_first): Linear(in_features=192, out_features=512, bias=True)\n",
       "          (activation): ReGLU()\n",
       "          (dropout): Dropout(p=0.1, inplace=False)\n",
       "          (linear_second): Linear(in_features=256, out_features=192, bias=True)\n",
       "        )\n",
       "        (attention_residual_dropout): Dropout(p=0.0, inplace=False)\n",
       "        (ffn_residual_dropout): Dropout(p=0.0, inplace=False)\n",
       "        (output): Identity()\n",
       "        (ffn_normalization): LayerNorm((192,), eps=1e-05, elementwise_affine=True)\n",
       "      )\n",
       "      (1): ModuleDict(\n",
       "        (attention): MultiheadAttention(\n",
       "          (W_q): Linear(in_features=192, out_features=192, bias=True)\n",
       "          (W_k): Linear(in_features=192, out_features=192, bias=True)\n",
       "          (W_v): Linear(in_features=192, out_features=192, bias=True)\n",
       "          (W_out): Linear(in_features=192, out_features=192, bias=True)\n",
       "          (dropout): Dropout(p=0.2, inplace=False)\n",
       "        )\n",
       "        (ffn): FFN(\n",
       "          (linear_first): Linear(in_features=192, out_features=512, bias=True)\n",
       "          (activation): ReGLU()\n",
       "          (dropout): Dropout(p=0.1, inplace=False)\n",
       "          (linear_second): Linear(in_features=256, out_features=192, bias=True)\n",
       "        )\n",
       "        (attention_residual_dropout): Dropout(p=0.0, inplace=False)\n",
       "        (ffn_residual_dropout): Dropout(p=0.0, inplace=False)\n",
       "        (output): Identity()\n",
       "        (attention_normalization): LayerNorm((192,), eps=1e-05, elementwise_affine=True)\n",
       "        (ffn_normalization): LayerNorm((192,), eps=1e-05, elementwise_affine=True)\n",
       "      )\n",
       "      (2): ModuleDict(\n",
       "        (attention): MultiheadAttention(\n",
       "          (W_q): Linear(in_features=192, out_features=192, bias=True)\n",
       "          (W_k): Linear(in_features=192, out_features=192, bias=True)\n",
       "          (W_v): Linear(in_features=192, out_features=192, bias=True)\n",
       "          (W_out): Linear(in_features=192, out_features=192, bias=True)\n",
       "          (dropout): Dropout(p=0.2, inplace=False)\n",
       "        )\n",
       "        (ffn): FFN(\n",
       "          (linear_first): Linear(in_features=192, out_features=512, bias=True)\n",
       "          (activation): ReGLU()\n",
       "          (dropout): Dropout(p=0.1, inplace=False)\n",
       "          (linear_second): Linear(in_features=256, out_features=192, bias=True)\n",
       "        )\n",
       "        (attention_residual_dropout): Dropout(p=0.0, inplace=False)\n",
       "        (ffn_residual_dropout): Dropout(p=0.0, inplace=False)\n",
       "        (output): Identity()\n",
       "        (attention_normalization): LayerNorm((192,), eps=1e-05, elementwise_affine=True)\n",
       "        (ffn_normalization): LayerNorm((192,), eps=1e-05, elementwise_affine=True)\n",
       "      )\n",
       "    )\n",
       "    (head): Head(\n",
       "      (normalization): LayerNorm((192,), eps=1e-05, elementwise_affine=True)\n",
       "      (activation): ReLU()\n",
       "      (linear): Linear(in_features=192, out_features=5, bias=True)\n",
       "    )\n",
       "  )\n",
       ")"
      ]
     },
     "execution_count": 2,
     "metadata": {},
     "output_type": "execute_result"
    }
   ],
   "source": [
    "# Model loading\n",
    "PREDICT_TIMESTAMP = '20220609013328'\n",
    "PREDICT_TIMESTAMP = '20220609185518'\n",
    "device = torch.device('cuda:0')\n",
    "\n",
    "def load_model(folder, name='best.pt'):\n",
    "    SAVE_DIR = f'checkpoints/{folder}'\n",
    "    model_dict = torch.load(os.path.join(SAVE_DIR, name))\n",
    "    model_config = load_yaml(os.path.join(SAVE_DIR, 'model_config.yaml'))\n",
    "    model = FTTransformer.make_default(**model_config)\n",
    "    model.load_state_dict(model_dict)\n",
    "    return model.eval()\n",
    "\n",
    "\n",
    "model = load_model(PREDICT_TIMESTAMP)\n",
    "model.to(device)"
   ]
  },
  {
   "cell_type": "code",
   "execution_count": 3,
   "id": "929b6853",
   "metadata": {},
   "outputs": [
    {
     "name": "stdout",
     "output_type": "stream",
     "text": [
      "../../config/train_config.yaml\n"
     ]
    }
   ],
   "source": [
    "# Setups\n",
    "TRAIN_CONFIG_PATH = '../../config/train_config.yaml'\n",
    "DATA_PATH = '../../data/01_split/'\n",
    "config = load_yaml(TRAIN_CONFIG_PATH)\n",
    "LABEL_ENCODING = config['LABEL_ENCODING']\n",
    "LABEL_DECODING = {y:x for x,y in LABEL_ENCODING.items()}\n",
    "# RESULTS_PATH = '.'\n",
    "RESULTS_PATH = f'checkpoints/{PREDICT_TIMESTAMP}'\n",
    "DATA_DIR = '../../data/01_split'\n",
    "SAMPLE_DIR = '../../data/sample_submission.csv'\n",
    "\n",
    "\n",
    "# Data loading\n",
    "train_df = pd.read_csv(os.path.join(DATA_PATH, 'train.csv'))\n",
    "valid_df = pd.read_csv(os.path.join(DATA_PATH, 'valid.csv'))\n",
    "test_df = pd.read_csv(os.path.join(DATA_PATH,'test.csv'))\n",
    "test_ids = test_df['id']\n",
    "\n",
    "\n",
    "X = {}\n",
    "y = {}\n",
    "train_X, train_y = train_df.loc[:,train_df.columns!='leaktype'], train_df['leaktype']\n",
    "valid_X, valid_y = valid_df.loc[:,train_df.columns!='leaktype'], valid_df['leaktype']\n",
    "test_X = test_df.loc[:,test_df.columns!='id']\n",
    "\n",
    "\n",
    "train_y = train_y.replace(LABEL_ENCODING)\n",
    "valid_y = valid_y.replace(LABEL_ENCODING)\n",
    "\n",
    "X['train'],  X['val'], X['test'] = train_X, valid_X, test_X\n",
    "y['train'], y['val'] = train_y, valid_y\n",
    "\n",
    "# not the best way to preprocess features, but enough for the demonstration\n",
    "preprocess = sklearn.preprocessing.StandardScaler().fit(X['train'])\n",
    "X = {\n",
    "    k: torch.tensor(preprocess.transform(v), device=device)\n",
    "    for k, v in X.items()\n",
    "}\n",
    "X = {k: v.float() for k, v in X.items()}\n"
   ]
  },
  {
   "cell_type": "code",
   "execution_count": 4,
   "id": "966f4699",
   "metadata": {},
   "outputs": [],
   "source": [
    "def get_predictions(model, test_X, batch_size_eval=32):\n",
    "    \"\"\"Get predictions from FTTransformer model\"\"\"\n",
    "    with torch.no_grad():\n",
    "        model.eval()\n",
    "        prediction = []\n",
    "        for batch in zero.iter_batches(test_X, batch_size_eval):\n",
    "            prediction.append(model(batch.float(), x_cat=None).cpu())\n",
    "        pred_y = torch.cat(prediction).squeeze(1).cpu().numpy()\n",
    "        pred_y = pred_y.argmax(1)\n",
    "    return pred_y"
   ]
  },
  {
   "cell_type": "markdown",
   "id": "69691351",
   "metadata": {},
   "source": [
    "## Quick testing"
   ]
  },
  {
   "cell_type": "code",
   "execution_count": 5,
   "id": "f6071884",
   "metadata": {},
   "outputs": [
    {
     "name": "stdout",
     "output_type": "stream",
     "text": [
      "F1 score : 0.999\n"
     ]
    },
    {
     "data": {
      "text/html": [
       "<style type=\"text/css\">\n",
       "#T_a84fe_row0_col0, #T_a84fe_row2_col1, #T_a84fe_row3_col0, #T_a84fe_row3_col1, #T_a84fe_row3_col2 {\n",
       "  background-color: #fde725;\n",
       "  color: #000000;\n",
       "}\n",
       "#T_a84fe_row0_col1 {\n",
       "  background-color: #39568c;\n",
       "  color: #f1f1f1;\n",
       "}\n",
       "#T_a84fe_row0_col2 {\n",
       "  background-color: #29af7f;\n",
       "  color: #f1f1f1;\n",
       "}\n",
       "#T_a84fe_row1_col0 {\n",
       "  background-color: #33638d;\n",
       "  color: #f1f1f1;\n",
       "}\n",
       "#T_a84fe_row1_col1 {\n",
       "  background-color: #32b67a;\n",
       "  color: #f1f1f1;\n",
       "}\n",
       "#T_a84fe_row1_col2 {\n",
       "  background-color: #228d8d;\n",
       "  color: #f1f1f1;\n",
       "}\n",
       "#T_a84fe_row2_col0 {\n",
       "  background-color: #7fd34e;\n",
       "  color: #000000;\n",
       "}\n",
       "#T_a84fe_row2_col2 {\n",
       "  background-color: #c0df25;\n",
       "  color: #000000;\n",
       "}\n",
       "#T_a84fe_row4_col0, #T_a84fe_row4_col1, #T_a84fe_row4_col2 {\n",
       "  background-color: #440154;\n",
       "  color: #f1f1f1;\n",
       "}\n",
       "</style>\n",
       "<table id=\"T_a84fe\">\n",
       "  <thead>\n",
       "    <tr>\n",
       "      <th class=\"blank level0\" >&nbsp;</th>\n",
       "      <th id=\"T_a84fe_level0_col0\" class=\"col_heading level0 col0\" >precision</th>\n",
       "      <th id=\"T_a84fe_level0_col1\" class=\"col_heading level0 col1\" >recall</th>\n",
       "      <th id=\"T_a84fe_level0_col2\" class=\"col_heading level0 col2\" >f1-score</th>\n",
       "      <th id=\"T_a84fe_level0_col3\" class=\"col_heading level0 col3\" >support</th>\n",
       "    </tr>\n",
       "  </thead>\n",
       "  <tbody>\n",
       "    <tr>\n",
       "      <th id=\"T_a84fe_level0_row0\" class=\"row_heading level0 row0\" >0</th>\n",
       "      <td id=\"T_a84fe_row0_col0\" class=\"data row0 col0\" >1.000000</td>\n",
       "      <td id=\"T_a84fe_row0_col1\" class=\"data row0 col1\" >0.997884</td>\n",
       "      <td id=\"T_a84fe_row0_col2\" class=\"data row0 col2\" >0.998941</td>\n",
       "      <td id=\"T_a84fe_row0_col3\" class=\"data row0 col3\" >1418</td>\n",
       "    </tr>\n",
       "    <tr>\n",
       "      <th id=\"T_a84fe_level0_row1\" class=\"row_heading level0 row1\" >1</th>\n",
       "      <td id=\"T_a84fe_row1_col0\" class=\"data row1 col0\" >0.998022</td>\n",
       "      <td id=\"T_a84fe_row1_col1\" class=\"data row1 col1\" >0.999010</td>\n",
       "      <td id=\"T_a84fe_row1_col2\" class=\"data row1 col2\" >0.998516</td>\n",
       "      <td id=\"T_a84fe_row1_col3\" class=\"data row1 col3\" >1010</td>\n",
       "    </tr>\n",
       "    <tr>\n",
       "      <th id=\"T_a84fe_level0_row2\" class=\"row_heading level0 row2\" >2</th>\n",
       "      <td id=\"T_a84fe_row2_col0\" class=\"data row2 col0\" >0.999441</td>\n",
       "      <td id=\"T_a84fe_row2_col1\" class=\"data row2 col1\" >1.000000</td>\n",
       "      <td id=\"T_a84fe_row2_col2\" class=\"data row2 col2\" >0.999720</td>\n",
       "      <td id=\"T_a84fe_row2_col3\" class=\"data row2 col3\" >3576</td>\n",
       "    </tr>\n",
       "    <tr>\n",
       "      <th id=\"T_a84fe_level0_row3\" class=\"row_heading level0 row3\" >3</th>\n",
       "      <td id=\"T_a84fe_row3_col0\" class=\"data row3 col0\" >1.000000</td>\n",
       "      <td id=\"T_a84fe_row3_col1\" class=\"data row3 col1\" >1.000000</td>\n",
       "      <td id=\"T_a84fe_row3_col2\" class=\"data row3 col2\" >1.000000</td>\n",
       "      <td id=\"T_a84fe_row3_col3\" class=\"data row3 col3\" >369</td>\n",
       "    </tr>\n",
       "    <tr>\n",
       "      <th id=\"T_a84fe_level0_row4\" class=\"row_heading level0 row4\" >4</th>\n",
       "      <td id=\"T_a84fe_row4_col0\" class=\"data row4 col0\" >0.997118</td>\n",
       "      <td id=\"T_a84fe_row4_col1\" class=\"data row4 col1\" >0.997118</td>\n",
       "      <td id=\"T_a84fe_row4_col2\" class=\"data row4 col2\" >0.997118</td>\n",
       "      <td id=\"T_a84fe_row4_col3\" class=\"data row4 col3\" >347</td>\n",
       "    </tr>\n",
       "    <tr>\n",
       "      <th id=\"T_a84fe_level0_row5\" class=\"row_heading level0 row5\" >accuracy</th>\n",
       "      <td id=\"T_a84fe_row5_col0\" class=\"data row5 col0\" >0.999256</td>\n",
       "      <td id=\"T_a84fe_row5_col1\" class=\"data row5 col1\" >0.999256</td>\n",
       "      <td id=\"T_a84fe_row5_col2\" class=\"data row5 col2\" >0.999256</td>\n",
       "      <td id=\"T_a84fe_row5_col3\" class=\"data row5 col3\" >0</td>\n",
       "    </tr>\n",
       "    <tr>\n",
       "      <th id=\"T_a84fe_level0_row6\" class=\"row_heading level0 row6\" >macro avg</th>\n",
       "      <td id=\"T_a84fe_row6_col0\" class=\"data row6 col0\" >0.998916</td>\n",
       "      <td id=\"T_a84fe_row6_col1\" class=\"data row6 col1\" >0.998802</td>\n",
       "      <td id=\"T_a84fe_row6_col2\" class=\"data row6 col2\" >0.998859</td>\n",
       "      <td id=\"T_a84fe_row6_col3\" class=\"data row6 col3\" >6720</td>\n",
       "    </tr>\n",
       "    <tr>\n",
       "      <th id=\"T_a84fe_level0_row7\" class=\"row_heading level0 row7\" >weighted avg</th>\n",
       "      <td id=\"T_a84fe_row7_col0\" class=\"data row7 col0\" >0.999256</td>\n",
       "      <td id=\"T_a84fe_row7_col1\" class=\"data row7 col1\" >0.999256</td>\n",
       "      <td id=\"T_a84fe_row7_col2\" class=\"data row7 col2\" >0.999256</td>\n",
       "      <td id=\"T_a84fe_row7_col3\" class=\"data row7 col3\" >6720</td>\n",
       "    </tr>\n",
       "  </tbody>\n",
       "</table>\n"
      ],
      "text/plain": [
       "<pandas.io.formats.style.Styler at 0x7fc128113f40>"
      ]
     },
     "execution_count": 5,
     "metadata": {},
     "output_type": "execute_result"
    },
    {
     "data": {
      "image/png": "[encoded data removed]",
      "text/plain": [
       "<Figure size 432x288 with 1 Axes>"
      ]
     },
     "metadata": {
      "needs_background": "light"
     },
     "output_type": "display_data"
    }
   ],
   "source": [
    "encoding_to_label = {v: k for k, v in LABEL_ENCODING.items()}\n",
    "labels = [key for key in LABEL_ENCODING.keys()]\n",
    "model_name, y_hat = 'FTTransformer', get_predictions(model, X['val'])\n",
    "\n",
    "plot_confusion_matrix(valid_y, y_hat, labels,  f'Confusion Matrix {model_name}')\n",
    "print('F1 score : {:.3f}'.format(f1_score(valid_y, y_hat, average='macro')))\n",
    "pretty_classification_report(valid_y, y_hat)"
   ]
  },
  {
   "cell_type": "markdown",
   "id": "e7cb8b97",
   "metadata": {},
   "source": [
    "## Submission"
   ]
  },
  {
   "cell_type": "code",
   "execution_count": 8,
   "id": "c4b0559a",
   "metadata": {},
   "outputs": [],
   "source": [
    "def model_predict_submission(model, X_test):\n",
    "    # Make predictions\n",
    "    sample_df = pd.read_csv(SAMPLE_DIR)\n",
    "    sorter = list(sample_df['id'])\n",
    "    y_pred = get_predictions(model, X_test)\n",
    "    y_pred_df = pd.DataFrame(y_pred, columns=['leaktype'])\n",
    "    y_pred_df['leaktype'] = y_pred_df['leaktype'].replace(LABEL_DECODING)\n",
    "    pred_df = pd.concat([test_ids, y_pred_df],axis=1)\n",
    "    # sort predictions\n",
    "    resdf = pred_df.set_index('id')\n",
    "    result = resdf.loc[sorter].reset_index()\n",
    "    resultpath = os.path.join(RESULTS_PATH, 'predictions.csv')\n",
    "    result.to_csv(resultpath, index=False)"
   ]
  },
  {
   "cell_type": "code",
   "execution_count": 9,
   "id": "2b537cec",
   "metadata": {},
   "outputs": [],
   "source": [
    "# Make predictions and save results\n",
    "model_predict_submission(model, X['test'])"
   ]
  }
 ],
 "metadata": {
  "kernelspec": {
   "display_name": "Python 3.10.4 64-bit",
   "language": "python",
   "name": "python3"
  },
  "language_info": {
   "codemirror_mode": {
    "name": "ipython",
    "version": 3
   },
   "file_extension": ".py",
   "mimetype": "text/x-python",
   "name": "python",
   "nbconvert_exporter": "python",
   "pygments_lexer": "ipython3",
   "version": "3.10.4"
  },
  "toc": {
   "base_numbering": 1,
   "nav_menu": {},
   "number_sections": true,
   "sideBar": true,
   "skip_h1_title": false,
   "title_cell": "Table of Contents",
   "title_sidebar": "Contents",
   "toc_cell": false,
   "toc_position": {
    "height": "calc(100% - 180px)",
    "left": "10px",
    "top": "150px",
    "width": "341.333px"
   },
   "toc_section_display": true,
   "toc_window_display": true
  },
  "vscode": {
   "interpreter": {
    "hash": "31f2aee4e71d21fbe5cf8b01ff0e069b9275f58929596ceb00d14d90e3e16cd6"
   }
  }
 },
 "nbformat": 4,
 "nbformat_minor": 5
}
