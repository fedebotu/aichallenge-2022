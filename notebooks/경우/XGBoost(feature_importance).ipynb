{
 "cells": [
  {
   "cell_type": "code",
   "execution_count": 1,
   "id": "e11a61f6",
   "metadata": {},
   "outputs": [],
   "source": [
    "import pandas as pd\n",
    "from xgboost import XGBClassifier"
   ]
  },
  {
   "cell_type": "code",
   "execution_count": 2,
   "id": "fa9c15fd",
   "metadata": {},
   "outputs": [
    {
     "data": {
      "text/plain": [
       "'C:\\\\Users\\\\User\\\\Downloads\\\\인공지능 경진대회\\\\09_cls_pipe-20220607T022001Z-001\\\\09_cls_pipe\\\\train\\\\train'"
      ]
     },
     "execution_count": 2,
     "metadata": {},
     "output_type": "execute_result"
    }
   ],
   "source": [
    "%pwd"
   ]
  },
  {
   "cell_type": "code",
   "execution_count": 3,
   "id": "916ead09",
   "metadata": {},
   "outputs": [
    {
     "data": {
      "text/plain": [
       "['.ipynb_checkpoints',\n",
       " 'Balanced_Label_Data.csv',\n",
       " 'Final_Submission_by_XGBoost.csv',\n",
       " 'final_train.csv',\n",
       " 'Random Forest.ipynb',\n",
       " 'train.csv',\n",
       " 'train_data_preprocess.ipynb',\n",
       " 'XGBoost Tuning - Optuna Example.ipynb',\n",
       " 'XGBoost Tuning.ipynb',\n",
       " 'XGBoost(feature_importance).ipynb',\n",
       " 'XGBoost.ipynb']"
      ]
     },
     "execution_count": 3,
     "metadata": {},
     "output_type": "execute_result"
    }
   ],
   "source": [
    "import os\n",
    "os.listdir()"
   ]
  },
  {
   "cell_type": "markdown",
   "id": "c1053083",
   "metadata": {},
   "source": [
    "# Read Train Data"
   ]
  },
  {
   "cell_type": "code",
   "execution_count": 4,
   "id": "e757d876",
   "metadata": {},
   "outputs": [
    {
     "data": {
      "text/html": [
       "<div>\n",
       "<style scoped>\n",
       "    .dataframe tbody tr th:only-of-type {\n",
       "        vertical-align: middle;\n",
       "    }\n",
       "\n",
       "    .dataframe tbody tr th {\n",
       "        vertical-align: top;\n",
       "    }\n",
       "\n",
       "    .dataframe thead th {\n",
       "        text-align: right;\n",
       "    }\n",
       "</style>\n",
       "<table border=\"1\" class=\"dataframe\">\n",
       "  <thead>\n",
       "    <tr style=\"text-align: right;\">\n",
       "      <th></th>\n",
       "      <th>leaktype</th>\n",
       "      <th>0HZ</th>\n",
       "      <th>10HZ</th>\n",
       "      <th>20HZ</th>\n",
       "      <th>30HZ</th>\n",
       "      <th>40HZ</th>\n",
       "      <th>50HZ</th>\n",
       "      <th>60HZ</th>\n",
       "      <th>70HZ</th>\n",
       "      <th>80HZ</th>\n",
       "      <th>...</th>\n",
       "      <th>5030HZ</th>\n",
       "      <th>5040HZ</th>\n",
       "      <th>5050HZ</th>\n",
       "      <th>5060HZ</th>\n",
       "      <th>5070HZ</th>\n",
       "      <th>5080HZ</th>\n",
       "      <th>5090HZ</th>\n",
       "      <th>5100HZ</th>\n",
       "      <th>5110HZ</th>\n",
       "      <th>5120HZ</th>\n",
       "    </tr>\n",
       "  </thead>\n",
       "  <tbody>\n",
       "    <tr>\n",
       "      <th>0</th>\n",
       "      <td>out</td>\n",
       "      <td>0</td>\n",
       "      <td>2</td>\n",
       "      <td>2</td>\n",
       "      <td>0</td>\n",
       "      <td>2</td>\n",
       "      <td>0</td>\n",
       "      <td>2</td>\n",
       "      <td>2</td>\n",
       "      <td>2</td>\n",
       "      <td>...</td>\n",
       "      <td>2</td>\n",
       "      <td>5</td>\n",
       "      <td>2</td>\n",
       "      <td>2</td>\n",
       "      <td>5</td>\n",
       "      <td>2</td>\n",
       "      <td>2</td>\n",
       "      <td>5</td>\n",
       "      <td>2</td>\n",
       "      <td>5</td>\n",
       "    </tr>\n",
       "    <tr>\n",
       "      <th>1</th>\n",
       "      <td>out</td>\n",
       "      <td>0</td>\n",
       "      <td>0</td>\n",
       "      <td>0</td>\n",
       "      <td>3</td>\n",
       "      <td>0</td>\n",
       "      <td>3</td>\n",
       "      <td>0</td>\n",
       "      <td>0</td>\n",
       "      <td>0</td>\n",
       "      <td>...</td>\n",
       "      <td>0</td>\n",
       "      <td>3</td>\n",
       "      <td>3</td>\n",
       "      <td>3</td>\n",
       "      <td>3</td>\n",
       "      <td>3</td>\n",
       "      <td>3</td>\n",
       "      <td>3</td>\n",
       "      <td>3</td>\n",
       "      <td>6</td>\n",
       "    </tr>\n",
       "    <tr>\n",
       "      <th>2</th>\n",
       "      <td>out</td>\n",
       "      <td>0</td>\n",
       "      <td>4</td>\n",
       "      <td>4</td>\n",
       "      <td>4</td>\n",
       "      <td>4</td>\n",
       "      <td>5</td>\n",
       "      <td>4</td>\n",
       "      <td>4</td>\n",
       "      <td>5</td>\n",
       "      <td>...</td>\n",
       "      <td>5</td>\n",
       "      <td>5</td>\n",
       "      <td>6</td>\n",
       "      <td>5</td>\n",
       "      <td>6</td>\n",
       "      <td>6</td>\n",
       "      <td>6</td>\n",
       "      <td>5</td>\n",
       "      <td>6</td>\n",
       "      <td>4</td>\n",
       "    </tr>\n",
       "    <tr>\n",
       "      <th>3</th>\n",
       "      <td>out</td>\n",
       "      <td>0</td>\n",
       "      <td>6</td>\n",
       "      <td>5</td>\n",
       "      <td>5</td>\n",
       "      <td>6</td>\n",
       "      <td>5</td>\n",
       "      <td>6</td>\n",
       "      <td>6</td>\n",
       "      <td>5</td>\n",
       "      <td>...</td>\n",
       "      <td>6</td>\n",
       "      <td>6</td>\n",
       "      <td>7</td>\n",
       "      <td>7</td>\n",
       "      <td>5</td>\n",
       "      <td>6</td>\n",
       "      <td>5</td>\n",
       "      <td>5</td>\n",
       "      <td>7</td>\n",
       "      <td>7</td>\n",
       "    </tr>\n",
       "    <tr>\n",
       "      <th>4</th>\n",
       "      <td>out</td>\n",
       "      <td>0</td>\n",
       "      <td>3</td>\n",
       "      <td>0</td>\n",
       "      <td>0</td>\n",
       "      <td>3</td>\n",
       "      <td>0</td>\n",
       "      <td>0</td>\n",
       "      <td>3</td>\n",
       "      <td>3</td>\n",
       "      <td>...</td>\n",
       "      <td>3</td>\n",
       "      <td>3</td>\n",
       "      <td>3</td>\n",
       "      <td>3</td>\n",
       "      <td>3</td>\n",
       "      <td>3</td>\n",
       "      <td>3</td>\n",
       "      <td>3</td>\n",
       "      <td>3</td>\n",
       "      <td>3</td>\n",
       "    </tr>\n",
       "  </tbody>\n",
       "</table>\n",
       "<p>5 rows × 514 columns</p>\n",
       "</div>"
      ],
      "text/plain": [
       "  leaktype  0HZ  10HZ  20HZ  30HZ  40HZ  50HZ  60HZ  70HZ  80HZ  ...  5030HZ  \\\n",
       "0      out    0     2     2     0     2     0     2     2     2  ...       2   \n",
       "1      out    0     0     0     3     0     3     0     0     0  ...       0   \n",
       "2      out    0     4     4     4     4     5     4     4     5  ...       5   \n",
       "3      out    0     6     5     5     6     5     6     6     5  ...       6   \n",
       "4      out    0     3     0     0     3     0     0     3     3  ...       3   \n",
       "\n",
       "   5040HZ  5050HZ  5060HZ  5070HZ  5080HZ  5090HZ  5100HZ  5110HZ  5120HZ  \n",
       "0       5       2       2       5       2       2       5       2       5  \n",
       "1       3       3       3       3       3       3       3       3       6  \n",
       "2       5       6       5       6       6       6       5       6       4  \n",
       "3       6       7       7       5       6       5       5       7       7  \n",
       "4       3       3       3       3       3       3       3       3       3  \n",
       "\n",
       "[5 rows x 514 columns]"
      ]
     },
     "execution_count": 4,
     "metadata": {},
     "output_type": "execute_result"
    }
   ],
   "source": [
    "df = pd.read_csv('C:\\\\Users\\\\User\\\\Downloads\\\\인공지능 경진대회\\\\09_cls_pipe-20220607T022001Z-001\\\\09_cls_pipe\\\\train\\\\train\\\\train.csv')\n",
    "df.head()"
   ]
  },
  {
   "cell_type": "markdown",
   "id": "778eca93",
   "metadata": {},
   "source": [
    "# Read Test Data"
   ]
  },
  {
   "cell_type": "code",
   "execution_count": 5,
   "id": "cd9c6c9b",
   "metadata": {},
   "outputs": [
    {
     "data": {
      "text/html": [
       "<div>\n",
       "<style scoped>\n",
       "    .dataframe tbody tr th:only-of-type {\n",
       "        vertical-align: middle;\n",
       "    }\n",
       "\n",
       "    .dataframe tbody tr th {\n",
       "        vertical-align: top;\n",
       "    }\n",
       "\n",
       "    .dataframe thead th {\n",
       "        text-align: right;\n",
       "    }\n",
       "</style>\n",
       "<table border=\"1\" class=\"dataframe\">\n",
       "  <thead>\n",
       "    <tr style=\"text-align: right;\">\n",
       "      <th></th>\n",
       "      <th>id</th>\n",
       "      <th>0HZ</th>\n",
       "      <th>10HZ</th>\n",
       "      <th>20HZ</th>\n",
       "      <th>30HZ</th>\n",
       "      <th>40HZ</th>\n",
       "      <th>50HZ</th>\n",
       "      <th>60HZ</th>\n",
       "      <th>70HZ</th>\n",
       "      <th>80HZ</th>\n",
       "      <th>...</th>\n",
       "      <th>5030HZ</th>\n",
       "      <th>5040HZ</th>\n",
       "      <th>5050HZ</th>\n",
       "      <th>5060HZ</th>\n",
       "      <th>5070HZ</th>\n",
       "      <th>5080HZ</th>\n",
       "      <th>5090HZ</th>\n",
       "      <th>5100HZ</th>\n",
       "      <th>5110HZ</th>\n",
       "      <th>5120HZ</th>\n",
       "    </tr>\n",
       "  </thead>\n",
       "  <tbody>\n",
       "    <tr>\n",
       "      <th>0</th>\n",
       "      <td>A8omWrwmLF</td>\n",
       "      <td>0</td>\n",
       "      <td>4</td>\n",
       "      <td>4</td>\n",
       "      <td>4</td>\n",
       "      <td>5</td>\n",
       "      <td>4</td>\n",
       "      <td>4</td>\n",
       "      <td>5</td>\n",
       "      <td>4</td>\n",
       "      <td>...</td>\n",
       "      <td>6</td>\n",
       "      <td>5</td>\n",
       "      <td>5</td>\n",
       "      <td>7</td>\n",
       "      <td>5</td>\n",
       "      <td>5</td>\n",
       "      <td>5</td>\n",
       "      <td>5</td>\n",
       "      <td>5</td>\n",
       "      <td>6</td>\n",
       "    </tr>\n",
       "    <tr>\n",
       "      <th>1</th>\n",
       "      <td>XEVCsLi6ps</td>\n",
       "      <td>0</td>\n",
       "      <td>8</td>\n",
       "      <td>7</td>\n",
       "      <td>10</td>\n",
       "      <td>10</td>\n",
       "      <td>10</td>\n",
       "      <td>10</td>\n",
       "      <td>10</td>\n",
       "      <td>10</td>\n",
       "      <td>...</td>\n",
       "      <td>14</td>\n",
       "      <td>14</td>\n",
       "      <td>11</td>\n",
       "      <td>13</td>\n",
       "      <td>11</td>\n",
       "      <td>13</td>\n",
       "      <td>13</td>\n",
       "      <td>11</td>\n",
       "      <td>11</td>\n",
       "      <td>11</td>\n",
       "    </tr>\n",
       "    <tr>\n",
       "      <th>2</th>\n",
       "      <td>cEVCc0xZkC</td>\n",
       "      <td>0</td>\n",
       "      <td>0</td>\n",
       "      <td>0</td>\n",
       "      <td>0</td>\n",
       "      <td>3</td>\n",
       "      <td>0</td>\n",
       "      <td>0</td>\n",
       "      <td>0</td>\n",
       "      <td>0</td>\n",
       "      <td>...</td>\n",
       "      <td>3</td>\n",
       "      <td>0</td>\n",
       "      <td>0</td>\n",
       "      <td>3</td>\n",
       "      <td>3</td>\n",
       "      <td>0</td>\n",
       "      <td>0</td>\n",
       "      <td>3</td>\n",
       "      <td>0</td>\n",
       "      <td>0</td>\n",
       "    </tr>\n",
       "    <tr>\n",
       "      <th>3</th>\n",
       "      <td>M2a2qkpvQ4</td>\n",
       "      <td>0</td>\n",
       "      <td>0</td>\n",
       "      <td>0</td>\n",
       "      <td>0</td>\n",
       "      <td>0</td>\n",
       "      <td>0</td>\n",
       "      <td>0</td>\n",
       "      <td>0</td>\n",
       "      <td>0</td>\n",
       "      <td>...</td>\n",
       "      <td>0</td>\n",
       "      <td>0</td>\n",
       "      <td>0</td>\n",
       "      <td>0</td>\n",
       "      <td>0</td>\n",
       "      <td>0</td>\n",
       "      <td>0</td>\n",
       "      <td>0</td>\n",
       "      <td>4</td>\n",
       "      <td>0</td>\n",
       "    </tr>\n",
       "    <tr>\n",
       "      <th>4</th>\n",
       "      <td>Sts4cwqBEo</td>\n",
       "      <td>0</td>\n",
       "      <td>4</td>\n",
       "      <td>4</td>\n",
       "      <td>5</td>\n",
       "      <td>5</td>\n",
       "      <td>6</td>\n",
       "      <td>9</td>\n",
       "      <td>5</td>\n",
       "      <td>7</td>\n",
       "      <td>...</td>\n",
       "      <td>7</td>\n",
       "      <td>8</td>\n",
       "      <td>6</td>\n",
       "      <td>5</td>\n",
       "      <td>7</td>\n",
       "      <td>5</td>\n",
       "      <td>7</td>\n",
       "      <td>7</td>\n",
       "      <td>6</td>\n",
       "      <td>7</td>\n",
       "    </tr>\n",
       "  </tbody>\n",
       "</table>\n",
       "<p>5 rows × 514 columns</p>\n",
       "</div>"
      ],
      "text/plain": [
       "           id  0HZ  10HZ  20HZ  30HZ  40HZ  50HZ  60HZ  70HZ  80HZ  ...  \\\n",
       "0  A8omWrwmLF    0     4     4     4     5     4     4     5     4  ...   \n",
       "1  XEVCsLi6ps    0     8     7    10    10    10    10    10    10  ...   \n",
       "2  cEVCc0xZkC    0     0     0     0     3     0     0     0     0  ...   \n",
       "3  M2a2qkpvQ4    0     0     0     0     0     0     0     0     0  ...   \n",
       "4  Sts4cwqBEo    0     4     4     5     5     6     9     5     7  ...   \n",
       "\n",
       "   5030HZ  5040HZ  5050HZ  5060HZ  5070HZ  5080HZ  5090HZ  5100HZ  5110HZ  \\\n",
       "0       6       5       5       7       5       5       5       5       5   \n",
       "1      14      14      11      13      11      13      13      11      11   \n",
       "2       3       0       0       3       3       0       0       3       0   \n",
       "3       0       0       0       0       0       0       0       0       4   \n",
       "4       7       8       6       5       7       5       7       7       6   \n",
       "\n",
       "   5120HZ  \n",
       "0       6  \n",
       "1      11  \n",
       "2       0  \n",
       "3       0  \n",
       "4       7  \n",
       "\n",
       "[5 rows x 514 columns]"
      ]
     },
     "execution_count": 5,
     "metadata": {},
     "output_type": "execute_result"
    }
   ],
   "source": [
    "test_df = pd.read_csv('C:\\\\Users\\\\User\\\\Downloads\\\\인공지능 경진대회\\\\09_cls_pipe-20220607T022001Z-001\\\\09_cls_pipe\\\\test\\\\test\\\\test.csv')\n",
    "test_df.head()"
   ]
  },
  {
   "cell_type": "markdown",
   "id": "b7b81479",
   "metadata": {},
   "source": [
    "# Split X_train and y_train"
   ]
  },
  {
   "cell_type": "code",
   "execution_count": 6,
   "id": "9e2a4721",
   "metadata": {},
   "outputs": [
    {
     "data": {
      "text/html": [
       "<div>\n",
       "<style scoped>\n",
       "    .dataframe tbody tr th:only-of-type {\n",
       "        vertical-align: middle;\n",
       "    }\n",
       "\n",
       "    .dataframe tbody tr th {\n",
       "        vertical-align: top;\n",
       "    }\n",
       "\n",
       "    .dataframe thead th {\n",
       "        text-align: right;\n",
       "    }\n",
       "</style>\n",
       "<table border=\"1\" class=\"dataframe\">\n",
       "  <thead>\n",
       "    <tr style=\"text-align: right;\">\n",
       "      <th></th>\n",
       "      <th>0HZ</th>\n",
       "      <th>10HZ</th>\n",
       "      <th>20HZ</th>\n",
       "      <th>30HZ</th>\n",
       "      <th>40HZ</th>\n",
       "      <th>50HZ</th>\n",
       "      <th>60HZ</th>\n",
       "      <th>70HZ</th>\n",
       "      <th>80HZ</th>\n",
       "      <th>90HZ</th>\n",
       "      <th>...</th>\n",
       "      <th>5030HZ</th>\n",
       "      <th>5040HZ</th>\n",
       "      <th>5050HZ</th>\n",
       "      <th>5060HZ</th>\n",
       "      <th>5070HZ</th>\n",
       "      <th>5080HZ</th>\n",
       "      <th>5090HZ</th>\n",
       "      <th>5100HZ</th>\n",
       "      <th>5110HZ</th>\n",
       "      <th>5120HZ</th>\n",
       "    </tr>\n",
       "  </thead>\n",
       "  <tbody>\n",
       "    <tr>\n",
       "      <th>0</th>\n",
       "      <td>0</td>\n",
       "      <td>2</td>\n",
       "      <td>2</td>\n",
       "      <td>0</td>\n",
       "      <td>2</td>\n",
       "      <td>0</td>\n",
       "      <td>2</td>\n",
       "      <td>2</td>\n",
       "      <td>2</td>\n",
       "      <td>2</td>\n",
       "      <td>...</td>\n",
       "      <td>2</td>\n",
       "      <td>5</td>\n",
       "      <td>2</td>\n",
       "      <td>2</td>\n",
       "      <td>5</td>\n",
       "      <td>2</td>\n",
       "      <td>2</td>\n",
       "      <td>5</td>\n",
       "      <td>2</td>\n",
       "      <td>5</td>\n",
       "    </tr>\n",
       "    <tr>\n",
       "      <th>1</th>\n",
       "      <td>0</td>\n",
       "      <td>0</td>\n",
       "      <td>0</td>\n",
       "      <td>3</td>\n",
       "      <td>0</td>\n",
       "      <td>3</td>\n",
       "      <td>0</td>\n",
       "      <td>0</td>\n",
       "      <td>0</td>\n",
       "      <td>0</td>\n",
       "      <td>...</td>\n",
       "      <td>0</td>\n",
       "      <td>3</td>\n",
       "      <td>3</td>\n",
       "      <td>3</td>\n",
       "      <td>3</td>\n",
       "      <td>3</td>\n",
       "      <td>3</td>\n",
       "      <td>3</td>\n",
       "      <td>3</td>\n",
       "      <td>6</td>\n",
       "    </tr>\n",
       "    <tr>\n",
       "      <th>2</th>\n",
       "      <td>0</td>\n",
       "      <td>4</td>\n",
       "      <td>4</td>\n",
       "      <td>4</td>\n",
       "      <td>4</td>\n",
       "      <td>5</td>\n",
       "      <td>4</td>\n",
       "      <td>4</td>\n",
       "      <td>5</td>\n",
       "      <td>5</td>\n",
       "      <td>...</td>\n",
       "      <td>5</td>\n",
       "      <td>5</td>\n",
       "      <td>6</td>\n",
       "      <td>5</td>\n",
       "      <td>6</td>\n",
       "      <td>6</td>\n",
       "      <td>6</td>\n",
       "      <td>5</td>\n",
       "      <td>6</td>\n",
       "      <td>4</td>\n",
       "    </tr>\n",
       "    <tr>\n",
       "      <th>3</th>\n",
       "      <td>0</td>\n",
       "      <td>6</td>\n",
       "      <td>5</td>\n",
       "      <td>5</td>\n",
       "      <td>6</td>\n",
       "      <td>5</td>\n",
       "      <td>6</td>\n",
       "      <td>6</td>\n",
       "      <td>5</td>\n",
       "      <td>5</td>\n",
       "      <td>...</td>\n",
       "      <td>6</td>\n",
       "      <td>6</td>\n",
       "      <td>7</td>\n",
       "      <td>7</td>\n",
       "      <td>5</td>\n",
       "      <td>6</td>\n",
       "      <td>5</td>\n",
       "      <td>5</td>\n",
       "      <td>7</td>\n",
       "      <td>7</td>\n",
       "    </tr>\n",
       "    <tr>\n",
       "      <th>4</th>\n",
       "      <td>0</td>\n",
       "      <td>3</td>\n",
       "      <td>0</td>\n",
       "      <td>0</td>\n",
       "      <td>3</td>\n",
       "      <td>0</td>\n",
       "      <td>0</td>\n",
       "      <td>3</td>\n",
       "      <td>3</td>\n",
       "      <td>3</td>\n",
       "      <td>...</td>\n",
       "      <td>3</td>\n",
       "      <td>3</td>\n",
       "      <td>3</td>\n",
       "      <td>3</td>\n",
       "      <td>3</td>\n",
       "      <td>3</td>\n",
       "      <td>3</td>\n",
       "      <td>3</td>\n",
       "      <td>3</td>\n",
       "      <td>3</td>\n",
       "    </tr>\n",
       "  </tbody>\n",
       "</table>\n",
       "<p>5 rows × 513 columns</p>\n",
       "</div>"
      ],
      "text/plain": [
       "   0HZ  10HZ  20HZ  30HZ  40HZ  50HZ  60HZ  70HZ  80HZ  90HZ  ...  5030HZ  \\\n",
       "0    0     2     2     0     2     0     2     2     2     2  ...       2   \n",
       "1    0     0     0     3     0     3     0     0     0     0  ...       0   \n",
       "2    0     4     4     4     4     5     4     4     5     5  ...       5   \n",
       "3    0     6     5     5     6     5     6     6     5     5  ...       6   \n",
       "4    0     3     0     0     3     0     0     3     3     3  ...       3   \n",
       "\n",
       "   5040HZ  5050HZ  5060HZ  5070HZ  5080HZ  5090HZ  5100HZ  5110HZ  5120HZ  \n",
       "0       5       2       2       5       2       2       5       2       5  \n",
       "1       3       3       3       3       3       3       3       3       6  \n",
       "2       5       6       5       6       6       6       5       6       4  \n",
       "3       6       7       7       5       6       5       5       7       7  \n",
       "4       3       3       3       3       3       3       3       3       3  \n",
       "\n",
       "[5 rows x 513 columns]"
      ]
     },
     "execution_count": 6,
     "metadata": {},
     "output_type": "execute_result"
    }
   ],
   "source": [
    "train_data = df.iloc[:,1:]\n",
    "train_data.head()"
   ]
  },
  {
   "cell_type": "code",
   "execution_count": 7,
   "id": "892b0999",
   "metadata": {},
   "outputs": [],
   "source": [
    "# train_x = train_data.iloc[:,:-1]\n",
    "# train_x.head()"
   ]
  },
  {
   "cell_type": "code",
   "execution_count": 8,
   "id": "69c37dec",
   "metadata": {},
   "outputs": [
    {
     "data": {
      "text/plain": [
       "0    out\n",
       "1    out\n",
       "2    out\n",
       "3    out\n",
       "4    out\n",
       "Name: leaktype, dtype: object"
      ]
     },
     "execution_count": 8,
     "metadata": {},
     "output_type": "execute_result"
    }
   ],
   "source": [
    "train_y = df.iloc[:,0]\n",
    "train_y.head()"
   ]
  },
  {
   "cell_type": "code",
   "execution_count": 9,
   "id": "7d3042c2",
   "metadata": {},
   "outputs": [],
   "source": [
    "from sklearn.model_selection import train_test_split\n",
    "\n",
    "X_train, X_test, y_train, y_test = train_test_split(train_data, train_y, test_size=0.3, random_state=123)"
   ]
  },
  {
   "cell_type": "markdown",
   "id": "1288c9cd",
   "metadata": {},
   "source": [
    "# Train Model"
   ]
  },
  {
   "cell_type": "code",
   "execution_count": 10,
   "id": "a56771dc",
   "metadata": {},
   "outputs": [],
   "source": [
    "#max_features\n",
    "#n_estimators\n",
    "#max_depth\n",
    "#min_sample_split\n",
    "#max_leaf_nodes"
   ]
  },
  {
   "cell_type": "code",
   "execution_count": 11,
   "id": "d78fd92a",
   "metadata": {},
   "outputs": [
    {
     "data": {
      "text/html": [
       "<style>#sk-container-id-1 {color: black;background-color: white;}#sk-container-id-1 pre{padding: 0;}#sk-container-id-1 div.sk-toggleable {background-color: white;}#sk-container-id-1 label.sk-toggleable__label {cursor: pointer;display: block;width: 100%;margin-bottom: 0;padding: 0.3em;box-sizing: border-box;text-align: center;}#sk-container-id-1 label.sk-toggleable__label-arrow:before {content: \"▸\";float: left;margin-right: 0.25em;color: #696969;}#sk-container-id-1 label.sk-toggleable__label-arrow:hover:before {color: black;}#sk-container-id-1 div.sk-estimator:hover label.sk-toggleable__label-arrow:before {color: black;}#sk-container-id-1 div.sk-toggleable__content {max-height: 0;max-width: 0;overflow: hidden;text-align: left;background-color: #f0f8ff;}#sk-container-id-1 div.sk-toggleable__content pre {margin: 0.2em;color: black;border-radius: 0.25em;background-color: #f0f8ff;}#sk-container-id-1 input.sk-toggleable__control:checked~div.sk-toggleable__content {max-height: 200px;max-width: 100%;overflow: auto;}#sk-container-id-1 input.sk-toggleable__control:checked~label.sk-toggleable__label-arrow:before {content: \"▾\";}#sk-container-id-1 div.sk-estimator input.sk-toggleable__control:checked~label.sk-toggleable__label {background-color: #d4ebff;}#sk-container-id-1 div.sk-label input.sk-toggleable__control:checked~label.sk-toggleable__label {background-color: #d4ebff;}#sk-container-id-1 input.sk-hidden--visually {border: 0;clip: rect(1px 1px 1px 1px);clip: rect(1px, 1px, 1px, 1px);height: 1px;margin: -1px;overflow: hidden;padding: 0;position: absolute;width: 1px;}#sk-container-id-1 div.sk-estimator {font-family: monospace;background-color: #f0f8ff;border: 1px dotted black;border-radius: 0.25em;box-sizing: border-box;margin-bottom: 0.5em;}#sk-container-id-1 div.sk-estimator:hover {background-color: #d4ebff;}#sk-container-id-1 div.sk-parallel-item::after {content: \"\";width: 100%;border-bottom: 1px solid gray;flex-grow: 1;}#sk-container-id-1 div.sk-label:hover label.sk-toggleable__label {background-color: #d4ebff;}#sk-container-id-1 div.sk-serial::before {content: \"\";position: absolute;border-left: 1px solid gray;box-sizing: border-box;top: 0;bottom: 0;left: 50%;z-index: 0;}#sk-container-id-1 div.sk-serial {display: flex;flex-direction: column;align-items: center;background-color: white;padding-right: 0.2em;padding-left: 0.2em;position: relative;}#sk-container-id-1 div.sk-item {position: relative;z-index: 1;}#sk-container-id-1 div.sk-parallel {display: flex;align-items: stretch;justify-content: center;background-color: white;position: relative;}#sk-container-id-1 div.sk-item::before, #sk-container-id-1 div.sk-parallel-item::before {content: \"\";position: absolute;border-left: 1px solid gray;box-sizing: border-box;top: 0;bottom: 0;left: 50%;z-index: -1;}#sk-container-id-1 div.sk-parallel-item {display: flex;flex-direction: column;z-index: 1;position: relative;background-color: white;}#sk-container-id-1 div.sk-parallel-item:first-child::after {align-self: flex-end;width: 50%;}#sk-container-id-1 div.sk-parallel-item:last-child::after {align-self: flex-start;width: 50%;}#sk-container-id-1 div.sk-parallel-item:only-child::after {width: 0;}#sk-container-id-1 div.sk-dashed-wrapped {border: 1px dashed gray;margin: 0 0.4em 0.5em 0.4em;box-sizing: border-box;padding-bottom: 0.4em;background-color: white;}#sk-container-id-1 div.sk-label label {font-family: monospace;font-weight: bold;display: inline-block;line-height: 1.2em;}#sk-container-id-1 div.sk-label-container {text-align: center;}#sk-container-id-1 div.sk-container {/* jupyter's `normalize.less` sets `[hidden] { display: none; }` but bootstrap.min.css set `[hidden] { display: none !important; }` so we also need the `!important` here to be able to override the default hidden behavior on the sphinx rendered scikit-learn.org. See: https://github.com/scikit-learn/scikit-learn/issues/21755 */display: inline-block !important;position: relative;}#sk-container-id-1 div.sk-text-repr-fallback {display: none;}</style><div id=\"sk-container-id-1\" class=\"sk-top-container\"><div class=\"sk-text-repr-fallback\"><pre>XGBClassifier(gamma=3, learning_rate=0.2, max_depth=5, n_estimators=800,\n",
       "              objective=&#x27;multi:softprob&#x27;, random_state=123, scale_pos_weight=4)</pre><b>In a Jupyter environment, please rerun this cell to show the HTML representation or trust the notebook. <br />On GitHub, the HTML representation is unable to render, please try loading this page with nbviewer.org.</b></div><div class=\"sk-container\" hidden><div class=\"sk-item\"><div class=\"sk-estimator sk-toggleable\"><input class=\"sk-toggleable__control sk-hidden--visually\" id=\"sk-estimator-id-1\" type=\"checkbox\" checked><label for=\"sk-estimator-id-1\" class=\"sk-toggleable__label sk-toggleable__label-arrow\">XGBClassifier</label><div class=\"sk-toggleable__content\"><pre>XGBClassifier(gamma=3, learning_rate=0.2, max_depth=5, n_estimators=800,\n",
       "              objective=&#x27;multi:softprob&#x27;, random_state=123, scale_pos_weight=4)</pre></div></div></div></div></div>"
      ],
      "text/plain": [
       "XGBClassifier(gamma=3, learning_rate=0.2, max_depth=5, n_estimators=800,\n",
       "              objective='multi:softprob', random_state=123, scale_pos_weight=4)"
      ]
     },
     "execution_count": 11,
     "metadata": {},
     "output_type": "execute_result"
    }
   ],
   "source": [
    "#xgb = XGBClassifier(n_estimators=800,learning_rate = 0.05,gamma = 3,max_depth = 5,scale_pos_weight = 4,random_state=123) #acc :0.884, f1: 0.73\n",
    "#xgb = XGBClassifier(n_estimators=1000,learning_rate = 0.1,gamma = 3,max_depth = 5,scale_pos_weight = 4,random_state=123) #acc :0.883, f1: 0.73\n",
    "#xgb = XGBClassifier(n_estimators=1000,learning_rate = 0.2,gamma = 3,max_depth = 5,scale_pos_weight = 4,random_state=123) #acc :0.886, f1: 0.74\n",
    "xgb = XGBClassifier(n_estimators=800,learning_rate = 0.2,gamma = 3,max_depth = 5,scale_pos_weight = 4,random_state=123) #acc :0.886, f1: 0.74\n",
    "#xgb = XGBClassifier(n_estimators=600,learning_rate = 0.2,gamma = 3,max_depth = 4,scale_pos_weight = 4,random_state=123) #acc :0.875, f1: 0.72\n",
    "#xgb = XGBClassifier(n_estimators=500,learning_rate = 0.3,gamma = 3,max_depth = 3,scale_pos_weight = 3,random_state=123) #acc :0.869, f1: 0.71\n",
    "#xgb = XGBClassifier(n_estimators=500,learning_rate = 0.3,gamma = 3,max_depth = 3,scale_pos_weight = 3,random_state=123) #acc :0.869, f1: 0.71\n",
    "#xgb = XGBClassifier(learning_rate = 0.33,gamma = 3,max_depth = 3,scale_pos_weight = 3,random_state=123) #acc :0.7, f1: 0.41\n",
    "#xgb = XGBClassifier(learning_rate = 0.3,gamma = 3,max_depth = 3,scale_pos_weight = 3,random_state=123) #acc :0.8, f1: 0.679\n",
    "xgb.fit(X_train, y_train)"
   ]
  },
  {
   "cell_type": "markdown",
   "id": "f17cb366",
   "metadata": {},
   "source": [
    "# Prediction"
   ]
  },
  {
   "cell_type": "code",
   "execution_count": 12,
   "id": "1c7ebe7d",
   "metadata": {},
   "outputs": [],
   "source": [
    "y_pred = xgb.predict(X_test)"
   ]
  },
  {
   "cell_type": "markdown",
   "id": "08ace8ce",
   "metadata": {},
   "source": [
    "# Accuracy Evaluation"
   ]
  },
  {
   "cell_type": "code",
   "execution_count": 13,
   "id": "2dd9066c",
   "metadata": {},
   "outputs": [],
   "source": [
    "from sklearn.metrics import accuracy_score"
   ]
  },
  {
   "cell_type": "code",
   "execution_count": 14,
   "id": "6341b98d",
   "metadata": {},
   "outputs": [
    {
     "name": "stdout",
     "output_type": "stream",
     "text": [
      "Mean accuracy score: 0.886\n"
     ]
    }
   ],
   "source": [
    "accuracy = accuracy_score(y_test, y_pred)\n",
    "print(f'Mean accuracy score: {accuracy:.3}')"
   ]
  },
  {
   "cell_type": "markdown",
   "id": "1066ee52",
   "metadata": {},
   "source": [
    "# F1 Score Evaluation"
   ]
  },
  {
   "cell_type": "code",
   "execution_count": 15,
   "id": "1bfe3e9f",
   "metadata": {},
   "outputs": [
    {
     "name": "stdout",
     "output_type": "stream",
     "text": [
      "f1 score : 0.7461662921246164\n"
     ]
    }
   ],
   "source": [
    "from sklearn.metrics import f1_score\n",
    "\n",
    "f1 = f1_score(y_test, y_pred, average = 'macro')\n",
    "print('f1 score :', f1)"
   ]
  },
  {
   "cell_type": "code",
   "execution_count": 16,
   "id": "ee310814",
   "metadata": {},
   "outputs": [],
   "source": [
    "from sklearn.metrics import classification_report"
   ]
  },
  {
   "cell_type": "code",
   "execution_count": 17,
   "id": "e54d5d7e",
   "metadata": {},
   "outputs": [
    {
     "data": {
      "text/plain": [
       "['out', 'in', 'normal', 'other', 'noise']"
      ]
     },
     "execution_count": 17,
     "metadata": {},
     "output_type": "execute_result"
    }
   ],
   "source": [
    "list(df['leaktype'].unique())"
   ]
  },
  {
   "cell_type": "code",
   "execution_count": 18,
   "id": "47d95843",
   "metadata": {},
   "outputs": [
    {
     "name": "stdout",
     "output_type": "stream",
     "text": [
      "              precision    recall  f1-score   support\n",
      "\n",
      "         out       0.76      0.41      0.53       499\n",
      "          in       0.84      0.85      0.85      1544\n",
      "      normal       0.95      0.99      0.97      5386\n",
      "       other       0.80      0.87      0.84      2113\n",
      "       noise       0.74      0.44      0.55       538\n",
      "\n",
      "    accuracy                           0.89     10080\n",
      "   macro avg       0.82      0.71      0.75     10080\n",
      "weighted avg       0.88      0.89      0.88     10080\n",
      "\n"
     ]
    }
   ],
   "source": [
    "print(classification_report(y_test, y_pred, target_names=list(df['leaktype'].unique())))"
   ]
  },
  {
   "cell_type": "markdown",
   "id": "35c2fe80",
   "metadata": {},
   "source": [
    "# Feature Importance"
   ]
  },
  {
   "cell_type": "code",
   "execution_count": 20,
   "id": "368ead31",
   "metadata": {},
   "outputs": [
    {
     "data": {
      "text/plain": [
       "<BarContainer object of 513 artists>"
      ]
     },
     "execution_count": 20,
     "metadata": {},
     "output_type": "execute_result"
    },
    {
     "data": {
      "image/png": "[encoded data removed]",
      "text/plain": [
       "<Figure size 432x288 with 1 Axes>"
      ]
     },
     "metadata": {
      "needs_background": "light"
     },
     "output_type": "display_data"
    }
   ],
   "source": [
    "import matplotlib.pyplot as plt\n",
    "plt.barh(train_data.columns, xgb.feature_importances_)"
   ]
  },
  {
   "cell_type": "code",
   "execution_count": null,
   "id": "ae19a299",
   "metadata": {},
   "outputs": [],
   "source": []
  },
  {
   "cell_type": "markdown",
   "id": "3a0a6508",
   "metadata": {},
   "source": [
    "# SHAP Value"
   ]
  },
  {
   "cell_type": "code",
   "execution_count": 21,
   "id": "ae753f2d",
   "metadata": {},
   "outputs": [],
   "source": [
    "import shap"
   ]
  },
  {
   "cell_type": "code",
   "execution_count": 22,
   "id": "2ffbd2d0",
   "metadata": {},
   "outputs": [
    {
     "name": "stderr",
     "output_type": "stream",
     "text": [
      "100%|===================| 50387/50400 [12:23<00:00]        "
     ]
    }
   ],
   "source": [
    "explainer = shap.Explainer(xgb, X_train)\n",
    "shap_values = explainer.shap_values(X_test)"
   ]
  },
  {
   "cell_type": "code",
   "execution_count": null,
   "id": "48f91439",
   "metadata": {},
   "outputs": [
    {
     "name": "stderr",
     "output_type": "stream",
     "text": [
      "  3%|=                   | 3356/117600 [00:53<30:04]       "
     ]
    }
   ],
   "source": [
    "shap.plots.waterfall(explainer(X_train)[0])"
   ]
  },
  {
   "cell_type": "code",
   "execution_count": null,
   "id": "b2e05343",
   "metadata": {},
   "outputs": [],
   "source": []
  }
 ],
 "metadata": {
  "kernelspec": {
   "display_name": "Python 3 (ipykernel)",
   "language": "python",
   "name": "python3"
  },
  "language_info": {
   "codemirror_mode": {
    "name": "ipython",
    "version": 3
   },
   "file_extension": ".py",
   "mimetype": "text/x-python",
   "name": "python",
   "nbconvert_exporter": "python",
   "pygments_lexer": "ipython3",
   "version": "3.9.7"
  },
  "toc": {
   "base_numbering": 1,
   "nav_menu": {},
   "number_sections": true,
   "sideBar": true,
   "skip_h1_title": false,
   "title_cell": "Table of Contents",
   "title_sidebar": "Contents",
   "toc_cell": false,
   "toc_position": {
    "height": "calc(100% - 180px)",
    "left": "10px",
    "top": "150px",
    "width": "341.328px"
   },
   "toc_section_display": true,
   "toc_window_display": true
  }
 },
 "nbformat": 4,
 "nbformat_minor": 5
}
